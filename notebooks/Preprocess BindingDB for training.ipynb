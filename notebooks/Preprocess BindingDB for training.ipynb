{
 "cells": [
  {
   "cell_type": "code",
   "execution_count": 103,
   "id": "5ccdce3f",
   "metadata": {},
   "outputs": [],
   "source": [
    "import pandas as pd\n",
    "import rdkit.Chem as Chem"
   ]
  },
  {
   "cell_type": "code",
   "execution_count": 118,
   "id": "94b71e6b",
   "metadata": {},
   "outputs": [
    {
     "name": "stderr",
     "output_type": "stream",
     "text": [
      "/var/folders/bd/40cs0mfj31qf9txj04zwdxfc0000gn/T/ipykernel_4993/2480563208.py:2: FutureWarning: The error_bad_lines argument has been deprecated and will be removed in a future version. Use on_bad_lines in the future.\n",
      "\n",
      "\n",
      "  df = pd.read_csv(rootDir + 'BindingDB_All.tsv',  delimiter='\\t', error_bad_lines=False )\n",
      "Skipping line 1087314: expected 193 fields, saw 205\n",
      "Skipping line 1087340: expected 193 fields, saw 205\n",
      "\n",
      "Skipping line 1120033: expected 193 fields, saw 205\n",
      "\n",
      "Skipping line 1142701: expected 193 fields, saw 265\n",
      "\n",
      "Skipping line 1546347: expected 193 fields, saw 241\n",
      "\n",
      "Skipping line 1660234: expected 193 fields, saw 241\n",
      "Skipping line 1660235: expected 193 fields, saw 241\n",
      "Skipping line 1660236: expected 193 fields, saw 241\n",
      "Skipping line 1660237: expected 193 fields, saw 241\n",
      "Skipping line 1660238: expected 193 fields, saw 241\n",
      "Skipping line 1660239: expected 193 fields, saw 241\n",
      "Skipping line 1660240: expected 193 fields, saw 241\n",
      "Skipping line 1660241: expected 193 fields, saw 241\n",
      "Skipping line 1660242: expected 193 fields, saw 241\n",
      "\n",
      "Skipping line 1673507: expected 193 fields, saw 205\n",
      "\n",
      "Skipping line 1692730: expected 193 fields, saw 241\n",
      "Skipping line 1692731: expected 193 fields, saw 241\n",
      "Skipping line 1692732: expected 193 fields, saw 241\n",
      "Skipping line 1692733: expected 193 fields, saw 241\n",
      "Skipping line 1692734: expected 193 fields, saw 241\n",
      "Skipping line 1692735: expected 193 fields, saw 241\n",
      "Skipping line 1692736: expected 193 fields, saw 241\n",
      "Skipping line 1692737: expected 193 fields, saw 241\n",
      "Skipping line 1692738: expected 193 fields, saw 241\n",
      "\n",
      "Skipping line 1731908: expected 193 fields, saw 205\n",
      "\n",
      "Skipping line 2118116: expected 193 fields, saw 265\n",
      "\n",
      "Skipping line 2205337: expected 193 fields, saw 265\n",
      "Skipping line 2205338: expected 193 fields, saw 265\n",
      "Skipping line 2205339: expected 193 fields, saw 265\n",
      "Skipping line 2205340: expected 193 fields, saw 265\n",
      "Skipping line 2205341: expected 193 fields, saw 265\n",
      "Skipping line 2205342: expected 193 fields, saw 265\n",
      "Skipping line 2205343: expected 193 fields, saw 265\n",
      "Skipping line 2205344: expected 193 fields, saw 265\n",
      "Skipping line 2205345: expected 193 fields, saw 265\n",
      "Skipping line 2205346: expected 193 fields, saw 265\n",
      "Skipping line 2205347: expected 193 fields, saw 265\n",
      "Skipping line 2205348: expected 193 fields, saw 265\n",
      "Skipping line 2205349: expected 193 fields, saw 265\n",
      "Skipping line 2205350: expected 193 fields, saw 265\n",
      "Skipping line 2205351: expected 193 fields, saw 265\n",
      "Skipping line 2205352: expected 193 fields, saw 265\n",
      "Skipping line 2205353: expected 193 fields, saw 265\n",
      "Skipping line 2205354: expected 193 fields, saw 265\n",
      "Skipping line 2205355: expected 193 fields, saw 265\n",
      "Skipping line 2205973: expected 193 fields, saw 265\n",
      "Skipping line 2205974: expected 193 fields, saw 265\n",
      "Skipping line 2205975: expected 193 fields, saw 265\n",
      "Skipping line 2205976: expected 193 fields, saw 265\n",
      "Skipping line 2205977: expected 193 fields, saw 265\n",
      "Skipping line 2205978: expected 193 fields, saw 265\n",
      "Skipping line 2205979: expected 193 fields, saw 265\n",
      "\n",
      "Skipping line 2217390: expected 193 fields, saw 265\n",
      "Skipping line 2217391: expected 193 fields, saw 265\n",
      "Skipping line 2217392: expected 193 fields, saw 265\n",
      "Skipping line 2217393: expected 193 fields, saw 265\n",
      "Skipping line 2217394: expected 193 fields, saw 265\n",
      "Skipping line 2217395: expected 193 fields, saw 265\n",
      "Skipping line 2217396: expected 193 fields, saw 265\n",
      "Skipping line 2217397: expected 193 fields, saw 265\n",
      "Skipping line 2217398: expected 193 fields, saw 265\n",
      "Skipping line 2217399: expected 193 fields, saw 265\n",
      "Skipping line 2217400: expected 193 fields, saw 265\n",
      "Skipping line 2217401: expected 193 fields, saw 265\n",
      "Skipping line 2217402: expected 193 fields, saw 265\n",
      "Skipping line 2217403: expected 193 fields, saw 265\n",
      "Skipping line 2217404: expected 193 fields, saw 265\n",
      "Skipping line 2217405: expected 193 fields, saw 265\n",
      "Skipping line 2217406: expected 193 fields, saw 265\n",
      "Skipping line 2217407: expected 193 fields, saw 265\n",
      "Skipping line 2217408: expected 193 fields, saw 265\n",
      "Skipping line 2217409: expected 193 fields, saw 265\n",
      "Skipping line 2217410: expected 193 fields, saw 265\n",
      "Skipping line 2217411: expected 193 fields, saw 265\n",
      "Skipping line 2217412: expected 193 fields, saw 265\n",
      "Skipping line 2217413: expected 193 fields, saw 265\n",
      "Skipping line 2217414: expected 193 fields, saw 265\n",
      "Skipping line 2217415: expected 193 fields, saw 265\n",
      "Skipping line 2217416: expected 193 fields, saw 265\n",
      "Skipping line 2217417: expected 193 fields, saw 265\n",
      "Skipping line 2217418: expected 193 fields, saw 265\n",
      "Skipping line 2217419: expected 193 fields, saw 265\n",
      "Skipping line 2217420: expected 193 fields, saw 265\n",
      "Skipping line 2217421: expected 193 fields, saw 265\n",
      "Skipping line 2217422: expected 193 fields, saw 265\n",
      "Skipping line 2217423: expected 193 fields, saw 265\n",
      "Skipping line 2217424: expected 193 fields, saw 265\n",
      "Skipping line 2217425: expected 193 fields, saw 265\n",
      "Skipping line 2217426: expected 193 fields, saw 265\n",
      "Skipping line 2217427: expected 193 fields, saw 265\n",
      "Skipping line 2217428: expected 193 fields, saw 265\n",
      "Skipping line 2220025: expected 193 fields, saw 265\n",
      "Skipping line 2220026: expected 193 fields, saw 265\n",
      "Skipping line 2220027: expected 193 fields, saw 265\n",
      "Skipping line 2220028: expected 193 fields, saw 265\n",
      "Skipping line 2220029: expected 193 fields, saw 265\n",
      "Skipping line 2220030: expected 193 fields, saw 265\n",
      "Skipping line 2220031: expected 193 fields, saw 265\n",
      "Skipping line 2220032: expected 193 fields, saw 265\n",
      "\n",
      "Skipping line 2232580: expected 193 fields, saw 313\n",
      "\n",
      "Skipping line 2250124: expected 193 fields, saw 637\n",
      "\n",
      "Skipping line 2300474: expected 193 fields, saw 385\n",
      "\n",
      "Skipping line 2316338: expected 193 fields, saw 265\n",
      "Skipping line 2316339: expected 193 fields, saw 265\n",
      "Skipping line 2316340: expected 193 fields, saw 265\n",
      "Skipping line 2316341: expected 193 fields, saw 265\n",
      "Skipping line 2316342: expected 193 fields, saw 265\n",
      "\n",
      "Skipping line 2328092: expected 193 fields, saw 265\n",
      "Skipping line 2328093: expected 193 fields, saw 265\n",
      "Skipping line 2328094: expected 193 fields, saw 265\n",
      "\n",
      "Skipping line 2368234: expected 193 fields, saw 265\n",
      "Skipping line 2368235: expected 193 fields, saw 265\n",
      "Skipping line 2368236: expected 193 fields, saw 265\n",
      "Skipping line 2368242: expected 193 fields, saw 265\n",
      "Skipping line 2368243: expected 193 fields, saw 265\n",
      "Skipping line 2368244: expected 193 fields, saw 265\n",
      "Skipping line 2368245: expected 193 fields, saw 265\n",
      "Skipping line 2368246: expected 193 fields, saw 265\n",
      "Skipping line 2368247: expected 193 fields, saw 265\n",
      "Skipping line 2368248: expected 193 fields, saw 265\n",
      "Skipping line 2368249: expected 193 fields, saw 265\n",
      "Skipping line 2368250: expected 193 fields, saw 265\n",
      "Skipping line 2368251: expected 193 fields, saw 265\n",
      "Skipping line 2368252: expected 193 fields, saw 265\n",
      "Skipping line 2368253: expected 193 fields, saw 265\n",
      "Skipping line 2368254: expected 193 fields, saw 265\n",
      "Skipping line 2368255: expected 193 fields, saw 265\n",
      "Skipping line 2368256: expected 193 fields, saw 265\n",
      "Skipping line 2368257: expected 193 fields, saw 265\n",
      "Skipping line 2368258: expected 193 fields, saw 265\n",
      "Skipping line 2368259: expected 193 fields, saw 265\n",
      "Skipping line 2368260: expected 193 fields, saw 265\n",
      "Skipping line 2368262: expected 193 fields, saw 265\n",
      "Skipping line 2368263: expected 193 fields, saw 265\n",
      "Skipping line 2368264: expected 193 fields, saw 265\n",
      "Skipping line 2368265: expected 193 fields, saw 265\n",
      "Skipping line 2368268: expected 193 fields, saw 265\n",
      "Skipping line 2368269: expected 193 fields, saw 265\n",
      "Skipping line 2368270: expected 193 fields, saw 265\n",
      "Skipping line 2368271: expected 193 fields, saw 265\n",
      "Skipping line 2368272: expected 193 fields, saw 265\n",
      "Skipping line 2368273: expected 193 fields, saw 265\n",
      "Skipping line 2368274: expected 193 fields, saw 265\n",
      "\n",
      "Skipping line 2384771: expected 193 fields, saw 265\n",
      "Skipping line 2384772: expected 193 fields, saw 265\n",
      "Skipping line 2384819: expected 193 fields, saw 265\n",
      "\n",
      "/var/folders/bd/40cs0mfj31qf9txj04zwdxfc0000gn/T/ipykernel_4993/2480563208.py:2: DtypeWarning: Columns (8,9,10,11,12,13,15,17,18,19,20,26,27,31,32,34,35,39,40,41,42,46,49,50,51,52,53,54,61,62,63,64,65,66,73,74,75,76,77,78,85,86,87,88,89,90,97,98,99,100,101,102,109,110,111,112,113,114,121,122,123,124,125,126,133,134,135,136,137,138,145,147,148,149,150,157,158,159,160,161,162,169,171,172,173,174) have mixed types. Specify dtype option on import or set low_memory=False.\n",
      "  df = pd.read_csv(rootDir + 'BindingDB_All.tsv',  delimiter='\\t', error_bad_lines=False )\n"
     ]
    }
   ],
   "source": [
    "rootDir = 'data/'\n",
    "df = pd.read_csv(rootDir + 'BindingDB_All.tsv',  delimiter='\\t', error_bad_lines=False )"
   ]
  },
  {
   "cell_type": "code",
   "execution_count": 119,
   "id": "6306c623",
   "metadata": {},
   "outputs": [
    {
     "data": {
      "text/html": [
       "<div>\n",
       "<style scoped>\n",
       "    .dataframe tbody tr th:only-of-type {\n",
       "        vertical-align: middle;\n",
       "    }\n",
       "\n",
       "    .dataframe tbody tr th {\n",
       "        vertical-align: top;\n",
       "    }\n",
       "\n",
       "    .dataframe thead th {\n",
       "        text-align: right;\n",
       "    }\n",
       "</style>\n",
       "<table border=\"1\" class=\"dataframe\">\n",
       "  <thead>\n",
       "    <tr style=\"text-align: right;\">\n",
       "      <th></th>\n",
       "      <th>BindingDB Reactant_set_id</th>\n",
       "      <th>Ligand SMILES</th>\n",
       "      <th>Ligand InChI</th>\n",
       "      <th>Ligand InChI Key</th>\n",
       "      <th>BindingDB MonomerID</th>\n",
       "      <th>BindingDB Ligand Name</th>\n",
       "      <th>Target Name Assigned by Curator or DataSource</th>\n",
       "      <th>Target Source Organism According to Curator or DataSource</th>\n",
       "      <th>Ki (nM)</th>\n",
       "      <th>IC50 (nM)</th>\n",
       "      <th>...</th>\n",
       "      <th>UniProt (SwissProt) Recommended Name of Target Chain.12</th>\n",
       "      <th>UniProt (SwissProt) Entry Name of Target Chain.12</th>\n",
       "      <th>UniProt (SwissProt) Primary ID of Target Chain.12</th>\n",
       "      <th>UniProt (SwissProt) Secondary ID(s) of Target Chain.12</th>\n",
       "      <th>UniProt (SwissProt) Alternative ID(s) of Target Chain.12</th>\n",
       "      <th>UniProt (TrEMBL) Submitted Name of Target Chain.12</th>\n",
       "      <th>UniProt (TrEMBL) Entry Name of Target Chain.12</th>\n",
       "      <th>UniProt (TrEMBL) Primary ID of Target Chain.12</th>\n",
       "      <th>UniProt (TrEMBL) Secondary ID(s) of Target Chain.12</th>\n",
       "      <th>UniProt (TrEMBL) Alternative ID(s) of Target Chain.12</th>\n",
       "    </tr>\n",
       "  </thead>\n",
       "  <tbody>\n",
       "    <tr>\n",
       "      <th>0</th>\n",
       "      <td>1</td>\n",
       "      <td>COc1cc2c(Nc3ccc(Br)cc3F)ncnc2cc1OCC1CCN(C)CC1</td>\n",
       "      <td>InChI=1S/C22H24BrFN4O2/c1-28-7-5-14(6-8-28)12-...</td>\n",
       "      <td>UHTHHESEBZOYNR-UHFFFAOYSA-N</td>\n",
       "      <td>21</td>\n",
       "      <td>6-[(4R,5S,6S,7R)-4,7-dibenzyl-3-(5-carboxypent...</td>\n",
       "      <td>HIV-1 Protease</td>\n",
       "      <td>Human immunodeficiency virus 1</td>\n",
       "      <td>0.24</td>\n",
       "      <td>NaN</td>\n",
       "      <td>...</td>\n",
       "      <td>NaN</td>\n",
       "      <td>NaN</td>\n",
       "      <td>NaN</td>\n",
       "      <td>NaN</td>\n",
       "      <td>NaN</td>\n",
       "      <td>NaN</td>\n",
       "      <td>NaN</td>\n",
       "      <td>NaN</td>\n",
       "      <td>NaN</td>\n",
       "      <td>NaN</td>\n",
       "    </tr>\n",
       "    <tr>\n",
       "      <th>1</th>\n",
       "      <td>2</td>\n",
       "      <td>O[C@@H]1[C@@H](O)[C@@H](Cc2ccccc2)N(C\\C=C\\c2cn...</td>\n",
       "      <td>InChI=1S/C31H34N6O3/c38-29-27(17-23-9-3-1-4-10...</td>\n",
       "      <td>UZLMEAPBHYEHAC-UNTBESQGSA-N</td>\n",
       "      <td>22</td>\n",
       "      <td>(4R,5S,6S,7R)-4,7-dibenzyl-5,6-dihydroxy-1,3-b...</td>\n",
       "      <td>HIV-1 Protease</td>\n",
       "      <td>Human immunodeficiency virus 1</td>\n",
       "      <td>0.25</td>\n",
       "      <td>NaN</td>\n",
       "      <td>...</td>\n",
       "      <td>NaN</td>\n",
       "      <td>NaN</td>\n",
       "      <td>NaN</td>\n",
       "      <td>NaN</td>\n",
       "      <td>NaN</td>\n",
       "      <td>NaN</td>\n",
       "      <td>NaN</td>\n",
       "      <td>NaN</td>\n",
       "      <td>NaN</td>\n",
       "      <td>NaN</td>\n",
       "    </tr>\n",
       "    <tr>\n",
       "      <th>2</th>\n",
       "      <td>3</td>\n",
       "      <td>O[C@@H]1[C@@H](O)[C@@H](Cc2ccccc2)N(CC2CC2)C(=...</td>\n",
       "      <td>InChI=1S/C29H34N4O3/c34-27-25(16-21-8-3-1-4-9-...</td>\n",
       "      <td>HYNYUFZPPJMPOB-UTWJFGBXSA-N</td>\n",
       "      <td>23</td>\n",
       "      <td>(4R,5S,6S,7R)-4,7-dibenzyl-1-(cyclopropylmethy...</td>\n",
       "      <td>HIV-1 Protease</td>\n",
       "      <td>Human immunodeficiency virus 1</td>\n",
       "      <td>0.41</td>\n",
       "      <td>NaN</td>\n",
       "      <td>...</td>\n",
       "      <td>NaN</td>\n",
       "      <td>NaN</td>\n",
       "      <td>NaN</td>\n",
       "      <td>NaN</td>\n",
       "      <td>NaN</td>\n",
       "      <td>NaN</td>\n",
       "      <td>NaN</td>\n",
       "      <td>NaN</td>\n",
       "      <td>NaN</td>\n",
       "      <td>NaN</td>\n",
       "    </tr>\n",
       "    <tr>\n",
       "      <th>3</th>\n",
       "      <td>4</td>\n",
       "      <td>OCCCCCCN1[C@H](Cc2ccccc2)[C@H](O)[C@@H](O)[C@@...</td>\n",
       "      <td>InChI=1S/C29H40N2O4/c32-18-10-2-1-9-17-30-25(1...</td>\n",
       "      <td>YXVAZXDWVZTGGD-VIJSPRBVSA-N</td>\n",
       "      <td>24</td>\n",
       "      <td>(4R,5S,6S,7R)-4,7-dibenzyl-1-(cyclopropylmethy...</td>\n",
       "      <td>HIV-1 Protease</td>\n",
       "      <td>Human immunodeficiency virus 1</td>\n",
       "      <td>0.8</td>\n",
       "      <td>NaN</td>\n",
       "      <td>...</td>\n",
       "      <td>NaN</td>\n",
       "      <td>NaN</td>\n",
       "      <td>NaN</td>\n",
       "      <td>NaN</td>\n",
       "      <td>NaN</td>\n",
       "      <td>NaN</td>\n",
       "      <td>NaN</td>\n",
       "      <td>NaN</td>\n",
       "      <td>NaN</td>\n",
       "      <td>NaN</td>\n",
       "    </tr>\n",
       "    <tr>\n",
       "      <th>4</th>\n",
       "      <td>5</td>\n",
       "      <td>OCCCCCN1[C@H](Cc2ccccc2)[C@H](O)[C@@H](O)[C@@H...</td>\n",
       "      <td>InChI=1S/C28H38N2O4/c31-17-9-3-8-16-29-24(18-2...</td>\n",
       "      <td>WWTSWTPNILRSJX-XDZXDJIYSA-N</td>\n",
       "      <td>25</td>\n",
       "      <td>(4R,5S,6S,7R)-4,7-dibenzyl-1-(cyclopropylmethy...</td>\n",
       "      <td>HIV-1 Protease</td>\n",
       "      <td>Human immunodeficiency virus 1</td>\n",
       "      <td>0.99</td>\n",
       "      <td>NaN</td>\n",
       "      <td>...</td>\n",
       "      <td>NaN</td>\n",
       "      <td>NaN</td>\n",
       "      <td>NaN</td>\n",
       "      <td>NaN</td>\n",
       "      <td>NaN</td>\n",
       "      <td>NaN</td>\n",
       "      <td>NaN</td>\n",
       "      <td>NaN</td>\n",
       "      <td>NaN</td>\n",
       "      <td>NaN</td>\n",
       "    </tr>\n",
       "  </tbody>\n",
       "</table>\n",
       "<p>5 rows × 193 columns</p>\n",
       "</div>"
      ],
      "text/plain": [
       "   BindingDB Reactant_set_id  \\\n",
       "0                          1   \n",
       "1                          2   \n",
       "2                          3   \n",
       "3                          4   \n",
       "4                          5   \n",
       "\n",
       "                                       Ligand SMILES  \\\n",
       "0      COc1cc2c(Nc3ccc(Br)cc3F)ncnc2cc1OCC1CCN(C)CC1   \n",
       "1  O[C@@H]1[C@@H](O)[C@@H](Cc2ccccc2)N(C\\C=C\\c2cn...   \n",
       "2  O[C@@H]1[C@@H](O)[C@@H](Cc2ccccc2)N(CC2CC2)C(=...   \n",
       "3  OCCCCCCN1[C@H](Cc2ccccc2)[C@H](O)[C@@H](O)[C@@...   \n",
       "4  OCCCCCN1[C@H](Cc2ccccc2)[C@H](O)[C@@H](O)[C@@H...   \n",
       "\n",
       "                                        Ligand InChI  \\\n",
       "0  InChI=1S/C22H24BrFN4O2/c1-28-7-5-14(6-8-28)12-...   \n",
       "1  InChI=1S/C31H34N6O3/c38-29-27(17-23-9-3-1-4-10...   \n",
       "2  InChI=1S/C29H34N4O3/c34-27-25(16-21-8-3-1-4-9-...   \n",
       "3  InChI=1S/C29H40N2O4/c32-18-10-2-1-9-17-30-25(1...   \n",
       "4  InChI=1S/C28H38N2O4/c31-17-9-3-8-16-29-24(18-2...   \n",
       "\n",
       "              Ligand InChI Key  BindingDB MonomerID  \\\n",
       "0  UHTHHESEBZOYNR-UHFFFAOYSA-N                   21   \n",
       "1  UZLMEAPBHYEHAC-UNTBESQGSA-N                   22   \n",
       "2  HYNYUFZPPJMPOB-UTWJFGBXSA-N                   23   \n",
       "3  YXVAZXDWVZTGGD-VIJSPRBVSA-N                   24   \n",
       "4  WWTSWTPNILRSJX-XDZXDJIYSA-N                   25   \n",
       "\n",
       "                               BindingDB Ligand Name  \\\n",
       "0  6-[(4R,5S,6S,7R)-4,7-dibenzyl-3-(5-carboxypent...   \n",
       "1  (4R,5S,6S,7R)-4,7-dibenzyl-5,6-dihydroxy-1,3-b...   \n",
       "2  (4R,5S,6S,7R)-4,7-dibenzyl-1-(cyclopropylmethy...   \n",
       "3  (4R,5S,6S,7R)-4,7-dibenzyl-1-(cyclopropylmethy...   \n",
       "4  (4R,5S,6S,7R)-4,7-dibenzyl-1-(cyclopropylmethy...   \n",
       "\n",
       "  Target Name Assigned by Curator or DataSource  \\\n",
       "0                                HIV-1 Protease   \n",
       "1                                HIV-1 Protease   \n",
       "2                                HIV-1 Protease   \n",
       "3                                HIV-1 Protease   \n",
       "4                                HIV-1 Protease   \n",
       "\n",
       "  Target Source Organism According to Curator or DataSource Ki (nM) IC50 (nM)  \\\n",
       "0                     Human immunodeficiency virus 1           0.24       NaN   \n",
       "1                     Human immunodeficiency virus 1           0.25       NaN   \n",
       "2                     Human immunodeficiency virus 1           0.41       NaN   \n",
       "3                     Human immunodeficiency virus 1            0.8       NaN   \n",
       "4                     Human immunodeficiency virus 1           0.99       NaN   \n",
       "\n",
       "   ... UniProt (SwissProt) Recommended Name of Target Chain.12  \\\n",
       "0  ...                                                NaN        \n",
       "1  ...                                                NaN        \n",
       "2  ...                                                NaN        \n",
       "3  ...                                                NaN        \n",
       "4  ...                                                NaN        \n",
       "\n",
       "  UniProt (SwissProt) Entry Name of Target Chain.12  \\\n",
       "0                                               NaN   \n",
       "1                                               NaN   \n",
       "2                                               NaN   \n",
       "3                                               NaN   \n",
       "4                                               NaN   \n",
       "\n",
       "  UniProt (SwissProt) Primary ID of Target Chain.12  \\\n",
       "0                                               NaN   \n",
       "1                                               NaN   \n",
       "2                                               NaN   \n",
       "3                                               NaN   \n",
       "4                                               NaN   \n",
       "\n",
       "  UniProt (SwissProt) Secondary ID(s) of Target Chain.12  \\\n",
       "0                                                NaN       \n",
       "1                                                NaN       \n",
       "2                                                NaN       \n",
       "3                                                NaN       \n",
       "4                                                NaN       \n",
       "\n",
       "   UniProt (SwissProt) Alternative ID(s) of Target Chain.12  \\\n",
       "0                                                NaN          \n",
       "1                                                NaN          \n",
       "2                                                NaN          \n",
       "3                                                NaN          \n",
       "4                                                NaN          \n",
       "\n",
       "  UniProt (TrEMBL) Submitted Name of Target Chain.12  \\\n",
       "0                                                NaN   \n",
       "1                                                NaN   \n",
       "2                                                NaN   \n",
       "3                                                NaN   \n",
       "4                                                NaN   \n",
       "\n",
       "  UniProt (TrEMBL) Entry Name of Target Chain.12  \\\n",
       "0                                            NaN   \n",
       "1                                            NaN   \n",
       "2                                            NaN   \n",
       "3                                            NaN   \n",
       "4                                            NaN   \n",
       "\n",
       "  UniProt (TrEMBL) Primary ID of Target Chain.12  \\\n",
       "0                                            NaN   \n",
       "1                                            NaN   \n",
       "2                                            NaN   \n",
       "3                                            NaN   \n",
       "4                                            NaN   \n",
       "\n",
       "  UniProt (TrEMBL) Secondary ID(s) of Target Chain.12  \\\n",
       "0                                                NaN    \n",
       "1                                                NaN    \n",
       "2                                                NaN    \n",
       "3                                                NaN    \n",
       "4                                                NaN    \n",
       "\n",
       "  UniProt (TrEMBL) Alternative ID(s) of Target Chain.12  \n",
       "0                                                NaN     \n",
       "1                                                NaN     \n",
       "2                                                NaN     \n",
       "3                                                NaN     \n",
       "4                                                NaN     \n",
       "\n",
       "[5 rows x 193 columns]"
      ]
     },
     "execution_count": 119,
     "metadata": {},
     "output_type": "execute_result"
    }
   ],
   "source": [
    "df.head()"
   ]
  },
  {
   "cell_type": "code",
   "execution_count": 120,
   "id": "df7b314b",
   "metadata": {},
   "outputs": [],
   "source": [
    "#df[df['Ligand SMILES']=='CC(C)[C@H](NC(C)=O)C(=O)N[C@@H](Cc1ccccc1)[C@@H](O)CN(CC1CCCCC1)NC(=O)[C@@H](NC(C)=O)C(C)C']['BindingDB Target Chain  Sequence']"
   ]
  },
  {
   "cell_type": "code",
   "execution_count": 121,
   "id": "dbc98f04",
   "metadata": {},
   "outputs": [
    {
     "data": {
      "text/plain": [
       "['BindingDB Reactant_set_id',\n",
       " 'Ligand SMILES',\n",
       " 'Ligand InChI',\n",
       " 'Ligand InChI Key',\n",
       " 'BindingDB MonomerID',\n",
       " 'BindingDB Ligand Name',\n",
       " 'Target Name Assigned by Curator or DataSource',\n",
       " 'Target Source Organism According to Curator or DataSource',\n",
       " 'Ki (nM)',\n",
       " 'IC50 (nM)',\n",
       " 'Kd (nM)',\n",
       " 'EC50 (nM)',\n",
       " 'kon (M-1-s-1)',\n",
       " 'koff (s-1)',\n",
       " 'pH',\n",
       " 'Temp (C)',\n",
       " 'Curation/DataSource',\n",
       " 'Article DOI',\n",
       " 'PMID',\n",
       " 'PubChem AID',\n",
       " 'Patent Number',\n",
       " 'Authors',\n",
       " 'Institution',\n",
       " 'Link to Ligand in BindingDB',\n",
       " 'Link to Target in BindingDB',\n",
       " 'Link to Ligand-Target Pair in BindingDB',\n",
       " 'Ligand HET ID in PDB',\n",
       " 'PDB ID(s) for Ligand-Target Complex',\n",
       " 'PubChem CID',\n",
       " 'PubChem SID',\n",
       " 'ChEBI ID of Ligand',\n",
       " 'ChEMBL ID of Ligand',\n",
       " 'DrugBank ID of Ligand',\n",
       " 'IUPHAR_GRAC ID of Ligand',\n",
       " 'KEGG ID of Ligand',\n",
       " 'ZINC ID of Ligand',\n",
       " 'Number of Protein Chains in Target (>1 implies a multichain complex)',\n",
       " 'BindingDB Target Chain  Sequence',\n",
       " 'PDB ID(s) of Target Chain',\n",
       " 'UniProt (SwissProt) Recommended Name of Target Chain',\n",
       " 'UniProt (SwissProt) Entry Name of Target Chain',\n",
       " 'UniProt (SwissProt) Primary ID of Target Chain',\n",
       " 'UniProt (SwissProt) Secondary ID(s) of Target Chain',\n",
       " 'UniProt (SwissProt) Alternative ID(s) of Target Chain',\n",
       " 'UniProt (TrEMBL) Submitted Name of Target Chain',\n",
       " 'UniProt (TrEMBL) Entry Name of Target Chain',\n",
       " 'UniProt (TrEMBL) Primary ID of Target Chain',\n",
       " 'UniProt (TrEMBL) Secondary ID(s) of Target Chain',\n",
       " 'UniProt (TrEMBL) Alternative ID(s) of Target Chain',\n",
       " 'BindingDB Target Chain  Sequence.1',\n",
       " 'PDB ID(s) of Target Chain.1',\n",
       " 'UniProt (SwissProt) Recommended Name of Target Chain.1',\n",
       " 'UniProt (SwissProt) Entry Name of Target Chain.1',\n",
       " 'UniProt (SwissProt) Primary ID of Target Chain.1',\n",
       " 'UniProt (SwissProt) Secondary ID(s) of Target Chain.1',\n",
       " 'UniProt (SwissProt) Alternative ID(s) of Target Chain.1',\n",
       " 'UniProt (TrEMBL) Submitted Name of Target Chain.1',\n",
       " 'UniProt (TrEMBL) Entry Name of Target Chain.1',\n",
       " 'UniProt (TrEMBL) Primary ID of Target Chain.1',\n",
       " 'UniProt (TrEMBL) Secondary ID(s) of Target Chain.1',\n",
       " 'UniProt (TrEMBL) Alternative ID(s) of Target Chain.1',\n",
       " 'BindingDB Target Chain  Sequence.2',\n",
       " 'PDB ID(s) of Target Chain.2',\n",
       " 'UniProt (SwissProt) Recommended Name of Target Chain.2',\n",
       " 'UniProt (SwissProt) Entry Name of Target Chain.2',\n",
       " 'UniProt (SwissProt) Primary ID of Target Chain.2',\n",
       " 'UniProt (SwissProt) Secondary ID(s) of Target Chain.2',\n",
       " 'UniProt (SwissProt) Alternative ID(s) of Target Chain.2',\n",
       " 'UniProt (TrEMBL) Submitted Name of Target Chain.2',\n",
       " 'UniProt (TrEMBL) Entry Name of Target Chain.2',\n",
       " 'UniProt (TrEMBL) Primary ID of Target Chain.2',\n",
       " 'UniProt (TrEMBL) Secondary ID(s) of Target Chain.2',\n",
       " 'UniProt (TrEMBL) Alternative ID(s) of Target Chain.2',\n",
       " 'BindingDB Target Chain  Sequence.3',\n",
       " 'PDB ID(s) of Target Chain.3',\n",
       " 'UniProt (SwissProt) Recommended Name of Target Chain.3',\n",
       " 'UniProt (SwissProt) Entry Name of Target Chain.3',\n",
       " 'UniProt (SwissProt) Primary ID of Target Chain.3',\n",
       " 'UniProt (SwissProt) Secondary ID(s) of Target Chain.3',\n",
       " 'UniProt (SwissProt) Alternative ID(s) of Target Chain.3',\n",
       " 'UniProt (TrEMBL) Submitted Name of Target Chain.3',\n",
       " 'UniProt (TrEMBL) Entry Name of Target Chain.3',\n",
       " 'UniProt (TrEMBL) Primary ID of Target Chain.3',\n",
       " 'UniProt (TrEMBL) Secondary ID(s) of Target Chain.3',\n",
       " 'UniProt (TrEMBL) Alternative ID(s) of Target Chain.3',\n",
       " 'BindingDB Target Chain  Sequence.4',\n",
       " 'PDB ID(s) of Target Chain.4',\n",
       " 'UniProt (SwissProt) Recommended Name of Target Chain.4',\n",
       " 'UniProt (SwissProt) Entry Name of Target Chain.4',\n",
       " 'UniProt (SwissProt) Primary ID of Target Chain.4',\n",
       " 'UniProt (SwissProt) Secondary ID(s) of Target Chain.4',\n",
       " 'UniProt (SwissProt) Alternative ID(s) of Target Chain.4',\n",
       " 'UniProt (TrEMBL) Submitted Name of Target Chain.4',\n",
       " 'UniProt (TrEMBL) Entry Name of Target Chain.4',\n",
       " 'UniProt (TrEMBL) Primary ID of Target Chain.4',\n",
       " 'UniProt (TrEMBL) Secondary ID(s) of Target Chain.4',\n",
       " 'UniProt (TrEMBL) Alternative ID(s) of Target Chain.4',\n",
       " 'BindingDB Target Chain  Sequence.5',\n",
       " 'PDB ID(s) of Target Chain.5',\n",
       " 'UniProt (SwissProt) Recommended Name of Target Chain.5',\n",
       " 'UniProt (SwissProt) Entry Name of Target Chain.5',\n",
       " 'UniProt (SwissProt) Primary ID of Target Chain.5',\n",
       " 'UniProt (SwissProt) Secondary ID(s) of Target Chain.5',\n",
       " 'UniProt (SwissProt) Alternative ID(s) of Target Chain.5',\n",
       " 'UniProt (TrEMBL) Submitted Name of Target Chain.5',\n",
       " 'UniProt (TrEMBL) Entry Name of Target Chain.5',\n",
       " 'UniProt (TrEMBL) Primary ID of Target Chain.5',\n",
       " 'UniProt (TrEMBL) Secondary ID(s) of Target Chain.5',\n",
       " 'UniProt (TrEMBL) Alternative ID(s) of Target Chain.5',\n",
       " 'BindingDB Target Chain  Sequence.6',\n",
       " 'PDB ID(s) of Target Chain.6',\n",
       " 'UniProt (SwissProt) Recommended Name of Target Chain.6',\n",
       " 'UniProt (SwissProt) Entry Name of Target Chain.6',\n",
       " 'UniProt (SwissProt) Primary ID of Target Chain.6',\n",
       " 'UniProt (SwissProt) Secondary ID(s) of Target Chain.6',\n",
       " 'UniProt (SwissProt) Alternative ID(s) of Target Chain.6',\n",
       " 'UniProt (TrEMBL) Submitted Name of Target Chain.6',\n",
       " 'UniProt (TrEMBL) Entry Name of Target Chain.6',\n",
       " 'UniProt (TrEMBL) Primary ID of Target Chain.6',\n",
       " 'UniProt (TrEMBL) Secondary ID(s) of Target Chain.6',\n",
       " 'UniProt (TrEMBL) Alternative ID(s) of Target Chain.6',\n",
       " 'BindingDB Target Chain  Sequence.7',\n",
       " 'PDB ID(s) of Target Chain.7',\n",
       " 'UniProt (SwissProt) Recommended Name of Target Chain.7',\n",
       " 'UniProt (SwissProt) Entry Name of Target Chain.7',\n",
       " 'UniProt (SwissProt) Primary ID of Target Chain.7',\n",
       " 'UniProt (SwissProt) Secondary ID(s) of Target Chain.7',\n",
       " 'UniProt (SwissProt) Alternative ID(s) of Target Chain.7',\n",
       " 'UniProt (TrEMBL) Submitted Name of Target Chain.7',\n",
       " 'UniProt (TrEMBL) Entry Name of Target Chain.7',\n",
       " 'UniProt (TrEMBL) Primary ID of Target Chain.7',\n",
       " 'UniProt (TrEMBL) Secondary ID(s) of Target Chain.7',\n",
       " 'UniProt (TrEMBL) Alternative ID(s) of Target Chain.7',\n",
       " 'BindingDB Target Chain  Sequence.8',\n",
       " 'PDB ID(s) of Target Chain.8',\n",
       " 'UniProt (SwissProt) Recommended Name of Target Chain.8',\n",
       " 'UniProt (SwissProt) Entry Name of Target Chain.8',\n",
       " 'UniProt (SwissProt) Primary ID of Target Chain.8',\n",
       " 'UniProt (SwissProt) Secondary ID(s) of Target Chain.8',\n",
       " 'UniProt (SwissProt) Alternative ID(s) of Target Chain.8',\n",
       " 'UniProt (TrEMBL) Submitted Name of Target Chain.8',\n",
       " 'UniProt (TrEMBL) Entry Name of Target Chain.8',\n",
       " 'UniProt (TrEMBL) Primary ID of Target Chain.8',\n",
       " 'UniProt (TrEMBL) Secondary ID(s) of Target Chain.8',\n",
       " 'UniProt (TrEMBL) Alternative ID(s) of Target Chain.8',\n",
       " 'BindingDB Target Chain  Sequence.9',\n",
       " 'PDB ID(s) of Target Chain.9',\n",
       " 'UniProt (SwissProt) Recommended Name of Target Chain.9',\n",
       " 'UniProt (SwissProt) Entry Name of Target Chain.9',\n",
       " 'UniProt (SwissProt) Primary ID of Target Chain.9',\n",
       " 'UniProt (SwissProt) Secondary ID(s) of Target Chain.9',\n",
       " 'UniProt (SwissProt) Alternative ID(s) of Target Chain.9',\n",
       " 'UniProt (TrEMBL) Submitted Name of Target Chain.9',\n",
       " 'UniProt (TrEMBL) Entry Name of Target Chain.9',\n",
       " 'UniProt (TrEMBL) Primary ID of Target Chain.9',\n",
       " 'UniProt (TrEMBL) Secondary ID(s) of Target Chain.9',\n",
       " 'UniProt (TrEMBL) Alternative ID(s) of Target Chain.9',\n",
       " 'BindingDB Target Chain  Sequence.10',\n",
       " 'PDB ID(s) of Target Chain.10',\n",
       " 'UniProt (SwissProt) Recommended Name of Target Chain.10',\n",
       " 'UniProt (SwissProt) Entry Name of Target Chain.10',\n",
       " 'UniProt (SwissProt) Primary ID of Target Chain.10',\n",
       " 'UniProt (SwissProt) Secondary ID(s) of Target Chain.10',\n",
       " 'UniProt (SwissProt) Alternative ID(s) of Target Chain.10',\n",
       " 'UniProt (TrEMBL) Submitted Name of Target Chain.10',\n",
       " 'UniProt (TrEMBL) Entry Name of Target Chain.10',\n",
       " 'UniProt (TrEMBL) Primary ID of Target Chain.10',\n",
       " 'UniProt (TrEMBL) Secondary ID(s) of Target Chain.10',\n",
       " 'UniProt (TrEMBL) Alternative ID(s) of Target Chain.10',\n",
       " 'BindingDB Target Chain  Sequence.11',\n",
       " 'PDB ID(s) of Target Chain.11',\n",
       " 'UniProt (SwissProt) Recommended Name of Target Chain.11',\n",
       " 'UniProt (SwissProt) Entry Name of Target Chain.11',\n",
       " 'UniProt (SwissProt) Primary ID of Target Chain.11',\n",
       " 'UniProt (SwissProt) Secondary ID(s) of Target Chain.11',\n",
       " 'UniProt (SwissProt) Alternative ID(s) of Target Chain.11',\n",
       " 'UniProt (TrEMBL) Submitted Name of Target Chain.11',\n",
       " 'UniProt (TrEMBL) Entry Name of Target Chain.11',\n",
       " 'UniProt (TrEMBL) Primary ID of Target Chain.11',\n",
       " 'UniProt (TrEMBL) Secondary ID(s) of Target Chain.11',\n",
       " 'UniProt (TrEMBL) Alternative ID(s) of Target Chain.11',\n",
       " 'BindingDB Target Chain  Sequence.12',\n",
       " 'PDB ID(s) of Target Chain.12',\n",
       " 'UniProt (SwissProt) Recommended Name of Target Chain.12',\n",
       " 'UniProt (SwissProt) Entry Name of Target Chain.12',\n",
       " 'UniProt (SwissProt) Primary ID of Target Chain.12',\n",
       " 'UniProt (SwissProt) Secondary ID(s) of Target Chain.12',\n",
       " 'UniProt (SwissProt) Alternative ID(s) of Target Chain.12',\n",
       " 'UniProt (TrEMBL) Submitted Name of Target Chain.12',\n",
       " 'UniProt (TrEMBL) Entry Name of Target Chain.12',\n",
       " 'UniProt (TrEMBL) Primary ID of Target Chain.12',\n",
       " 'UniProt (TrEMBL) Secondary ID(s) of Target Chain.12',\n",
       " 'UniProt (TrEMBL) Alternative ID(s) of Target Chain.12']"
      ]
     },
     "execution_count": 121,
     "metadata": {},
     "output_type": "execute_result"
    }
   ],
   "source": [
    "list(df)"
   ]
  },
  {
   "cell_type": "code",
   "execution_count": 122,
   "id": "382b1ded",
   "metadata": {},
   "outputs": [],
   "source": [
    "df = df.reset_index()\n",
    "df = df.rename(columns={'BindingDB Target Chain  Sequence.{}'.format(j): 'seq_{}'.format(j) for j in range(1,13)})\n",
    "df = df.rename(columns={'BindingDB Target Chain  Sequence': 'seq_0'})\n"
   ]
  },
  {
   "cell_type": "code",
   "execution_count": 124,
   "id": "c0197697",
   "metadata": {},
   "outputs": [
    {
     "name": "stderr",
     "output_type": "stream",
     "text": [
      "[22:09:57] non-ring atom 28 marked aromatic\n",
      "[22:09:57] non-ring atom 28 marked aromatic\n",
      "[22:09:57] Explicit valence for atom # 28 N, 4, is greater than permitted\n"
     ]
    },
    {
     "name": "stdout",
     "output_type": "stream",
     "text": [
      "Unable to canonicalize  CN[C@@H](C)C(=O)N[C@H]1CN(CC[C@H]2CC[C@H](N2C1=O)c1nc2c(cccc2[nH]1)-c(:c:c):c:c)C(=O)CCCCCCCCCCC(=O)N1CC[C@H]2CC[C@H](N2C(=O)[C@H](C1)NC(=O)[C@H](C)NC)c1nc2c(cccc2[nH]1)-c1ccccc1\n",
      "Unable to canonicalize  CN[C@@H](C)C(=O)N[C@H]1CN(CC[C@H]2CC[C@H](N2C1=O)c1nc2c(cccc2[nH]1)-c(:c:c):c:c)C(=O)CCCCCCCCCCC(=O)N1CC[C@H]2CC[C@H](N2C(=O)[C@H](C1)NC(=O)[C@H](C)NC)c1nc2c(cccc2[nH]1)-c1ccccc1\n",
      "Unable to canonicalize  CC(C)(C)OC(=O)N1CC(=O)N(C(=O)C1)c1ccc(cc1)N1CC(COC(=O)[N]2=CC=C(Cl)S2)OC1=O\n"
     ]
    },
    {
     "name": "stderr",
     "output_type": "stream",
     "text": [
      "[22:09:59] Explicit valence for atom # 12 N, 4, is greater than permitted\n",
      "[22:09:59] Explicit valence for atom # 12 N, 4, is greater than permitted\n"
     ]
    },
    {
     "name": "stdout",
     "output_type": "stream",
     "text": [
      "Unable to canonicalize  CSc1ccc(cc1)C1=C(C=C[N]([O-])=C1)[C@@H]1CCC(F)(F)C[C@H]1C(=O)NCC#N\n",
      "Unable to canonicalize  CSc1ccc(cc1)C1=C(C=C[N]([O-])=C1)[C@@H]1CCC(F)(F)C[C@H]1C(=O)NCC#N\n"
     ]
    },
    {
     "name": "stderr",
     "output_type": "stream",
     "text": [
      "[22:10:02] Explicit valence for atom # 17 O, 3, is greater than permitted\n",
      "[22:10:02] Explicit valence for atom # 16 O, 3, is greater than permitted\n",
      "[22:10:02] Explicit valence for atom # 16 O, 3, is greater than permitted\n",
      "[22:10:02] Explicit valence for atom # 17 O, 3, is greater than permitted\n",
      "[22:10:02] Explicit valence for atom # 16 O, 3, is greater than permitted\n",
      "[22:10:02] Explicit valence for atom # 16 O, 3, is greater than permitted\n"
     ]
    },
    {
     "name": "stdout",
     "output_type": "stream",
     "text": [
      "Unable to canonicalize  O=C1NC(=O)c2c1c1c3ccccc3n3[Ru](C#[O])[n+]4cccc2c4c13\n",
      "Unable to canonicalize  CN1C(=O)c2c(C1=O)c1cc(F)c[n+]3[Ru](C#[O])n4c5ccc(O)cc5c2c4c13\n",
      "Unable to canonicalize  CN1C(=O)c2c(C1=O)c1cc(F)c[n+]3[Ru](C#[O])n4c5ccc(O)cc5c2c4c13\n",
      "Unable to canonicalize  O=C1NC(=O)c2c1c1c3ccccc3n3[Ru](C#[O])[n+]4cccc2c4c13\n",
      "Unable to canonicalize  CN1C(=O)c2c(C1=O)c1cc(F)c[n+]3[Ru](C#[O])n4c5ccc(O)cc5c2c4c13\n",
      "Unable to canonicalize  CN1C(=O)c2c(C1=O)c1cc(F)c[n+]3[Ru](C#[O])n4c5ccc(O)cc5c2c4c13\n"
     ]
    },
    {
     "name": "stderr",
     "output_type": "stream",
     "text": [
      "[22:10:15] Can't kekulize mol.  Unkekulized atoms: 2 3 4 5 6 7 8 15 16\n",
      "[22:10:15] Can't kekulize mol.  Unkekulized atoms: 2 3 4 5 6 7 14 15 16\n",
      "[22:10:15] Can't kekulize mol.  Unkekulized atoms: 2 3 4 5 6 7 8 15 16\n",
      "[22:10:15] Can't kekulize mol.  Unkekulized atoms: 6 7 8 9 10 11 12 13 14\n",
      "[22:10:15] Can't kekulize mol.  Unkekulized atoms: 2 3 4 5 6 7 14 15 16\n"
     ]
    },
    {
     "name": "stdout",
     "output_type": "stream",
     "text": [
      "Unable to canonicalize  COc1cccc2nc(CCNC(C)=O)cc12\n",
      "Unable to canonicalize  COc1ccc2cc(CCNC(C)=O)nc2c1\n",
      "Unable to canonicalize  COc1cccc2cc(CCNC(C)=O)nc12\n",
      "Unable to canonicalize  CC(=O)NCCc1cc2ccccc2n1\n",
      "Unable to canonicalize  COc1ccc2nc(CCNC(C)=O)cc2c1\n"
     ]
    },
    {
     "name": "stderr",
     "output_type": "stream",
     "text": [
      "[22:10:15] Can't kekulize mol.  Unkekulized atoms: 1 2 4 5 31\n",
      "[22:10:15] Can't kekulize mol.  Unkekulized atoms: 1 2 4 5 31\n",
      "[22:10:15] Can't kekulize mol.  Unkekulized atoms: 1 2 4 5 31\n",
      "[22:10:15] Can't kekulize mol.  Unkekulized atoms: 1 2 4 5 31\n",
      "[22:10:15] Can't kekulize mol.  Unkekulized atoms: 1 2 4 5 31\n",
      "[22:10:15] Can't kekulize mol.  Unkekulized atoms: 1 2 4 5 31\n",
      "[22:10:15] Can't kekulize mol.  Unkekulized atoms: 1 2 4 5 31\n",
      "[22:10:15] Explicit valence for atom # 0 N, 4, is greater than permitted\n",
      "[22:10:15] Explicit valence for atom # 0 N, 4, is greater than permitted\n"
     ]
    },
    {
     "name": "stdout",
     "output_type": "stream",
     "text": [
      "Unable to canonicalize  Nc1cocc(CN2CCC(CC2)NC(=O)[C@@](O)([C@@H]2CCC(F)(F)C2)c2ccccc2)n1\n",
      "Unable to canonicalize  Nc1cocc(CN2CCC(CC2)NC(=O)[C@@](O)([C@@H]2CCC(F)(F)C2)c2ccccc2)n1\n",
      "Unable to canonicalize  Nc1cocc(CN2CCC(CC2)NC(=O)[C@@](O)([C@@H]2CCC(F)(F)C2)c2ccccc2)n1\n",
      "Unable to canonicalize  Nc1cocc(CN2CCC(CC2)NC(=O)[C@@](O)([C@@H]2CCC(F)(F)C2)c2ccccc2)n1\n",
      "Unable to canonicalize  Nc1cocc(CN2CCC(CC2)NC(=O)[C@@](O)([C@@H]2CCC(F)(F)C2)c2ccccc2)n1\n",
      "Unable to canonicalize  Nc1cocc(CN2CCC(CC2)NC(=O)[C@@](O)([C@@H]2CCC(F)(F)C2)c2ccccc2)n1\n",
      "Unable to canonicalize  Nc1cocc(CN2CCC(CC2)NC(=O)[C@@](O)([C@@H]2CCC(F)(F)C2)c2ccccc2)n1\n",
      "Unable to canonicalize  [H][N]1(CCC[C@H]1C(=O)N[C@@H](Cc1ccccc1)C(=O)N[C@@H](C)C(=O)N[C@@H](Cc1ccccc1)C(N)=O)C(=O)CNC(=O)[C@@H](NC(=O)[C@H](CC(N)=O)NC(=O)[C@@H](NC(=O)[C@@H]1CCCN1)[C@@H](C)O)C(C)C\n",
      "Unable to canonicalize  [H][N]1(CCC[C@H]1C(=O)N[C@@H](Cc1ccccc1)C(=O)N[C@@H](C)C(=O)N[C@@H](Cc1ccccc1)C(N)=O)C(=O)CNC(=O)[C@@H](NC(=O)[C@H](CC(N)=O)NC(=O)[C@@H](NC(=O)[C@@H]1CCCN1)[C@@H](C)O)C(C)C\n"
     ]
    },
    {
     "name": "stderr",
     "output_type": "stream",
     "text": [
      "[22:10:17] Can't kekulize mol.  Unkekulized atoms: 5 6 7 8 9 10 11 12 13 17 18 19 30 31 32\n",
      "[22:10:17] Can't kekulize mol.  Unkekulized atoms: 5 6 7 8 9 10 11 12 13 16 17 18 28 29 30\n",
      "[22:10:17] Can't kekulize mol.  Unkekulized atoms: 5 6 7 8 9 10 11 12 13 16 17 18 29 30 31\n"
     ]
    },
    {
     "name": "stdout",
     "output_type": "stream",
     "text": [
      "Unable to canonicalize  CCO[C@]12Cc3c(nc4ccccc34)[C@]3(C)Oc4c5c(CC1N(CC1CC1)CCC235)ccc4O\n",
      "Unable to canonicalize  CCO[C@]12Cc3c(nc4ccccc34)C3Oc4c5c(CC1N(CC=C)CCC235)ccc4O\n",
      "Unable to canonicalize  CCO[C@]12Cc3c(nc4ccccc34)C3Oc4c5c(CC1N(CC1CC1)CCC235)ccc4O\n"
     ]
    },
    {
     "name": "stderr",
     "output_type": "stream",
     "text": [
      "[22:10:18] Explicit valence for atom # 30 N, 4, is greater than permitted\n",
      "[22:10:18] Explicit valence for atom # 29 N, 4, is greater than permitted\n"
     ]
    },
    {
     "name": "stdout",
     "output_type": "stream",
     "text": [
      "Unable to canonicalize  NC(=N)c1ccc(CNC(=O)[C@H](CCC2CCNCC2)NC(=O)[C@@H](CCCC2=CC=[N](O)C=C2)NS(=O)(=O)Cc2ccccc2)cc1\n",
      "Unable to canonicalize  NC(=N)c1ccc(CNC(=O)[C@H](CCC2CCNCC2)NC(=O)[C@@H](CCC2=CC=[N](O)C=C2)NS(=O)(=O)Cc2ccccc2)cc1\n"
     ]
    },
    {
     "name": "stderr",
     "output_type": "stream",
     "text": [
      "[22:10:20] Explicit valence for atom # 3 C, 5, is greater than permitted\n"
     ]
    },
    {
     "name": "stdout",
     "output_type": "stream",
     "text": [
      "Unable to canonicalize  CCC=[C]1=CC=C(C=C1)N1CC(C1)Oc1ccc(cc1)[C@H](C)NC(=O)c1ccncc1\n"
     ]
    },
    {
     "name": "stderr",
     "output_type": "stream",
     "text": [
      "[22:10:20] Explicit valence for atom # 10 N, 4, is greater than permitted\n",
      "[22:10:20] Explicit valence for atom # 10 N, 4, is greater than permitted\n",
      "[22:10:20] Explicit valence for atom # 4 N, 4, is greater than permitted\n",
      "[22:10:20] Explicit valence for atom # 20 N, 4, is greater than permitted\n",
      "[22:10:20] Explicit valence for atom # 20 N, 4, is greater than permitted\n",
      "[22:10:20] Explicit valence for atom # 17 N, 4, is greater than permitted\n",
      "[22:10:20] Explicit valence for atom # 20 N, 4, is greater than permitted\n",
      "[22:10:20] Explicit valence for atom # 4 N, 4, is greater than permitted\n",
      "[22:10:20] Explicit valence for atom # 10 N, 4, is greater than permitted\n",
      "[22:10:20] Explicit valence for atom # 10 N, 4, is greater than permitted\n",
      "[22:10:20] Explicit valence for atom # 4 N, 4, is greater than permitted\n",
      "[22:10:20] Explicit valence for atom # 20 N, 4, is greater than permitted\n",
      "[22:10:20] Explicit valence for atom # 20 N, 4, is greater than permitted\n",
      "[22:10:20] Explicit valence for atom # 17 N, 4, is greater than permitted\n",
      "[22:10:20] Explicit valence for atom # 20 N, 4, is greater than permitted\n",
      "[22:10:20] Explicit valence for atom # 4 N, 4, is greater than permitted\n",
      "[22:10:20] Explicit valence for atom # 19 N, 4, is greater than permitted\n",
      "[22:10:20] Explicit valence for atom # 19 N, 4, is greater than permitted\n",
      "[22:10:20] Explicit valence for atom # 4 N, 4, is greater than permitted\n",
      "[22:10:20] Explicit valence for atom # 19 N, 4, is greater than permitted\n",
      "[22:10:20] Explicit valence for atom # 19 N, 4, is greater than permitted\n",
      "[22:10:20] Explicit valence for atom # 4 N, 4, is greater than permitted\n",
      "[22:10:20] Explicit valence for atom # 10 N, 4, is greater than permitted\n",
      "[22:10:20] Explicit valence for atom # 10 N, 4, is greater than permitted\n",
      "[22:10:20] Explicit valence for atom # 4 N, 4, is greater than permitted\n",
      "[22:10:20] Explicit valence for atom # 20 N, 4, is greater than permitted\n",
      "[22:10:20] Explicit valence for atom # 10 N, 4, is greater than permitted\n",
      "[22:10:20] Explicit valence for atom # 10 N, 4, is greater than permitted\n",
      "[22:10:20] Explicit valence for atom # 4 N, 4, is greater than permitted\n"
     ]
    },
    {
     "name": "stdout",
     "output_type": "stream",
     "text": [
      "Unable to canonicalize  NOOSc1ccc(CC[N]23CC4=CC=CC=[N]4[Re+]2[N]2=C(C3)C=CC=C2)cc1\n",
      "Unable to canonicalize  NOOSc1ccc(CC[N@@]23CC(=O)O[Re]2[N]2=C(C3)C=CC=C2)cc1\n",
      "Unable to canonicalize  CN1C=C[N]2=C1C[N]1(CCc3ccc(SOON)cc3)CC3=[N](C=CN3C)[Re+]21\n",
      "Unable to canonicalize  NOOSc1ccc(NC(=S)NCCCCCCCC[N]23CC4=CC=CC=[N]4[Re+]2[N]2=C(C3)C=CC=C2)cc1\n",
      "Unable to canonicalize  NOOSc1ccc(NC(=S)NCCOCCOCC[N]23CC4=CC=CC=[N]4[Re+]2[N]2=C(C3)C=CC=C2)cc1\n",
      "Unable to canonicalize  NOOSc1ccc(NC(=S)NCCCCC[N]23CC4=CC=CC=[N]4[Re+]2[N]2=C(C3)C=CC=C2)cc1\n",
      "Unable to canonicalize  NOOSc1ccc(NC(=S)NCCCCCCCC[N@@]23CC(=O)O[Re]2[N]2=C(C3)C=CC=C2)cc1\n",
      "Unable to canonicalize  CN1C=C[N]2=C1C[N]1(CCCCCCCCCCNC(=S)Nc3ccc(SOON)cc3)CC3=[N](C=CN3C)[Re+]21\n",
      "Unable to canonicalize  NOOSc1ccc(CC[N]23CC4=CC=CC=[N]4[Re+]2[N]2=C(C3)C=CC=C2)cc1\n",
      "Unable to canonicalize  NOOSc1ccc(CC[N@@]23CC(=O)O[Re]2[N]2=C(C3)C=CC=C2)cc1\n",
      "Unable to canonicalize  CN1C=C[N]2=C1C[N]1(CCc3ccc(SOON)cc3)CC3=[N](C=CN3C)[Re+]21\n",
      "Unable to canonicalize  NOOSc1ccc(NC(=S)NCCCCCCCC[N]23CC4=CC=CC=[N]4[Re+]2[N]2=C(C3)C=CC=C2)cc1\n",
      "Unable to canonicalize  NOOSc1ccc(NC(=S)NCCOCCOCC[N]23CC4=CC=CC=[N]4[Re+]2[N]2=C(C3)C=CC=C2)cc1\n",
      "Unable to canonicalize  NOOSc1ccc(NC(=S)NCCCCC[N]23CC4=CC=CC=[N]4[Re+]2[N]2=C(C3)C=CC=C2)cc1\n",
      "Unable to canonicalize  NOOSc1ccc(NC(=S)NCCCCCCCC[N@@]23CC(=O)O[Re]2[N]2=C(C3)C=CC=C2)cc1\n",
      "Unable to canonicalize  CN1C=C[N]2=C1C[N]1(CCCCCCCCCCNC(=S)Nc3ccc(SOON)cc3)CC3=[N](C=CN3C)[Re+]21\n",
      "Unable to canonicalize  OB(O)C1CCCN1C(=O)CNC(=O)CCCCC[N]12CC3=CC=CC=[N]3[Re+]1[N]1=C(C2)C=CC=C1\n",
      "Unable to canonicalize  OB(O)C1CCCN1C(=O)CNC(=O)CCCCC[N@@]12CC(=O)O[Re]1[N]1=C(C2)C=CC=C1\n",
      "Unable to canonicalize  CN1C=C[N]2=C1C[N]1(CCCCCC(=O)NCC(=O)N3CCCC3B(O)O)CC3=[N](C=CN3C)[Re+]21\n",
      "Unable to canonicalize  OB(O)C1CCCN1C(=O)CNC(=O)CCCCC[N]12CC3=CC=CC=[N]3[Re+]1[N]1=C(C2)C=CC=C1\n",
      "Unable to canonicalize  OB(O)C1CCCN1C(=O)CNC(=O)CCCCC[N@@]12CC(=O)O[Re]1[N]1=C(C2)C=CC=C1\n",
      "Unable to canonicalize  CN1C=C[N]2=C1C[N]1(CCCCCC(=O)NCC(=O)N3CCCC3B(O)O)CC3=[N](C=CN3C)[Re+]21\n",
      "Unable to canonicalize  NOOSc1ccc(CC[N]23CC4=CC=CC=[N]4[Re+]2[N]2=C(C3)C=CC=C2)cc1\n",
      "Unable to canonicalize  NOOSc1ccc(CC[N@@]23CC(=O)O[Re]2[N]2=C(C3)C=CC=C2)cc1\n",
      "Unable to canonicalize  CN1C=C[N]2=C1C[N]1(CCc3ccc(SOON)cc3)CC3=[N](C=CN3C)[Re+]21\n",
      "Unable to canonicalize  NOOSc1ccc(NC(=S)NCCCCCCCC[N]23CC4=CC=CC=[N]4[Re+]2[N]2=C(C3)C=CC=C2)cc1\n",
      "Unable to canonicalize  NOOSc1ccc(CC[N]23CC4=CC=CC=[N]4[Re+]2[N]2=C(C3)C=CC=C2)cc1\n",
      "Unable to canonicalize  NOOSc1ccc(CC[N@@]23CC(=O)O[Re]2[N]2=C(C3)C=CC=C2)cc1\n",
      "Unable to canonicalize  CN1C=C[N]2=C1C[N]1(CCc3ccc(SOON)cc3)CC3=[N](C=CN3C)[Re+]21\n"
     ]
    },
    {
     "name": "stderr",
     "output_type": "stream",
     "text": [
      "[22:10:21] Explicit valence for atom # 30 N, 4, is greater than permitted\n",
      "[22:10:21] Explicit valence for atom # 29 N, 4, is greater than permitted\n",
      "[22:10:21] Explicit valence for atom # 30 N, 4, is greater than permitted\n",
      "[22:10:21] Explicit valence for atom # 30 N, 4, is greater than permitted\n",
      "[22:10:21] Explicit valence for atom # 29 N, 4, is greater than permitted\n",
      "[22:10:21] Explicit valence for atom # 30 N, 4, is greater than permitted\n",
      "[22:10:21] Explicit valence for atom # 30 N, 4, is greater than permitted\n",
      "[22:10:21] Explicit valence for atom # 29 N, 4, is greater than permitted\n",
      "[22:10:21] Explicit valence for atom # 30 N, 4, is greater than permitted\n",
      "[22:10:21] Explicit valence for atom # 30 N, 4, is greater than permitted\n",
      "[22:10:21] Explicit valence for atom # 29 N, 4, is greater than permitted\n",
      "[22:10:21] Explicit valence for atom # 30 N, 4, is greater than permitted\n",
      "[22:10:21] Explicit valence for atom # 30 N, 4, is greater than permitted\n",
      "[22:10:21] Explicit valence for atom # 29 N, 4, is greater than permitted\n",
      "[22:10:21] Explicit valence for atom # 30 N, 4, is greater than permitted\n",
      "[22:10:21] Explicit valence for atom # 30 N, 4, is greater than permitted\n",
      "[22:10:21] Explicit valence for atom # 29 N, 4, is greater than permitted\n",
      "[22:10:21] Explicit valence for atom # 30 N, 4, is greater than permitted\n",
      "[22:10:21] Explicit valence for atom # 30 N, 4, is greater than permitted\n",
      "[22:10:21] Explicit valence for atom # 29 N, 4, is greater than permitted\n",
      "[22:10:21] Explicit valence for atom # 30 N, 4, is greater than permitted\n",
      "[22:10:21] Explicit valence for atom # 30 N, 4, is greater than permitted\n",
      "[22:10:21] Explicit valence for atom # 29 N, 4, is greater than permitted\n",
      "[22:10:21] Explicit valence for atom # 30 N, 4, is greater than permitted\n",
      "[22:10:21] Explicit valence for atom # 30 N, 4, is greater than permitted\n",
      "[22:10:21] Explicit valence for atom # 30 N, 4, is greater than permitted\n",
      "[22:10:21] Explicit valence for atom # 30 N, 4, is greater than permitted\n",
      "[22:10:21] Explicit valence for atom # 30 N, 4, is greater than permitted\n"
     ]
    },
    {
     "name": "stdout",
     "output_type": "stream",
     "text": [
      "Unable to canonicalize  NC(=N)c1ccc(CNC(=O)[C@H](CCC2CCNCC2)NC(=O)[C@@H](CCCC2=CC=[N](O)C=C2)NS(=O)(=O)Cc2ccccc2)cc1\n",
      "Unable to canonicalize  NC(=N)c1ccc(CNC(=O)[C@H](CCC2CCNCC2)NC(=O)[C@@H](CCC2=CC=[N](O)C=C2)NS(=O)(=O)Cc2ccccc2)cc1\n",
      "Unable to canonicalize  NC(=N)c1ccc(CNC(=O)[C@H](CCC2CCNCC2)NC(=O)[C@@H](CCCC2=CC=[N](O)C=C2)NS(=O)(=O)Cc2ccccc2)cc1\n",
      "Unable to canonicalize  NC(=N)c1ccc(CNC(=O)[C@H](CCC2CCNCC2)NC(=O)[C@@H](CCCC2=CC=[N](O)C=C2)NS(=O)(=O)Cc2ccccc2)cc1\n",
      "Unable to canonicalize  NC(=N)c1ccc(CNC(=O)[C@H](CCC2CCNCC2)NC(=O)[C@@H](CCC2=CC=[N](O)C=C2)NS(=O)(=O)Cc2ccccc2)cc1\n",
      "Unable to canonicalize  NC(=N)c1ccc(CNC(=O)[C@H](CCC2CCNCC2)NC(=O)[C@@H](CCCC2=CC=[N](O)C=C2)NS(=O)(=O)Cc2ccccc2)cc1\n",
      "Unable to canonicalize  NC(=N)c1ccc(CNC(=O)[C@H](CCC2CCNCC2)NC(=O)[C@@H](CCCC2=CC=[N](O)C=C2)NS(=O)(=O)Cc2ccccc2)cc1\n",
      "Unable to canonicalize  NC(=N)c1ccc(CNC(=O)[C@H](CCC2CCNCC2)NC(=O)[C@@H](CCC2=CC=[N](O)C=C2)NS(=O)(=O)Cc2ccccc2)cc1\n",
      "Unable to canonicalize  NC(=N)c1ccc(CNC(=O)[C@H](CCC2CCNCC2)NC(=O)[C@@H](CCCC2=CC=[N](O)C=C2)NS(=O)(=O)Cc2ccccc2)cc1\n",
      "Unable to canonicalize  NC(=N)c1ccc(CNC(=O)[C@H](CCC2CCNCC2)NC(=O)[C@@H](CCCC2=CC=[N](O)C=C2)NS(=O)(=O)Cc2ccccc2)cc1\n",
      "Unable to canonicalize  NC(=N)c1ccc(CNC(=O)[C@H](CCC2CCNCC2)NC(=O)[C@@H](CCC2=CC=[N](O)C=C2)NS(=O)(=O)Cc2ccccc2)cc1\n",
      "Unable to canonicalize  NC(=N)c1ccc(CNC(=O)[C@H](CCC2CCNCC2)NC(=O)[C@@H](CCCC2=CC=[N](O)C=C2)NS(=O)(=O)Cc2ccccc2)cc1\n",
      "Unable to canonicalize  NC(=N)c1ccc(CNC(=O)[C@H](CCC2CCNCC2)NC(=O)[C@@H](CCCC2=CC=[N](O)C=C2)NS(=O)(=O)Cc2ccccc2)cc1\n",
      "Unable to canonicalize  NC(=N)c1ccc(CNC(=O)[C@H](CCC2CCNCC2)NC(=O)[C@@H](CCC2=CC=[N](O)C=C2)NS(=O)(=O)Cc2ccccc2)cc1\n",
      "Unable to canonicalize  NC(=N)c1ccc(CNC(=O)[C@H](CCC2CCNCC2)NC(=O)[C@@H](CCCC2=CC=[N](O)C=C2)NS(=O)(=O)Cc2ccccc2)cc1\n",
      "Unable to canonicalize  NC(=N)c1ccc(CNC(=O)[C@H](CCC2CCNCC2)NC(=O)[C@@H](CCCC2=CC=[N](O)C=C2)NS(=O)(=O)Cc2ccccc2)cc1\n",
      "Unable to canonicalize  NC(=N)c1ccc(CNC(=O)[C@H](CCC2CCNCC2)NC(=O)[C@@H](CCC2=CC=[N](O)C=C2)NS(=O)(=O)Cc2ccccc2)cc1\n",
      "Unable to canonicalize  NC(=N)c1ccc(CNC(=O)[C@H](CCC2CCNCC2)NC(=O)[C@@H](CCCC2=CC=[N](O)C=C2)NS(=O)(=O)Cc2ccccc2)cc1\n",
      "Unable to canonicalize  NC(=N)c1ccc(CNC(=O)[C@H](CCC2CCNCC2)NC(=O)[C@@H](CCCC2=CC=[N](O)C=C2)NS(=O)(=O)Cc2ccccc2)cc1\n",
      "Unable to canonicalize  NC(=N)c1ccc(CNC(=O)[C@H](CCC2CCNCC2)NC(=O)[C@@H](CCC2=CC=[N](O)C=C2)NS(=O)(=O)Cc2ccccc2)cc1\n",
      "Unable to canonicalize  NC(=N)c1ccc(CNC(=O)[C@H](CCC2CCNCC2)NC(=O)[C@@H](CCCC2=CC=[N](O)C=C2)NS(=O)(=O)Cc2ccccc2)cc1\n",
      "Unable to canonicalize  NC(=N)c1ccc(CNC(=O)[C@H](CCC2CCNCC2)NC(=O)[C@@H](CCCC2=CC=[N](O)C=C2)NS(=O)(=O)Cc2ccccc2)cc1\n",
      "Unable to canonicalize  NC(=N)c1ccc(CNC(=O)[C@H](CCC2CCNCC2)NC(=O)[C@@H](CCC2=CC=[N](O)C=C2)NS(=O)(=O)Cc2ccccc2)cc1\n",
      "Unable to canonicalize  NC(=N)c1ccc(CNC(=O)[C@H](CCC2CCNCC2)NC(=O)[C@@H](CCCC2=CC=[N](O)C=C2)NS(=O)(=O)Cc2ccccc2)cc1\n",
      "Unable to canonicalize  NC(=N)c1ccc(CNC(=O)[C@H](CCC2CCNCC2)NC(=O)[C@@H](CCCC2=CC=[N](O)C=C2)NS(=O)(=O)Cc2ccccc2)cc1\n",
      "Unable to canonicalize  NC(=N)c1ccc(CNC(=O)[C@H](CCC2CCNCC2)NC(=O)[C@@H](CCCC2=CC=[N](O)C=C2)NS(=O)(=O)Cc2ccccc2)cc1\n",
      "Unable to canonicalize  NC(=N)c1ccc(CNC(=O)[C@H](CCC2CCNCC2)NC(=O)[C@@H](CCCC2=CC=[N](O)C=C2)NS(=O)(=O)Cc2ccccc2)cc1\n",
      "Unable to canonicalize  NC(=N)c1ccc(CNC(=O)[C@H](CCC2CCNCC2)NC(=O)[C@@H](CCCC2=CC=[N](O)C=C2)NS(=O)(=O)Cc2ccccc2)cc1\n"
     ]
    },
    {
     "name": "stderr",
     "output_type": "stream",
     "text": [
      "[22:10:21] Explicit valence for atom # 1 N, 4, is greater than permitted\n",
      "[22:10:21] Explicit valence for atom # 1 N, 4, is greater than permitted\n"
     ]
    },
    {
     "name": "stdout",
     "output_type": "stream",
     "text": [
      "Unable to canonicalize  C[N]1(O)CCC[C@H]1c1cccnc1\n",
      "Unable to canonicalize  C[N]1=CCC[C@H]1c1cccnc1\n"
     ]
    },
    {
     "name": "stderr",
     "output_type": "stream",
     "text": [
      "[22:10:23] Explicit valence for atom # 19 N, 4, is greater than permitted\n",
      "[22:10:23] Explicit valence for atom # 4 N, 4, is greater than permitted\n",
      "[22:10:23] Can't kekulize mol.  Unkekulized atoms: 12 13 14 15 16\n",
      "[22:10:23] Can't kekulize mol.  Unkekulized atoms: 12 13 14 15 16\n",
      "[22:10:23] Can't kekulize mol.  Unkekulized atoms: 12 13 14 15 16\n",
      "[22:10:23] Can't kekulize mol.  Unkekulized atoms: 12 13 14 15 16\n",
      "[22:10:23] Can't kekulize mol.  Unkekulized atoms: 12 13 14 15 16\n"
     ]
    },
    {
     "name": "stdout",
     "output_type": "stream",
     "text": [
      "Unable to canonicalize  Cn1c(Nc2c(Cl)ccc(CNC(=O)C3=CC=CC=[N]3O)c2Cl)nc2cc(C(=O)NCCC(F)(F)F)c(cc12)N1CCC(CC1)C(F)(F)F\n",
      "Unable to canonicalize  CC(C(C)[N]1=CC=C(F)C=C1)c1cc(cc2c1oc(cc2=O)N1CCOCC1)C(=O)N(C)C\n",
      "Unable to canonicalize  ONC(=O)c1ccc(CNC(=O)c2nc(cc2-c2ccc(F)cc2)-c2cccs2)nc1\n",
      "Unable to canonicalize  ONC(=O)c1ccc(CNC(=O)c2nc(cc2-c2ccc(F)cc2)-c2cccs2)nc1\n",
      "Unable to canonicalize  ONC(=O)c1ccc(CNC(=O)c2nc(cc2-c2ccc(F)cc2)-c2cccs2)nc1\n",
      "Unable to canonicalize  ONC(=O)c1ccc(CNC(=O)c2nc(cc2-c2ccc(F)cc2)-c2cccs2)nc1\n",
      "Unable to canonicalize  ONC(=O)c1ccc(CNC(=O)c2nc(cc2-c2ccc(F)cc2)-c2cccs2)nc1\n"
     ]
    },
    {
     "name": "stderr",
     "output_type": "stream",
     "text": [
      "[22:10:24] Explicit valence for atom # 26 N, 4, is greater than permitted\n",
      "[22:10:24] Explicit valence for atom # 14 N, 4, is greater than permitted\n"
     ]
    },
    {
     "name": "stdout",
     "output_type": "stream",
     "text": [
      "Unable to canonicalize  CC(C)Nc1nc(cc2ncn(C)c(=O)c12)C1=CC=C(N2CCOCC2)[N](O)=C1\n",
      "Unable to canonicalize  CC1Cc2nn(C)c(c2-c2nc(NC3=[N](C)NC(C)=C3)ncc12)-c1ccccc1Cl\n"
     ]
    },
    {
     "name": "stderr",
     "output_type": "stream",
     "text": [
      "[22:10:24] Explicit valence for atom # 1 N, 4, is greater than permitted\n",
      "[22:10:24] Explicit valence for atom # 1 N, 4, is greater than permitted\n",
      "[22:10:24] Explicit valence for atom # 1 N, 4, is greater than permitted\n",
      "[22:10:24] Explicit valence for atom # 13 N, 4, is greater than permitted\n",
      "[22:10:24] Explicit valence for atom # 13 N, 4, is greater than permitted\n",
      "[22:10:24] Explicit valence for atom # 17 N, 4, is greater than permitted\n",
      "[22:10:24] Explicit valence for atom # 17 N, 4, is greater than permitted\n",
      "[22:10:24] Explicit valence for atom # 18 N, 4, is greater than permitted\n",
      "[22:10:24] Explicit valence for atom # 13 N, 4, is greater than permitted\n",
      "[22:10:24] Explicit valence for atom # 13 N, 4, is greater than permitted\n",
      "[22:10:24] Explicit valence for atom # 17 N, 4, is greater than permitted\n",
      "[22:10:24] Explicit valence for atom # 17 N, 4, is greater than permitted\n",
      "[22:10:24] Explicit valence for atom # 18 N, 4, is greater than permitted\n",
      "[22:10:24] Explicit valence for atom # 13 N, 4, is greater than permitted\n",
      "[22:10:24] Explicit valence for atom # 13 N, 4, is greater than permitted\n",
      "[22:10:24] Explicit valence for atom # 17 N, 4, is greater than permitted\n",
      "[22:10:24] Explicit valence for atom # 17 N, 4, is greater than permitted\n",
      "[22:10:24] Explicit valence for atom # 18 N, 4, is greater than permitted\n",
      "[22:10:24] Explicit valence for atom # 13 N, 4, is greater than permitted\n",
      "[22:10:24] Explicit valence for atom # 13 N, 4, is greater than permitted\n",
      "[22:10:24] Explicit valence for atom # 17 N, 4, is greater than permitted\n",
      "[22:10:24] Explicit valence for atom # 17 N, 4, is greater than permitted\n",
      "[22:10:24] Explicit valence for atom # 18 N, 4, is greater than permitted\n",
      "[22:10:24] Explicit valence for atom # 13 N, 4, is greater than permitted\n",
      "[22:10:24] Explicit valence for atom # 13 N, 4, is greater than permitted\n",
      "[22:10:24] Explicit valence for atom # 17 N, 4, is greater than permitted\n",
      "[22:10:24] Explicit valence for atom # 17 N, 4, is greater than permitted\n",
      "[22:10:24] Explicit valence for atom # 18 N, 4, is greater than permitted\n"
     ]
    },
    {
     "name": "stdout",
     "output_type": "stream",
     "text": [
      "Unable to canonicalize  O[N]1=C(C=CC=C1)c1ccc(cc1)C(=O)NC\\C=C\\CN1CCN(CC1)c1cccc(Cl)c1Cl\n",
      "Unable to canonicalize  O[N]1(C\\C=C\\CNC(=O)c2ccc(cc2)-c2ccccn2)CCN(CC1)c1cccc(Cl)c1Cl\n",
      "Unable to canonicalize  O[N]1=C(C=CC=C1)c1ccc(cc1)C(=O)NC\\C=C\\CN1CCN(CC1)c1cccc(Cl)c1Cl\n",
      "Unable to canonicalize  [OH2+][V]12([OH2+])(=O)OC(=O)c3ccccc3[N]1=Cc1cc(Br)ccc1O2\n",
      "Unable to canonicalize  [OH2+][V]12([OH2+])(=O)OC(=O)c3ccccc3[N]1=Cc1cc(ccc1O2)[N+]([O-])=O\n",
      "Unable to canonicalize  Clc1ccc2O[V]3(=O)(Oc4ccc(Cl)cc4C=[N]3c3ccccc3)[N](=Cc2c1)c1ccccc1\n",
      "Unable to canonicalize  Brc1ccc2O[V]3(=O)(Oc4ccc(Br)cc4C=[N]3c3ccccc3)[N](=Cc2c1)c1ccccc1\n",
      "Unable to canonicalize  [O-][N+](=O)c1ccc2O[V]3(=O)(Oc4ccc(cc4C=[N]3c3ccccc3)[N+]([O-])=O)[N](=Cc2c1)c1ccccc1\n",
      "Unable to canonicalize  [OH2+][V]12([OH2+])(=O)OC(=O)c3ccccc3[N]1=Cc1cc(Br)ccc1O2\n",
      "Unable to canonicalize  [OH2+][V]12([OH2+])(=O)OC(=O)c3ccccc3[N]1=Cc1cc(ccc1O2)[N+]([O-])=O\n",
      "Unable to canonicalize  Clc1ccc2O[V]3(=O)(Oc4ccc(Cl)cc4C=[N]3c3ccccc3)[N](=Cc2c1)c1ccccc1\n",
      "Unable to canonicalize  Brc1ccc2O[V]3(=O)(Oc4ccc(Br)cc4C=[N]3c3ccccc3)[N](=Cc2c1)c1ccccc1\n",
      "Unable to canonicalize  [O-][N+](=O)c1ccc2O[V]3(=O)(Oc4ccc(cc4C=[N]3c3ccccc3)[N+]([O-])=O)[N](=Cc2c1)c1ccccc1\n",
      "Unable to canonicalize  [OH2+][V]12([OH2+])(=O)OC(=O)c3ccccc3[N]1=Cc1cc(Br)ccc1O2\n",
      "Unable to canonicalize  [OH2+][V]12([OH2+])(=O)OC(=O)c3ccccc3[N]1=Cc1cc(ccc1O2)[N+]([O-])=O\n",
      "Unable to canonicalize  Clc1ccc2O[V]3(=O)(Oc4ccc(Cl)cc4C=[N]3c3ccccc3)[N](=Cc2c1)c1ccccc1\n",
      "Unable to canonicalize  Brc1ccc2O[V]3(=O)(Oc4ccc(Br)cc4C=[N]3c3ccccc3)[N](=Cc2c1)c1ccccc1\n",
      "Unable to canonicalize  [O-][N+](=O)c1ccc2O[V]3(=O)(Oc4ccc(cc4C=[N]3c3ccccc3)[N+]([O-])=O)[N](=Cc2c1)c1ccccc1\n",
      "Unable to canonicalize  [OH2+][V]12([OH2+])(=O)OC(=O)c3ccccc3[N]1=Cc1cc(Br)ccc1O2\n",
      "Unable to canonicalize  [OH2+][V]12([OH2+])(=O)OC(=O)c3ccccc3[N]1=Cc1cc(ccc1O2)[N+]([O-])=O\n",
      "Unable to canonicalize  Clc1ccc2O[V]3(=O)(Oc4ccc(Cl)cc4C=[N]3c3ccccc3)[N](=Cc2c1)c1ccccc1\n",
      "Unable to canonicalize  Brc1ccc2O[V]3(=O)(Oc4ccc(Br)cc4C=[N]3c3ccccc3)[N](=Cc2c1)c1ccccc1\n",
      "Unable to canonicalize  [O-][N+](=O)c1ccc2O[V]3(=O)(Oc4ccc(cc4C=[N]3c3ccccc3)[N+]([O-])=O)[N](=Cc2c1)c1ccccc1\n",
      "Unable to canonicalize  [OH2+][V]12([OH2+])(=O)OC(=O)c3ccccc3[N]1=Cc1cc(Br)ccc1O2\n",
      "Unable to canonicalize  [OH2+][V]12([OH2+])(=O)OC(=O)c3ccccc3[N]1=Cc1cc(ccc1O2)[N+]([O-])=O\n",
      "Unable to canonicalize  Clc1ccc2O[V]3(=O)(Oc4ccc(Cl)cc4C=[N]3c3ccccc3)[N](=Cc2c1)c1ccccc1\n",
      "Unable to canonicalize  Brc1ccc2O[V]3(=O)(Oc4ccc(Br)cc4C=[N]3c3ccccc3)[N](=Cc2c1)c1ccccc1\n",
      "Unable to canonicalize  [O-][N+](=O)c1ccc2O[V]3(=O)(Oc4ccc(cc4C=[N]3c3ccccc3)[N+]([O-])=O)[N](=Cc2c1)c1ccccc1\n"
     ]
    },
    {
     "name": "stderr",
     "output_type": "stream",
     "text": [
      "[22:10:25] Explicit valence for atom # 2 N, 4, is greater than permitted\n",
      "[22:10:25] Explicit valence for atom # 6 N, 4, is greater than permitted\n",
      "[22:10:25] Can't kekulize mol.  Unkekulized atoms: 1 2 3 4 5 6 7 8 9\n",
      "[22:10:25] Can't kekulize mol.  Unkekulized atoms: 1 2 3 4 5 6 7 8 9\n",
      "[22:10:25] Can't kekulize mol.  Unkekulized atoms: 1 2 3 4 5 6 7 8 9\n",
      "[22:10:25] Can't kekulize mol.  Unkekulized atoms: 1 2 3 4 5 6 7 8 9\n",
      "[22:10:25] Can't kekulize mol.  Unkekulized atoms: 1 2 3 4 5 6 7 8 9\n",
      "[22:10:25] Can't kekulize mol.  Unkekulized atoms: 1 2 3 4 5 6 7 8 9\n",
      "[22:10:25] Can't kekulize mol.  Unkekulized atoms: 1 2 3 4 5 6 7 8 9\n",
      "[22:10:25] Can't kekulize mol.  Unkekulized atoms: 1 2 3 4 5 6 7 8 9\n",
      "[22:10:25] Can't kekulize mol.  Unkekulized atoms: 1 2 3 4 5 6 7 8 9\n",
      "[22:10:25] Can't kekulize mol.  Unkekulized atoms: 1 2 3 4 5 6 7 8 9\n",
      "[22:10:25] Can't kekulize mol.  Unkekulized atoms: 1 2 3 4 5 6 7 8 9\n",
      "[22:10:25] Can't kekulize mol.  Unkekulized atoms: 25 26 27 28 29 30 32 33 34\n",
      "[22:10:25] Can't kekulize mol.  Unkekulized atoms: 1 2 3 4 5 6 7 8 9\n",
      "[22:10:25] Can't kekulize mol.  Unkekulized atoms: 27 28 29 30 31 32 34 35 36\n",
      "[22:10:25] Can't kekulize mol.  Unkekulized atoms: 23 24 25 26 27 28 30 31 32\n",
      "[22:10:25] Can't kekulize mol.  Unkekulized atoms: 25 26 27 28 29 30 32 33 34\n",
      "[22:10:25] Can't kekulize mol.  Unkekulized atoms: 1 2 3 4 5 6 7 8 9\n",
      "[22:10:25] Can't kekulize mol.  Unkekulized atoms: 1 2 3 4 5 6 7 8 9\n",
      "[22:10:25] Can't kekulize mol.  Unkekulized atoms: 1 2 3 4 5 6 7 8 9\n",
      "[22:10:25] Can't kekulize mol.  Unkekulized atoms: 1 2 3 4 5 6 7 8 9\n",
      "[22:10:25] Can't kekulize mol.  Unkekulized atoms: 20 21 22 23 24 25 27 28 29\n",
      "[22:10:25] Can't kekulize mol.  Unkekulized atoms: 1 2 3 4 5 6 7 8 9\n",
      "[22:10:25] Can't kekulize mol.  Unkekulized atoms: 1 2 3 4 5 6 7 8 9\n",
      "[22:10:25] Can't kekulize mol.  Unkekulized atoms: 1 2 3 4 5 6 7 8 9\n",
      "[22:10:25] Can't kekulize mol.  Unkekulized atoms: 1 2 3 4 5 6 7 9 10\n",
      "[22:10:25] Can't kekulize mol.  Unkekulized atoms: 22 23 24 25 26 27 29 30 31\n",
      "[22:10:25] Can't kekulize mol.  Unkekulized atoms: 1 2 3 4 5 6 7 8 9\n",
      "[22:10:25] Can't kekulize mol.  Unkekulized atoms: 1 2 3 4 5 6 7 8 9\n",
      "[22:10:25] Can't kekulize mol.  Unkekulized atoms: 21 22 23 24 25 26 28 29 30\n",
      "[22:10:25] Can't kekulize mol.  Unkekulized atoms: 1 2 3 4 5 6 7 8 9\n",
      "[22:10:25] Can't kekulize mol.  Unkekulized atoms: 25 26 27 28 29 30 32 33 34\n",
      "[22:10:25] Can't kekulize mol.  Unkekulized atoms: 1 2 3 4 5 6 7 8 9\n",
      "[22:10:25] Can't kekulize mol.  Unkekulized atoms: 25 26 27 28 29 30 32 33 34\n",
      "[22:10:25] Can't kekulize mol.  Unkekulized atoms: 1 2 3 4 5 6 7 8 9\n",
      "[22:10:25] Can't kekulize mol.  Unkekulized atoms: 1 2 3 4 5 6 7 8 9\n",
      "[22:10:25] Can't kekulize mol.  Unkekulized atoms: 1 2 3 4 5 6 7 8 9\n",
      "[22:10:25] Can't kekulize mol.  Unkekulized atoms: 22 23 24 25 26 27 29 30 31\n",
      "[22:10:25] Can't kekulize mol.  Unkekulized atoms: 1 2 3 4 5 6 7 8 9\n",
      "[22:10:25] Can't kekulize mol.  Unkekulized atoms: 1 2 3 4 5 6 7 8 9\n",
      "[22:10:25] Can't kekulize mol.  Unkekulized atoms: 1 2 3 4 5 6 7 8 9\n",
      "[22:10:25] Can't kekulize mol.  Unkekulized atoms: 1 2 3 4 5 6 7 8 9\n",
      "[22:10:25] Can't kekulize mol.  Unkekulized atoms: 30 31 32 33 34 35 37 38 39\n",
      "[22:10:25] Can't kekulize mol.  Unkekulized atoms: 1 2 3 4 5 6 7 8 9\n",
      "[22:10:25] Can't kekulize mol.  Unkekulized atoms: 1 2 3 4 5 6 7 8 9\n",
      "[22:10:25] Can't kekulize mol.  Unkekulized atoms: 26 27 28 29 30 31 33 34 35\n",
      "[22:10:25] Can't kekulize mol.  Unkekulized atoms: 1 2 3 4 5 6 7 8 9\n",
      "[22:10:25] Can't kekulize mol.  Unkekulized atoms: 1 2 3 4 5 6 7 8 9\n",
      "[22:10:25] Can't kekulize mol.  Unkekulized atoms: 24 25 26 27 28 29 31 32 33\n",
      "[22:10:25] Can't kekulize mol.  Unkekulized atoms: 25 26 27 28 29 30 32 33 34\n",
      "[22:10:25] Can't kekulize mol.  Unkekulized atoms: 1 2 3 4 5 6 7 8 9\n",
      "[22:10:25] Can't kekulize mol.  Unkekulized atoms: 24 25 26 27 28 29 30 31 32\n",
      "[22:10:25] Can't kekulize mol.  Unkekulized atoms: 1 2 3 4 5 6 7 8 9\n",
      "[22:10:25] Can't kekulize mol.  Unkekulized atoms: 1 2 3 4 5 6 7 8 9\n",
      "[22:10:25] Can't kekulize mol.  Unkekulized atoms: 1 2 3 4 5 6 7 8 9\n",
      "[22:10:25] Can't kekulize mol.  Unkekulized atoms: 1 2 3 4 5 6 7 8 9\n",
      "[22:10:25] Can't kekulize mol.  Unkekulized atoms: 1 2 3 4 5 6 7 8 9\n",
      "[22:10:25] Can't kekulize mol.  Unkekulized atoms: 1 2 3 4 5 6 7 8 9\n",
      "[22:10:25] Can't kekulize mol.  Unkekulized atoms: 26 27 28 29 30 31 33 34 35\n",
      "[22:10:25] Can't kekulize mol.  Unkekulized atoms: 22 23 24 25 26 27 29 30 31\n",
      "[22:10:25] Can't kekulize mol.  Unkekulized atoms: 1 2 3 4 5 6 7 8 9\n",
      "[22:10:25] Can't kekulize mol.  Unkekulized atoms: 1 2 3 4 5 6 7 8 9\n",
      "[22:10:25] Can't kekulize mol.  Unkekulized atoms: 1 2 3 4 5 6 7 8 9\n",
      "[22:10:25] Can't kekulize mol.  Unkekulized atoms: 1 2 3 4 5 6 7 8 9\n",
      "[22:10:25] Can't kekulize mol.  Unkekulized atoms: 6 7 8 9 10 11 12 13 14\n",
      "[22:10:25] Can't kekulize mol.  Unkekulized atoms: 2 3 4 5 6 7 8 9 10\n",
      "[22:10:25] Can't kekulize mol.  Unkekulized atoms: 6 7 8 9 10 11 19 20 21\n",
      "[22:10:25] Can't kekulize mol.  Unkekulized atoms: 1 2 3 4 5 6 7 8 9\n",
      "[22:10:25] Can't kekulize mol.  Unkekulized atoms: 25 26 27 28 29 30 32 33 34\n",
      "[22:10:25] Can't kekulize mol.  Unkekulized atoms: 23 24 25 26 27 28 30 31 32\n",
      "[22:10:25] Can't kekulize mol.  Unkekulized atoms: 1 2 3 4 5 6 7 8 9\n",
      "[22:10:25] Can't kekulize mol.  Unkekulized atoms: 1 2 3 4 5 6 7 8 9\n",
      "[22:10:25] Can't kekulize mol.  Unkekulized atoms: 1 2 3 4 5 6 7 8 9\n",
      "[22:10:25] Can't kekulize mol.  Unkekulized atoms: 1 2 3 4 5 6 7 8 9\n",
      "[22:10:25] Can't kekulize mol.  Unkekulized atoms: 21 22 23 24 25 26 28 29 30\n",
      "[22:10:25] Can't kekulize mol.  Unkekulized atoms: 19 20 21 22 23 24 26 27 28\n",
      "[22:10:25] Can't kekulize mol.  Unkekulized atoms: 1 2 3 4 5 6 7 8 9\n",
      "[22:10:25] Can't kekulize mol.  Unkekulized atoms: 1 2 3 4 5 6 7 8 9\n",
      "[22:10:25] Can't kekulize mol.  Unkekulized atoms: 1 2 3 4 5 6 7 8 9\n",
      "[22:10:25] Can't kekulize mol.  Unkekulized atoms: 19 20 21 22 23 24 26 27 28\n",
      "[22:10:25] Can't kekulize mol.  Unkekulized atoms: 1 2 3 4 5 6 7 8 9\n",
      "[22:10:25] Can't kekulize mol.  Unkekulized atoms: 20 21 22 23 24 25 27 28 29\n",
      "[22:10:25] Can't kekulize mol.  Unkekulized atoms: 1 2 3 4 5 6 7 8 9\n",
      "[22:10:25] Can't kekulize mol.  Unkekulized atoms: 21 22 23 24 25 26 28 29 30\n",
      "[22:10:25] Can't kekulize mol.  Unkekulized atoms: 1 2 3 4 5 6 7 8 9\n",
      "[22:10:25] Can't kekulize mol.  Unkekulized atoms: 1 2 3 4 5 6 7 8 9\n",
      "[22:10:25] Can't kekulize mol.  Unkekulized atoms: 1 2 3 4 5 6 7 8 9\n",
      "[22:10:25] Can't kekulize mol.  Unkekulized atoms: 1 2 3 4 5 6 7 8 9\n",
      "[22:10:25] Can't kekulize mol.  Unkekulized atoms: 1 2 3 4 5 6 7 8 9\n",
      "[22:10:25] Can't kekulize mol.  Unkekulized atoms: 1 2 3 4 5 6 7 8 9\n",
      "[22:10:25] Can't kekulize mol.  Unkekulized atoms: 1 2 3 4 5 6 7 8 9\n",
      "[22:10:25] Can't kekulize mol.  Unkekulized atoms: 1 2 3 4 5 6 7 8 9\n",
      "[22:10:25] Can't kekulize mol.  Unkekulized atoms: 1 2 3 4 5 6 7 8 9\n",
      "[22:10:25] Can't kekulize mol.  Unkekulized atoms: 26 27 28 29 30 31 33 34 35\n",
      "[22:10:25] Can't kekulize mol.  Unkekulized atoms: 1 2 3 4 5 6 7 8 9\n",
      "[22:10:25] Can't kekulize mol.  Unkekulized atoms: 27 28 29 30 31 32 34 35 36\n",
      "[22:10:25] Can't kekulize mol.  Unkekulized atoms: 1 2 3 4 5 6 7 8 9\n"
     ]
    },
    {
     "name": "stdout",
     "output_type": "stream",
     "text": [
      "Unable to canonicalize  CC[N]1(CC)CCN(CCOc2ccc3[nH]c(=O)c4CCCNc4c3c2)CC1\n",
      "Unable to canonicalize  COc1cc(C[N](C)(C)C2CCCC2)cc2[nH]c(=O)c3CCCNc3c12\n",
      "Unable to canonicalize  Cc1nc2ccc(cc2n1)-n1ncc(C(=O)c2cc3ccc(CN4CCC(O)CC4)cc3[nH]2)c1N\n",
      "Unable to canonicalize  Cc1nc2ccc(cc2n1)-n1ncc(C(=O)c2cc3ccc(CN4CCNCC4)cc3[nH]2)c1N\n",
      "Unable to canonicalize  Cc1nc2ccc(cc2n1)-n1ncc(C(=O)c2cc3ccc(OCCN4CCOCC4)cc3[nH]2)c1N\n",
      "Unable to canonicalize  Cc1nc2ccc(cc2n1)-n1ncc(C(=O)c2cc3ccc(OC4CCOCC4)cc3[nH]2)c1N\n",
      "Unable to canonicalize  Cc1nc2ccc(cc2n1)-n1ncc(C(=O)c2cc3cc(F)c(Br)cc3[nH]2)c1N\n",
      "Unable to canonicalize  Cc1nc2ccc(cc2n1)-n1ncc(C(=O)c2cc3ccc(cc3[nH]2)-c2ccc(F)cc2)c1N\n",
      "Unable to canonicalize  Cc1nc2ccc(cc2n1)-n1ncc(C(=O)c2cc3ccc(cc3[nH]2)-c2cccc(c2)C(F)(F)F)c1N\n",
      "Unable to canonicalize  Cc1nc2ccc(cc2n1)-n1ncc(C(=O)c2cc3cc(ccc3[nH]2)C(=O)N2CCCC(F)(F)C2)c1N\n",
      "Unable to canonicalize  Cc1nc2ccc(cc2n1)-n1ncc(C(=O)c2cc3cc(ccc3[nH]2)C(=O)NCC(F)(F)F)c1N\n",
      "Unable to canonicalize  Cc1nc2ccc(cc2n1)-n1ncc(C(=O)c2cc3ccc(cc3[nH]2)-c2ccc(cn2)C(F)(F)F)c1N\n",
      "Unable to canonicalize  Cc1nc2ccc(cc2n1)-n1ncc(C(=O)c2cc3ccc(CO)cc3[nH]2)c1N\n",
      "Unable to canonicalize  CN1CCN(CCOc2ccc3cc([nH]c3c2)C(=O)c2cnn(c2N)-c2ccc3nc(C)nc3c2)CC1\n",
      "Unable to canonicalize  Cc1nc2ccc(cc2n1)-n1ncc(C(=O)c2cc3ccc(OCC4(C)COC4)cc3[nH]2)c1N\n",
      "Unable to canonicalize  COCCN(CCOC)Cc1ccc2cc([nH]c2c1)C(=O)C1C=NN(C1N)c1ccc2nc(C)nc2c1\n",
      "Unable to canonicalize  CN(CC#C)Cc1ccc2cc([nH]c2c1)C(=O)c1cnn(c1N)-c1ccc2nc(C)nc2c1\n",
      "Unable to canonicalize  C[C@H]1COCCN1Cc1ccc2cc([nH]c2c1)C(=O)c1cnn(c1N)-c1ccc2nc(C)nc2c1\n",
      "Unable to canonicalize  Cc1nc2ccc(cc2n1)-n1ncc(C(=O)c2cc3ccc(Br)cc3[nH]2)c1N\n",
      "Unable to canonicalize  Cc1nc2ccc(cc2n1)-n1ncc(C(=O)c2cc3ncccc3[nH]2)c1N\n",
      "Unable to canonicalize  Cc1nc2ccc(cc2n1)-n1ncc(C(=O)c2cc3ccc(I)cc3[nH]2)c1N\n",
      "Unable to canonicalize  Cc1nc2ccc(cc2n1)-n1ncc(C(=O)c2cc3c(C)cccc3[nH]2)c1N\n",
      "Unable to canonicalize  CC(C)c1cccc2[nH]c(cc12)C(=O)c1cnn(c1N)-c1ccc2nc(C)nc2c1\n",
      "Unable to canonicalize  Cc1nc2ccc(cc2n1)-n1ncc(C(=O)c2cc3cc(Cc4ccccc4)ccc3[nH]2)c1N\n",
      "Unable to canonicalize  Cc1nc2ccc(cc2n1)-n1ncc(C(=O)c2cc3cc(ccc3[nH]2)C2=C(CCC=C2)C(F)(F)F)c1N\n",
      "Unable to canonicalize  Cc1nc2ccc(cc2n1)-n1ncc(C(=O)c2cc3c(cccc3[nH]2)C#C)c1N\n",
      "Unable to canonicalize  Cc1nc2cc(cc(F)c2n1)-n1ncc(C(=O)c2cc3ccccc3[nH]2)c1N\n",
      "Unable to canonicalize  CCCCOc1ccc2[nH]c(cc2c1)C(=O)c1cnn(c1N)-c1ccc2nc(C)nc2c1\n",
      "Unable to canonicalize  Cc1nc2ccc(cc2n1)-n1ncc(C(=O)c2cc3ccc(NS(C)(=O)=O)cc3[nH]2)c1N\n",
      "Unable to canonicalize  Cc1nc2ccc(cc2n1)-n1ncc(C(=O)c2cc3ccc(cc3[nH]2)-c2ccc(nc2)N2CCOCC2)c1N\n",
      "Unable to canonicalize  CCCCc1ccc2cc([nH]c2c1)C(=O)c1cnn(c1N)-c1ccc2nc(C)nc2c1\n",
      "Unable to canonicalize  Cc1nc2ccc(cc2n1)-n1ncc(C(=O)c2cc3ccc(cc3[nH]2)-c2cnn(C)c2)c1N\n",
      "Unable to canonicalize  COc1ncccc1-c1ccc2cc([nH]c2c1)C(=O)c1cnn(c1N)-c1ccc2nc(C)nc2c1\n",
      "Unable to canonicalize  Cc1nc2ccc(cc2n1)-n1ncc(C(=O)c2cc3ccc(cc3[nH]2)C2CC2)c1N\n",
      "Unable to canonicalize  COc1ccccc1-c1ccc2cc([nH]c2c1)C(=O)c1cnn(c1N)-c1ccc2nc(C)nc2c1\n",
      "Unable to canonicalize  Cc1nc2ccc(cc2n1)-n1ncc(C(=O)c2cc3ccc(cc3[nH]2)-c2ccccc2)c1N\n",
      "Unable to canonicalize  Cc1nc2ccc(cc2n1)-n1ncc(C(=O)c2cc3ccc(cc3[nH]2)-c2cncc(c2)S(C)(=O)=O)c1N\n",
      "Unable to canonicalize  Cc1nc2ccc(cc2n1)-n1ncc(C(=O)c2cc3ccc(cc3[nH]2)-c2cccnn2)c1N\n",
      "Unable to canonicalize  COCCOc1ccc2[nH]c(cc2c1)C(=O)c1cnn(c1N)-c1ccc2nc(C)nc2c1\n",
      "Unable to canonicalize  Cc1nc2ccc(cc2n1)-n1ncc(C(=O)c2cc3cc(OCC4CC4)ccc3[nH]2)c1N\n",
      "Unable to canonicalize  Cc1nc2ccc(cc2n1)-n1ncc(C(=O)c2cc3cc4OC(F)(F)Oc4cc3[nH]2)c1N\n",
      "Unable to canonicalize  Cc1nc2ccc(cc2n1)-n1ncc(C(=O)c2cc3ccc(cc3[nH]2)-c2ccc(F)cn2)c1N\n",
      "Unable to canonicalize  Cc1nc2ccc(cc2n1)-n1ncc(C(=O)c2cc3cc(Cl)c(OCC4CC4)cc3[nH]2)c1N\n",
      "Unable to canonicalize  CC(C)N1CCC(CC1)c1cc2cc([nH]c2cc1C(F)(F)F)C(=O)c1cnn(c1N)-c1ccc2nc(C)nc2c1\n",
      "Unable to canonicalize  Cc1nc2ccc(cc2n1)-n1ncc(C(=O)c2cc3cc(ccc3[nH]2)C2=CCNCC2)c1N\n",
      "Unable to canonicalize  Cc1nc2ccc(cc2n1)-n1ncc(C(=O)c2cc3cc(C4CCNCC4)c(F)cc3[nH]2)c1N\n",
      "Unable to canonicalize  CC(C)N1CCC(CC1)c1ccc2[nH]c(cc2c1)C(=O)c1cnn(c1N)-c1ccc2nc(C)nc2c1\n",
      "Unable to canonicalize  Cc1nc2ccc(cc2n1)-n1ncc(C(=O)c2cc3cc(ccc3[nH]2)-c2cccnc2)c1N\n",
      "Unable to canonicalize  Cc1nc2ccc(cc2n1)-n1ncc(C(=O)c2cc3cc(ccc3[nH]2)-c2ccc(O)nc2)c1N\n",
      "Unable to canonicalize  CN1CCC(CC1)c1ccc2cc([nH]c2c1)C(=O)c1cnn(c1N)-c1ccc2nc(C)nc2c1\n",
      "Unable to canonicalize  CC1CCC(C)N1Cc1ccc2[nH]c(cc2c1)C(=O)c1cnn(c1N)-c1ccc2nc(C)nc2c1\n",
      "Unable to canonicalize  Cc1nc2ccc(cc2n1)-n1ncc(C(=O)c2cc3cc(CN4CCCC(F)C4)ccc3[nH]2)c1N\n",
      "Unable to canonicalize  CN1CCC(CC1)c1ccc2[nH]c(cc2c1)C(=O)c1cnn(c1N)-c1ccc2nc(nc2c1)C(F)F\n",
      "Unable to canonicalize  Cc1nc2ccc(cc2n1)-n1ncc(C(=O)c2cc3cc(ccc3[nH]2)C2CCN(CC2)C2CCCC2)c1N\n",
      "Unable to canonicalize  Cc1nc2ccc(cc2n1)-n1ncc(C(=O)c2cc(Br)c[nH]2)c1N\n",
      "Unable to canonicalize  Cc1nc2ccc(cc2n1)-n1ncc(C(=O)c2ccc[nH]2)c1N\n",
      "Unable to canonicalize  Cc1nc2ccc(cc2n1)-n1ncc(C(=O)c2cc(c[nH]2)-c2cccc(F)c2)c1N\n",
      "Unable to canonicalize  Cc1nc2ccc(cc2n1)-n1ncc(C(=O)c2cc3ccc(CN4CCOCC4)cc3[nH]2)c1N\n",
      "Unable to canonicalize  Cc1nc2ccc(cc2n1)-n1ncc(C(=O)c2cc3c(NCCN4CCOCC4)cccc3[nH]2)c1N\n",
      "Unable to canonicalize  CN1CCN(CC1)C(=O)c1ccc2[nH]c(cc2c1)C(=O)c1cnn(c1N)-c1ccc2nc(C)nc2c1\n",
      "Unable to canonicalize  COCCNc1cccc2[nH]c(cc12)C(=O)c1cnn(c1N)-c1ccc2nc(C)nc2c1\n",
      "Unable to canonicalize  Cc1nc2ccc(cc2n1)-n1ncc(C(=O)c2cc3c(NC(CO)CO)cccc3[nH]2)c1N\n",
      "Unable to canonicalize  Cc1nc2ccc(cc2n1)-n1ncc(C(=O)c2cc3c(NCCc4ccncc4)cccc3[nH]2)c1N\n",
      "Unable to canonicalize  Cc1nc2ccc(cc2n1)-n1ncc(C(=O)c2cc3ccc(cc3[nH]2)N2CCOCC2)c1N\n",
      "Unable to canonicalize  Cc1nc2ccc(cc2n1)-n1ncc(C(=O)c2cc3cc(ccc3[nH]2)C(=O)N2CCOCC2)c1N\n",
      "Unable to canonicalize  Nc1c(cnn1-c1ccc2nc(nc2c1)C(F)(F)F)C(=O)c1cc2ccccc2[nH]1\n",
      "Unable to canonicalize  CCc1nc2ccc(cc2n1)-n1ncc(C(=O)c2cc3ccccc3[nH]2)c1N\n",
      "Unable to canonicalize  Nc1c(cnn1-c1ccc2nc(Cc3ccccc3)nc2c1)C(=O)c1cc2ccccc2[nH]1\n",
      "Unable to canonicalize  Cc1nc2ccc(cc2n1)-n1ncc(C(=O)c2cc3cc(CN4CCNCC4)ccc3[nH]2)c1N\n",
      "Unable to canonicalize  CC(=O)N1CCN(Cc2ccc3cc([nH]c3c2)C(=O)c2cnn(c2N)-c2ccc3nc(C)nc3c2)CC1\n",
      "Unable to canonicalize  CN1CCN(Cc2ccc3[nH]c(cc3c2)C(=O)c2cnn(c2N)-c2ccc3nc(C)nc3c2)CC1\n",
      "Unable to canonicalize  Cc1nc2ccc(cc2n1)-n1ncc(C(=O)c2cc3cc(CN4CCCC4)ccc3[nH]2)c1N\n",
      "Unable to canonicalize  Cc1nc2ccc(cc2n1)-n1ncc(C(=O)c2cc3c(F)cccc3[nH]2)c1N\n",
      "Unable to canonicalize  Cc1nc2ccc(cc2n1)-n1ncc(C(=O)c2cc3=CC(F)C(CN4CCOCC4)C=c3[nH]2)c1N\n",
      "Unable to canonicalize  Cc1nc2ccc(cc2n1)-n1ncc(C(=O)c2cc3cc(ccc3[nH]2)C(O)=O)c1N\n",
      "Unable to canonicalize  COc1cc(OC)c2cc([nH]c2c1)C(=O)c1cnn(c1N)-c1ccc2nc(C)nc2c1\n",
      "Unable to canonicalize  COc1ccc2cc([nH]c2c1)C(=O)c1cnn(c1N)-c1ccc2nc(C)nc2c1\n",
      "Unable to canonicalize  Cc1nc2ccc(cc2n1)-n1ncc(C(=O)c2cc3c(C)cc(C)cc3[nH]2)c1N\n",
      "Unable to canonicalize  Cc1nc2ccc(cc2n1)-n1ncc(C(=O)c2cc3cc(ccc3[nH]2)C(C)(C)C)c1N\n",
      "Unable to canonicalize  Cc1nc2ccc(cc2n1)-n1ncc(C(=O)c2cc3cc(Oc4ccccc4)ccc3[nH]2)c1N\n",
      "Unable to canonicalize  CSc1ccc2cc([nH]c2c1)C(=O)c1cnn(c1N)-c1ccc2nc(C)nc2c1\n",
      "Unable to canonicalize  Cc1nc2ccc(cc2n1)-n1ncc(C(=O)c2cc3cc(F)c(cc3[nH]2)C(F)(F)F)c1N\n",
      "Unable to canonicalize  COc1cc2[nH]c(cc2cc1Cl)C(=O)c1cnn(c1N)-c1ccc2nc(C)nc2c1\n",
      "Unable to canonicalize  Cc1nc2ccc(cc2n1)-n1ncc(C(=O)c2cc3ccc(OCc4ccccc4)cc3[nH]2)c1N\n",
      "Unable to canonicalize  CC(C)Oc1cccc2[nH]c(cc12)C(=O)c1cnn(c1N)-c1ccc2nc(C)nc2c1\n",
      "Unable to canonicalize  Cc1nc2ccc(cc2n1)-n1ncc(C(=O)c2cc3cc4OCCOc4cc3[nH]2)c1N\n",
      "Unable to canonicalize  Cc1nc2ccc(cc2n1)-n1ncc(C(=O)c2cc3c(cc(cc3[nH]2)C(C)(C)C)C(C)(C)C)c1N\n",
      "Unable to canonicalize  Cc1nc2ccc(cc2n1)-n1ncc(C(=O)c2cc3cc(ccc3[nH]2)-n2ccnc2)c1N\n",
      "Unable to canonicalize  Cc1nc2ccc(cc2n1)-n1ncc(C(=O)c2cc3cc(SC(F)(F)F)ccc3[nH]2)c1N\n",
      "Unable to canonicalize  Cc1nc2ccc(cc2n1)-n1ncc(C(=O)c2cc3ccc(Cl)cc3[nH]2)c1N\n",
      "Unable to canonicalize  Cc1nc2ccc(cc2n1)-n1ncc(C(=O)c2ccc3cc[nH]c3c2)c1N\n",
      "Unable to canonicalize  Cc1nc2ccc(cc2n1)-n1ncc(C(=O)c2cc3cc(ccc3[nH]2)C(F)(F)F)c1N\n",
      "Unable to canonicalize  Cc1nc2ccc(cc2n1)-n1ncc(C(=O)c2cc3c(F)cc(Br)cc3[nH]2)c1N\n",
      "Unable to canonicalize  Cc1nc2ccc(cc2n1)-n1ncc(C(=O)c2cc3ccc(cc3[nH]2)-c2ccc(C)nc2)c1N\n",
      "Unable to canonicalize  COc1ncc(Cl)cc1-c1ccc2cc([nH]c2c1)C(=O)c1cnn(c1N)-c1ccc2nc(C)nc2c1\n",
      "Unable to canonicalize  Cc1nc2ccc(cc2n1)-n1ncc(C(=O)c2cc3ccc(cc3[nH]2)-c2cccs2)c1N\n",
      "Unable to canonicalize  CC1CN(CC(C)O1)C(=O)c1ccc2[nH]c(cc2c1)C(=O)c1cnn(c1N)-c1ccc2nc(C)nc2c1\n",
      "Unable to canonicalize  Cc1nc2ccc(cc2n1)-n1ncc(C(=O)c2cc3cc(ccc3[nH]2)C(=O)N2CC[C@H](F)C2)c1N\n"
     ]
    },
    {
     "name": "stderr",
     "output_type": "stream",
     "text": [
      "[22:10:25] Can't kekulize mol.  Unkekulized atoms: 21 22 23 24 25 26 28 29 30\n",
      "[22:10:25] Can't kekulize mol.  Unkekulized atoms: 1 2 3 4 5 6 7 8 9\n",
      "[22:10:25] Can't kekulize mol.  Unkekulized atoms: 1 2 3 4 5 6 7 8 9\n",
      "[22:10:25] Can't kekulize mol.  Unkekulized atoms: 1 2 3 4 5 6 7 8 9\n",
      "[22:10:25] Can't kekulize mol.  Unkekulized atoms: 1 2 3 4 5 6 7 8 9\n",
      "[22:10:25] Can't kekulize mol.  Unkekulized atoms: 1 2 3 4 5 6 7 8 9\n",
      "[22:10:25] Can't kekulize mol.  Unkekulized atoms: 1 2 3 4 5 6 7 8 9\n",
      "[22:10:25] Can't kekulize mol.  Unkekulized atoms: 1 2 3 4 5 6 7 8 9\n",
      "[22:10:25] Can't kekulize mol.  Unkekulized atoms: 1 2 3 4 5 6 7 8 9\n",
      "[22:10:25] Can't kekulize mol.  Unkekulized atoms: 1 2 3 4 5 6 7 8 9\n",
      "[22:10:25] Can't kekulize mol.  Unkekulized atoms: 1 2 3 4 5 6 7 8 9\n",
      "[22:10:25] Can't kekulize mol.  Unkekulized atoms: 1 2 3 4 5 6 7 8 9\n",
      "[22:10:25] Can't kekulize mol.  Unkekulized atoms: 25 26 27 28 29 30 32 33 34\n",
      "[22:10:25] Can't kekulize mol.  Unkekulized atoms: 1 2 3 4 5 6 7 8 9\n",
      "[22:10:25] Can't kekulize mol.  Unkekulized atoms: 27 28 29 30 31 32 34 35 36\n",
      "[22:10:25] Can't kekulize mol.  Unkekulized atoms: 23 24 25 26 27 28 30 31 32\n",
      "[22:10:25] Can't kekulize mol.  Unkekulized atoms: 25 26 27 28 29 30 32 33 34\n",
      "[22:10:25] Can't kekulize mol.  Unkekulized atoms: 1 2 3 4 5 6 7 8 9\n",
      "[22:10:25] Can't kekulize mol.  Unkekulized atoms: 1 2 3 4 5 6 7 8 9\n",
      "[22:10:25] Can't kekulize mol.  Unkekulized atoms: 1 2 3 4 5 6 7 8 9\n",
      "[22:10:25] Can't kekulize mol.  Unkekulized atoms: 1 2 3 4 5 6 7 8 9\n",
      "[22:10:25] Can't kekulize mol.  Unkekulized atoms: 20 21 22 23 24 25 27 28 29\n",
      "[22:10:25] Can't kekulize mol.  Unkekulized atoms: 1 2 3 4 5 6 7 8 9\n",
      "[22:10:25] Can't kekulize mol.  Unkekulized atoms: 1 2 3 4 5 6 7 8 9\n",
      "[22:10:25] Can't kekulize mol.  Unkekulized atoms: 1 2 3 4 5 6 7 8 9\n",
      "[22:10:25] Can't kekulize mol.  Unkekulized atoms: 1 2 3 4 5 6 7 9 10\n",
      "[22:10:25] Can't kekulize mol.  Unkekulized atoms: 22 23 24 25 26 27 29 30 31\n",
      "[22:10:25] Can't kekulize mol.  Unkekulized atoms: 1 2 3 4 5 6 7 8 9\n",
      "[22:10:25] Can't kekulize mol.  Unkekulized atoms: 1 2 3 4 5 6 7 8 9\n",
      "[22:10:25] Can't kekulize mol.  Unkekulized atoms: 21 22 23 24 25 26 28 29 30\n",
      "[22:10:25] Can't kekulize mol.  Unkekulized atoms: 1 2 3 4 5 6 7 8 9\n",
      "[22:10:25] Can't kekulize mol.  Unkekulized atoms: 25 26 27 28 29 30 32 33 34\n",
      "[22:10:25] Can't kekulize mol.  Unkekulized atoms: 1 2 3 4 5 6 7 8 9\n",
      "[22:10:25] Can't kekulize mol.  Unkekulized atoms: 25 26 27 28 29 30 32 33 34\n",
      "[22:10:25] Can't kekulize mol.  Unkekulized atoms: 1 2 3 4 5 6 7 8 9\n",
      "[22:10:25] Can't kekulize mol.  Unkekulized atoms: 1 2 3 4 5 6 7 8 9\n",
      "[22:10:25] Can't kekulize mol.  Unkekulized atoms: 1 2 3 4 5 6 7 8 9\n",
      "[22:10:25] Can't kekulize mol.  Unkekulized atoms: 22 23 24 25 26 27 29 30 31\n",
      "[22:10:25] Can't kekulize mol.  Unkekulized atoms: 1 2 3 4 5 6 7 8 9\n",
      "[22:10:25] Can't kekulize mol.  Unkekulized atoms: 1 2 3 4 5 6 7 8 9\n",
      "[22:10:25] Can't kekulize mol.  Unkekulized atoms: 1 2 3 4 5 6 7 8 9\n",
      "[22:10:25] Can't kekulize mol.  Unkekulized atoms: 1 2 3 4 5 6 7 8 9\n",
      "[22:10:25] Can't kekulize mol.  Unkekulized atoms: 30 31 32 33 34 35 37 38 39\n",
      "[22:10:25] Can't kekulize mol.  Unkekulized atoms: 1 2 3 4 5 6 7 8 9\n",
      "[22:10:25] Can't kekulize mol.  Unkekulized atoms: 1 2 3 4 5 6 7 8 9\n",
      "[22:10:25] Can't kekulize mol.  Unkekulized atoms: 26 27 28 29 30 31 33 34 35\n",
      "[22:10:25] Can't kekulize mol.  Unkekulized atoms: 1 2 3 4 5 6 7 8 9\n",
      "[22:10:25] Can't kekulize mol.  Unkekulized atoms: 1 2 3 4 5 6 7 8 9\n",
      "[22:10:25] Can't kekulize mol.  Unkekulized atoms: 24 25 26 27 28 29 31 32 33\n",
      "[22:10:25] Can't kekulize mol.  Unkekulized atoms: 25 26 27 28 29 30 32 33 34\n",
      "[22:10:25] Can't kekulize mol.  Unkekulized atoms: 1 2 3 4 5 6 7 8 9\n",
      "[22:10:25] Can't kekulize mol.  Unkekulized atoms: 24 25 26 27 28 29 30 31 32\n",
      "[22:10:25] Can't kekulize mol.  Unkekulized atoms: 1 2 3 4 5 6 7 8 9\n",
      "[22:10:25] Can't kekulize mol.  Unkekulized atoms: 1 2 3 4 5 6 7 8 9\n",
      "[22:10:25] Can't kekulize mol.  Unkekulized atoms: 1 2 3 4 5 6 7 8 9\n",
      "[22:10:25] Can't kekulize mol.  Unkekulized atoms: 1 2 3 4 5 6 7 8 9\n",
      "[22:10:25] Can't kekulize mol.  Unkekulized atoms: 1 2 3 4 5 6 7 8 9\n",
      "[22:10:25] Can't kekulize mol.  Unkekulized atoms: 1 2 3 4 5 6 7 8 9\n",
      "[22:10:25] Can't kekulize mol.  Unkekulized atoms: 26 27 28 29 30 31 33 34 35\n",
      "[22:10:25] Can't kekulize mol.  Unkekulized atoms: 22 23 24 25 26 27 29 30 31\n",
      "[22:10:25] Can't kekulize mol.  Unkekulized atoms: 1 2 3 4 5 6 7 8 9\n",
      "[22:10:25] Can't kekulize mol.  Unkekulized atoms: 1 2 3 4 5 6 7 8 9\n",
      "[22:10:25] Can't kekulize mol.  Unkekulized atoms: 1 2 3 4 5 6 7 8 9\n",
      "[22:10:25] Can't kekulize mol.  Unkekulized atoms: 1 2 3 4 5 6 7 8 9\n",
      "[22:10:25] Can't kekulize mol.  Unkekulized atoms: 6 7 8 9 10 11 12 13 14\n",
      "[22:10:25] Can't kekulize mol.  Unkekulized atoms: 2 3 4 5 6 7 8 9 10\n",
      "[22:10:25] Can't kekulize mol.  Unkekulized atoms: 6 7 8 9 10 11 19 20 21\n",
      "[22:10:25] Can't kekulize mol.  Unkekulized atoms: 1 2 3 4 5 6 7 8 9\n",
      "[22:10:25] Can't kekulize mol.  Unkekulized atoms: 25 26 27 28 29 30 32 33 34\n",
      "[22:10:25] Can't kekulize mol.  Unkekulized atoms: 23 24 25 26 27 28 30 31 32\n",
      "[22:10:25] Can't kekulize mol.  Unkekulized atoms: 1 2 3 4 5 6 7 8 9\n",
      "[22:10:25] Can't kekulize mol.  Unkekulized atoms: 1 2 3 4 5 6 7 8 9\n",
      "[22:10:25] Can't kekulize mol.  Unkekulized atoms: 1 2 3 4 5 6 7 8 9\n",
      "[22:10:25] Can't kekulize mol.  Unkekulized atoms: 1 2 3 4 5 6 7 8 9\n",
      "[22:10:25] Can't kekulize mol.  Unkekulized atoms: 21 22 23 24 25 26 28 29 30\n",
      "[22:10:25] Can't kekulize mol.  Unkekulized atoms: 19 20 21 22 23 24 26 27 28\n",
      "[22:10:25] Can't kekulize mol.  Unkekulized atoms: 1 2 3 4 5 6 7 8 9\n",
      "[22:10:25] Can't kekulize mol.  Unkekulized atoms: 1 2 3 4 5 6 7 8 9\n",
      "[22:10:25] Can't kekulize mol.  Unkekulized atoms: 1 2 3 4 5 6 7 8 9\n",
      "[22:10:25] Can't kekulize mol.  Unkekulized atoms: 19 20 21 22 23 24 26 27 28\n",
      "[22:10:25] Can't kekulize mol.  Unkekulized atoms: 1 2 3 4 5 6 7 8 9\n",
      "[22:10:25] Can't kekulize mol.  Unkekulized atoms: 20 21 22 23 24 25 27 28 29\n",
      "[22:10:25] Can't kekulize mol.  Unkekulized atoms: 1 2 3 4 5 6 7 8 9\n",
      "[22:10:25] Can't kekulize mol.  Unkekulized atoms: 21 22 23 24 25 26 28 29 30\n",
      "[22:10:25] Can't kekulize mol.  Unkekulized atoms: 1 2 3 4 5 6 7 8 9\n",
      "[22:10:25] Can't kekulize mol.  Unkekulized atoms: 1 2 3 4 5 6 7 8 9\n",
      "[22:10:25] Can't kekulize mol.  Unkekulized atoms: 1 2 3 4 5 6 7 8 9\n",
      "[22:10:25] Can't kekulize mol.  Unkekulized atoms: 1 2 3 4 5 6 7 8 9\n",
      "[22:10:25] Can't kekulize mol.  Unkekulized atoms: 1 2 3 4 5 6 7 8 9\n",
      "[22:10:25] Can't kekulize mol.  Unkekulized atoms: 1 2 3 4 5 6 7 8 9\n",
      "[22:10:25] Can't kekulize mol.  Unkekulized atoms: 1 2 3 4 5 6 7 8 9\n",
      "[22:10:25] Can't kekulize mol.  Unkekulized atoms: 1 2 3 4 5 6 7 8 9\n",
      "[22:10:25] Can't kekulize mol.  Unkekulized atoms: 1 2 3 4 5 6 7 8 9\n",
      "[22:10:25] Can't kekulize mol.  Unkekulized atoms: 26 27 28 29 30 31 33 34 35\n",
      "[22:10:25] Can't kekulize mol.  Unkekulized atoms: 1 2 3 4 5 6 7 8 9\n",
      "[22:10:25] Can't kekulize mol.  Unkekulized atoms: 27 28 29 30 31 32 34 35 36\n",
      "[22:10:25] Can't kekulize mol.  Unkekulized atoms: 1 2 3 4 5 6 7 8 9\n",
      "[22:10:25] Can't kekulize mol.  Unkekulized atoms: 21 22 23 24 25 26 28 29 30\n",
      "[22:10:25] Can't kekulize mol.  Unkekulized atoms: 1 2 3 4 5 6 7 8 9\n",
      "[22:10:25] Can't kekulize mol.  Unkekulized atoms: 1 2 3 4 5 6 7 8 9\n",
      "[22:10:25] Can't kekulize mol.  Unkekulized atoms: 1 2 3 4 5 6 7 8 9\n",
      "[22:10:25] Can't kekulize mol.  Unkekulized atoms: 1 2 3 4 5 6 7 8 9\n",
      "[22:10:25] Can't kekulize mol.  Unkekulized atoms: 1 2 3 4 5 6 7 8 9\n",
      "[22:10:25] Can't kekulize mol.  Unkekulized atoms: 1 2 3 4 5 6 7 8 9\n",
      "[22:10:25] Can't kekulize mol.  Unkekulized atoms: 1 2 3 4 5 6 7 8 9\n",
      "[22:10:25] Can't kekulize mol.  Unkekulized atoms: 1 2 3 4 5 6 7 8 9\n",
      "[22:10:25] Can't kekulize mol.  Unkekulized atoms: 1 2 3 4 5 6 7 8 9\n",
      "[22:10:25] Can't kekulize mol.  Unkekulized atoms: 1 2 3 4 5 6 7 8 9\n",
      "[22:10:25] Can't kekulize mol.  Unkekulized atoms: 1 2 3 4 5 6 7 8 9\n",
      "[22:10:25] Can't kekulize mol.  Unkekulized atoms: 25 26 27 28 29 30 32 33 34\n",
      "[22:10:25] Can't kekulize mol.  Unkekulized atoms: 1 2 3 4 5 6 7 8 9\n",
      "[22:10:25] Can't kekulize mol.  Unkekulized atoms: 27 28 29 30 31 32 34 35 36\n",
      "[22:10:25] Can't kekulize mol.  Unkekulized atoms: 23 24 25 26 27 28 30 31 32\n",
      "[22:10:25] Can't kekulize mol.  Unkekulized atoms: 25 26 27 28 29 30 32 33 34\n",
      "[22:10:25] Can't kekulize mol.  Unkekulized atoms: 1 2 3 4 5 6 7 8 9\n",
      "[22:10:25] Can't kekulize mol.  Unkekulized atoms: 1 2 3 4 5 6 7 8 9\n",
      "[22:10:25] Can't kekulize mol.  Unkekulized atoms: 1 2 3 4 5 6 7 8 9\n",
      "[22:10:25] Can't kekulize mol.  Unkekulized atoms: 1 2 3 4 5 6 7 8 9\n",
      "[22:10:25] Can't kekulize mol.  Unkekulized atoms: 20 21 22 23 24 25 27 28 29\n",
      "[22:10:25] Can't kekulize mol.  Unkekulized atoms: 1 2 3 4 5 6 7 8 9\n",
      "[22:10:25] Can't kekulize mol.  Unkekulized atoms: 1 2 3 4 5 6 7 8 9\n",
      "[22:10:25] Can't kekulize mol.  Unkekulized atoms: 1 2 3 4 5 6 7 8 9\n",
      "[22:10:25] Can't kekulize mol.  Unkekulized atoms: 1 2 3 4 5 6 7 9 10\n",
      "[22:10:25] Can't kekulize mol.  Unkekulized atoms: 22 23 24 25 26 27 29 30 31\n",
      "[22:10:25] Can't kekulize mol.  Unkekulized atoms: 1 2 3 4 5 6 7 8 9\n",
      "[22:10:25] Can't kekulize mol.  Unkekulized atoms: 1 2 3 4 5 6 7 8 9\n",
      "[22:10:25] Can't kekulize mol.  Unkekulized atoms: 21 22 23 24 25 26 28 29 30\n",
      "[22:10:25] Can't kekulize mol.  Unkekulized atoms: 1 2 3 4 5 6 7 8 9\n",
      "[22:10:25] Can't kekulize mol.  Unkekulized atoms: 25 26 27 28 29 30 32 33 34\n",
      "[22:10:25] Can't kekulize mol.  Unkekulized atoms: 1 2 3 4 5 6 7 8 9\n",
      "[22:10:25] Can't kekulize mol.  Unkekulized atoms: 25 26 27 28 29 30 32 33 34\n",
      "[22:10:25] Can't kekulize mol.  Unkekulized atoms: 1 2 3 4 5 6 7 8 9\n",
      "[22:10:25] Can't kekulize mol.  Unkekulized atoms: 1 2 3 4 5 6 7 8 9\n",
      "[22:10:25] Can't kekulize mol.  Unkekulized atoms: 1 2 3 4 5 6 7 8 9\n",
      "[22:10:25] Can't kekulize mol.  Unkekulized atoms: 22 23 24 25 26 27 29 30 31\n",
      "[22:10:25] Can't kekulize mol.  Unkekulized atoms: 1 2 3 4 5 6 7 8 9\n",
      "[22:10:25] Can't kekulize mol.  Unkekulized atoms: 1 2 3 4 5 6 7 8 9\n",
      "[22:10:25] Can't kekulize mol.  Unkekulized atoms: 1 2 3 4 5 6 7 8 9\n",
      "[22:10:25] Can't kekulize mol.  Unkekulized atoms: 1 2 3 4 5 6 7 8 9\n",
      "[22:10:25] Can't kekulize mol.  Unkekulized atoms: 30 31 32 33 34 35 37 38 39\n",
      "[22:10:25] Can't kekulize mol.  Unkekulized atoms: 1 2 3 4 5 6 7 8 9\n",
      "[22:10:25] Can't kekulize mol.  Unkekulized atoms: 1 2 3 4 5 6 7 8 9\n",
      "[22:10:25] Can't kekulize mol.  Unkekulized atoms: 26 27 28 29 30 31 33 34 35\n",
      "[22:10:25] Can't kekulize mol.  Unkekulized atoms: 1 2 3 4 5 6 7 8 9\n",
      "[22:10:25] Can't kekulize mol.  Unkekulized atoms: 1 2 3 4 5 6 7 8 9\n",
      "[22:10:25] Can't kekulize mol.  Unkekulized atoms: 24 25 26 27 28 29 31 32 33\n",
      "[22:10:25] Can't kekulize mol.  Unkekulized atoms: 25 26 27 28 29 30 32 33 34\n",
      "[22:10:25] Can't kekulize mol.  Unkekulized atoms: 1 2 3 4 5 6 7 8 9\n",
      "[22:10:25] Can't kekulize mol.  Unkekulized atoms: 24 25 26 27 28 29 30 31 32\n",
      "[22:10:25] Can't kekulize mol.  Unkekulized atoms: 1 2 3 4 5 6 7 8 9\n",
      "[22:10:25] Can't kekulize mol.  Unkekulized atoms: 1 2 3 4 5 6 7 8 9\n",
      "[22:10:25] Can't kekulize mol.  Unkekulized atoms: 1 2 3 4 5 6 7 8 9\n",
      "[22:10:25] Can't kekulize mol.  Unkekulized atoms: 1 2 3 4 5 6 7 8 9\n",
      "[22:10:25] Can't kekulize mol.  Unkekulized atoms: 1 2 3 4 5 6 7 8 9\n",
      "[22:10:25] Can't kekulize mol.  Unkekulized atoms: 1 2 3 4 5 6 7 8 9\n",
      "[22:10:25] Can't kekulize mol.  Unkekulized atoms: 26 27 28 29 30 31 33 34 35\n",
      "[22:10:25] Can't kekulize mol.  Unkekulized atoms: 22 23 24 25 26 27 29 30 31\n",
      "[22:10:25] Can't kekulize mol.  Unkekulized atoms: 1 2 3 4 5 6 7 8 9\n",
      "[22:10:25] Can't kekulize mol.  Unkekulized atoms: 1 2 3 4 5 6 7 8 9\n",
      "[22:10:25] Can't kekulize mol.  Unkekulized atoms: 1 2 3 4 5 6 7 8 9\n",
      "[22:10:25] Can't kekulize mol.  Unkekulized atoms: 1 2 3 4 5 6 7 8 9\n",
      "[22:10:25] Can't kekulize mol.  Unkekulized atoms: 6 7 8 9 10 11 12 13 14\n",
      "[22:10:25] Can't kekulize mol.  Unkekulized atoms: 2 3 4 5 6 7 8 9 10\n",
      "[22:10:25] Can't kekulize mol.  Unkekulized atoms: 6 7 8 9 10 11 19 20 21\n",
      "[22:10:25] Can't kekulize mol.  Unkekulized atoms: 1 2 3 4 5 6 7 8 9\n",
      "[22:10:25] Can't kekulize mol.  Unkekulized atoms: 25 26 27 28 29 30 32 33 34\n",
      "[22:10:25] Can't kekulize mol.  Unkekulized atoms: 23 24 25 26 27 28 30 31 32\n",
      "[22:10:25] Can't kekulize mol.  Unkekulized atoms: 1 2 3 4 5 6 7 8 9\n",
      "[22:10:25] Can't kekulize mol.  Unkekulized atoms: 1 2 3 4 5 6 7 8 9\n",
      "[22:10:25] Can't kekulize mol.  Unkekulized atoms: 1 2 3 4 5 6 7 8 9\n",
      "[22:10:25] Can't kekulize mol.  Unkekulized atoms: 1 2 3 4 5 6 7 8 9\n",
      "[22:10:25] Can't kekulize mol.  Unkekulized atoms: 21 22 23 24 25 26 28 29 30\n",
      "[22:10:25] Can't kekulize mol.  Unkekulized atoms: 19 20 21 22 23 24 26 27 28\n",
      "[22:10:25] Can't kekulize mol.  Unkekulized atoms: 1 2 3 4 5 6 7 8 9\n",
      "[22:10:25] Can't kekulize mol.  Unkekulized atoms: 1 2 3 4 5 6 7 8 9\n",
      "[22:10:25] Can't kekulize mol.  Unkekulized atoms: 1 2 3 4 5 6 7 8 9\n",
      "[22:10:25] Can't kekulize mol.  Unkekulized atoms: 19 20 21 22 23 24 26 27 28\n",
      "[22:10:25] Can't kekulize mol.  Unkekulized atoms: 1 2 3 4 5 6 7 8 9\n",
      "[22:10:25] Can't kekulize mol.  Unkekulized atoms: 20 21 22 23 24 25 27 28 29\n",
      "[22:10:25] Can't kekulize mol.  Unkekulized atoms: 1 2 3 4 5 6 7 8 9\n",
      "[22:10:25] Can't kekulize mol.  Unkekulized atoms: 21 22 23 24 25 26 28 29 30\n",
      "[22:10:25] Can't kekulize mol.  Unkekulized atoms: 1 2 3 4 5 6 7 8 9\n",
      "[22:10:25] Can't kekulize mol.  Unkekulized atoms: 1 2 3 4 5 6 7 8 9\n",
      "[22:10:25] Can't kekulize mol.  Unkekulized atoms: 1 2 3 4 5 6 7 8 9\n",
      "[22:10:25] Can't kekulize mol.  Unkekulized atoms: 1 2 3 4 5 6 7 8 9\n",
      "[22:10:25] Can't kekulize mol.  Unkekulized atoms: 1 2 3 4 5 6 7 8 9\n",
      "[22:10:25] Can't kekulize mol.  Unkekulized atoms: 1 2 3 4 5 6 7 8 9\n",
      "[22:10:25] Can't kekulize mol.  Unkekulized atoms: 1 2 3 4 5 6 7 8 9\n",
      "[22:10:25] Can't kekulize mol.  Unkekulized atoms: 1 2 3 4 5 6 7 8 9\n",
      "[22:10:25] Can't kekulize mol.  Unkekulized atoms: 1 2 3 4 5 6 7 8 9\n",
      "[22:10:25] Can't kekulize mol.  Unkekulized atoms: 26 27 28 29 30 31 33 34 35\n",
      "[22:10:25] Can't kekulize mol.  Unkekulized atoms: 1 2 3 4 5 6 7 8 9\n",
      "[22:10:25] Can't kekulize mol.  Unkekulized atoms: 27 28 29 30 31 32 34 35 36\n",
      "[22:10:25] Can't kekulize mol.  Unkekulized atoms: 1 2 3 4 5 6 7 8 9\n",
      "[22:10:25] Can't kekulize mol.  Unkekulized atoms: 21 22 23 24 25 26 28 29 30\n"
     ]
    },
    {
     "name": "stdout",
     "output_type": "stream",
     "text": [
      "Unable to canonicalize  COc1ccc(cc1)-c1c[nH]c(c1)C(=O)c1cnn(c1N)-c1ccc2nc(C)nc2c1\n",
      "Unable to canonicalize  Cc1nc2ccc(cc2n1)-n1ncc(C(=O)c2cc3ccc(CN4CCC(O)CC4)cc3[nH]2)c1N\n",
      "Unable to canonicalize  Cc1nc2ccc(cc2n1)-n1ncc(C(=O)c2cc3ccc(CN4CCNCC4)cc3[nH]2)c1N\n",
      "Unable to canonicalize  Cc1nc2ccc(cc2n1)-n1ncc(C(=O)c2cc3ccc(OCCN4CCOCC4)cc3[nH]2)c1N\n",
      "Unable to canonicalize  Cc1nc2ccc(cc2n1)-n1ncc(C(=O)c2cc3ccc(OC4CCOCC4)cc3[nH]2)c1N\n",
      "Unable to canonicalize  Cc1nc2ccc(cc2n1)-n1ncc(C(=O)c2cc3cc(F)c(Br)cc3[nH]2)c1N\n",
      "Unable to canonicalize  Cc1nc2ccc(cc2n1)-n1ncc(C(=O)c2cc3ccc(cc3[nH]2)-c2ccc(F)cc2)c1N\n",
      "Unable to canonicalize  Cc1nc2ccc(cc2n1)-n1ncc(C(=O)c2cc3ccc(cc3[nH]2)-c2cccc(c2)C(F)(F)F)c1N\n",
      "Unable to canonicalize  Cc1nc2ccc(cc2n1)-n1ncc(C(=O)c2cc3cc(ccc3[nH]2)C(=O)N2CCCC(F)(F)C2)c1N\n",
      "Unable to canonicalize  Cc1nc2ccc(cc2n1)-n1ncc(C(=O)c2cc3cc(ccc3[nH]2)C(=O)NCC(F)(F)F)c1N\n",
      "Unable to canonicalize  Cc1nc2ccc(cc2n1)-n1ncc(C(=O)c2cc3ccc(cc3[nH]2)-c2ccc(cn2)C(F)(F)F)c1N\n",
      "Unable to canonicalize  Cc1nc2ccc(cc2n1)-n1ncc(C(=O)c2cc3ccc(CO)cc3[nH]2)c1N\n",
      "Unable to canonicalize  CN1CCN(CCOc2ccc3cc([nH]c3c2)C(=O)c2cnn(c2N)-c2ccc3nc(C)nc3c2)CC1\n",
      "Unable to canonicalize  Cc1nc2ccc(cc2n1)-n1ncc(C(=O)c2cc3ccc(OCC4(C)COC4)cc3[nH]2)c1N\n",
      "Unable to canonicalize  COCCN(CCOC)Cc1ccc2cc([nH]c2c1)C(=O)C1C=NN(C1N)c1ccc2nc(C)nc2c1\n",
      "Unable to canonicalize  CN(CC#C)Cc1ccc2cc([nH]c2c1)C(=O)c1cnn(c1N)-c1ccc2nc(C)nc2c1\n",
      "Unable to canonicalize  C[C@H]1COCCN1Cc1ccc2cc([nH]c2c1)C(=O)c1cnn(c1N)-c1ccc2nc(C)nc2c1\n",
      "Unable to canonicalize  Cc1nc2ccc(cc2n1)-n1ncc(C(=O)c2cc3ccc(Br)cc3[nH]2)c1N\n",
      "Unable to canonicalize  Cc1nc2ccc(cc2n1)-n1ncc(C(=O)c2cc3ncccc3[nH]2)c1N\n",
      "Unable to canonicalize  Cc1nc2ccc(cc2n1)-n1ncc(C(=O)c2cc3ccc(I)cc3[nH]2)c1N\n",
      "Unable to canonicalize  Cc1nc2ccc(cc2n1)-n1ncc(C(=O)c2cc3c(C)cccc3[nH]2)c1N\n",
      "Unable to canonicalize  CC(C)c1cccc2[nH]c(cc12)C(=O)c1cnn(c1N)-c1ccc2nc(C)nc2c1\n",
      "Unable to canonicalize  Cc1nc2ccc(cc2n1)-n1ncc(C(=O)c2cc3cc(Cc4ccccc4)ccc3[nH]2)c1N\n",
      "Unable to canonicalize  Cc1nc2ccc(cc2n1)-n1ncc(C(=O)c2cc3cc(ccc3[nH]2)C2=C(CCC=C2)C(F)(F)F)c1N\n",
      "Unable to canonicalize  Cc1nc2ccc(cc2n1)-n1ncc(C(=O)c2cc3c(cccc3[nH]2)C#C)c1N\n",
      "Unable to canonicalize  Cc1nc2cc(cc(F)c2n1)-n1ncc(C(=O)c2cc3ccccc3[nH]2)c1N\n",
      "Unable to canonicalize  CCCCOc1ccc2[nH]c(cc2c1)C(=O)c1cnn(c1N)-c1ccc2nc(C)nc2c1\n",
      "Unable to canonicalize  Cc1nc2ccc(cc2n1)-n1ncc(C(=O)c2cc3ccc(NS(C)(=O)=O)cc3[nH]2)c1N\n",
      "Unable to canonicalize  Cc1nc2ccc(cc2n1)-n1ncc(C(=O)c2cc3ccc(cc3[nH]2)-c2ccc(nc2)N2CCOCC2)c1N\n",
      "Unable to canonicalize  CCCCc1ccc2cc([nH]c2c1)C(=O)c1cnn(c1N)-c1ccc2nc(C)nc2c1\n",
      "Unable to canonicalize  Cc1nc2ccc(cc2n1)-n1ncc(C(=O)c2cc3ccc(cc3[nH]2)-c2cnn(C)c2)c1N\n",
      "Unable to canonicalize  COc1ncccc1-c1ccc2cc([nH]c2c1)C(=O)c1cnn(c1N)-c1ccc2nc(C)nc2c1\n",
      "Unable to canonicalize  Cc1nc2ccc(cc2n1)-n1ncc(C(=O)c2cc3ccc(cc3[nH]2)C2CC2)c1N\n",
      "Unable to canonicalize  COc1ccccc1-c1ccc2cc([nH]c2c1)C(=O)c1cnn(c1N)-c1ccc2nc(C)nc2c1\n",
      "Unable to canonicalize  Cc1nc2ccc(cc2n1)-n1ncc(C(=O)c2cc3ccc(cc3[nH]2)-c2ccccc2)c1N\n",
      "Unable to canonicalize  Cc1nc2ccc(cc2n1)-n1ncc(C(=O)c2cc3ccc(cc3[nH]2)-c2cncc(c2)S(C)(=O)=O)c1N\n",
      "Unable to canonicalize  Cc1nc2ccc(cc2n1)-n1ncc(C(=O)c2cc3ccc(cc3[nH]2)-c2cccnn2)c1N\n",
      "Unable to canonicalize  COCCOc1ccc2[nH]c(cc2c1)C(=O)c1cnn(c1N)-c1ccc2nc(C)nc2c1\n",
      "Unable to canonicalize  Cc1nc2ccc(cc2n1)-n1ncc(C(=O)c2cc3cc(OCC4CC4)ccc3[nH]2)c1N\n",
      "Unable to canonicalize  Cc1nc2ccc(cc2n1)-n1ncc(C(=O)c2cc3cc4OC(F)(F)Oc4cc3[nH]2)c1N\n",
      "Unable to canonicalize  Cc1nc2ccc(cc2n1)-n1ncc(C(=O)c2cc3ccc(cc3[nH]2)-c2ccc(F)cn2)c1N\n",
      "Unable to canonicalize  Cc1nc2ccc(cc2n1)-n1ncc(C(=O)c2cc3cc(Cl)c(OCC4CC4)cc3[nH]2)c1N\n",
      "Unable to canonicalize  CC(C)N1CCC(CC1)c1cc2cc([nH]c2cc1C(F)(F)F)C(=O)c1cnn(c1N)-c1ccc2nc(C)nc2c1\n",
      "Unable to canonicalize  Cc1nc2ccc(cc2n1)-n1ncc(C(=O)c2cc3cc(ccc3[nH]2)C2=CCNCC2)c1N\n",
      "Unable to canonicalize  Cc1nc2ccc(cc2n1)-n1ncc(C(=O)c2cc3cc(C4CCNCC4)c(F)cc3[nH]2)c1N\n",
      "Unable to canonicalize  CC(C)N1CCC(CC1)c1ccc2[nH]c(cc2c1)C(=O)c1cnn(c1N)-c1ccc2nc(C)nc2c1\n",
      "Unable to canonicalize  Cc1nc2ccc(cc2n1)-n1ncc(C(=O)c2cc3cc(ccc3[nH]2)-c2cccnc2)c1N\n",
      "Unable to canonicalize  Cc1nc2ccc(cc2n1)-n1ncc(C(=O)c2cc3cc(ccc3[nH]2)-c2ccc(O)nc2)c1N\n",
      "Unable to canonicalize  CN1CCC(CC1)c1ccc2cc([nH]c2c1)C(=O)c1cnn(c1N)-c1ccc2nc(C)nc2c1\n",
      "Unable to canonicalize  CC1CCC(C)N1Cc1ccc2[nH]c(cc2c1)C(=O)c1cnn(c1N)-c1ccc2nc(C)nc2c1\n",
      "Unable to canonicalize  Cc1nc2ccc(cc2n1)-n1ncc(C(=O)c2cc3cc(CN4CCCC(F)C4)ccc3[nH]2)c1N\n",
      "Unable to canonicalize  CN1CCC(CC1)c1ccc2[nH]c(cc2c1)C(=O)c1cnn(c1N)-c1ccc2nc(nc2c1)C(F)F\n",
      "Unable to canonicalize  Cc1nc2ccc(cc2n1)-n1ncc(C(=O)c2cc3cc(ccc3[nH]2)C2CCN(CC2)C2CCCC2)c1N\n",
      "Unable to canonicalize  Cc1nc2ccc(cc2n1)-n1ncc(C(=O)c2cc(Br)c[nH]2)c1N\n",
      "Unable to canonicalize  Cc1nc2ccc(cc2n1)-n1ncc(C(=O)c2ccc[nH]2)c1N\n",
      "Unable to canonicalize  Cc1nc2ccc(cc2n1)-n1ncc(C(=O)c2cc(c[nH]2)-c2cccc(F)c2)c1N\n",
      "Unable to canonicalize  Cc1nc2ccc(cc2n1)-n1ncc(C(=O)c2cc3ccc(CN4CCOCC4)cc3[nH]2)c1N\n",
      "Unable to canonicalize  Cc1nc2ccc(cc2n1)-n1ncc(C(=O)c2cc3c(NCCN4CCOCC4)cccc3[nH]2)c1N\n",
      "Unable to canonicalize  CN1CCN(CC1)C(=O)c1ccc2[nH]c(cc2c1)C(=O)c1cnn(c1N)-c1ccc2nc(C)nc2c1\n",
      "Unable to canonicalize  COCCNc1cccc2[nH]c(cc12)C(=O)c1cnn(c1N)-c1ccc2nc(C)nc2c1\n",
      "Unable to canonicalize  Cc1nc2ccc(cc2n1)-n1ncc(C(=O)c2cc3c(NC(CO)CO)cccc3[nH]2)c1N\n",
      "Unable to canonicalize  Cc1nc2ccc(cc2n1)-n1ncc(C(=O)c2cc3c(NCCc4ccncc4)cccc3[nH]2)c1N\n",
      "Unable to canonicalize  Cc1nc2ccc(cc2n1)-n1ncc(C(=O)c2cc3ccc(cc3[nH]2)N2CCOCC2)c1N\n",
      "Unable to canonicalize  Cc1nc2ccc(cc2n1)-n1ncc(C(=O)c2cc3cc(ccc3[nH]2)C(=O)N2CCOCC2)c1N\n",
      "Unable to canonicalize  Nc1c(cnn1-c1ccc2nc(nc2c1)C(F)(F)F)C(=O)c1cc2ccccc2[nH]1\n",
      "Unable to canonicalize  CCc1nc2ccc(cc2n1)-n1ncc(C(=O)c2cc3ccccc3[nH]2)c1N\n",
      "Unable to canonicalize  Nc1c(cnn1-c1ccc2nc(Cc3ccccc3)nc2c1)C(=O)c1cc2ccccc2[nH]1\n",
      "Unable to canonicalize  Cc1nc2ccc(cc2n1)-n1ncc(C(=O)c2cc3cc(CN4CCNCC4)ccc3[nH]2)c1N\n",
      "Unable to canonicalize  CC(=O)N1CCN(Cc2ccc3cc([nH]c3c2)C(=O)c2cnn(c2N)-c2ccc3nc(C)nc3c2)CC1\n",
      "Unable to canonicalize  CN1CCN(Cc2ccc3[nH]c(cc3c2)C(=O)c2cnn(c2N)-c2ccc3nc(C)nc3c2)CC1\n",
      "Unable to canonicalize  Cc1nc2ccc(cc2n1)-n1ncc(C(=O)c2cc3cc(CN4CCCC4)ccc3[nH]2)c1N\n",
      "Unable to canonicalize  Cc1nc2ccc(cc2n1)-n1ncc(C(=O)c2cc3c(F)cccc3[nH]2)c1N\n",
      "Unable to canonicalize  Cc1nc2ccc(cc2n1)-n1ncc(C(=O)c2cc3=CC(F)C(CN4CCOCC4)C=c3[nH]2)c1N\n",
      "Unable to canonicalize  Cc1nc2ccc(cc2n1)-n1ncc(C(=O)c2cc3cc(ccc3[nH]2)C(O)=O)c1N\n",
      "Unable to canonicalize  COc1cc(OC)c2cc([nH]c2c1)C(=O)c1cnn(c1N)-c1ccc2nc(C)nc2c1\n",
      "Unable to canonicalize  COc1ccc2cc([nH]c2c1)C(=O)c1cnn(c1N)-c1ccc2nc(C)nc2c1\n",
      "Unable to canonicalize  Cc1nc2ccc(cc2n1)-n1ncc(C(=O)c2cc3c(C)cc(C)cc3[nH]2)c1N\n",
      "Unable to canonicalize  Cc1nc2ccc(cc2n1)-n1ncc(C(=O)c2cc3cc(ccc3[nH]2)C(C)(C)C)c1N\n",
      "Unable to canonicalize  Cc1nc2ccc(cc2n1)-n1ncc(C(=O)c2cc3cc(Oc4ccccc4)ccc3[nH]2)c1N\n",
      "Unable to canonicalize  CSc1ccc2cc([nH]c2c1)C(=O)c1cnn(c1N)-c1ccc2nc(C)nc2c1\n",
      "Unable to canonicalize  Cc1nc2ccc(cc2n1)-n1ncc(C(=O)c2cc3cc(F)c(cc3[nH]2)C(F)(F)F)c1N\n",
      "Unable to canonicalize  COc1cc2[nH]c(cc2cc1Cl)C(=O)c1cnn(c1N)-c1ccc2nc(C)nc2c1\n",
      "Unable to canonicalize  Cc1nc2ccc(cc2n1)-n1ncc(C(=O)c2cc3ccc(OCc4ccccc4)cc3[nH]2)c1N\n",
      "Unable to canonicalize  CC(C)Oc1cccc2[nH]c(cc12)C(=O)c1cnn(c1N)-c1ccc2nc(C)nc2c1\n",
      "Unable to canonicalize  Cc1nc2ccc(cc2n1)-n1ncc(C(=O)c2cc3cc4OCCOc4cc3[nH]2)c1N\n",
      "Unable to canonicalize  Cc1nc2ccc(cc2n1)-n1ncc(C(=O)c2cc3c(cc(cc3[nH]2)C(C)(C)C)C(C)(C)C)c1N\n",
      "Unable to canonicalize  Cc1nc2ccc(cc2n1)-n1ncc(C(=O)c2cc3cc(ccc3[nH]2)-n2ccnc2)c1N\n",
      "Unable to canonicalize  Cc1nc2ccc(cc2n1)-n1ncc(C(=O)c2cc3cc(SC(F)(F)F)ccc3[nH]2)c1N\n",
      "Unable to canonicalize  Cc1nc2ccc(cc2n1)-n1ncc(C(=O)c2cc3ccc(Cl)cc3[nH]2)c1N\n",
      "Unable to canonicalize  Cc1nc2ccc(cc2n1)-n1ncc(C(=O)c2ccc3cc[nH]c3c2)c1N\n",
      "Unable to canonicalize  Cc1nc2ccc(cc2n1)-n1ncc(C(=O)c2cc3cc(ccc3[nH]2)C(F)(F)F)c1N\n",
      "Unable to canonicalize  Cc1nc2ccc(cc2n1)-n1ncc(C(=O)c2cc3c(F)cc(Br)cc3[nH]2)c1N\n",
      "Unable to canonicalize  Cc1nc2ccc(cc2n1)-n1ncc(C(=O)c2cc3ccc(cc3[nH]2)-c2ccc(C)nc2)c1N\n",
      "Unable to canonicalize  COc1ncc(Cl)cc1-c1ccc2cc([nH]c2c1)C(=O)c1cnn(c1N)-c1ccc2nc(C)nc2c1\n",
      "Unable to canonicalize  Cc1nc2ccc(cc2n1)-n1ncc(C(=O)c2cc3ccc(cc3[nH]2)-c2cccs2)c1N\n",
      "Unable to canonicalize  CC1CN(CC(C)O1)C(=O)c1ccc2[nH]c(cc2c1)C(=O)c1cnn(c1N)-c1ccc2nc(C)nc2c1\n",
      "Unable to canonicalize  Cc1nc2ccc(cc2n1)-n1ncc(C(=O)c2cc3cc(ccc3[nH]2)C(=O)N2CC[C@H](F)C2)c1N\n",
      "Unable to canonicalize  COc1ccc(cc1)-c1c[nH]c(c1)C(=O)c1cnn(c1N)-c1ccc2nc(C)nc2c1\n",
      "Unable to canonicalize  Cc1nc2ccc(cc2n1)-n1ncc(C(=O)c2cc3ccc(CN4CCC(O)CC4)cc3[nH]2)c1N\n",
      "Unable to canonicalize  Cc1nc2ccc(cc2n1)-n1ncc(C(=O)c2cc3ccc(CN4CCNCC4)cc3[nH]2)c1N\n",
      "Unable to canonicalize  Cc1nc2ccc(cc2n1)-n1ncc(C(=O)c2cc3ccc(OCCN4CCOCC4)cc3[nH]2)c1N\n",
      "Unable to canonicalize  Cc1nc2ccc(cc2n1)-n1ncc(C(=O)c2cc3ccc(OC4CCOCC4)cc3[nH]2)c1N\n",
      "Unable to canonicalize  Cc1nc2ccc(cc2n1)-n1ncc(C(=O)c2cc3cc(F)c(Br)cc3[nH]2)c1N\n",
      "Unable to canonicalize  Cc1nc2ccc(cc2n1)-n1ncc(C(=O)c2cc3ccc(cc3[nH]2)-c2ccc(F)cc2)c1N\n",
      "Unable to canonicalize  Cc1nc2ccc(cc2n1)-n1ncc(C(=O)c2cc3ccc(cc3[nH]2)-c2cccc(c2)C(F)(F)F)c1N\n",
      "Unable to canonicalize  Cc1nc2ccc(cc2n1)-n1ncc(C(=O)c2cc3cc(ccc3[nH]2)C(=O)N2CCCC(F)(F)C2)c1N\n",
      "Unable to canonicalize  Cc1nc2ccc(cc2n1)-n1ncc(C(=O)c2cc3cc(ccc3[nH]2)C(=O)NCC(F)(F)F)c1N\n",
      "Unable to canonicalize  Cc1nc2ccc(cc2n1)-n1ncc(C(=O)c2cc3ccc(cc3[nH]2)-c2ccc(cn2)C(F)(F)F)c1N\n",
      "Unable to canonicalize  Cc1nc2ccc(cc2n1)-n1ncc(C(=O)c2cc3ccc(CO)cc3[nH]2)c1N\n",
      "Unable to canonicalize  CN1CCN(CCOc2ccc3cc([nH]c3c2)C(=O)c2cnn(c2N)-c2ccc3nc(C)nc3c2)CC1\n",
      "Unable to canonicalize  Cc1nc2ccc(cc2n1)-n1ncc(C(=O)c2cc3ccc(OCC4(C)COC4)cc3[nH]2)c1N\n",
      "Unable to canonicalize  COCCN(CCOC)Cc1ccc2cc([nH]c2c1)C(=O)C1C=NN(C1N)c1ccc2nc(C)nc2c1\n",
      "Unable to canonicalize  CN(CC#C)Cc1ccc2cc([nH]c2c1)C(=O)c1cnn(c1N)-c1ccc2nc(C)nc2c1\n",
      "Unable to canonicalize  C[C@H]1COCCN1Cc1ccc2cc([nH]c2c1)C(=O)c1cnn(c1N)-c1ccc2nc(C)nc2c1\n",
      "Unable to canonicalize  Cc1nc2ccc(cc2n1)-n1ncc(C(=O)c2cc3ccc(Br)cc3[nH]2)c1N\n",
      "Unable to canonicalize  Cc1nc2ccc(cc2n1)-n1ncc(C(=O)c2cc3ncccc3[nH]2)c1N\n",
      "Unable to canonicalize  Cc1nc2ccc(cc2n1)-n1ncc(C(=O)c2cc3ccc(I)cc3[nH]2)c1N\n",
      "Unable to canonicalize  Cc1nc2ccc(cc2n1)-n1ncc(C(=O)c2cc3c(C)cccc3[nH]2)c1N\n",
      "Unable to canonicalize  CC(C)c1cccc2[nH]c(cc12)C(=O)c1cnn(c1N)-c1ccc2nc(C)nc2c1\n",
      "Unable to canonicalize  Cc1nc2ccc(cc2n1)-n1ncc(C(=O)c2cc3cc(Cc4ccccc4)ccc3[nH]2)c1N\n",
      "Unable to canonicalize  Cc1nc2ccc(cc2n1)-n1ncc(C(=O)c2cc3cc(ccc3[nH]2)C2=C(CCC=C2)C(F)(F)F)c1N\n",
      "Unable to canonicalize  Cc1nc2ccc(cc2n1)-n1ncc(C(=O)c2cc3c(cccc3[nH]2)C#C)c1N\n",
      "Unable to canonicalize  Cc1nc2cc(cc(F)c2n1)-n1ncc(C(=O)c2cc3ccccc3[nH]2)c1N\n",
      "Unable to canonicalize  CCCCOc1ccc2[nH]c(cc2c1)C(=O)c1cnn(c1N)-c1ccc2nc(C)nc2c1\n",
      "Unable to canonicalize  Cc1nc2ccc(cc2n1)-n1ncc(C(=O)c2cc3ccc(NS(C)(=O)=O)cc3[nH]2)c1N\n",
      "Unable to canonicalize  Cc1nc2ccc(cc2n1)-n1ncc(C(=O)c2cc3ccc(cc3[nH]2)-c2ccc(nc2)N2CCOCC2)c1N\n",
      "Unable to canonicalize  CCCCc1ccc2cc([nH]c2c1)C(=O)c1cnn(c1N)-c1ccc2nc(C)nc2c1\n",
      "Unable to canonicalize  Cc1nc2ccc(cc2n1)-n1ncc(C(=O)c2cc3ccc(cc3[nH]2)-c2cnn(C)c2)c1N\n",
      "Unable to canonicalize  COc1ncccc1-c1ccc2cc([nH]c2c1)C(=O)c1cnn(c1N)-c1ccc2nc(C)nc2c1\n",
      "Unable to canonicalize  Cc1nc2ccc(cc2n1)-n1ncc(C(=O)c2cc3ccc(cc3[nH]2)C2CC2)c1N\n",
      "Unable to canonicalize  COc1ccccc1-c1ccc2cc([nH]c2c1)C(=O)c1cnn(c1N)-c1ccc2nc(C)nc2c1\n",
      "Unable to canonicalize  Cc1nc2ccc(cc2n1)-n1ncc(C(=O)c2cc3ccc(cc3[nH]2)-c2ccccc2)c1N\n",
      "Unable to canonicalize  Cc1nc2ccc(cc2n1)-n1ncc(C(=O)c2cc3ccc(cc3[nH]2)-c2cncc(c2)S(C)(=O)=O)c1N\n",
      "Unable to canonicalize  Cc1nc2ccc(cc2n1)-n1ncc(C(=O)c2cc3ccc(cc3[nH]2)-c2cccnn2)c1N\n",
      "Unable to canonicalize  COCCOc1ccc2[nH]c(cc2c1)C(=O)c1cnn(c1N)-c1ccc2nc(C)nc2c1\n",
      "Unable to canonicalize  Cc1nc2ccc(cc2n1)-n1ncc(C(=O)c2cc3cc(OCC4CC4)ccc3[nH]2)c1N\n",
      "Unable to canonicalize  Cc1nc2ccc(cc2n1)-n1ncc(C(=O)c2cc3cc4OC(F)(F)Oc4cc3[nH]2)c1N\n",
      "Unable to canonicalize  Cc1nc2ccc(cc2n1)-n1ncc(C(=O)c2cc3ccc(cc3[nH]2)-c2ccc(F)cn2)c1N\n",
      "Unable to canonicalize  Cc1nc2ccc(cc2n1)-n1ncc(C(=O)c2cc3cc(Cl)c(OCC4CC4)cc3[nH]2)c1N\n",
      "Unable to canonicalize  CC(C)N1CCC(CC1)c1cc2cc([nH]c2cc1C(F)(F)F)C(=O)c1cnn(c1N)-c1ccc2nc(C)nc2c1\n",
      "Unable to canonicalize  Cc1nc2ccc(cc2n1)-n1ncc(C(=O)c2cc3cc(ccc3[nH]2)C2=CCNCC2)c1N\n",
      "Unable to canonicalize  Cc1nc2ccc(cc2n1)-n1ncc(C(=O)c2cc3cc(C4CCNCC4)c(F)cc3[nH]2)c1N\n",
      "Unable to canonicalize  CC(C)N1CCC(CC1)c1ccc2[nH]c(cc2c1)C(=O)c1cnn(c1N)-c1ccc2nc(C)nc2c1\n",
      "Unable to canonicalize  Cc1nc2ccc(cc2n1)-n1ncc(C(=O)c2cc3cc(ccc3[nH]2)-c2cccnc2)c1N\n",
      "Unable to canonicalize  Cc1nc2ccc(cc2n1)-n1ncc(C(=O)c2cc3cc(ccc3[nH]2)-c2ccc(O)nc2)c1N\n",
      "Unable to canonicalize  CN1CCC(CC1)c1ccc2cc([nH]c2c1)C(=O)c1cnn(c1N)-c1ccc2nc(C)nc2c1\n",
      "Unable to canonicalize  CC1CCC(C)N1Cc1ccc2[nH]c(cc2c1)C(=O)c1cnn(c1N)-c1ccc2nc(C)nc2c1\n",
      "Unable to canonicalize  Cc1nc2ccc(cc2n1)-n1ncc(C(=O)c2cc3cc(CN4CCCC(F)C4)ccc3[nH]2)c1N\n",
      "Unable to canonicalize  CN1CCC(CC1)c1ccc2[nH]c(cc2c1)C(=O)c1cnn(c1N)-c1ccc2nc(nc2c1)C(F)F\n",
      "Unable to canonicalize  Cc1nc2ccc(cc2n1)-n1ncc(C(=O)c2cc3cc(ccc3[nH]2)C2CCN(CC2)C2CCCC2)c1N\n",
      "Unable to canonicalize  Cc1nc2ccc(cc2n1)-n1ncc(C(=O)c2cc(Br)c[nH]2)c1N\n",
      "Unable to canonicalize  Cc1nc2ccc(cc2n1)-n1ncc(C(=O)c2ccc[nH]2)c1N\n",
      "Unable to canonicalize  Cc1nc2ccc(cc2n1)-n1ncc(C(=O)c2cc(c[nH]2)-c2cccc(F)c2)c1N\n",
      "Unable to canonicalize  Cc1nc2ccc(cc2n1)-n1ncc(C(=O)c2cc3ccc(CN4CCOCC4)cc3[nH]2)c1N\n",
      "Unable to canonicalize  Cc1nc2ccc(cc2n1)-n1ncc(C(=O)c2cc3c(NCCN4CCOCC4)cccc3[nH]2)c1N\n",
      "Unable to canonicalize  CN1CCN(CC1)C(=O)c1ccc2[nH]c(cc2c1)C(=O)c1cnn(c1N)-c1ccc2nc(C)nc2c1\n",
      "Unable to canonicalize  COCCNc1cccc2[nH]c(cc12)C(=O)c1cnn(c1N)-c1ccc2nc(C)nc2c1\n",
      "Unable to canonicalize  Cc1nc2ccc(cc2n1)-n1ncc(C(=O)c2cc3c(NC(CO)CO)cccc3[nH]2)c1N\n",
      "Unable to canonicalize  Cc1nc2ccc(cc2n1)-n1ncc(C(=O)c2cc3c(NCCc4ccncc4)cccc3[nH]2)c1N\n",
      "Unable to canonicalize  Cc1nc2ccc(cc2n1)-n1ncc(C(=O)c2cc3ccc(cc3[nH]2)N2CCOCC2)c1N\n",
      "Unable to canonicalize  Cc1nc2ccc(cc2n1)-n1ncc(C(=O)c2cc3cc(ccc3[nH]2)C(=O)N2CCOCC2)c1N\n",
      "Unable to canonicalize  Nc1c(cnn1-c1ccc2nc(nc2c1)C(F)(F)F)C(=O)c1cc2ccccc2[nH]1\n",
      "Unable to canonicalize  CCc1nc2ccc(cc2n1)-n1ncc(C(=O)c2cc3ccccc3[nH]2)c1N\n",
      "Unable to canonicalize  Nc1c(cnn1-c1ccc2nc(Cc3ccccc3)nc2c1)C(=O)c1cc2ccccc2[nH]1\n",
      "Unable to canonicalize  Cc1nc2ccc(cc2n1)-n1ncc(C(=O)c2cc3cc(CN4CCNCC4)ccc3[nH]2)c1N\n",
      "Unable to canonicalize  CC(=O)N1CCN(Cc2ccc3cc([nH]c3c2)C(=O)c2cnn(c2N)-c2ccc3nc(C)nc3c2)CC1\n",
      "Unable to canonicalize  CN1CCN(Cc2ccc3[nH]c(cc3c2)C(=O)c2cnn(c2N)-c2ccc3nc(C)nc3c2)CC1\n",
      "Unable to canonicalize  Cc1nc2ccc(cc2n1)-n1ncc(C(=O)c2cc3cc(CN4CCCC4)ccc3[nH]2)c1N\n",
      "Unable to canonicalize  Cc1nc2ccc(cc2n1)-n1ncc(C(=O)c2cc3c(F)cccc3[nH]2)c1N\n",
      "Unable to canonicalize  Cc1nc2ccc(cc2n1)-n1ncc(C(=O)c2cc3=CC(F)C(CN4CCOCC4)C=c3[nH]2)c1N\n",
      "Unable to canonicalize  Cc1nc2ccc(cc2n1)-n1ncc(C(=O)c2cc3cc(ccc3[nH]2)C(O)=O)c1N\n",
      "Unable to canonicalize  COc1cc(OC)c2cc([nH]c2c1)C(=O)c1cnn(c1N)-c1ccc2nc(C)nc2c1\n",
      "Unable to canonicalize  COc1ccc2cc([nH]c2c1)C(=O)c1cnn(c1N)-c1ccc2nc(C)nc2c1\n",
      "Unable to canonicalize  Cc1nc2ccc(cc2n1)-n1ncc(C(=O)c2cc3c(C)cc(C)cc3[nH]2)c1N\n",
      "Unable to canonicalize  Cc1nc2ccc(cc2n1)-n1ncc(C(=O)c2cc3cc(ccc3[nH]2)C(C)(C)C)c1N\n",
      "Unable to canonicalize  Cc1nc2ccc(cc2n1)-n1ncc(C(=O)c2cc3cc(Oc4ccccc4)ccc3[nH]2)c1N\n",
      "Unable to canonicalize  CSc1ccc2cc([nH]c2c1)C(=O)c1cnn(c1N)-c1ccc2nc(C)nc2c1\n",
      "Unable to canonicalize  Cc1nc2ccc(cc2n1)-n1ncc(C(=O)c2cc3cc(F)c(cc3[nH]2)C(F)(F)F)c1N\n",
      "Unable to canonicalize  COc1cc2[nH]c(cc2cc1Cl)C(=O)c1cnn(c1N)-c1ccc2nc(C)nc2c1\n",
      "Unable to canonicalize  Cc1nc2ccc(cc2n1)-n1ncc(C(=O)c2cc3ccc(OCc4ccccc4)cc3[nH]2)c1N\n",
      "Unable to canonicalize  CC(C)Oc1cccc2[nH]c(cc12)C(=O)c1cnn(c1N)-c1ccc2nc(C)nc2c1\n",
      "Unable to canonicalize  Cc1nc2ccc(cc2n1)-n1ncc(C(=O)c2cc3cc4OCCOc4cc3[nH]2)c1N\n",
      "Unable to canonicalize  Cc1nc2ccc(cc2n1)-n1ncc(C(=O)c2cc3c(cc(cc3[nH]2)C(C)(C)C)C(C)(C)C)c1N\n",
      "Unable to canonicalize  Cc1nc2ccc(cc2n1)-n1ncc(C(=O)c2cc3cc(ccc3[nH]2)-n2ccnc2)c1N\n",
      "Unable to canonicalize  Cc1nc2ccc(cc2n1)-n1ncc(C(=O)c2cc3cc(SC(F)(F)F)ccc3[nH]2)c1N\n",
      "Unable to canonicalize  Cc1nc2ccc(cc2n1)-n1ncc(C(=O)c2cc3ccc(Cl)cc3[nH]2)c1N\n",
      "Unable to canonicalize  Cc1nc2ccc(cc2n1)-n1ncc(C(=O)c2ccc3cc[nH]c3c2)c1N\n",
      "Unable to canonicalize  Cc1nc2ccc(cc2n1)-n1ncc(C(=O)c2cc3cc(ccc3[nH]2)C(F)(F)F)c1N\n",
      "Unable to canonicalize  Cc1nc2ccc(cc2n1)-n1ncc(C(=O)c2cc3c(F)cc(Br)cc3[nH]2)c1N\n",
      "Unable to canonicalize  Cc1nc2ccc(cc2n1)-n1ncc(C(=O)c2cc3ccc(cc3[nH]2)-c2ccc(C)nc2)c1N\n",
      "Unable to canonicalize  COc1ncc(Cl)cc1-c1ccc2cc([nH]c2c1)C(=O)c1cnn(c1N)-c1ccc2nc(C)nc2c1\n",
      "Unable to canonicalize  Cc1nc2ccc(cc2n1)-n1ncc(C(=O)c2cc3ccc(cc3[nH]2)-c2cccs2)c1N\n",
      "Unable to canonicalize  CC1CN(CC(C)O1)C(=O)c1ccc2[nH]c(cc2c1)C(=O)c1cnn(c1N)-c1ccc2nc(C)nc2c1\n",
      "Unable to canonicalize  Cc1nc2ccc(cc2n1)-n1ncc(C(=O)c2cc3cc(ccc3[nH]2)C(=O)N2CC[C@H](F)C2)c1N\n",
      "Unable to canonicalize  COc1ccc(cc1)-c1c[nH]c(c1)C(=O)c1cnn(c1N)-c1ccc2nc(C)nc2c1\n"
     ]
    },
    {
     "name": "stderr",
     "output_type": "stream",
     "text": [
      "[22:10:26] Explicit valence for atom # 66 N, 4, is greater than permitted\n",
      "[22:10:26] Explicit valence for atom # 64 N, 4, is greater than permitted\n"
     ]
    },
    {
     "name": "stdout",
     "output_type": "stream",
     "text": [
      "Unable to canonicalize  CC(=O)N[C@@H](CCCNC(N)=N)C(=O)N[C@H]1CCCCNC(=O)C[C@H](NC(=O)[C@H](Cc2c[nH]c3ccccc23)NC(=O)[C@H](CCCNC(N)=N)NC(=O)[C@@H](Cc2ccccc2)NC(=O)[C@H](C[N]2=CNC=C2)NC1=O)C(O)=O\n",
      "Unable to canonicalize  CC(=O)N[C@@H](CCCCN)C(=O)N[C@H]1CCCNC(=O)CC[C@H](NC(=O)[C@H](Cc2c[nH]c3ccccc23)NC(=O)[C@H](CCCNC(N)=N)NC(=O)[C@@H](Cc2ccccc2)NC(=O)[C@H](C[N]2=CNC=C2)NC1=O)C(N)=O\n"
     ]
    },
    {
     "name": "stderr",
     "output_type": "stream",
     "text": [
      "[22:10:27] Explicit valence for atom # 26 N, 4, is greater than permitted\n",
      "[22:10:27] Explicit valence for atom # 27 N, 4, is greater than permitted\n"
     ]
    },
    {
     "name": "stdout",
     "output_type": "stream",
     "text": [
      "Unable to canonicalize  COc1ccccc1-c1noc(n1)-c1ccc(-c2ccccc2C)c(c1)N(O)=O\n",
      "Unable to canonicalize  COc1ccc(F)cc1-c1noc(n1)-c1ccc(N2CCCCC2C)c(c1)N([O-])=O\n"
     ]
    },
    {
     "name": "stderr",
     "output_type": "stream",
     "text": [
      "[22:10:27] Can't kekulize mol.  Unkekulized atoms: 14 15 16 17 35 36 37 38 39\n",
      "[22:10:27] Can't kekulize mol.  Unkekulized atoms: 29 30 31 33 34\n",
      "[22:10:27] Can't kekulize mol.  Unkekulized atoms: 29 30 31 33 34\n",
      "[22:10:27] Can't kekulize mol.  Unkekulized atoms: 17 18 19\n",
      "[22:10:27] Can't kekulize mol.  Unkekulized atoms: 20 21 22\n"
     ]
    },
    {
     "name": "stdout",
     "output_type": "stream",
     "text": [
      "Unable to canonicalize  CS(=O)(=O)NCCNCc1ccc(o1)-c1cc2c(Nc3ccc(OCc4cccc(F)c4)c(Cl)c3)ncnc2cs1\n",
      "Unable to canonicalize  O=C(Nc1ccccc1-c1nc(Nc2ccc3[nH]ncc3c2)c2ccccc2n1)c1cc[nH]cc1\n",
      "Unable to canonicalize  O=C(Nc1ccccc1-c1nc(Nc2ccc3[nH]ncc3c2)c2ccccc2n1)c1cc[nH]cc1\n",
      "Unable to canonicalize  Cc1cc(CN2CC(O)C2)ccc1C(=O)Cn1ccc(OCc2ccc(Cl)cn2)oc1=O\n",
      "Unable to canonicalize  Cc1cc(CN2CC3CC(C2)C3O)ccc1C(=O)Cn1ccc(OCc2ccc(Cl)cn2)oc1=O\n"
     ]
    },
    {
     "name": "stderr",
     "output_type": "stream",
     "text": [
      "[22:10:28] Explicit valence for atom # 22 N, 4, is greater than permitted\n",
      "[22:10:28] Explicit valence for atom # 21 N, 4, is greater than permitted\n",
      "[22:10:28] Explicit valence for atom # 21 N, 4, is greater than permitted\n"
     ]
    },
    {
     "name": "stdout",
     "output_type": "stream",
     "text": [
      "Unable to canonicalize  Cn1ccc(COc2cc3c(NC([C@@H]4CCCC[C@@H]4C(O)=O)=[N]3Cc3ccc(OC(F)(F)F)cc3F)cc2F)n1\n",
      "Unable to canonicalize  Cc1ccc(COc2ccc3NC([C@@H]4[C@@H](C(O)=O)C4(C)C)=[N](Cc4ccc(Br)cc4)c3c2)nc1\n",
      "Unable to canonicalize  Cc1ccc(COc2ccc3NC(C4[C@@H](C(O)=O)C4(C)C)=[N](Cc4ccc(Br)cc4)c3c2)nc1\n"
     ]
    },
    {
     "name": "stderr",
     "output_type": "stream",
     "text": [
      "[22:10:29] Explicit valence for atom # 8 N, 4, is greater than permitted\n",
      "[22:10:29] Explicit valence for atom # 8 N, 4, is greater than permitted\n",
      "[22:10:29] Explicit valence for atom # 8 N, 4, is greater than permitted\n",
      "[22:10:29] Explicit valence for atom # 8 N, 4, is greater than permitted\n"
     ]
    },
    {
     "name": "stdout",
     "output_type": "stream",
     "text": [
      "Unable to canonicalize  CC1=C2C(N(C(=O)C2=[N](N1)C1CC1)c1cc(C)c(=O)n(C)c1)c1ccc(Cl)cc1\n",
      "Unable to canonicalize  CC1=C2C(N(C(=O)C2=[N](N1)C1CC1)c1cc(C)c(=O)n(C)c1)c1ccc(Cl)cc1\n",
      "Unable to canonicalize  CC1=C2C(N(C(=O)C2=[N](N1)C1CC1)c1cc(C)c(=O)n(C)c1)c1ccc(Cl)cc1\n",
      "Unable to canonicalize  CC1=C2C(N(C(=O)C2=[N](N1)C1CC1)c1cc(C)c(=O)n(C)c1)c1ccc(Cl)cc1\n"
     ]
    },
    {
     "name": "stderr",
     "output_type": "stream",
     "text": [
      "[22:10:29] Can't kekulize mol.  Unkekulized atoms: 3 18 19 20 21 22 23\n"
     ]
    },
    {
     "name": "stdout",
     "output_type": "stream",
     "text": [
      "Unable to canonicalize  Cn1[nH]c(C(=O)NCc2ccc(F)cc2)\\c(=N\\O)c2ncccc12\n"
     ]
    },
    {
     "name": "stderr",
     "output_type": "stream",
     "text": [
      "[22:10:29] Explicit valence for atom # 1 N, 4, is greater than permitted\n",
      "[22:10:29] Explicit valence for atom # 1 N, 4, is greater than permitted\n",
      "[22:10:29] Explicit valence for atom # 0 N, 4, is greater than permitted\n",
      "[22:10:29] Explicit valence for atom # 0 N, 4, is greater than permitted\n"
     ]
    },
    {
     "name": "stdout",
     "output_type": "stream",
     "text": [
      "Unable to canonicalize  ON(=O)c1cccc(N\\N=C2/C(=O)Nc3ccccc23)c1\n",
      "Unable to canonicalize  ON(=O)c1cccc(N\\N=C2/C(=O)Nc3ccc(cc23)S(O)(=O)=O)c1\n",
      "Unable to canonicalize  [H][N]1([H])CCN(CC1)c1ncnc2sc3CCCCc3c12\n",
      "Unable to canonicalize  [H][N]1(C)CCCN(CC1)c1ncnc2sccc12\n"
     ]
    },
    {
     "name": "stderr",
     "output_type": "stream",
     "text": [
      "[22:10:30] Can't kekulize mol.  Unkekulized atoms: 3 4 5 7 8 10 12\n",
      "[22:10:30] Can't kekulize mol.  Unkekulized atoms: 6 7 8 9 10 11 19 20 21\n"
     ]
    },
    {
     "name": "stdout",
     "output_type": "stream",
     "text": [
      "Unable to canonicalize  OC(=O)c1cc(F)cc2[nH]c([nH]c12)-c1ccc(cc1F)-c1ccccc1\n",
      "Unable to canonicalize  C[C@@H](NC(=O)Nc1cc2nnc(-c3cc[n+]([O-])cc3)c2cn1)c1ccccc1\n"
     ]
    },
    {
     "name": "stderr",
     "output_type": "stream",
     "text": [
      "[22:10:30] Explicit valence for atom # 21 N, 4, is greater than permitted\n"
     ]
    },
    {
     "name": "stdout",
     "output_type": "stream",
     "text": [
      "Unable to canonicalize  C[C@H]1CN2[C@@H]([C@@H](C)O1)C1(Cc3cc4c(noc4c(F)c23)C2=[N](C)N=NS2)C(=O)NC(=O)NC1=O\n"
     ]
    },
    {
     "name": "stderr",
     "output_type": "stream",
     "text": [
      "[22:10:32] Explicit valence for atom # 21 N, 4, is greater than permitted\n",
      "[22:10:32] Explicit valence for atom # 13 N, 4, is greater than permitted\n",
      "[22:10:32] Explicit valence for atom # 14 N, 4, is greater than permitted\n"
     ]
    },
    {
     "name": "stdout",
     "output_type": "stream",
     "text": [
      "Unable to canonicalize  O=C(N1CCOCC1)C1=C2CS(=O)(=O)c3ccccc3C2[N](=N1)c1ccccc1\n",
      "Unable to canonicalize  Oc1cc(Cc2cc(O)c(O)cc2N([O-])=O)c(cc1O)N([O-])=O\n",
      "Unable to canonicalize  Oc1ccc(Cc2cc(O)c(O)cc2N([O-])=O)cc1O\n"
     ]
    },
    {
     "name": "stderr",
     "output_type": "stream",
     "text": [
      "[22:10:32] Can't kekulize mol.  Unkekulized atoms: 33 34 36 37 39\n",
      "[22:10:32] Can't kekulize mol.  Unkekulized atoms: 33 34 36 37 39\n",
      "[22:10:32] Can't kekulize mol.  Unkekulized atoms: 33 34 36 37 39\n",
      "[22:10:32] Can't kekulize mol.  Unkekulized atoms: 21 22 24 25 27\n",
      "[22:10:32] Can't kekulize mol.  Unkekulized atoms: 30 31 33 34 36\n",
      "[22:10:32] Can't kekulize mol.  Unkekulized atoms: 18 19 21 22 24\n",
      "[22:10:32] Can't kekulize mol.  Unkekulized atoms: 18 19 21 22 24\n",
      "[22:10:32] Can't kekulize mol.  Unkekulized atoms: 18 19 21 22 24\n",
      "[22:10:32] Can't kekulize mol.  Unkekulized atoms: 18 19 21 22 24\n",
      "[22:10:32] Can't kekulize mol.  Unkekulized atoms: 18 19 21 22 24\n",
      "[22:10:32] Can't kekulize mol.  Unkekulized atoms: 18 19 21 22 24\n",
      "[22:10:32] Can't kekulize mol.  Unkekulized atoms: 1 2 3 5 39\n",
      "[22:10:32] Can't kekulize mol.  Unkekulized atoms: 12 13 15 16 18\n",
      "[22:10:32] Can't kekulize mol.  Unkekulized atoms: 18 19 22 23 25\n",
      "[22:10:32] Can't kekulize mol.  Unkekulized atoms: 19 20 22 23 25\n",
      "[22:10:32] Can't kekulize mol.  Unkekulized atoms: 18 19 21 22 24\n",
      "[22:10:32] Can't kekulize mol.  Unkekulized atoms: 18 19 21 22 24\n",
      "[22:10:32] Can't kekulize mol.  Unkekulized atoms: 18 19 21 22 24\n",
      "[22:10:32] Can't kekulize mol.  Unkekulized atoms: 18 19 21 22 24\n",
      "[22:10:32] Can't kekulize mol.  Unkekulized atoms: 22 23 25 26 28\n",
      "[22:10:32] Can't kekulize mol.  Unkekulized atoms: 21 22 24 25 27\n",
      "[22:10:32] Can't kekulize mol.  Unkekulized atoms: 18 19 21 22 24\n",
      "[22:10:32] Can't kekulize mol.  Unkekulized atoms: 24 25 27 28 30\n",
      "[22:10:32] Can't kekulize mol.  Unkekulized atoms: 19 20 22 23 25\n",
      "[22:10:32] Can't kekulize mol.  Unkekulized atoms: 22 23 25 26 28\n",
      "[22:10:32] Can't kekulize mol.  Unkekulized atoms: 19 20 22 23 25\n",
      "[22:10:32] Can't kekulize mol.  Unkekulized atoms: 18 19 21 22 24\n",
      "[22:10:32] Can't kekulize mol.  Unkekulized atoms: 18 19 21 22 24\n",
      "[22:10:32] Can't kekulize mol.  Unkekulized atoms: 19 20 22 23 25\n",
      "[22:10:32] Can't kekulize mol.  Unkekulized atoms: 18 19 21 22 24\n",
      "[22:10:32] Can't kekulize mol.  Unkekulized atoms: 20 21 23 24 26\n",
      "[22:10:32] Explicit valence for atom # 34 N, 4, is greater than permitted\n",
      "[22:10:32] Can't kekulize mol.  Unkekulized atoms: 1 2 3 5 44\n",
      "[22:10:32] Can't kekulize mol.  Unkekulized atoms: 18 19 21 22 24\n",
      "[22:10:32] Can't kekulize mol.  Unkekulized atoms: 18 19 21 22 24\n",
      "[22:10:32] Can't kekulize mol.  Unkekulized atoms: 21 22 24 25 27\n",
      "[22:10:32] Can't kekulize mol.  Unkekulized atoms: 33 34 36 37 39\n",
      "[22:10:32] Can't kekulize mol.  Unkekulized atoms: 33 34 36 37 39\n",
      "[22:10:32] Can't kekulize mol.  Unkekulized atoms: 33 34 36 37 39\n",
      "[22:10:32] Can't kekulize mol.  Unkekulized atoms: 21 22 24 25 27\n",
      "[22:10:32] Can't kekulize mol.  Unkekulized atoms: 18 19 21 22 24\n",
      "[22:10:32] Can't kekulize mol.  Unkekulized atoms: 18 19 21 22 24\n",
      "[22:10:32] Can't kekulize mol.  Unkekulized atoms: 18 19 21 22 24\n",
      "[22:10:32] Can't kekulize mol.  Unkekulized atoms: 18 19 21 22 24\n",
      "[22:10:32] Can't kekulize mol.  Unkekulized atoms: 18 19 21 22 24\n",
      "[22:10:32] Can't kekulize mol.  Unkekulized atoms: 18 19 21 22 24\n",
      "[22:10:32] Can't kekulize mol.  Unkekulized atoms: 1 2 3 5 39\n",
      "[22:10:32] Can't kekulize mol.  Unkekulized atoms: 12 13 15 16 18\n",
      "[22:10:32] Can't kekulize mol.  Unkekulized atoms: 18 19 22 23 25\n",
      "[22:10:32] Can't kekulize mol.  Unkekulized atoms: 19 20 22 23 25\n",
      "[22:10:32] Can't kekulize mol.  Unkekulized atoms: 18 19 21 22 24\n",
      "[22:10:32] Can't kekulize mol.  Unkekulized atoms: 18 19 21 22 24\n",
      "[22:10:32] Can't kekulize mol.  Unkekulized atoms: 18 19 21 22 24\n",
      "[22:10:32] Can't kekulize mol.  Unkekulized atoms: 18 19 21 22 24\n",
      "[22:10:32] Can't kekulize mol.  Unkekulized atoms: 22 23 25 26 28\n",
      "[22:10:32] Can't kekulize mol.  Unkekulized atoms: 21 22 24 25 27\n",
      "[22:10:32] Can't kekulize mol.  Unkekulized atoms: 18 19 21 22 24\n",
      "[22:10:32] Can't kekulize mol.  Unkekulized atoms: 24 25 27 28 30\n",
      "[22:10:32] Can't kekulize mol.  Unkekulized atoms: 19 20 22 23 25\n",
      "[22:10:32] Can't kekulize mol.  Unkekulized atoms: 22 23 25 26 28\n",
      "[22:10:32] Can't kekulize mol.  Unkekulized atoms: 19 20 22 23 25\n",
      "[22:10:32] Can't kekulize mol.  Unkekulized atoms: 18 19 21 22 24\n",
      "[22:10:32] Can't kekulize mol.  Unkekulized atoms: 18 19 21 22 24\n",
      "[22:10:32] Can't kekulize mol.  Unkekulized atoms: 19 20 22 23 25\n",
      "[22:10:32] Can't kekulize mol.  Unkekulized atoms: 18 19 21 22 24\n",
      "[22:10:32] Can't kekulize mol.  Unkekulized atoms: 20 21 23 24 26\n",
      "[22:10:32] Explicit valence for atom # 34 N, 4, is greater than permitted\n",
      "[22:10:32] Can't kekulize mol.  Unkekulized atoms: 18 19 21 22 24\n",
      "[22:10:32] Can't kekulize mol.  Unkekulized atoms: 18 19 21 22 24\n",
      "[22:10:32] Can't kekulize mol.  Unkekulized atoms: 21 22 24 25 27\n"
     ]
    },
    {
     "name": "stdout",
     "output_type": "stream",
     "text": [
      "Unable to canonicalize  CN(C)Cc1ccc(cc1)-c1cc(N(C)[C@H]2CC[C@@H](CC2)NC(C)=O)c(C)c(c1)C(=O)NCc1c(C)cc(C)nc1=O\n",
      "Unable to canonicalize  CN(C)Cc1ccc(cc1)-c1cc(N(C)[C@@H]2CC[C@@H](CC2)NC(C)=O)c(C)c(c1)C(=O)NCc1c(C)cc(C)nc1=O\n",
      "Unable to canonicalize  CN(C)Cc1ccc(cn1)-c1cc(N(C)[C@@H]2CC[C@@H](CC2)NC(C)=O)c(C)c(c1)C(=O)NCc1c(C)cc(C)nc1=O\n",
      "Unable to canonicalize  CN([C@@H]1CC[C@@H](CC1)NC(C)=O)c1cc(cc(C(=O)NCc2c(C)cc(C)nc2=O)c1C)-c1ccc(CO)nc1\n",
      "Unable to canonicalize  CN(C)Cc1ccc(cc1)-c1cc(N(C)[C@H]2CC[C@H](N)CC2)c(C)c(c1)C(=O)NCc1c(C)cc(C)nc1=O\n",
      "Unable to canonicalize  CCN(C1CCOCC1)c1cc(cc(C(=O)NCc2c(C)cc(C)nc2=O)c1C)-c1cnn(C)c1\n",
      "Unable to canonicalize  CCN(C1CCOCC1)c1cc(cc(C(=O)NCc2c(C)cc(C)nc2=O)c1C)-c1ccc(CN(C)C)nc1\n",
      "Unable to canonicalize  CCN(C1CCOCC1)c1cc(cc(C(=O)NCc2c(C)cc(C)nc2=O)c1C)-c1ccc(CN2CCN(C)CC2)nc1\n",
      "Unable to canonicalize  CCN(C1CCOCC1)c1cc(cc(C(=O)NCc2c(C)cc(C)nc2=O)c1C)-c1ccc(C)cc1\n",
      "Unable to canonicalize  CCN(C1CCOCC1)c1cc(cc(C(=O)NCc2c(C)cc(C)nc2=O)c1C)-c1cccc(CN2CCOCC2)c1\n",
      "Unable to canonicalize  CCN(C1CCOCC1)c1cc(cc(C(=O)NCc2c(C)cc(C)nc2=O)c1C)-c1ccc(CN2CC(CN3CCOCC3)C2)cc1\n",
      "Unable to canonicalize  Cc1cc(C)c(CNC(=O)c2cc(cc(NC3CCOCC3)c2C)-c2ccc(CN3CCOCC3)cc2)c(=O)n1\n",
      "Unable to canonicalize  CCNc1cc(cc(C(=O)NCc2c(C)cc(C)nc2=O)c1C)-c1ccc(CN2CCOCC2)cc1\n",
      "Unable to canonicalize  CCN(C1CCOCC1)c1cc(cc(C(=O)NCc2c(CO)cc(C)nc2=O)c1C)-c1ccc(CN2CCOCC2)cc1\n",
      "Unable to canonicalize  CC(=O)N(C1CCOCC1)c1cc(cc(C(=O)NCc2c(C)cc(C)nc2=O)c1C)-c1ccc(CN2CCOCC2)cc1\n",
      "Unable to canonicalize  CCN(C1CCOCC1)c1cc(cc(C(=O)NCc2c(C)cc(C)nc2=O)c1C)-c1ccc(CN2CCOCC2)c(F)c1\n",
      "Unable to canonicalize  CCN(C1CCOCC1)c1cc(cc(C(=O)NCc2c(C)cc(C)nc2=O)c1C)-c1ccc(CN2CCOCC2)cc1F\n",
      "Unable to canonicalize  CCN(C1CCOCC1)c1cc(cc(C(=O)NCc2c(C)cc(C)nc2=O)c1C)-c1ccc(CN2CCOCC2)cc1C\n",
      "Unable to canonicalize  CCN(C1CCOCC1)c1cc(cc(C(=O)NCc2c(C)cc(C)nc2=O)c1C)-c1ccc(cc1)C(=O)N1CCOCC1\n",
      "Unable to canonicalize  CCN(C1CCN(CC1)S(C)(=O)=O)c1cc(cc(C(=O)NCc2c(C)cc(C)nc2=O)c1C)-c1ccc(CN2CCOCC2)cc1\n",
      "Unable to canonicalize  CCN(C1CCN(CC1)C(C)=O)c1cc(cc(C(=O)NCc2c(C)cc(C)nc2=O)c1C)-c1ccc(CN2CCOCC2)cc1\n",
      "Unable to canonicalize  CCN(C1CCNCC1)c1cc(cc(C(=O)NCc2c(C)cc(C)nc2=O)c1C)-c1ccc(CN2CCOCC2)cc1\n",
      "Unable to canonicalize  CCN(C1CCN(CC1)C(=O)C(C)(C)C)c1cc(cc(C(=O)NCc2c(C)cc(C)nc2=O)c1C)-c1ccc(CN2CCOCC2)cc1\n",
      "Unable to canonicalize  CCN([C@H]1CC[C@H](N)CC1)c1cc(cc(C(=O)NCc2c(C)cc(C)nc2=O)c1C)-c1ccc(CN2CCOCC2)cc1\n",
      "Unable to canonicalize  CCN([C@H]1CC[C@@H](CC1)NC(C)=O)c1cc(cc(C(=O)NCc2c(C)cc(C)nc2=O)c1C)-c1ccc(CN2CCOCC2)cc1\n",
      "Unable to canonicalize  CCN(C1CCOCC1)c1cc(c(F)c(C(=O)NCc2c(C)cc(C)nc2=O)c1C)-c1ccc(CN2CCOCC2)cc1\n",
      "Unable to canonicalize  CCN(C1CCOCC1)c1cc(cc(C(=O)NCc2c(C)cc(C)nc2=O)c1C)-c1ccc(CN2CCOCC2=O)cc1\n",
      "Unable to canonicalize  CCN(C1CCSCC1)c1cc(cc(C(=O)NCc2c(C)cc(C)nc2=O)c1C)-c1ccc(CN2CCOCC2)cc1\n",
      "Unable to canonicalize  CCN(C1CCS(=O)CC1)c1cc(cc(C(=O)NCc2c(C)cc(C)nc2=O)c1C)-c1ccc(CN2CCOCC2)cc1\n",
      "Unable to canonicalize  CCN(C1CCOCC1)c1cc(cc(C(=O)NCc2c(C)cc(C)nc2=O)c1C)-c1ccc(CN2CCOCC2)c(C)c1\n",
      "Unable to canonicalize  CCN(C1CCS(=O)(=O)CC1)c1cc(cc(C(=O)NCc2c(C)cc(C)nc2=O)c1C)-c1ccc(CN2CCOCC2)cc1\n",
      "Unable to canonicalize  CCN(C1CCOCC1)c1cc(cc(C(=O)NCc2c(C)cc(C)[nH]c2=O)c1C)-c1ccc(C[N]2(O)CCOCC2)cc1\n",
      "Unable to canonicalize  Cc1cc(C)c(CNC(=O)c2cc(cc(N(CC(F)(F)F)C3CCOCC3)c2C)-c2ccc(CN3CCOCC3)cc2)c(=O)n1\n",
      "Unable to canonicalize  CCN(C1CCOCC1)c1cc(cc(C(=O)NCc2c(C)cc(C)nc2=O)c1CC)-c1ccc(CN2CCOCC2)cc1\n",
      "Unable to canonicalize  CCN(C1CCOCC1)c1cc(cc(C(=O)NCc2c(C)cc(C)nc2=O)c1C)-c1ccc(CN2CCOCC2)c(c1)C#N\n",
      "Unable to canonicalize  CCN([C@H]1CC[C@@H](CC1)N(C)C)c1cc(cc(C(=O)NCc2c(C)cc(C)nc2=O)c1C)-c1ccc(CN2CCOCC2)cc1\n",
      "Unable to canonicalize  CN(C)Cc1ccc(cc1)-c1cc(N(C)[C@H]2CC[C@@H](CC2)NC(C)=O)c(C)c(c1)C(=O)NCc1c(C)cc(C)nc1=O\n",
      "Unable to canonicalize  CN(C)Cc1ccc(cc1)-c1cc(N(C)[C@@H]2CC[C@@H](CC2)NC(C)=O)c(C)c(c1)C(=O)NCc1c(C)cc(C)nc1=O\n",
      "Unable to canonicalize  CN(C)Cc1ccc(cn1)-c1cc(N(C)[C@@H]2CC[C@@H](CC2)NC(C)=O)c(C)c(c1)C(=O)NCc1c(C)cc(C)nc1=O\n",
      "Unable to canonicalize  CN([C@@H]1CC[C@@H](CC1)NC(C)=O)c1cc(cc(C(=O)NCc2c(C)cc(C)nc2=O)c1C)-c1ccc(CO)nc1\n",
      "Unable to canonicalize  CCN(C1CCOCC1)c1cc(cc(C(=O)NCc2c(C)cc(C)nc2=O)c1C)-c1cnn(C)c1\n",
      "Unable to canonicalize  CCN(C1CCOCC1)c1cc(cc(C(=O)NCc2c(C)cc(C)nc2=O)c1C)-c1ccc(CN(C)C)nc1\n",
      "Unable to canonicalize  CCN(C1CCOCC1)c1cc(cc(C(=O)NCc2c(C)cc(C)nc2=O)c1C)-c1ccc(CN2CCN(C)CC2)nc1\n",
      "Unable to canonicalize  CCN(C1CCOCC1)c1cc(cc(C(=O)NCc2c(C)cc(C)nc2=O)c1C)-c1ccc(C)cc1\n",
      "Unable to canonicalize  CCN(C1CCOCC1)c1cc(cc(C(=O)NCc2c(C)cc(C)nc2=O)c1C)-c1cccc(CN2CCOCC2)c1\n",
      "Unable to canonicalize  CCN(C1CCOCC1)c1cc(cc(C(=O)NCc2c(C)cc(C)nc2=O)c1C)-c1ccc(CN2CC(CN3CCOCC3)C2)cc1\n",
      "Unable to canonicalize  Cc1cc(C)c(CNC(=O)c2cc(cc(NC3CCOCC3)c2C)-c2ccc(CN3CCOCC3)cc2)c(=O)n1\n",
      "Unable to canonicalize  CCNc1cc(cc(C(=O)NCc2c(C)cc(C)nc2=O)c1C)-c1ccc(CN2CCOCC2)cc1\n",
      "Unable to canonicalize  CCN(C1CCOCC1)c1cc(cc(C(=O)NCc2c(CO)cc(C)nc2=O)c1C)-c1ccc(CN2CCOCC2)cc1\n",
      "Unable to canonicalize  CC(=O)N(C1CCOCC1)c1cc(cc(C(=O)NCc2c(C)cc(C)nc2=O)c1C)-c1ccc(CN2CCOCC2)cc1\n",
      "Unable to canonicalize  CCN(C1CCOCC1)c1cc(cc(C(=O)NCc2c(C)cc(C)nc2=O)c1C)-c1ccc(CN2CCOCC2)c(F)c1\n",
      "Unable to canonicalize  CCN(C1CCOCC1)c1cc(cc(C(=O)NCc2c(C)cc(C)nc2=O)c1C)-c1ccc(CN2CCOCC2)cc1F\n",
      "Unable to canonicalize  CCN(C1CCOCC1)c1cc(cc(C(=O)NCc2c(C)cc(C)nc2=O)c1C)-c1ccc(CN2CCOCC2)cc1C\n",
      "Unable to canonicalize  CCN(C1CCOCC1)c1cc(cc(C(=O)NCc2c(C)cc(C)nc2=O)c1C)-c1ccc(cc1)C(=O)N1CCOCC1\n",
      "Unable to canonicalize  CCN(C1CCN(CC1)S(C)(=O)=O)c1cc(cc(C(=O)NCc2c(C)cc(C)nc2=O)c1C)-c1ccc(CN2CCOCC2)cc1\n",
      "Unable to canonicalize  CCN(C1CCN(CC1)C(C)=O)c1cc(cc(C(=O)NCc2c(C)cc(C)nc2=O)c1C)-c1ccc(CN2CCOCC2)cc1\n",
      "Unable to canonicalize  CCN(C1CCNCC1)c1cc(cc(C(=O)NCc2c(C)cc(C)nc2=O)c1C)-c1ccc(CN2CCOCC2)cc1\n",
      "Unable to canonicalize  CCN(C1CCN(CC1)C(=O)C(C)(C)C)c1cc(cc(C(=O)NCc2c(C)cc(C)nc2=O)c1C)-c1ccc(CN2CCOCC2)cc1\n",
      "Unable to canonicalize  CCN([C@H]1CC[C@H](N)CC1)c1cc(cc(C(=O)NCc2c(C)cc(C)nc2=O)c1C)-c1ccc(CN2CCOCC2)cc1\n",
      "Unable to canonicalize  CCN([C@H]1CC[C@@H](CC1)NC(C)=O)c1cc(cc(C(=O)NCc2c(C)cc(C)nc2=O)c1C)-c1ccc(CN2CCOCC2)cc1\n",
      "Unable to canonicalize  CCN(C1CCOCC1)c1cc(c(F)c(C(=O)NCc2c(C)cc(C)nc2=O)c1C)-c1ccc(CN2CCOCC2)cc1\n",
      "Unable to canonicalize  CCN(C1CCOCC1)c1cc(cc(C(=O)NCc2c(C)cc(C)nc2=O)c1C)-c1ccc(CN2CCOCC2=O)cc1\n",
      "Unable to canonicalize  CCN(C1CCSCC1)c1cc(cc(C(=O)NCc2c(C)cc(C)nc2=O)c1C)-c1ccc(CN2CCOCC2)cc1\n",
      "Unable to canonicalize  CCN(C1CCS(=O)CC1)c1cc(cc(C(=O)NCc2c(C)cc(C)nc2=O)c1C)-c1ccc(CN2CCOCC2)cc1\n",
      "Unable to canonicalize  CCN(C1CCOCC1)c1cc(cc(C(=O)NCc2c(C)cc(C)nc2=O)c1C)-c1ccc(CN2CCOCC2)c(C)c1\n",
      "Unable to canonicalize  CCN(C1CCS(=O)(=O)CC1)c1cc(cc(C(=O)NCc2c(C)cc(C)nc2=O)c1C)-c1ccc(CN2CCOCC2)cc1\n",
      "Unable to canonicalize  CCN(C1CCOCC1)c1cc(cc(C(=O)NCc2c(C)cc(C)[nH]c2=O)c1C)-c1ccc(C[N]2(O)CCOCC2)cc1\n",
      "Unable to canonicalize  CCN(C1CCOCC1)c1cc(cc(C(=O)NCc2c(C)cc(C)nc2=O)c1CC)-c1ccc(CN2CCOCC2)cc1\n",
      "Unable to canonicalize  CCN(C1CCOCC1)c1cc(cc(C(=O)NCc2c(C)cc(C)nc2=O)c1C)-c1ccc(CN2CCOCC2)c(c1)C#N\n",
      "Unable to canonicalize  CCN([C@H]1CC[C@@H](CC1)N(C)C)c1cc(cc(C(=O)NCc2c(C)cc(C)nc2=O)c1C)-c1ccc(CN2CCOCC2)cc1\n"
     ]
    },
    {
     "name": "stderr",
     "output_type": "stream",
     "text": [
      "[22:10:33] Explicit valence for atom # 27 N, 4, is greater than permitted\n",
      "[22:10:33] Explicit valence for atom # 32 N, 4, is greater than permitted\n",
      "[22:10:33] Explicit valence for atom # 27 N, 4, is greater than permitted\n",
      "[22:10:33] Explicit valence for atom # 32 N, 4, is greater than permitted\n",
      "[22:10:33] Explicit valence for atom # 27 N, 4, is greater than permitted\n",
      "[22:10:33] Explicit valence for atom # 32 N, 4, is greater than permitted\n",
      "[22:10:33] Explicit valence for atom # 27 N, 4, is greater than permitted\n",
      "[22:10:33] Explicit valence for atom # 32 N, 4, is greater than permitted\n",
      "[22:10:33] Explicit valence for atom # 21 N, 4, is greater than permitted\n",
      "[22:10:33] Explicit valence for atom # 21 N, 4, is greater than permitted\n",
      "[22:10:33] Explicit valence for atom # 21 N, 4, is greater than permitted\n",
      "[22:10:33] Explicit valence for atom # 31 N, 4, is greater than permitted\n",
      "[22:10:33] Explicit valence for atom # 33 N, 4, is greater than permitted\n",
      "[22:10:33] Explicit valence for atom # 31 N, 4, is greater than permitted\n",
      "[22:10:33] Explicit valence for atom # 30 N, 4, is greater than permitted\n",
      "[22:10:33] Explicit valence for atom # 24 N, 4, is greater than permitted\n",
      "[22:10:33] Explicit valence for atom # 21 N, 4, is greater than permitted\n",
      "[22:10:33] Explicit valence for atom # 21 N, 4, is greater than permitted\n",
      "[22:10:33] Explicit valence for atom # 29 N, 4, is greater than permitted\n",
      "[22:10:33] Explicit valence for atom # 21 N, 4, is greater than permitted\n",
      "[22:10:33] Explicit valence for atom # 21 N, 4, is greater than permitted\n",
      "[22:10:33] Explicit valence for atom # 29 N, 4, is greater than permitted\n",
      "[22:10:33] Explicit valence for atom # 31 N, 4, is greater than permitted\n",
      "[22:10:33] Explicit valence for atom # 31 N, 4, is greater than permitted\n",
      "[22:10:33] Explicit valence for atom # 31 N, 4, is greater than permitted\n",
      "[22:10:33] Explicit valence for atom # 31 N, 4, is greater than permitted\n",
      "[22:10:33] Explicit valence for atom # 21 N, 4, is greater than permitted\n",
      "[22:10:33] Explicit valence for atom # 21 N, 4, is greater than permitted\n",
      "[22:10:33] Explicit valence for atom # 21 N, 4, is greater than permitted\n",
      "[22:10:33] Explicit valence for atom # 21 N, 4, is greater than permitted\n",
      "[22:10:33] Explicit valence for atom # 31 N, 4, is greater than permitted\n",
      "[22:10:33] Explicit valence for atom # 33 N, 4, is greater than permitted\n",
      "[22:10:33] Explicit valence for atom # 31 N, 4, is greater than permitted\n",
      "[22:10:33] Explicit valence for atom # 30 N, 4, is greater than permitted\n",
      "[22:10:33] Explicit valence for atom # 24 N, 4, is greater than permitted\n",
      "[22:10:33] Explicit valence for atom # 21 N, 4, is greater than permitted\n",
      "[22:10:33] Explicit valence for atom # 21 N, 4, is greater than permitted\n",
      "[22:10:33] Explicit valence for atom # 29 N, 4, is greater than permitted\n",
      "[22:10:33] Explicit valence for atom # 21 N, 4, is greater than permitted\n",
      "[22:10:33] Explicit valence for atom # 21 N, 4, is greater than permitted\n",
      "[22:10:33] Explicit valence for atom # 31 N, 4, is greater than permitted\n",
      "[22:10:33] Explicit valence for atom # 29 N, 4, is greater than permitted\n",
      "[22:10:33] Explicit valence for atom # 31 N, 4, is greater than permitted\n",
      "[22:10:33] Explicit valence for atom # 31 N, 4, is greater than permitted\n",
      "[22:10:33] Explicit valence for atom # 21 N, 4, is greater than permitted\n",
      "[22:10:33] Explicit valence for atom # 31 N, 4, is greater than permitted\n",
      "[22:10:33] Explicit valence for atom # 31 N, 4, is greater than permitted\n",
      "[22:10:33] Explicit valence for atom # 31 N, 4, is greater than permitted\n",
      "[22:10:33] Explicit valence for atom # 31 N, 4, is greater than permitted\n",
      "[22:10:33] Explicit valence for atom # 21 N, 4, is greater than permitted\n",
      "[22:10:33] Explicit valence for atom # 21 N, 4, is greater than permitted\n",
      "[22:10:33] Explicit valence for atom # 21 N, 4, is greater than permitted\n",
      "[22:10:33] Explicit valence for atom # 21 N, 4, is greater than permitted\n",
      "[22:10:33] Explicit valence for atom # 31 N, 4, is greater than permitted\n",
      "[22:10:33] Explicit valence for atom # 33 N, 4, is greater than permitted\n",
      "[22:10:33] Explicit valence for atom # 31 N, 4, is greater than permitted\n",
      "[22:10:33] Explicit valence for atom # 30 N, 4, is greater than permitted\n",
      "[22:10:33] Explicit valence for atom # 24 N, 4, is greater than permitted\n",
      "[22:10:33] Explicit valence for atom # 29 N, 4, is greater than permitted\n",
      "[22:10:33] Explicit valence for atom # 29 N, 4, is greater than permitted\n",
      "[22:10:33] Explicit valence for atom # 21 N, 4, is greater than permitted\n",
      "[22:10:33] Explicit valence for atom # 21 N, 4, is greater than permitted\n",
      "[22:10:33] Explicit valence for atom # 21 N, 4, is greater than permitted\n",
      "[22:10:33] Explicit valence for atom # 21 N, 4, is greater than permitted\n",
      "[22:10:33] Explicit valence for atom # 31 N, 4, is greater than permitted\n",
      "[22:10:33] Explicit valence for atom # 33 N, 4, is greater than permitted\n",
      "[22:10:33] Explicit valence for atom # 31 N, 4, is greater than permitted\n",
      "[22:10:33] Explicit valence for atom # 24 N, 4, is greater than permitted\n"
     ]
    },
    {
     "name": "stdout",
     "output_type": "stream",
     "text": [
      "Unable to canonicalize  CC(C)n1c(Nc2ccccc2)nc2cnc(Nc3ccc(cc3)C(=O)N[N]3=CCN(C)CC3)nc12\n",
      "Unable to canonicalize  CC(C)n1c(Nc2cccc(NC(C)=O)c2)nc2cnc(Nc3ccc(cc3F)C(=O)N[N]3=CCN(C)CC3)nc12\n",
      "Unable to canonicalize  CC(C)n1c(Nc2ccccc2)nc2cnc(Nc3ccc(cc3)C(=O)N[N]3=CCN(C)CC3)nc12\n",
      "Unable to canonicalize  CC(C)n1c(Nc2cccc(NC(C)=O)c2)nc2cnc(Nc3ccc(cc3F)C(=O)N[N]3=CCN(C)CC3)nc12\n",
      "Unable to canonicalize  CC(C)n1c(Nc2ccccc2)nc2cnc(Nc3ccc(cc3)C(=O)N[N]3=CCN(C)CC3)nc12\n",
      "Unable to canonicalize  CC(C)n1c(Nc2cccc(NC(C)=O)c2)nc2cnc(Nc3ccc(cc3F)C(=O)N[N]3=CCN(C)CC3)nc12\n",
      "Unable to canonicalize  CC(C)n1c(Nc2ccccc2)nc2cnc(Nc3ccc(cc3)C(=O)N[N]3=CCN(C)CC3)nc12\n",
      "Unable to canonicalize  CC(C)n1c(Nc2cccc(NC(C)=O)c2)nc2cnc(Nc3ccc(cc3F)C(=O)N[N]3=CCN(C)CC3)nc12\n",
      "Unable to canonicalize  COc1ccc2C[C@@H]3[C@]45CC[C@](OC)([C@@H]6Oc1c2[C@]46CC[N]3(C)CC1CC1)[C@@H](COCc1ccc(Cl)c(Cl)c1)C5\n",
      "Unable to canonicalize  COc1ccc2C[C@@H]3[C@]45CC[C@](OC)([C@@H]6Oc1c2[C@]46CC[N]3(C)CC1CC1)[C@@H](COCc1cc2OCOc2cc1Cl)C5\n",
      "Unable to canonicalize  COc1ccc2C[C@@H]3[C@]45CC[C@](OC)([C@@H]6Oc1c2[C@]46CC[N]3(C)CC1CC1)[C@@H](COCc1ccc(C)cc1)C5\n",
      "Unable to canonicalize  CO[C@]12CC[C@@]3(C[C@@H]1COCc1ccc(F)cc1)[C@H]1Cc4ccc(O)c5O[C@@H]2[C@]3(CC[N]1(C)CC1CC1)c45\n",
      "Unable to canonicalize  CO[C@]12CC[C@@]3(C[C@@H]1COCc1cc4ccccc4s1)[C@H]1Cc4ccc(O)c5O[C@@H]2[C@]3(CC[N]1(C)CC1CC1)c45\n",
      "Unable to canonicalize  CO[C@]12CC[C@@]3(C[C@@H]1COCc1ccc(C)cc1)[C@H]1Cc4ccc(O)c5O[C@@H]2[C@]3(CC[N]1(C)CC1CC1)c45\n",
      "Unable to canonicalize  CO[C@]12CC[C@@]3(C[C@@H]1COCc1ccccc1)[C@H]1Cc4ccc(O)c5O[C@@H]2[C@]3(CC[N]1(C)CC1CC1)c45\n",
      "Unable to canonicalize  COc1ccc(COC[C@H]2C[C@]34CC[C@]2(OC)[C@@H]2Oc5c6c(C[C@H]3[N](C)(CC3CC3)CC[C@@]426)ccc5OC)cc1\n",
      "Unable to canonicalize  COc1ccc2C[C@@H]3[C@]45CC[C@](OC)([C@@H]6Oc1c2[C@]46CC[N]3(C)CC1CC1)[C@@H](COc1ccccc1)C5\n",
      "Unable to canonicalize  COc1ccc2C[C@@H]3[C@]45CC[C@](OC)([C@@H]6Oc1c2[C@]46CC[N]3(C)CC1CC1)[C@@H](COCc1ccoc1)C5\n",
      "Unable to canonicalize  CO[C@]12CC[C@@]3(C[C@@H]1COCc1ccoc1)[C@H]1Cc4ccc(O)c5O[C@@H]2[C@]3(CC[N]1(C)CC1CC1)c45\n",
      "Unable to canonicalize  COc1ccc2C[C@@H]3[C@]45CC[C@](OC)([C@@H]6Oc1c2[C@]46CC[N]3(C)CC1CC1)[C@@H](COCc1cc2ccccc2o1)C5\n",
      "Unable to canonicalize  COc1ccc2C[C@@H]3[C@]45CC[C@](OC)([C@@H]6Oc1c2[C@]46CC[N]3(C)CC1CC1)[C@@H](COCc1ccc2ccccc2c1)C5\n",
      "Unable to canonicalize  CO[C@]12CC[C@@]3(C[C@@H]1COCc1ccsc1)[C@H]1Cc4ccc(O)c5O[C@@H]2[C@]3(CC[N]1(C)CC1CC1)c45\n",
      "Unable to canonicalize  CO[C@]12CC[C@@]3(C[C@@H]1COCc1ccccc1F)[C@H]1Cc4ccc(O)c5O[C@@H]2[C@]3(CC[N]1(C)CC1CC1)c45\n",
      "Unable to canonicalize  CO[C@]12CC[C@@]3(C[C@@H]1COCc1cccc(C)c1)[C@H]1Cc4ccc(O)c5O[C@@H]2[C@]3(CC[N]1(C)CC1CC1)c45\n",
      "Unable to canonicalize  CO[C@]12CC[C@@]3(C[C@@H]1COCc1cccc(F)c1)[C@H]1Cc4ccc(O)c5O[C@@H]2[C@]3(CC[N]1(C)CC1CC1)c45\n",
      "Unable to canonicalize  CO[C@]12CC[C@@]3(C[C@@H]1COCc1cccc(Cl)c1)[C@H]1Cc4ccc(O)c5O[C@@H]2[C@]3(CC[N]1(C)CC1CC1)c45\n",
      "Unable to canonicalize  COc1ccc2C[C@@H]3[C@]45CC[C@](OC)([C@@H]6Oc1c2[C@]46CC[N]3(C)CC1CC1)[C@@H](COCc1ccco1)C5\n",
      "Unable to canonicalize  COc1ccc2C[C@@H]3[C@]45CC[C@](OC)([C@@H]6Oc1c2[C@]46CC[N]3(C)CC1CC1)[C@@H](COCc1ccc(Cl)c(Cl)c1)C5\n",
      "Unable to canonicalize  COc1ccc2C[C@@H]3[C@]45CC[C@](OC)([C@@H]6Oc1c2[C@]46CC[N]3(C)CC1CC1)[C@@H](COCc1cc2OCOc2cc1Cl)C5\n",
      "Unable to canonicalize  COc1ccc2C[C@@H]3[C@]45CC[C@](OC)([C@@H]6Oc1c2[C@]46CC[N]3(C)CC1CC1)[C@@H](COCc1ccc(C)cc1)C5\n",
      "Unable to canonicalize  CO[C@]12CC[C@@]3(C[C@@H]1COCc1ccc(F)cc1)[C@H]1Cc4ccc(O)c5O[C@@H]2[C@]3(CC[N]1(C)CC1CC1)c45\n",
      "Unable to canonicalize  CO[C@]12CC[C@@]3(C[C@@H]1COCc1cc4ccccc4s1)[C@H]1Cc4ccc(O)c5O[C@@H]2[C@]3(CC[N]1(C)CC1CC1)c45\n",
      "Unable to canonicalize  CO[C@]12CC[C@@]3(C[C@@H]1COCc1ccc(C)cc1)[C@H]1Cc4ccc(O)c5O[C@@H]2[C@]3(CC[N]1(C)CC1CC1)c45\n",
      "Unable to canonicalize  CO[C@]12CC[C@@]3(C[C@@H]1COCc1ccccc1)[C@H]1Cc4ccc(O)c5O[C@@H]2[C@]3(CC[N]1(C)CC1CC1)c45\n",
      "Unable to canonicalize  COc1ccc(COC[C@H]2C[C@]34CC[C@]2(OC)[C@@H]2Oc5c6c(C[C@H]3[N](C)(CC3CC3)CC[C@@]426)ccc5OC)cc1\n",
      "Unable to canonicalize  COc1ccc2C[C@@H]3[C@]45CC[C@](OC)([C@@H]6Oc1c2[C@]46CC[N]3(C)CC1CC1)[C@@H](COc1ccccc1)C5\n",
      "Unable to canonicalize  COc1ccc2C[C@@H]3[C@]45CC[C@](OC)([C@@H]6Oc1c2[C@]46CC[N]3(C)CC1CC1)[C@@H](COCc1ccoc1)C5\n",
      "Unable to canonicalize  CO[C@]12CC[C@@]3(C[C@@H]1COCc1ccoc1)[C@H]1Cc4ccc(O)c5O[C@@H]2[C@]3(CC[N]1(C)CC1CC1)c45\n",
      "Unable to canonicalize  COc1ccc2C[C@@H]3[C@]45CC[C@](OC)([C@@H]6Oc1c2[C@]46CC[N]3(C)CC1CC1)[C@@H](COCc1cc2ccccc2o1)C5\n",
      "Unable to canonicalize  COc1ccc2C[C@@H]3[C@]45CC[C@](OC)([C@@H]6Oc1c2[C@]46CC[N]3(C)CC1CC1)[C@@H](COCc1ccc2ccccc2c1)C5\n",
      "Unable to canonicalize  CO[C@]12CC[C@@]3(C[C@@H]1COCc1ccc(Cl)cc1)[C@H]1Cc4ccc(O)c5O[C@@H]2[C@]3(CC[N]1(C)CC1CC1)c45\n",
      "Unable to canonicalize  CO[C@]12CC[C@@]3(C[C@@H]1COCc1ccsc1)[C@H]1Cc4ccc(O)c5O[C@@H]2[C@]3(CC[N]1(C)CC1CC1)c45\n",
      "Unable to canonicalize  CO[C@]12CC[C@@]3(C[C@@H]1COCc1ccccc1F)[C@H]1Cc4ccc(O)c5O[C@@H]2[C@]3(CC[N]1(C)CC1CC1)c45\n",
      "Unable to canonicalize  CO[C@]12CC[C@@]3(C[C@@H]1COCc1cccc(C)c1)[C@H]1Cc4ccc(O)c5O[C@@H]2[C@]3(CC[N]1(C)CC1CC1)c45\n",
      "Unable to canonicalize  COc1ccc2C[C@@H]3[C@]45CC[C@](OC)([C@@H]6Oc1c2[C@]46CC[N]3(C)CC1CC1)[C@@H](COCc1ccc(cc1)C(N)=O)C5\n",
      "Unable to canonicalize  CO[C@]12CC[C@@]3(C[C@@H]1COCc1cccc(F)c1)[C@H]1Cc4ccc(O)c5O[C@@H]2[C@]3(CC[N]1(C)CC1CC1)c45\n",
      "Unable to canonicalize  CO[C@]12CC[C@@]3(C[C@@H]1COCc1cccc(Cl)c1)[C@H]1Cc4ccc(O)c5O[C@@H]2[C@]3(CC[N]1(C)CC1CC1)c45\n",
      "Unable to canonicalize  CO[C@]12CC[C@@]3(C[C@@H]1COCc1ccccc1Cl)[C@H]1Cc4ccc(O)c5O[C@@H]2[C@]3(CC[N]1(C)CC1CC1)c45\n",
      "Unable to canonicalize  CO[C@]12CC[C@@]3(C[C@@H]1COCc1ccccc1C)[C@H]1Cc4ccc(O)c5O[C@@H]2[C@]3(CC[N]1(C)CC1CC1)c45\n",
      "Unable to canonicalize  COc1ccc2C[C@@H]3[C@]45CC[C@](OC)([C@@H]6Oc1c2[C@]46CC[N]3(C)CC1CC1)[C@@H](COCc1ccco1)C5\n",
      "Unable to canonicalize  COc1ccc2C[C@@H]3[C@]45CC[C@](OC)([C@@H]6Oc1c2[C@]46CC[N]3(C)CC1CC1)[C@@H](COCc1ccc(Cl)c(Cl)c1)C5\n",
      "Unable to canonicalize  COc1ccc2C[C@@H]3[C@]45CC[C@](OC)([C@@H]6Oc1c2[C@]46CC[N]3(C)CC1CC1)[C@@H](COCc1cc2OCOc2cc1Cl)C5\n",
      "Unable to canonicalize  COc1ccc2C[C@@H]3[C@]45CC[C@](OC)([C@@H]6Oc1c2[C@]46CC[N]3(C)CC1CC1)[C@@H](COCc1ccc(C)cc1)C5\n",
      "Unable to canonicalize  CO[C@]12CC[C@@]3(C[C@@H]1COCc1ccc(F)cc1)[C@H]1Cc4ccc(O)c5O[C@@H]2[C@]3(CC[N]1(C)CC1CC1)c45\n",
      "Unable to canonicalize  CO[C@]12CC[C@@]3(C[C@@H]1COCc1cc4ccccc4s1)[C@H]1Cc4ccc(O)c5O[C@@H]2[C@]3(CC[N]1(C)CC1CC1)c45\n",
      "Unable to canonicalize  CO[C@]12CC[C@@]3(C[C@@H]1COCc1ccc(C)cc1)[C@H]1Cc4ccc(O)c5O[C@@H]2[C@]3(CC[N]1(C)CC1CC1)c45\n",
      "Unable to canonicalize  CO[C@]12CC[C@@]3(C[C@@H]1COCc1ccccc1)[C@H]1Cc4ccc(O)c5O[C@@H]2[C@]3(CC[N]1(C)CC1CC1)c45\n",
      "Unable to canonicalize  COc1ccc(COC[C@H]2C[C@]34CC[C@]2(OC)[C@@H]2Oc5c6c(C[C@H]3[N](C)(CC3CC3)CC[C@@]426)ccc5OC)cc1\n",
      "Unable to canonicalize  CO[C@]12CC[C@@]3(C[C@@H]1COCc1ccoc1)[C@H]1Cc4ccc(O)c5O[C@@H]2[C@]3(CC[N]1(C)CC1CC1)c45\n",
      "Unable to canonicalize  CO[C@]12CC[C@@]3(C[C@@H]1COCc1ccsc1)[C@H]1Cc4ccc(O)c5O[C@@H]2[C@]3(CC[N]1(C)CC1CC1)c45\n",
      "Unable to canonicalize  COc1ccc2C[C@@H]3[C@]45CC[C@](OC)([C@@H]6Oc1c2[C@]46CC[N]3(C)CC1CC1)[C@@H](COCc1ccco1)C5\n",
      "Unable to canonicalize  COc1ccc2C[C@@H]3[C@]45CC[C@](OC)([C@@H]6Oc1c2[C@]46CC[N]3(C)CC1CC1)[C@@H](COCc1ccc(Cl)c(Cl)c1)C5\n",
      "Unable to canonicalize  COc1ccc2C[C@@H]3[C@]45CC[C@](OC)([C@@H]6Oc1c2[C@]46CC[N]3(C)CC1CC1)[C@@H](COCc1cc2OCOc2cc1Cl)C5\n",
      "Unable to canonicalize  COc1ccc2C[C@@H]3[C@]45CC[C@](OC)([C@@H]6Oc1c2[C@]46CC[N]3(C)CC1CC1)[C@@H](COCc1ccc(C)cc1)C5\n",
      "Unable to canonicalize  CO[C@]12CC[C@@]3(C[C@@H]1COCc1ccc(F)cc1)[C@H]1Cc4ccc(O)c5O[C@@H]2[C@]3(CC[N]1(C)CC1CC1)c45\n",
      "Unable to canonicalize  CO[C@]12CC[C@@]3(C[C@@H]1COCc1cc4ccccc4s1)[C@H]1Cc4ccc(O)c5O[C@@H]2[C@]3(CC[N]1(C)CC1CC1)c45\n",
      "Unable to canonicalize  CO[C@]12CC[C@@]3(C[C@@H]1COCc1ccc(C)cc1)[C@H]1Cc4ccc(O)c5O[C@@H]2[C@]3(CC[N]1(C)CC1CC1)c45\n",
      "Unable to canonicalize  COc1ccc(COC[C@H]2C[C@]34CC[C@]2(OC)[C@@H]2Oc5c6c(C[C@H]3[N](C)(CC3CC3)CC[C@@]426)ccc5OC)cc1\n"
     ]
    },
    {
     "name": "stderr",
     "output_type": "stream",
     "text": [
      "[22:10:33] Can't kekulize mol.  Unkekulized atoms: 6 7 8 10 11 13 14\n",
      "[22:10:33] Can't kekulize mol.  Unkekulized atoms: 6 7 8 10 11 13 14\n",
      "[22:10:33] Can't kekulize mol.  Unkekulized atoms: 16 17 18 20 21 23 24\n",
      "[22:10:33] Can't kekulize mol.  Unkekulized atoms: 13 14 15 17 18 20 21\n"
     ]
    },
    {
     "name": "stdout",
     "output_type": "stream",
     "text": [
      "Unable to canonicalize  O=C1OC[C@@H](N1c1ccn2cc[nH]c2c1)c1ccccc1\n",
      "Unable to canonicalize  O=C1O[C@@H]([C@@H](N1c1ccn2cc[nH]c2c1)c1ccccc1)c1ccccc1\n",
      "Unable to canonicalize  CCCOc1ccc(cc1)[C@H]1COC(=O)N1c1ccn2cc[nH]c2c1\n",
      "Unable to canonicalize  Clc1ccc(cc1)[C@H]1COC(=O)N1c1ccn2cc[nH]c2c1\n"
     ]
    },
    {
     "name": "stderr",
     "output_type": "stream",
     "text": [
      "[22:10:34] Explicit valence for atom # 21 N, 4, is greater than permitted\n",
      "[22:10:34] Explicit valence for atom # 23 N, 4, is greater than permitted\n"
     ]
    },
    {
     "name": "stdout",
     "output_type": "stream",
     "text": [
      "Unable to canonicalize  CC[C@@H](N[C@@H](C)CC(N)=O)c1ccc(Cl)c(C(=O)C2=CC=[N]([O-])C=C2)c1F\n",
      "Unable to canonicalize  CCCN(CC1CC1)c1cc(ncn1)C(=O)Nc1cccc(c1)[N]1=CNC=C1\n"
     ]
    },
    {
     "name": "stderr",
     "output_type": "stream",
     "text": [
      "[22:10:35] Explicit valence for atom # 3 N, 4, is greater than permitted\n",
      "[22:10:35] Can't kekulize mol.  Unkekulized atoms: 13 14 15 16 17 18 19\n"
     ]
    },
    {
     "name": "stdout",
     "output_type": "stream",
     "text": [
      "Unable to canonicalize  CC1=N[N](C)=C(C)C1N[S+]([O-])(=O)c1c(Cl)cc(cc1Cl)-c1cccc2CNCCc12\n",
      "Unable to canonicalize  O=C(Nc1ccc(\\C=C\\C(=O)n2onc3ccccc23)cc1)OCC1c2ccccc2-c2ccccc12\n"
     ]
    },
    {
     "name": "stderr",
     "output_type": "stream",
     "text": [
      "[22:10:35] Explicit valence for atom # 1 N, 4, is greater than permitted\n",
      "[22:10:35] Explicit valence for atom # 20 N, 4, is greater than permitted\n",
      "[22:10:35] Explicit valence for atom # 21 N, 4, is greater than permitted\n"
     ]
    },
    {
     "name": "stdout",
     "output_type": "stream",
     "text": [
      "Unable to canonicalize  C[N]1=C(CC=N1)Nc1cc(ncc1C(=O)NC[C@@H](F)C(C)(C)O)-n1ccc2cc(cnc12)C#N\n",
      "Unable to canonicalize  COc1ccc(cn1)-c1cc(NC(=O)C2=C3N=CC=C[N]3=NC2)n(n1)-c1ccc(C)cc1\n",
      "Unable to canonicalize  Cc1ccc(cc1)-n1nc(cc1NC(=O)C1=C2N=CC=C[N]2=NC1)C1=CCN(CC1)S(C)(=O)=O\n"
     ]
    },
    {
     "name": "stderr",
     "output_type": "stream",
     "text": [
      "[22:10:35] Can't kekulize mol.  Unkekulized atoms: 17 18 20 21 23\n",
      "[22:10:35] Can't kekulize mol.  Unkekulized atoms: 19 20 22 23 25\n",
      "[22:10:35] Can't kekulize mol.  Unkekulized atoms: 18 19 21 22 24\n",
      "[22:10:35] Can't kekulize mol.  Unkekulized atoms: 18 19 21 22 24\n",
      "[22:10:35] Can't kekulize mol.  Unkekulized atoms: 22 23 25 26 28\n",
      "[22:10:35] Can't kekulize mol.  Unkekulized atoms: 21 22 24 25 27\n",
      "[22:10:35] Can't kekulize mol.  Unkekulized atoms: 17 18 20 21 23\n",
      "[22:10:35] Can't kekulize mol.  Unkekulized atoms: 19 20 22 23 25\n",
      "[22:10:35] Can't kekulize mol.  Unkekulized atoms: 18 19 21 22 24\n",
      "[22:10:35] Can't kekulize mol.  Unkekulized atoms: 18 19 21 22 24\n",
      "[22:10:35] Can't kekulize mol.  Unkekulized atoms: 22 23 25 26 28\n",
      "[22:10:35] Can't kekulize mol.  Unkekulized atoms: 21 22 24 25 27\n",
      "[22:10:35] Can't kekulize mol.  Unkekulized atoms: 17 18 20 21 23\n",
      "[22:10:35] Can't kekulize mol.  Unkekulized atoms: 19 20 22 23 25\n",
      "[22:10:35] Can't kekulize mol.  Unkekulized atoms: 18 19 21 22 24\n",
      "[22:10:35] Can't kekulize mol.  Unkekulized atoms: 18 19 21 22 24\n",
      "[22:10:35] Can't kekulize mol.  Unkekulized atoms: 22 23 25 26 28\n",
      "[22:10:35] Can't kekulize mol.  Unkekulized atoms: 21 22 24 25 27\n",
      "[22:10:35] Can't kekulize mol.  Unkekulized atoms: 17 18 20 21 23\n",
      "[22:10:35] Can't kekulize mol.  Unkekulized atoms: 19 20 22 23 25\n",
      "[22:10:35] Can't kekulize mol.  Unkekulized atoms: 18 19 21 22 24\n",
      "[22:10:35] Can't kekulize mol.  Unkekulized atoms: 18 19 21 22 24\n",
      "[22:10:35] Can't kekulize mol.  Unkekulized atoms: 22 23 25 26 28\n",
      "[22:10:35] Can't kekulize mol.  Unkekulized atoms: 21 22 24 25 27\n",
      "[22:10:35] Explicit valence for atom # 16 N, 4, is greater than permitted\n"
     ]
    },
    {
     "name": "stdout",
     "output_type": "stream",
     "text": [
      "Unable to canonicalize  CC(C)n1ncc2c(cc(C)nc12)C(=O)NCc1c(C)cc(C)nc1=O\n",
      "Unable to canonicalize  CC(C)n1ncc2c(cc(nc12)C1CC1)C(=O)NCc1c(C)cc(C)nc1=O\n",
      "Unable to canonicalize  CCN(C1CCOCC1)c1cc(cc(C(=O)NCc2c(C)cc(C)nc2=O)c1C)-c1ccc(CN2CCOCC2)cc1\n",
      "Unable to canonicalize  CCN(C1CCOCC1)c1cc(cc(C(=O)NCc2c(C)cc(C)nc2=O)c1C)-c1ccc(CN2CCCN(C)CC2)cc1\n",
      "Unable to canonicalize  CCN([C@H]1CC[C@@H](CC1)N(C)C)c1cc(Cl)cc(C(=O)NCc2c(C)cc(C)nc2=O)c1C\n",
      "Unable to canonicalize  CCN([C@H]1CC[C@@H](CC1)N(C)C)c1cc(cc(C(=O)NCc2c(C)cc(C)nc2=O)c1C)-c1ccc(CN2CCOCC2)cc1\n",
      "Unable to canonicalize  CC(C)n1ncc2c(cc(C)nc12)C(=O)NCc1c(C)cc(C)nc1=O\n",
      "Unable to canonicalize  CC(C)n1ncc2c(cc(nc12)C1CC1)C(=O)NCc1c(C)cc(C)nc1=O\n",
      "Unable to canonicalize  CCN(C1CCOCC1)c1cc(cc(C(=O)NCc2c(C)cc(C)nc2=O)c1C)-c1ccc(CN2CCOCC2)cc1\n",
      "Unable to canonicalize  CCN(C1CCOCC1)c1cc(cc(C(=O)NCc2c(C)cc(C)nc2=O)c1C)-c1ccc(CN2CCCN(C)CC2)cc1\n",
      "Unable to canonicalize  CCN([C@H]1CC[C@@H](CC1)N(C)C)c1cc(Cl)cc(C(=O)NCc2c(C)cc(C)nc2=O)c1C\n",
      "Unable to canonicalize  CCN([C@H]1CC[C@@H](CC1)N(C)C)c1cc(cc(C(=O)NCc2c(C)cc(C)nc2=O)c1C)-c1ccc(CN2CCOCC2)cc1\n",
      "Unable to canonicalize  CC(C)n1ncc2c(cc(C)nc12)C(=O)NCc1c(C)cc(C)nc1=O\n",
      "Unable to canonicalize  CC(C)n1ncc2c(cc(nc12)C1CC1)C(=O)NCc1c(C)cc(C)nc1=O\n",
      "Unable to canonicalize  CCN(C1CCOCC1)c1cc(cc(C(=O)NCc2c(C)cc(C)nc2=O)c1C)-c1ccc(CN2CCOCC2)cc1\n",
      "Unable to canonicalize  CCN(C1CCOCC1)c1cc(cc(C(=O)NCc2c(C)cc(C)nc2=O)c1C)-c1ccc(CN2CCCN(C)CC2)cc1\n",
      "Unable to canonicalize  CCN([C@H]1CC[C@@H](CC1)N(C)C)c1cc(Cl)cc(C(=O)NCc2c(C)cc(C)nc2=O)c1C\n",
      "Unable to canonicalize  CCN([C@H]1CC[C@@H](CC1)N(C)C)c1cc(cc(C(=O)NCc2c(C)cc(C)nc2=O)c1C)-c1ccc(CN2CCOCC2)cc1\n",
      "Unable to canonicalize  CC(C)n1ncc2c(cc(C)nc12)C(=O)NCc1c(C)cc(C)nc1=O\n",
      "Unable to canonicalize  CC(C)n1ncc2c(cc(nc12)C1CC1)C(=O)NCc1c(C)cc(C)nc1=O\n",
      "Unable to canonicalize  CCN(C1CCOCC1)c1cc(cc(C(=O)NCc2c(C)cc(C)nc2=O)c1C)-c1ccc(CN2CCOCC2)cc1\n",
      "Unable to canonicalize  CCN(C1CCOCC1)c1cc(cc(C(=O)NCc2c(C)cc(C)nc2=O)c1C)-c1ccc(CN2CCCN(C)CC2)cc1\n",
      "Unable to canonicalize  CCN([C@H]1CC[C@@H](CC1)N(C)C)c1cc(Cl)cc(C(=O)NCc2c(C)cc(C)nc2=O)c1C\n",
      "Unable to canonicalize  CCN([C@H]1CC[C@@H](CC1)N(C)C)c1cc(cc(C(=O)NCc2c(C)cc(C)nc2=O)c1C)-c1ccc(CN2CCOCC2)cc1\n",
      "Unable to canonicalize  CNC(=O)C1=CC(CCCN2CCOCC2)[N](=C1C)c1ccccc1\n"
     ]
    },
    {
     "name": "stderr",
     "output_type": "stream",
     "text": [
      "[22:10:36] Can't kekulize mol.  Unkekulized atoms: 2 3 29\n",
      "[22:10:36] Can't kekulize mol.  Unkekulized atoms: 2 3 29\n",
      "[22:10:36] Can't kekulize mol.  Unkekulized atoms: 2 3 29\n",
      "[22:10:36] Can't kekulize mol.  Unkekulized atoms: 2 3 29\n",
      "[22:10:36] Can't kekulize mol.  Unkekulized atoms: 2 3 28\n",
      "[22:10:36] Explicit valence for atom # 3 N, 4, is greater than permitted\n",
      "[22:10:36] Can't kekulize mol.  Unkekulized atoms: 2 3 29\n",
      "[22:10:36] Can't kekulize mol.  Unkekulized atoms: 2 3 29\n",
      "[22:10:36] Can't kekulize mol.  Unkekulized atoms: 2 3 29\n",
      "[22:10:36] Can't kekulize mol.  Unkekulized atoms: 2 3 29\n",
      "[22:10:36] Can't kekulize mol.  Unkekulized atoms: 2 3 28\n",
      "[22:10:36] Explicit valence for atom # 3 N, 4, is greater than permitted\n",
      "[22:10:36] Can't kekulize mol.  Unkekulized atoms: 2 3 29\n",
      "[22:10:36] Can't kekulize mol.  Unkekulized atoms: 2 3 29\n",
      "[22:10:36] Can't kekulize mol.  Unkekulized atoms: 2 3 29\n",
      "[22:10:36] Can't kekulize mol.  Unkekulized atoms: 2 3 29\n",
      "[22:10:36] Can't kekulize mol.  Unkekulized atoms: 2 3 28\n",
      "[22:10:36] Explicit valence for atom # 3 N, 4, is greater than permitted\n",
      "[22:10:36] Can't kekulize mol.  Unkekulized atoms: 2 3 29\n",
      "[22:10:36] Can't kekulize mol.  Unkekulized atoms: 2 3 29\n",
      "[22:10:36] Can't kekulize mol.  Unkekulized atoms: 2 3 29\n",
      "[22:10:36] Can't kekulize mol.  Unkekulized atoms: 2 3 29\n",
      "[22:10:36] Can't kekulize mol.  Unkekulized atoms: 2 3 28\n",
      "[22:10:36] Explicit valence for atom # 3 N, 4, is greater than permitted\n",
      "[22:10:36] Can't kekulize mol.  Unkekulized atoms: 2 3 29\n",
      "[22:10:36] Can't kekulize mol.  Unkekulized atoms: 2 3 29\n",
      "[22:10:36] Can't kekulize mol.  Unkekulized atoms: 2 3 29\n",
      "[22:10:36] Can't kekulize mol.  Unkekulized atoms: 2 3 29\n",
      "[22:10:36] Can't kekulize mol.  Unkekulized atoms: 2 3 28\n",
      "[22:10:36] Explicit valence for atom # 3 N, 4, is greater than permitted\n",
      "[22:10:36] Can't kekulize mol.  Unkekulized atoms: 13 14 15 16 17 18 19 20 21\n",
      "[22:10:36] Can't kekulize mol.  Unkekulized atoms: 13 14 15 16 17 18 19 20 21\n",
      "[22:10:36] Can't kekulize mol.  Unkekulized atoms: 13 14 15 16 17 18 19 20 21\n"
     ]
    },
    {
     "name": "stdout",
     "output_type": "stream",
     "text": [
      "Unable to canonicalize  Cn1c2c[nH]n(CC(=O)Nc3nc(cs3)-c3cc(F)c(OCC(C)(C)C)c(F)c3)c2c(=O)n(C)c1=O\n",
      "Unable to canonicalize  Cn1c2c[nH]n(CC(=O)Nc3nc(cs3)-c3cc(F)c(OCC(C)(C)C)c(Cl)c3)c2c(=O)n(C)c1=O\n",
      "Unable to canonicalize  Cn1c2c[nH]n(CC(=O)Nc3nc(cs3)-c3cc(F)c(OCC4CCC4)c(F)c3)c2c(=O)n(C)c1=O\n",
      "Unable to canonicalize  Cn1c2c[nH]n(CC(=O)Nc3nc(cs3)-c3cc(Cl)c(OCC(C)(C)C)c(Cl)c3)c2c(=O)n(C)c1=O\n",
      "Unable to canonicalize  Cn1c2c[nH]n(CC(=O)Nc3nc(cs3)-c3ccc(OCC(C)(C)C)c(F)c3)c2c(=O)n(C)c1=O\n",
      "Unable to canonicalize  Cn1c2=[N]=C[N](CC(=O)Nc3nc(cs3)-c3ccc(Br)cc3)=c2c(=O)n(C)c1=O\n",
      "Unable to canonicalize  Cn1c2c[nH]n(CC(=O)Nc3nc(cs3)-c3cc(F)c(OCC(C)(C)C)c(F)c3)c2c(=O)n(C)c1=O\n",
      "Unable to canonicalize  Cn1c2c[nH]n(CC(=O)Nc3nc(cs3)-c3cc(F)c(OCC(C)(C)C)c(Cl)c3)c2c(=O)n(C)c1=O\n",
      "Unable to canonicalize  Cn1c2c[nH]n(CC(=O)Nc3nc(cs3)-c3cc(F)c(OCC4CCC4)c(F)c3)c2c(=O)n(C)c1=O\n",
      "Unable to canonicalize  Cn1c2c[nH]n(CC(=O)Nc3nc(cs3)-c3cc(Cl)c(OCC(C)(C)C)c(Cl)c3)c2c(=O)n(C)c1=O\n",
      "Unable to canonicalize  Cn1c2c[nH]n(CC(=O)Nc3nc(cs3)-c3ccc(OCC(C)(C)C)c(F)c3)c2c(=O)n(C)c1=O\n",
      "Unable to canonicalize  Cn1c2=[N]=C[N](CC(=O)Nc3nc(cs3)-c3ccc(Br)cc3)=c2c(=O)n(C)c1=O\n",
      "Unable to canonicalize  Cn1c2c[nH]n(CC(=O)Nc3nc(cs3)-c3cc(F)c(OCC(C)(C)C)c(F)c3)c2c(=O)n(C)c1=O\n",
      "Unable to canonicalize  Cn1c2c[nH]n(CC(=O)Nc3nc(cs3)-c3cc(F)c(OCC(C)(C)C)c(Cl)c3)c2c(=O)n(C)c1=O\n",
      "Unable to canonicalize  Cn1c2c[nH]n(CC(=O)Nc3nc(cs3)-c3cc(F)c(OCC4CCC4)c(F)c3)c2c(=O)n(C)c1=O\n",
      "Unable to canonicalize  Cn1c2c[nH]n(CC(=O)Nc3nc(cs3)-c3cc(Cl)c(OCC(C)(C)C)c(Cl)c3)c2c(=O)n(C)c1=O\n",
      "Unable to canonicalize  Cn1c2c[nH]n(CC(=O)Nc3nc(cs3)-c3ccc(OCC(C)(C)C)c(F)c3)c2c(=O)n(C)c1=O\n",
      "Unable to canonicalize  Cn1c2=[N]=C[N](CC(=O)Nc3nc(cs3)-c3ccc(Br)cc3)=c2c(=O)n(C)c1=O\n",
      "Unable to canonicalize  Cn1c2c[nH]n(CC(=O)Nc3nc(cs3)-c3cc(F)c(OCC(C)(C)C)c(F)c3)c2c(=O)n(C)c1=O\n",
      "Unable to canonicalize  Cn1c2c[nH]n(CC(=O)Nc3nc(cs3)-c3cc(F)c(OCC(C)(C)C)c(Cl)c3)c2c(=O)n(C)c1=O\n",
      "Unable to canonicalize  Cn1c2c[nH]n(CC(=O)Nc3nc(cs3)-c3cc(F)c(OCC4CCC4)c(F)c3)c2c(=O)n(C)c1=O\n",
      "Unable to canonicalize  Cn1c2c[nH]n(CC(=O)Nc3nc(cs3)-c3cc(Cl)c(OCC(C)(C)C)c(Cl)c3)c2c(=O)n(C)c1=O\n",
      "Unable to canonicalize  Cn1c2c[nH]n(CC(=O)Nc3nc(cs3)-c3ccc(OCC(C)(C)C)c(F)c3)c2c(=O)n(C)c1=O\n",
      "Unable to canonicalize  Cn1c2=[N]=C[N](CC(=O)Nc3nc(cs3)-c3ccc(Br)cc3)=c2c(=O)n(C)c1=O\n",
      "Unable to canonicalize  Cn1c2c[nH]n(CC(=O)Nc3nc(cs3)-c3cc(F)c(OCC(C)(C)C)c(F)c3)c2c(=O)n(C)c1=O\n",
      "Unable to canonicalize  Cn1c2c[nH]n(CC(=O)Nc3nc(cs3)-c3cc(F)c(OCC(C)(C)C)c(Cl)c3)c2c(=O)n(C)c1=O\n",
      "Unable to canonicalize  Cn1c2c[nH]n(CC(=O)Nc3nc(cs3)-c3cc(F)c(OCC4CCC4)c(F)c3)c2c(=O)n(C)c1=O\n",
      "Unable to canonicalize  Cn1c2c[nH]n(CC(=O)Nc3nc(cs3)-c3cc(Cl)c(OCC(C)(C)C)c(Cl)c3)c2c(=O)n(C)c1=O\n",
      "Unable to canonicalize  Cn1c2c[nH]n(CC(=O)Nc3nc(cs3)-c3ccc(OCC(C)(C)C)c(F)c3)c2c(=O)n(C)c1=O\n",
      "Unable to canonicalize  Cn1c2=[N]=C[N](CC(=O)Nc3nc(cs3)-c3ccc(Br)cc3)=c2c(=O)n(C)c1=O\n",
      "Unable to canonicalize  O=C(N1N=C(CC1c1ccccc1)c1cnc2ccccc12)c1ccccc1\n",
      "Unable to canonicalize  O=C(N1N=C(CC1c1ccccc1)c1cnc2ccccc12)c1ccccc1\n",
      "Unable to canonicalize  O=C(N1N=C(CC1c1ccccc1)c1cnc2ccccc12)c1ccccc1\n"
     ]
    },
    {
     "name": "stderr",
     "output_type": "stream",
     "text": [
      "[22:10:36] Explicit valence for atom # 1 N, 4, is greater than permitted\n",
      "[22:10:36] Explicit valence for atom # 4 N, 4, is greater than permitted\n"
     ]
    },
    {
     "name": "stdout",
     "output_type": "stream",
     "text": [
      "Unable to canonicalize  C[N]1(C)CCN(CC1)c1ccc(cn1)-c1nc(oc1Sc1ccc(Cl)cc1)C1CCOCC1\n",
      "Unable to canonicalize  COCC[N]1=NC(N=C1C)c1ccc2ncc(C(=O)Nc3cc(ccc3C)-c3noc(n3)C3CC(F)(F)C3)n2c1\n"
     ]
    },
    {
     "name": "stderr",
     "output_type": "stream",
     "text": [
      "[22:10:36] Can't kekulize mol.  Unkekulized atoms: 1 2 3 14 16\n",
      "[22:10:36] Can't kekulize mol.  Unkekulized atoms: 1 2 3 14 16\n",
      "[22:10:36] Can't kekulize mol.  Unkekulized atoms: 1 2 3 14 16\n",
      "[22:10:36] Can't kekulize mol.  Unkekulized atoms: 1 2 3 14 16\n",
      "[22:10:36] Can't kekulize mol.  Unkekulized atoms: 1 2 3 14 16\n",
      "[22:10:36] Can't kekulize mol.  Unkekulized atoms: 10 12 13 14 15\n",
      "[22:10:36] Can't kekulize mol.  Unkekulized atoms: 10 12 13 14 15\n",
      "[22:10:36] Can't kekulize mol.  Unkekulized atoms: 10 12 13 14 15\n",
      "[22:10:36] Can't kekulize mol.  Unkekulized atoms: 10 12 13 14 15\n",
      "[22:10:36] Can't kekulize mol.  Unkekulized atoms: 10 12 13 14 15\n",
      "[22:10:36] Can't kekulize mol.  Unkekulized atoms: 10 12 13 14 15\n",
      "[22:10:36] Can't kekulize mol.  Unkekulized atoms: 10 12 13 14 15\n",
      "[22:10:36] Can't kekulize mol.  Unkekulized atoms: 11 13 14 15 16\n",
      "[22:10:36] Can't kekulize mol.  Unkekulized atoms: 1 2 3 18 20\n",
      "[22:10:36] Can't kekulize mol.  Unkekulized atoms: 1 2 3 19 21\n",
      "[22:10:36] Can't kekulize mol.  Unkekulized atoms: 1 2 3 18 20\n",
      "[22:10:36] Can't kekulize mol.  Unkekulized atoms: 1 2 3 19 21\n",
      "[22:10:36] Can't kekulize mol.  Unkekulized atoms: 1 2 3 20 22\n",
      "[22:10:36] Can't kekulize mol.  Unkekulized atoms: 1 2 3 17 19\n",
      "[22:10:36] Can't kekulize mol.  Unkekulized atoms: 1 2 3 20 22\n",
      "[22:10:36] Can't kekulize mol.  Unkekulized atoms: 10 12 13 14 15\n",
      "[22:10:36] Can't kekulize mol.  Unkekulized atoms: 10 12 13 14 15\n",
      "[22:10:36] Can't kekulize mol.  Unkekulized atoms: 11 13 14 15 16\n",
      "[22:10:36] Can't kekulize mol.  Unkekulized atoms: 1 2 3 18 20\n",
      "[22:10:36] Can't kekulize mol.  Unkekulized atoms: 1 2 3 19 21\n",
      "[22:10:36] Can't kekulize mol.  Unkekulized atoms: 1 2 3 18 20\n",
      "[22:10:36] Can't kekulize mol.  Unkekulized atoms: 1 2 3 19 21\n",
      "[22:10:36] Can't kekulize mol.  Unkekulized atoms: 1 2 3 20 22\n",
      "[22:10:36] Can't kekulize mol.  Unkekulized atoms: 1 2 3 17 19\n",
      "[22:10:36] Can't kekulize mol.  Unkekulized atoms: 1 2 3 20 22\n",
      "[22:10:36] Can't kekulize mol.  Unkekulized atoms: 10 12 13 14 15\n",
      "[22:10:36] Can't kekulize mol.  Unkekulized atoms: 10 12 13 14 15\n",
      "[22:10:36] Can't kekulize mol.  Unkekulized atoms: 11 13 14 15 16\n",
      "[22:10:36] Can't kekulize mol.  Unkekulized atoms: 1 2 3 18 20\n",
      "[22:10:36] Can't kekulize mol.  Unkekulized atoms: 1 2 3 19 21\n",
      "[22:10:36] Can't kekulize mol.  Unkekulized atoms: 1 2 3 18 20\n",
      "[22:10:36] Can't kekulize mol.  Unkekulized atoms: 1 2 3 19 21\n",
      "[22:10:36] Can't kekulize mol.  Unkekulized atoms: 1 2 3 20 22\n",
      "[22:10:36] Can't kekulize mol.  Unkekulized atoms: 1 2 3 17 19\n",
      "[22:10:36] Can't kekulize mol.  Unkekulized atoms: 1 2 3 20 22\n",
      "[22:10:36] Can't kekulize mol.  Unkekulized atoms: 10 12 13 14 15\n",
      "[22:10:36] Can't kekulize mol.  Unkekulized atoms: 10 12 13 14 15\n",
      "[22:10:36] Can't kekulize mol.  Unkekulized atoms: 11 13 14 15 16\n",
      "[22:10:36] Can't kekulize mol.  Unkekulized atoms: 10 12 13 14 15\n",
      "[22:10:36] Can't kekulize mol.  Unkekulized atoms: 14 16 17 18 19\n",
      "[22:10:36] Can't kekulize mol.  Unkekulized atoms: 15 17 18 19 20\n",
      "[22:10:36] Can't kekulize mol.  Unkekulized atoms: 8 10 11 12 13\n",
      "[22:10:36] Can't kekulize mol.  Unkekulized atoms: 9 11 12 13 14\n",
      "[22:10:36] Can't kekulize mol.  Unkekulized atoms: 10 12 13 14 15\n",
      "[22:10:36] Can't kekulize mol.  Unkekulized atoms: 7 9 10 11 12\n",
      "[22:10:36] Can't kekulize mol.  Unkekulized atoms: 10 12 13 14 15\n",
      "[22:10:36] Can't kekulize mol.  Unkekulized atoms: 10 12 13 14 15\n",
      "[22:10:36] Can't kekulize mol.  Unkekulized atoms: 10 12 13 14 15\n",
      "[22:10:36] Can't kekulize mol.  Unkekulized atoms: 11 13 14 15 16\n",
      "[22:10:36] Can't kekulize mol.  Unkekulized atoms: 10 12 13 14 15\n",
      "[22:10:36] Can't kekulize mol.  Unkekulized atoms: 14 16 17 18 19\n",
      "[22:10:36] Can't kekulize mol.  Unkekulized atoms: 15 17 18 19 20\n",
      "[22:10:36] Can't kekulize mol.  Unkekulized atoms: 8 10 11 12 13\n",
      "[22:10:36] Can't kekulize mol.  Unkekulized atoms: 9 11 12 13 14\n",
      "[22:10:36] Can't kekulize mol.  Unkekulized atoms: 10 12 13 14 15\n",
      "[22:10:36] Can't kekulize mol.  Unkekulized atoms: 7 9 10 11 12\n",
      "[22:10:36] Can't kekulize mol.  Unkekulized atoms: 10 12 13 14 15\n",
      "[22:10:36] Can't kekulize mol.  Unkekulized atoms: 10 12 13 14 15\n",
      "[22:10:36] Can't kekulize mol.  Unkekulized atoms: 10 12 13 14 15\n",
      "[22:10:36] Can't kekulize mol.  Unkekulized atoms: 11 13 14 15 16\n",
      "[22:10:36] Can't kekulize mol.  Unkekulized atoms: 10 12 13 14 15\n",
      "[22:10:36] Can't kekulize mol.  Unkekulized atoms: 14 16 17 18 19\n",
      "[22:10:36] Can't kekulize mol.  Unkekulized atoms: 15 17 18 19 20\n",
      "[22:10:36] Can't kekulize mol.  Unkekulized atoms: 8 10 11 12 13\n",
      "[22:10:36] Can't kekulize mol.  Unkekulized atoms: 9 11 12 13 14\n",
      "[22:10:36] Can't kekulize mol.  Unkekulized atoms: 10 12 13 14 15\n",
      "[22:10:36] Can't kekulize mol.  Unkekulized atoms: 7 9 10 11 12\n",
      "[22:10:36] Can't kekulize mol.  Unkekulized atoms: 10 12 13 14 15\n"
     ]
    },
    {
     "name": "stdout",
     "output_type": "stream",
     "text": [
      "Unable to canonicalize  Nc1nc2n(CCOCCP(O)(O)=O)c[nH]c2c(=O)[nH]1\n",
      "Unable to canonicalize  Nc1nc2n(CCNCCP(O)(O)=O)c[nH]c2c(=O)[nH]1\n",
      "Unable to canonicalize  Nc1nc2n(CCOCCP(O)(O)=O)c[nH]c2c(=O)[nH]1\n",
      "Unable to canonicalize  Nc1nc2n(CCNCCP(O)(O)=O)c[nH]c2c(=O)[nH]1\n",
      "Unable to canonicalize  Nc1nc2n(CCNCCP(O)(O)=O)c[nH]c2c(=O)[nH]1\n",
      "Unable to canonicalize  OP(O)(=O)CCOCCn1c[nH]c2c1nc[nH]c2=O\n",
      "Unable to canonicalize  OP(O)(=O)CCNCCn1c[nH]c2c1nc[nH]c2=O\n",
      "Unable to canonicalize  OP(O)(=O)CCOCCn1c[nH]c2c1nc[nH]c2=O\n",
      "Unable to canonicalize  OP(O)(=O)CCNCCn1c[nH]c2c1nc[nH]c2=O\n",
      "Unable to canonicalize  OP(O)(=O)CCNCCn1c[nH]c2c1nc[nH]c2=O\n",
      "Unable to canonicalize  CCOC(=O)CN(CCn1c[nH]c2c1nc(N)[nH]c2=O)CCP(O)(O)=O\n",
      "Unable to canonicalize  COC(=O)CCN(CCn1c[nH]c2c1nc(N)[nH]c2=O)CCP(O)(O)=O\n",
      "Unable to canonicalize  COC(=O)CCCN(CCn1c[nH]c2c1nc(N)[nH]c2=O)CCP(O)(O)=O\n",
      "Unable to canonicalize  Nc1nc2n(CCN(CCC#N)CCP(O)(O)=O)c[nH]c2c(=O)[nH]1\n",
      "Unable to canonicalize  Nc1nc2n(CCN(CCCC#N)CCP(O)(O)=O)c[nH]c2c(=O)[nH]1\n",
      "Unable to canonicalize  Nc1nc2n(CCN(CCP(O)(O)=O)CC(O)=O)c[nH]c2c(=O)[nH]1\n",
      "Unable to canonicalize  Nc1nc2n(CCN(CCC(O)=O)CCP(O)(O)=O)c[nH]c2c(=O)[nH]1\n",
      "Unable to canonicalize  Nc1nc2n(CCN(CCCC(O)=O)CCP(O)(O)=O)c[nH]c2c(=O)[nH]1\n",
      "Unable to canonicalize  Nc1nc2n(CCN(CCO)CCP(O)(O)=O)c[nH]c2c(=O)[nH]1\n",
      "Unable to canonicalize  Nc1nc2n(CCN(CCP(O)(O)=O)CCP(O)(O)=O)c[nH]c2c(=O)[nH]1\n",
      "Unable to canonicalize  CCOC(=O)CN(CCn1c[nH]c2c1nc(N)[nH]c2=O)CCP(O)(O)=O\n",
      "Unable to canonicalize  COC(=O)CCN(CCn1c[nH]c2c1nc(N)[nH]c2=O)CCP(O)(O)=O\n",
      "Unable to canonicalize  COC(=O)CCCN(CCn1c[nH]c2c1nc(N)[nH]c2=O)CCP(O)(O)=O\n",
      "Unable to canonicalize  Nc1nc2n(CCN(CCC#N)CCP(O)(O)=O)c[nH]c2c(=O)[nH]1\n",
      "Unable to canonicalize  Nc1nc2n(CCN(CCCC#N)CCP(O)(O)=O)c[nH]c2c(=O)[nH]1\n",
      "Unable to canonicalize  Nc1nc2n(CCN(CCP(O)(O)=O)CC(O)=O)c[nH]c2c(=O)[nH]1\n",
      "Unable to canonicalize  Nc1nc2n(CCN(CCC(O)=O)CCP(O)(O)=O)c[nH]c2c(=O)[nH]1\n",
      "Unable to canonicalize  Nc1nc2n(CCN(CCCC(O)=O)CCP(O)(O)=O)c[nH]c2c(=O)[nH]1\n",
      "Unable to canonicalize  Nc1nc2n(CCN(CCO)CCP(O)(O)=O)c[nH]c2c(=O)[nH]1\n",
      "Unable to canonicalize  Nc1nc2n(CCN(CCP(O)(O)=O)CCP(O)(O)=O)c[nH]c2c(=O)[nH]1\n",
      "Unable to canonicalize  CCOC(=O)CN(CCn1c[nH]c2c1nc(N)[nH]c2=O)CCP(O)(O)=O\n",
      "Unable to canonicalize  COC(=O)CCN(CCn1c[nH]c2c1nc(N)[nH]c2=O)CCP(O)(O)=O\n",
      "Unable to canonicalize  COC(=O)CCCN(CCn1c[nH]c2c1nc(N)[nH]c2=O)CCP(O)(O)=O\n",
      "Unable to canonicalize  Nc1nc2n(CCN(CCC#N)CCP(O)(O)=O)c[nH]c2c(=O)[nH]1\n",
      "Unable to canonicalize  Nc1nc2n(CCN(CCCC#N)CCP(O)(O)=O)c[nH]c2c(=O)[nH]1\n",
      "Unable to canonicalize  Nc1nc2n(CCN(CCP(O)(O)=O)CC(O)=O)c[nH]c2c(=O)[nH]1\n",
      "Unable to canonicalize  Nc1nc2n(CCN(CCC(O)=O)CCP(O)(O)=O)c[nH]c2c(=O)[nH]1\n",
      "Unable to canonicalize  Nc1nc2n(CCN(CCCC(O)=O)CCP(O)(O)=O)c[nH]c2c(=O)[nH]1\n",
      "Unable to canonicalize  Nc1nc2n(CCN(CCO)CCP(O)(O)=O)c[nH]c2c(=O)[nH]1\n",
      "Unable to canonicalize  Nc1nc2n(CCN(CCP(O)(O)=O)CCP(O)(O)=O)c[nH]c2c(=O)[nH]1\n",
      "Unable to canonicalize  CCOC(=O)CN(CCn1c[nH]c2c1nc[nH]c2=O)CCP(O)(O)=O\n",
      "Unable to canonicalize  COC(=O)CCN(CCn1c[nH]c2c1nc[nH]c2=O)CCP(O)(O)=O\n",
      "Unable to canonicalize  COC(=O)CCCN(CCn1c[nH]c2c1nc[nH]c2=O)CCP(O)(O)=O\n",
      "Unable to canonicalize  OP(O)(=O)CCN(CCn1c[nH]c2c1nc[nH]c2=O)CC#N\n",
      "Unable to canonicalize  OP(O)(=O)CCN(CCC#N)CCn1c[nH]c2c1nc[nH]c2=O\n",
      "Unable to canonicalize  OP(O)(=O)CCN(CCCC#N)CCn1c[nH]c2c1nc[nH]c2=O\n",
      "Unable to canonicalize  OC(=O)CN(CCn1c[nH]c2c1nc[nH]c2=O)CCP(O)(O)=O\n",
      "Unable to canonicalize  OC(=O)CCN(CCn1c[nH]c2c1nc[nH]c2=O)CCP(O)(O)=O\n",
      "Unable to canonicalize  OC(=O)CCCN(CCn1c[nH]c2c1nc[nH]c2=O)CCP(O)(O)=O\n",
      "Unable to canonicalize  OCCN(CCn1c[nH]c2c1nc[nH]c2=O)CCP(O)(O)=O\n",
      "Unable to canonicalize  OP(O)(=O)CCN(CCn1c[nH]c2c1nc[nH]c2=O)CCP(O)(O)=O\n",
      "Unable to canonicalize  CCOC(=O)CN(CCn1c[nH]c2c1nc[nH]c2=O)CCP(O)(O)=O\n",
      "Unable to canonicalize  COC(=O)CCN(CCn1c[nH]c2c1nc[nH]c2=O)CCP(O)(O)=O\n",
      "Unable to canonicalize  COC(=O)CCCN(CCn1c[nH]c2c1nc[nH]c2=O)CCP(O)(O)=O\n",
      "Unable to canonicalize  OP(O)(=O)CCN(CCn1c[nH]c2c1nc[nH]c2=O)CC#N\n",
      "Unable to canonicalize  OP(O)(=O)CCN(CCC#N)CCn1c[nH]c2c1nc[nH]c2=O\n",
      "Unable to canonicalize  OP(O)(=O)CCN(CCCC#N)CCn1c[nH]c2c1nc[nH]c2=O\n",
      "Unable to canonicalize  OC(=O)CN(CCn1c[nH]c2c1nc[nH]c2=O)CCP(O)(O)=O\n",
      "Unable to canonicalize  OC(=O)CCN(CCn1c[nH]c2c1nc[nH]c2=O)CCP(O)(O)=O\n",
      "Unable to canonicalize  OC(=O)CCCN(CCn1c[nH]c2c1nc[nH]c2=O)CCP(O)(O)=O\n",
      "Unable to canonicalize  OCCN(CCn1c[nH]c2c1nc[nH]c2=O)CCP(O)(O)=O\n",
      "Unable to canonicalize  OP(O)(=O)CCN(CCn1c[nH]c2c1nc[nH]c2=O)CCP(O)(O)=O\n",
      "Unable to canonicalize  CCOC(=O)CN(CCn1c[nH]c2c1nc[nH]c2=O)CCP(O)(O)=O\n",
      "Unable to canonicalize  COC(=O)CCN(CCn1c[nH]c2c1nc[nH]c2=O)CCP(O)(O)=O\n",
      "Unable to canonicalize  COC(=O)CCCN(CCn1c[nH]c2c1nc[nH]c2=O)CCP(O)(O)=O\n",
      "Unable to canonicalize  OP(O)(=O)CCN(CCn1c[nH]c2c1nc[nH]c2=O)CC#N\n",
      "Unable to canonicalize  OP(O)(=O)CCN(CCC#N)CCn1c[nH]c2c1nc[nH]c2=O\n",
      "Unable to canonicalize  OP(O)(=O)CCN(CCCC#N)CCn1c[nH]c2c1nc[nH]c2=O\n",
      "Unable to canonicalize  OC(=O)CN(CCn1c[nH]c2c1nc[nH]c2=O)CCP(O)(O)=O\n",
      "Unable to canonicalize  OC(=O)CCN(CCn1c[nH]c2c1nc[nH]c2=O)CCP(O)(O)=O\n",
      "Unable to canonicalize  OC(=O)CCCN(CCn1c[nH]c2c1nc[nH]c2=O)CCP(O)(O)=O\n",
      "Unable to canonicalize  OCCN(CCn1c[nH]c2c1nc[nH]c2=O)CCP(O)(O)=O\n",
      "Unable to canonicalize  OP(O)(=O)CCN(CCn1c[nH]c2c1nc[nH]c2=O)CCP(O)(O)=O\n"
     ]
    },
    {
     "name": "stderr",
     "output_type": "stream",
     "text": [
      "[22:10:37] Can't kekulize mol.  Unkekulized atoms: 7 8 15 16 17\n",
      "[22:10:37] Can't kekulize mol.  Unkekulized atoms: 16 17 18 19 20 21 22 23 25\n",
      "[22:10:37] Can't kekulize mol.  Unkekulized atoms: 12 13 14 15 17 18 20\n",
      "[22:10:37] Can't kekulize mol.  Unkekulized atoms: 11 12 13 14 16 17 19\n",
      "[22:10:37] Can't kekulize mol.  Unkekulized atoms: 2 3 4 5 7 8 9\n",
      "[22:10:37] Can't kekulize mol.  Unkekulized atoms: 12 13 14 16 19 20 21\n",
      "[22:10:37] Can't kekulize mol.  Unkekulized atoms: 11 12 13 14 16 17 18\n",
      "[22:10:37] Can't kekulize mol.  Unkekulized atoms: 13 14 15 16 18 19 21\n",
      "[22:10:37] Can't kekulize mol.  Unkekulized atoms: 15 16 17 31 32 34 35 36 37\n"
     ]
    },
    {
     "name": "stdout",
     "output_type": "stream",
     "text": [
      "Unable to canonicalize  CCOC(=O)CCc1c(CC(=O)OCC)cnc1\\C=N\\O\n",
      "Unable to canonicalize  Cc1ccc(F)c(NC(=O)Nc2cnn(c2)-c2cccc3nnc(N)c23)c1\n",
      "Unable to canonicalize  CCc1nn(Cc2ccc(cc2)-c2nc3c[nH]cc(C)c3[nH]2)c(CC)c1CC(O)=O\n",
      "Unable to canonicalize  Cc1nn(Cc2ccc(cc2)-c2nc3c[nH]cc(C)c3[nH]2)c(C)c1CC(O)=O\n",
      "Unable to canonicalize  COc1ccc2[nH]c(nc2[nH]1)-c1ccc(Cn2nc(C)c(CC(O)=O)c2C)cc1\n",
      "Unable to canonicalize  CCc1nn(Cc2ccc(cc2)-c2nc3[nH]c(OC)ccc3[nH]2)c(CC)c1CC(O)=O\n",
      "Unable to canonicalize  Cc1nn(Cc2ccc(cc2)-c2nc3c[nH]cnc3[nH]2)c(C)c1CC(O)=O\n",
      "Unable to canonicalize  CCc1nn(Cc2ccc(cc2F)-c2nc3c[nH]cc(C)c3[nH]2)c(CC)c1CC(O)=O\n",
      "Unable to canonicalize  CC(C)(C)C=C(C#N)C(=O)N1CCC(Cc2nc(C3CCC(CC3)Oc3ccccc3)c3c(N)ncnc23)C1\n"
     ]
    },
    {
     "name": "stderr",
     "output_type": "stream",
     "text": [
      "[22:10:37] Explicit valence for atom # 21 N, 4, is greater than permitted\n",
      "[22:10:37] Explicit valence for atom # 1 N, 4, is greater than permitted\n",
      "[22:10:37] Explicit valence for atom # 21 N, 4, is greater than permitted\n",
      "[22:10:37] Explicit valence for atom # 1 N, 4, is greater than permitted\n",
      "[22:10:37] Explicit valence for atom # 21 N, 4, is greater than permitted\n",
      "[22:10:37] Explicit valence for atom # 1 N, 4, is greater than permitted\n",
      "[22:10:37] Explicit valence for atom # 21 N, 4, is greater than permitted\n",
      "[22:10:37] Explicit valence for atom # 1 N, 4, is greater than permitted\n"
     ]
    },
    {
     "name": "stdout",
     "output_type": "stream",
     "text": [
      "Unable to canonicalize  C(N1CCC(CC1)c1nnn2cnc3[nH]ccc3c12)C1=C[N]2=C(S1)C=CC=C2\n",
      "Unable to canonicalize  [N-]=[N]=NC[C@H]1CC[C@@H](CC1)c1nnn2cnc3[nH]ccc3c12\n",
      "Unable to canonicalize  C(N1CCC(CC1)c1nnn2cnc3[nH]ccc3c12)C1=C[N]2=C(S1)C=CC=C2\n",
      "Unable to canonicalize  [N-]=[N]=NC[C@H]1CC[C@@H](CC1)c1nnn2cnc3[nH]ccc3c12\n",
      "Unable to canonicalize  C(N1CCC(CC1)c1nnn2cnc3[nH]ccc3c12)C1=C[N]2=C(S1)C=CC=C2\n",
      "Unable to canonicalize  [N-]=[N]=NC[C@H]1CC[C@@H](CC1)c1nnn2cnc3[nH]ccc3c12\n",
      "Unable to canonicalize  C(N1CCC(CC1)c1nnn2cnc3[nH]ccc3c12)C1=C[N]2=C(S1)C=CC=C2\n",
      "Unable to canonicalize  [N-]=[N]=NC[C@H]1CC[C@@H](CC1)c1nnn2cnc3[nH]ccc3c12\n"
     ]
    },
    {
     "name": "stderr",
     "output_type": "stream",
     "text": [
      "[22:10:38] Explicit valence for atom # 6 N, 4, is greater than permitted\n"
     ]
    },
    {
     "name": "stdout",
     "output_type": "stream",
     "text": [
      "Unable to canonicalize  COC1CC(C1)[N]1=CNc2cc(NC(=O)N[C@H](C)c3ccc(F)cc3)ncc12\n"
     ]
    },
    {
     "name": "stderr",
     "output_type": "stream",
     "text": [
      "[22:10:38] Explicit valence for atom # 32 N, 4, is greater than permitted\n",
      "[22:10:38] Can't kekulize mol.  Unkekulized atoms: 18 20 21 22 23\n",
      "[22:10:38] Can't kekulize mol.  Unkekulized atoms: 13 15 16 17 18\n",
      "[22:10:38] Can't kekulize mol.  Unkekulized atoms: 15 17 18 19 20\n",
      "[22:10:38] Can't kekulize mol.  Unkekulized atoms: 22 24 25 26 27\n"
     ]
    },
    {
     "name": "stdout",
     "output_type": "stream",
     "text": [
      "Unable to canonicalize  CN1C=C(c2cnc(N)c(n2)-c2ccc(C(=O)NCc3cccc(c3)S(C)(=O)=O)c(F)c2)[N](C)=C1\n",
      "Unable to canonicalize  O=C(N1CCN(CC1)c1ccc(cc1)C#N)n1sc2[nH]cccc2c1=O\n",
      "Unable to canonicalize  CC(=O)N1CCN(CC1)C(=O)n1sc2[nH]cccc2c1=O\n",
      "Unable to canonicalize  O=C(C1CC1)N1CCN(CC1)C(=O)n1sc2[nH]cccc2c1=O\n",
      "Unable to canonicalize  COc1ccc(cc1OC)C(=O)N1CCN(CC1)C(=O)n1sc2[nH]cccc2c1=O\n"
     ]
    },
    {
     "name": "stderr",
     "output_type": "stream",
     "text": [
      "[22:10:40] Explicit valence for atom # 9 N, 4, is greater than permitted\n",
      "[22:10:40] Explicit valence for atom # 10 N, 4, is greater than permitted\n",
      "[22:10:40] Can't kekulize mol.  Unkekulized atoms: 11 12 13 14 15\n"
     ]
    },
    {
     "name": "stdout",
     "output_type": "stream",
     "text": [
      "Unable to canonicalize  On1nnc2cc(CC[N]3=NNN=C3)ccc12\n",
      "Unable to canonicalize  On1ncc2cc(COC[N]3=NNN=C3)ccc12\n",
      "Unable to canonicalize  [O-]C(=O)CCN1C(=S)S\\C(=C/c2ccc(c2)-c2ccc(cc2)-c2ccccc2)C1=O\n"
     ]
    },
    {
     "name": "stderr",
     "output_type": "stream",
     "text": [
      "[22:10:41] Can't kekulize mol.  Unkekulized atoms: 10 11 12 13 14 15 16 17 18\n",
      "[22:10:41] Can't kekulize mol.  Unkekulized atoms: 1 2 3 4 5 6 7 8 9\n",
      "[22:10:41] Can't kekulize mol.  Unkekulized atoms: 1 2 3 14 15 16 17 18 19\n",
      "[22:10:41] Can't kekulize mol.  Unkekulized atoms: 1 2 5 6 7 8 9 10 11\n",
      "[22:10:41] Can't kekulize mol.  Unkekulized atoms: 10 11 12 20 21 22 23 24 25\n",
      "[22:10:41] Can't kekulize mol.  Unkekulized atoms: 5 6 7 18 19 20 21 22 23\n",
      "[22:10:41] Can't kekulize mol.  Unkekulized atoms: 7 8 9 20 21 22 23 24 25\n",
      "[22:10:41] Can't kekulize mol.  Unkekulized atoms: 10 11 12 13 14 15 16 17 18\n",
      "[22:10:41] Can't kekulize mol.  Unkekulized atoms: 10 11 12 13 14 15 16 17 18\n",
      "[22:10:41] Can't kekulize mol.  Unkekulized atoms: 10 11 12 13 14\n",
      "[22:10:41] Can't kekulize mol.  Unkekulized atoms: 10 11 12 13 14 15 16 17 18\n",
      "[22:10:41] Can't kekulize mol.  Unkekulized atoms: 1 2 3 4 5 6 7 8 9\n",
      "[22:10:41] Can't kekulize mol.  Unkekulized atoms: 1 2 3 14 15 16 17 18 19\n",
      "[22:10:41] Can't kekulize mol.  Unkekulized atoms: 10 11 12 13 14 15 16 17 18\n",
      "[22:10:41] Can't kekulize mol.  Unkekulized atoms: 1 2 3 4 5 6 7 8 9\n",
      "[22:10:41] Can't kekulize mol.  Unkekulized atoms: 1 2 3 14 15 16 17 18 19\n",
      "[22:10:41] Can't kekulize mol.  Unkekulized atoms: 1 2 5 6 7 8 9 10 11\n",
      "[22:10:41] Can't kekulize mol.  Unkekulized atoms: 10 11 12 20 21 22 23 24 25\n",
      "[22:10:41] Can't kekulize mol.  Unkekulized atoms: 5 6 7 18 19 20 21 22 23\n",
      "[22:10:41] Can't kekulize mol.  Unkekulized atoms: 7 8 9 20 21 22 23 24 25\n",
      "[22:10:41] Can't kekulize mol.  Unkekulized atoms: 10 11 12 13 14 15 16 17 18\n",
      "[22:10:41] Can't kekulize mol.  Unkekulized atoms: 10 11 12 13 14 15 16 17 18\n",
      "[22:10:41] Can't kekulize mol.  Unkekulized atoms: 10 11 12 13 14\n",
      "[22:10:41] Can't kekulize mol.  Unkekulized atoms: 10 11 12 13 14 15 16 17 18\n",
      "[22:10:41] Can't kekulize mol.  Unkekulized atoms: 1 2 3 4 5 6 7 8 9\n",
      "[22:10:41] Can't kekulize mol.  Unkekulized atoms: 1 2 3 14 15 16 17 18 19\n",
      "[22:10:41] Can't kekulize mol.  Unkekulized atoms: 10 11 12 20 21 22 23 24 25\n",
      "[22:10:41] Can't kekulize mol.  Unkekulized atoms: 5 6 7 18 19 20 21 22 23\n",
      "[22:10:41] Can't kekulize mol.  Unkekulized atoms: 7 8 9 20 21 22 23 24 25\n",
      "[22:10:41] Can't kekulize mol.  Unkekulized atoms: 10 11 12 13 14 15 16 17 18\n",
      "[22:10:41] Can't kekulize mol.  Unkekulized atoms: 1 2 3 4 5 6 7 8 9\n",
      "[22:10:41] Can't kekulize mol.  Unkekulized atoms: 1 2 3 14 15 16 17 18 19\n",
      "[22:10:41] Explicit valence for atom # 15 N, 4, is greater than permitted\n",
      "[22:10:41] Explicit valence for atom # 9 N, 4, is greater than permitted\n",
      "[22:10:41] Explicit valence for atom # 9 N, 4, is greater than permitted\n",
      "[22:10:41] Explicit valence for atom # 13 N, 4, is greater than permitted\n",
      "[22:10:41] Explicit valence for atom # 9 N, 4, is greater than permitted\n"
     ]
    },
    {
     "name": "stdout",
     "output_type": "stream",
     "text": [
      "Unable to canonicalize  ONC(=O)c1ccc(cc1)-c1ccc2ccccc12\n",
      "Unable to canonicalize  Cc1cc2ccccc2c1-c1ccc(cc1)C(=O)NO\n",
      "Unable to canonicalize  Cc1cc(-c2ccc(cc2)C(=O)NO)c2ccccc12\n",
      "Unable to canonicalize  Cc1c(CN)c2ccccc2c1-c1ccc(cc1)C(=O)NO\n",
      "Unable to canonicalize  ONC(=O)c1ccc(cc1)-c1cc(Cc2ccccc2)c2ccccc12\n",
      "Unable to canonicalize  CN(C)CCc1cc(-c2ccc(cc2)C(=O)NO)c2ccccc12\n",
      "Unable to canonicalize  CN1CCN(CCc2cc(-c3ccc(cc3)C(=O)NO)c3ccccc23)CC1\n",
      "Unable to canonicalize  ONC(=O)c1ccc(cc1)-c1cnc2cncnc12\n",
      "Unable to canonicalize  ONC(=O)c1ccc(cc1)-c1cnc2ncncc12\n",
      "Unable to canonicalize  ONC(=O)c1ccc(cc1)-c1cccc1\n",
      "Unable to canonicalize  ONC(=O)c1ccc(cc1)-c1ccc2ccccc12\n",
      "Unable to canonicalize  Cc1cc2ccccc2c1-c1ccc(cc1)C(=O)NO\n",
      "Unable to canonicalize  Cc1cc(-c2ccc(cc2)C(=O)NO)c2ccccc12\n",
      "Unable to canonicalize  ONC(=O)c1ccc(cc1)-c1ccc2ccccc12\n",
      "Unable to canonicalize  Cc1cc2ccccc2c1-c1ccc(cc1)C(=O)NO\n",
      "Unable to canonicalize  Cc1cc(-c2ccc(cc2)C(=O)NO)c2ccccc12\n",
      "Unable to canonicalize  Cc1c(CN)c2ccccc2c1-c1ccc(cc1)C(=O)NO\n",
      "Unable to canonicalize  ONC(=O)c1ccc(cc1)-c1cc(Cc2ccccc2)c2ccccc12\n",
      "Unable to canonicalize  CN(C)CCc1cc(-c2ccc(cc2)C(=O)NO)c2ccccc12\n",
      "Unable to canonicalize  CN1CCN(CCc2cc(-c3ccc(cc3)C(=O)NO)c3ccccc23)CC1\n",
      "Unable to canonicalize  ONC(=O)c1ccc(cc1)-c1cnc2cncnc12\n",
      "Unable to canonicalize  ONC(=O)c1ccc(cc1)-c1cnc2ncncc12\n",
      "Unable to canonicalize  ONC(=O)c1ccc(cc1)-c1cccc1\n",
      "Unable to canonicalize  ONC(=O)c1ccc(cc1)-c1ccc2ccccc12\n",
      "Unable to canonicalize  Cc1cc2ccccc2c1-c1ccc(cc1)C(=O)NO\n",
      "Unable to canonicalize  Cc1cc(-c2ccc(cc2)C(=O)NO)c2ccccc12\n",
      "Unable to canonicalize  ONC(=O)c1ccc(cc1)-c1cc(Cc2ccccc2)c2ccccc12\n",
      "Unable to canonicalize  CN(C)CCc1cc(-c2ccc(cc2)C(=O)NO)c2ccccc12\n",
      "Unable to canonicalize  CN1CCN(CCc2cc(-c3ccc(cc3)C(=O)NO)c3ccccc23)CC1\n",
      "Unable to canonicalize  ONC(=O)c1ccc(cc1)-c1ccc2ccccc12\n",
      "Unable to canonicalize  Cc1cc2ccccc2c1-c1ccc(cc1)C(=O)NO\n",
      "Unable to canonicalize  Cc1cc(-c2ccc(cc2)C(=O)NO)c2ccccc12\n",
      "Unable to canonicalize  CC(C)(C)OC(=O)N(C1CC1)C1=NC(=C[N]2=C(\\C=C3/NC(=O)NC3=O)C=NC12)c1cccc(OC(F)(F)F)c1\n",
      "Unable to canonicalize  O=C1NC(=O)\\C(N1)=C\\C1=[N]2C=C(N=C(NC3CC3)C2N=C1)C#Cc1ccccc1\n",
      "Unable to canonicalize  O=C1NC(=O)\\C(N1)=C\\C1=[N]2C=C(N=C(NC3CC3)C2N=C1)c1cccc(CN2CCOCC2)c1\n",
      "Unable to canonicalize  FC(F)(F)Oc1cccc(c1)C1=C[N]2=C(\\C=C3/NC(=O)NC3=O)C=NC2C(NC2CC2)=N1\n",
      "Unable to canonicalize  Fc1cccc(c1)C1=C[N]2=C(\\C=C3/NC(=O)NC3=O)C=NC2C(NC2CC2)=N1\n"
     ]
    },
    {
     "name": "stderr",
     "output_type": "stream",
     "text": [
      "[22:10:41] Explicit valence for atom # 15 N, 4, is greater than permitted\n",
      "[22:10:41] Explicit valence for atom # 9 N, 4, is greater than permitted\n",
      "[22:10:41] Explicit valence for atom # 9 N, 4, is greater than permitted\n",
      "[22:10:41] Explicit valence for atom # 13 N, 4, is greater than permitted\n",
      "[22:10:41] Explicit valence for atom # 9 N, 4, is greater than permitted\n"
     ]
    },
    {
     "name": "stdout",
     "output_type": "stream",
     "text": [
      "Unable to canonicalize  CC(C)(C)OC(=O)N(C1CC1)C1=NC(=C[N]2=C(\\C=C3/NC(=O)NC3=O)C=NC12)c1cccc(OC(F)(F)F)c1\n",
      "Unable to canonicalize  O=C1NC(=O)\\C(N1)=C\\C1=[N]2C=C(N=C(NC3CC3)C2N=C1)C#Cc1ccccc1\n",
      "Unable to canonicalize  O=C1NC(=O)\\C(N1)=C\\C1=[N]2C=C(N=C(NC3CC3)C2N=C1)c1cccc(CN2CCOCC2)c1\n",
      "Unable to canonicalize  FC(F)(F)Oc1cccc(c1)C1=C[N]2=C(\\C=C3/NC(=O)NC3=O)C=NC2C(NC2CC2)=N1\n",
      "Unable to canonicalize  Fc1cccc(c1)C1=C[N]2=C(\\C=C3/NC(=O)NC3=O)C=NC2C(NC2CC2)=N1\n"
     ]
    },
    {
     "name": "stderr",
     "output_type": "stream",
     "text": [
      "[22:10:42] Can't kekulize mol.  Unkekulized atoms: 27 28 29 30 33\n"
     ]
    },
    {
     "name": "stdout",
     "output_type": "stream",
     "text": [
      "Unable to canonicalize  Nc1c(Br)cnc2n(CC(=O)N3CCC(CO)C3)c(=O)c(cc12)C(=O)NCc1ccc(Cl)oc1\n"
     ]
    },
    {
     "name": "stderr",
     "output_type": "stream",
     "text": [
      "[22:10:42] Explicit valence for atom # 18 N, 4, is greater than permitted\n"
     ]
    },
    {
     "name": "stdout",
     "output_type": "stream",
     "text": [
      "Unable to canonicalize  CC(C)(O)c1nc(ncc1F)N1C[C@H]2CSC(N)=[N]([C@H]2C1)c1cnccn1\n"
     ]
    },
    {
     "name": "stderr",
     "output_type": "stream",
     "text": [
      "[22:10:43] Explicit valence for atom # 24 N, 4, is greater than permitted\n"
     ]
    },
    {
     "name": "stdout",
     "output_type": "stream",
     "text": [
      "Unable to canonicalize  FC(F)(F)c1cccc(Nc2ccc3C(CCCN4CCOCC4)[N](=Cc3c2)c2ccccc2)c1\n"
     ]
    },
    {
     "name": "stderr",
     "output_type": "stream",
     "text": [
      "[22:10:44] Explicit valence for atom # 16 N, 5, is greater than permitted\n"
     ]
    },
    {
     "name": "stdout",
     "output_type": "stream",
     "text": [
      "Unable to canonicalize  CC(C)NC(=O)[C@@H]1C[C@H]2C[C@H]2N1C(=O)C[N]1#[N]=C(C(C)=O)c2cc(OCc3ncccn3)ccc12\n"
     ]
    },
    {
     "name": "stderr",
     "output_type": "stream",
     "text": [
      "[22:10:45] Explicit valence for atom # 13 N, 4, is greater than permitted\n",
      "[22:10:45] Explicit valence for atom # 13 N, 4, is greater than permitted\n",
      "[22:10:45] Explicit valence for atom # 13 N, 4, is greater than permitted\n",
      "[22:10:45] Explicit valence for atom # 13 N, 4, is greater than permitted\n",
      "[22:10:45] Explicit valence for atom # 13 N, 4, is greater than permitted\n",
      "[22:10:45] Explicit valence for atom # 13 N, 4, is greater than permitted\n",
      "[22:10:45] Explicit valence for atom # 13 N, 4, is greater than permitted\n",
      "[22:10:45] Explicit valence for atom # 13 N, 4, is greater than permitted\n",
      "[22:10:45] Explicit valence for atom # 13 N, 4, is greater than permitted\n",
      "[22:10:45] Explicit valence for atom # 13 N, 4, is greater than permitted\n",
      "[22:10:45] Explicit valence for atom # 13 N, 4, is greater than permitted\n",
      "[22:10:45] Explicit valence for atom # 13 N, 4, is greater than permitted\n",
      "[22:10:45] Explicit valence for atom # 13 N, 4, is greater than permitted\n",
      "[22:10:45] Explicit valence for atom # 13 N, 4, is greater than permitted\n",
      "[22:10:45] Explicit valence for atom # 13 N, 4, is greater than permitted\n",
      "[22:10:45] Explicit valence for atom # 13 N, 4, is greater than permitted\n",
      "[22:10:45] Explicit valence for atom # 13 N, 4, is greater than permitted\n",
      "[22:10:45] Explicit valence for atom # 13 N, 4, is greater than permitted\n",
      "[22:10:45] Can't kekulize mol.  Unkekulized atoms: 7 8 9 10 11 12 14\n"
     ]
    },
    {
     "name": "stdout",
     "output_type": "stream",
     "text": [
      "Unable to canonicalize  NS(=O)(=O)c1nnc(s1)N1C(=O)C2=[N](N(C(=C2C(=O)c2ccccc2)c2ccccc2)c2cccc(c2)[N+]([O-])=O)[Co]11N(C(=O)C2=[N]1N(C(=C2C(=O)c1ccccc1)c1ccccc1)c1cccc(c1)[N+]([O-])=O)c1nnc(s1)S(N)(=O)=O\n",
      "Unable to canonicalize  NS(=O)(=O)c1nnc(s1)N1C(=O)C2=[N](N(C(=C2C(=O)c2ccccc2)c2ccccc2)c2cccc(c2)[N+]([O-])=O)[Ni]11N(C(=O)C2=[N]1N(C(=C2C(=O)c1ccccc1)c1ccccc1)c1cccc(c1)[N+]([O-])=O)c1nnc(s1)S(N)(=O)=O\n",
      "Unable to canonicalize  NS(=O)(=O)c1nnc(s1)N1C(=O)C2=[N](N(C(=C2C(=O)c2ccccc2)c2ccccc2)c2cccc(c2)[N+]([O-])=O)[Cu]11N(C(=O)C2=[N]1N(C(=C2C(=O)c1ccccc1)c1ccccc1)c1cccc(c1)[N+]([O-])=O)c1nnc(s1)S(N)(=O)=O\n",
      "Unable to canonicalize  NS(=O)(=O)c1nnc(s1)N1C(=O)C2=[N](N(C(=C2C(=O)c2ccccc2)c2ccccc2)c2cccc(c2)[N+]([O-])=O)[Co]11N(C(=O)C2=[N]1N(C(=C2C(=O)c1ccccc1)c1ccccc1)c1cccc(c1)[N+]([O-])=O)c1nnc(s1)S(N)(=O)=O\n",
      "Unable to canonicalize  NS(=O)(=O)c1nnc(s1)N1C(=O)C2=[N](N(C(=C2C(=O)c2ccccc2)c2ccccc2)c2cccc(c2)[N+]([O-])=O)[Ni]11N(C(=O)C2=[N]1N(C(=C2C(=O)c1ccccc1)c1ccccc1)c1cccc(c1)[N+]([O-])=O)c1nnc(s1)S(N)(=O)=O\n",
      "Unable to canonicalize  NS(=O)(=O)c1nnc(s1)N1C(=O)C2=[N](N(C(=C2C(=O)c2ccccc2)c2ccccc2)c2cccc(c2)[N+]([O-])=O)[Cu]11N(C(=O)C2=[N]1N(C(=C2C(=O)c1ccccc1)c1ccccc1)c1cccc(c1)[N+]([O-])=O)c1nnc(s1)S(N)(=O)=O\n",
      "Unable to canonicalize  NS(=O)(=O)c1nnc(s1)N1C(=O)C2=[N](N(C(=C2C(=O)c2ccccc2)c2ccccc2)c2cccc(c2)[N+]([O-])=O)[Co]11N(C(=O)C2=[N]1N(C(=C2C(=O)c1ccccc1)c1ccccc1)c1cccc(c1)[N+]([O-])=O)c1nnc(s1)S(N)(=O)=O\n",
      "Unable to canonicalize  NS(=O)(=O)c1nnc(s1)N1C(=O)C2=[N](N(C(=C2C(=O)c2ccccc2)c2ccccc2)c2cccc(c2)[N+]([O-])=O)[Ni]11N(C(=O)C2=[N]1N(C(=C2C(=O)c1ccccc1)c1ccccc1)c1cccc(c1)[N+]([O-])=O)c1nnc(s1)S(N)(=O)=O\n",
      "Unable to canonicalize  NS(=O)(=O)c1nnc(s1)N1C(=O)C2=[N](N(C(=C2C(=O)c2ccccc2)c2ccccc2)c2cccc(c2)[N+]([O-])=O)[Cu]11N(C(=O)C2=[N]1N(C(=C2C(=O)c1ccccc1)c1ccccc1)c1cccc(c1)[N+]([O-])=O)c1nnc(s1)S(N)(=O)=O\n",
      "Unable to canonicalize  NS(=O)(=O)c1nnc(s1)N1C(=O)C2=[N](N(C(=C2C(=O)c2ccccc2)c2ccccc2)c2cccc(c2)[N+]([O-])=O)[Co]11N(C(=O)C2=[N]1N(C(=C2C(=O)c1ccccc1)c1ccccc1)c1cccc(c1)[N+]([O-])=O)c1nnc(s1)S(N)(=O)=O\n",
      "Unable to canonicalize  NS(=O)(=O)c1nnc(s1)N1C(=O)C2=[N](N(C(=C2C(=O)c2ccccc2)c2ccccc2)c2cccc(c2)[N+]([O-])=O)[Ni]11N(C(=O)C2=[N]1N(C(=C2C(=O)c1ccccc1)c1ccccc1)c1cccc(c1)[N+]([O-])=O)c1nnc(s1)S(N)(=O)=O\n",
      "Unable to canonicalize  NS(=O)(=O)c1nnc(s1)N1C(=O)C2=[N](N(C(=C2C(=O)c2ccccc2)c2ccccc2)c2cccc(c2)[N+]([O-])=O)[Cu]11N(C(=O)C2=[N]1N(C(=C2C(=O)c1ccccc1)c1ccccc1)c1cccc(c1)[N+]([O-])=O)c1nnc(s1)S(N)(=O)=O\n",
      "Unable to canonicalize  NS(=O)(=O)c1nnc(s1)N1C(=O)C2=[N](N(C(=C2C(=O)c2ccccc2)c2ccccc2)c2cccc(c2)[N+]([O-])=O)[Co]11N(C(=O)C2=[N]1N(C(=C2C(=O)c1ccccc1)c1ccccc1)c1cccc(c1)[N+]([O-])=O)c1nnc(s1)S(N)(=O)=O\n",
      "Unable to canonicalize  NS(=O)(=O)c1nnc(s1)N1C(=O)C2=[N](N(C(=C2C(=O)c2ccccc2)c2ccccc2)c2cccc(c2)[N+]([O-])=O)[Ni]11N(C(=O)C2=[N]1N(C(=C2C(=O)c1ccccc1)c1ccccc1)c1cccc(c1)[N+]([O-])=O)c1nnc(s1)S(N)(=O)=O\n",
      "Unable to canonicalize  NS(=O)(=O)c1nnc(s1)N1C(=O)C2=[N](N(C(=C2C(=O)c2ccccc2)c2ccccc2)c2cccc(c2)[N+]([O-])=O)[Cu]11N(C(=O)C2=[N]1N(C(=C2C(=O)c1ccccc1)c1ccccc1)c1cccc(c1)[N+]([O-])=O)c1nnc(s1)S(N)(=O)=O\n",
      "Unable to canonicalize  NS(=O)(=O)c1nnc(s1)N1C(=O)C2=[N](N(C(=C2C(=O)c2ccccc2)c2ccccc2)c2cccc(c2)[N+]([O-])=O)[Co]11N(C(=O)C2=[N]1N(C(=C2C(=O)c1ccccc1)c1ccccc1)c1cccc(c1)[N+]([O-])=O)c1nnc(s1)S(N)(=O)=O\n",
      "Unable to canonicalize  NS(=O)(=O)c1nnc(s1)N1C(=O)C2=[N](N(C(=C2C(=O)c2ccccc2)c2ccccc2)c2cccc(c2)[N+]([O-])=O)[Ni]11N(C(=O)C2=[N]1N(C(=C2C(=O)c1ccccc1)c1ccccc1)c1cccc(c1)[N+]([O-])=O)c1nnc(s1)S(N)(=O)=O\n",
      "Unable to canonicalize  NS(=O)(=O)c1nnc(s1)N1C(=O)C2=[N](N(C(=C2C(=O)c2ccccc2)c2ccccc2)c2cccc(c2)[N+]([O-])=O)[Cu]11N(C(=O)C2=[N]1N(C(=C2C(=O)c1ccccc1)c1ccccc1)c1cccc(c1)[N+]([O-])=O)c1nnc(s1)S(N)(=O)=O\n",
      "Unable to canonicalize  CC(O)[C@@H]1O[C@H](n2cnc3c2nc(N)nc3=O)[C@](C)(F)[C@H]1O\n"
     ]
    },
    {
     "name": "stderr",
     "output_type": "stream",
     "text": [
      "[22:10:45] Can't kekulize mol.  Unkekulized atoms: 4 5 6 7 8 9 10 23 24\n",
      "[22:10:45] Can't kekulize mol.  Unkekulized atoms: 12 13 14 15 16 17 18 19 20\n",
      "[22:10:45] Explicit valence for atom # 1 N, 4, is greater than permitted\n",
      "[22:10:45] Explicit valence for atom # 1 N, 4, is greater than permitted\n"
     ]
    },
    {
     "name": "stdout",
     "output_type": "stream",
     "text": [
      "Unable to canonicalize  CC(C)Cc1ccc2nnc(-c3cc(ncn3)N3CCOCC3)c2c1\n",
      "Unable to canonicalize  C1CN(CCO1)c1cc(ncn1)-c1nnc2ccccc12\n",
      "Unable to canonicalize  C[N]1=NNN=C1C(NC(=O)c1cc(OCC(F)(F)F)c(cn1)C1CC1)C(C)(C)C\n",
      "Unable to canonicalize  C[N]1=NNN=C1C(NC(=O)c1cc(OCC(F)(F)F)c(cn1)C1CC1)C(C)(C)C\n"
     ]
    },
    {
     "name": "stderr",
     "output_type": "stream",
     "text": [
      "[22:10:45] Explicit valence for atom # 49 N, 4, is greater than permitted\n",
      "[22:10:45] Explicit valence for atom # 49 N, 4, is greater than permitted\n"
     ]
    },
    {
     "name": "stdout",
     "output_type": "stream",
     "text": [
      "Unable to canonicalize  COC(=O)N[C@@H](C(C)C)C(=O)N1C[C@@H](C)C[C@H]1c1nc2ccc(cc2c(=O)[nH]1)-c1ccc(c2CC3(CCCC3)Cc12)-c1ccc(cc1)C1=C[N](=CN1)[C@@H]1C[C@H](C)CN1C(=O)[C@@H](NC(=O)OC)C(C)C\n",
      "Unable to canonicalize  COC(=O)N[C@@H](C(C)C)C(=O)N1C[C@@H](C)C[C@H]1c1nc2ccc(cc2c(=O)[nH]1)-c1ccc(c2CC3(CCCC3)Cc12)-c1ccc(cc1)C1=C[N](=CN1)[C@@H]1C[C@H](C)CN1C(=O)[C@@H](NC(=O)OC)C(C)C\n"
     ]
    },
    {
     "name": "stderr",
     "output_type": "stream",
     "text": [
      "[22:10:46] Can't kekulize mol.  Unkekulized atoms: 12 13 14 15 16 18 19 20 21\n",
      "[22:10:46] Can't kekulize mol.  Unkekulized atoms: 12 13 14 15 16 18 19 20 21\n",
      "[22:10:46] Can't kekulize mol.  Unkekulized atoms: 27 28 29 30 31 32 38 39 40\n",
      "[22:10:46] Can't kekulize mol.  Unkekulized atoms: 27 28 29 30 31 32 38 39 40\n"
     ]
    },
    {
     "name": "stdout",
     "output_type": "stream",
     "text": [
      "Unable to canonicalize  COC(=O)C1CN(CCN1C(=O)c1cc2cc(F)ccc2n1)c1ccc(OC)cc1\n",
      "Unable to canonicalize  COC(=O)C1CN(CCN1C(=O)c1cc2cc(F)ccc2n1)c1ccc(OC)cc1\n",
      "Unable to canonicalize  CC(C)N(C[C@H]1O[C@H]([C@H](O)[C@@H]1O)n1cnc2c(N)ncnc12)[C@@H]1C[C@H](CCc2nc3ccc(OC(F)(F)F)cc3n2)C1\n",
      "Unable to canonicalize  CC(C)N(C[C@H]1O[C@H]([C@H](O)[C@@H]1O)n1cnc2c(N)ncnc12)[C@H]1C[C@H](CCc2nc3ccc(OC(F)(F)F)cc3n2)C1\n"
     ]
    },
    {
     "name": "stderr",
     "output_type": "stream",
     "text": [
      "[22:10:47] Explicit valence for atom # 17 N, 4, is greater than permitted\n",
      "[22:10:47] Explicit valence for atom # 17 N, 4, is greater than permitted\n",
      "[22:10:47] Explicit valence for atom # 17 N, 4, is greater than permitted\n",
      "[22:10:47] Explicit valence for atom # 17 N, 4, is greater than permitted\n",
      "[22:10:47] Explicit valence for atom # 17 N, 4, is greater than permitted\n",
      "[22:10:47] Explicit valence for atom # 17 N, 4, is greater than permitted\n",
      "[22:10:47] Explicit valence for atom # 21 N, 4, is greater than permitted\n"
     ]
    },
    {
     "name": "stdout",
     "output_type": "stream",
     "text": [
      "Unable to canonicalize  CC(C)(c1nc(nc2N3CCOC[C@H]3COc12)[N]1=C(N)Nc2ccccc12)S(C)(=O)=O\n",
      "Unable to canonicalize  CC(C)(c1nc(nc2N3CCOC[C@H]3COc12)[N]1=C(Nc2ccccc12)N1CCOCC1)S(C)(=O)=O\n",
      "Unable to canonicalize  CC(C)(c1nc(nc2N3CCOC[C@H]3COc12)[N]1=C(N)Nc2ccccc12)S(C)(=O)=O\n",
      "Unable to canonicalize  CC(C)(c1nc(nc2N3CCOC[C@H]3COc12)[N]1=C(Nc2ccccc12)N1CCOCC1)S(C)(=O)=O\n",
      "Unable to canonicalize  CC(C)(c1nc(nc2N3CCOC[C@H]3COc12)[N]1=C(N)Nc2ccccc12)S(C)(=O)=O\n",
      "Unable to canonicalize  CC(C)(c1nc(nc2N3CCOC[C@H]3COc12)[N]1=C(Nc2ccccc12)N1CCOCC1)S(C)(=O)=O\n",
      "Unable to canonicalize  FC(F)(F)CN1CCC(CC1)S(=O)c1ccc(CNC(=O)[N]2=Cc3ccncc3O2)nc1\n"
     ]
    },
    {
     "name": "stderr",
     "output_type": "stream",
     "text": [
      "[22:10:49] Can't kekulize mol.  Unkekulized atoms: 26 27 28 30 31\n"
     ]
    },
    {
     "name": "stdout",
     "output_type": "stream",
     "text": [
      "Unable to canonicalize  Cn1nccc1[C@H]1CCCCC[C@@H]1Oc1cc(F)c(c(F)c1)S(=O)(=O)Nc1cc[nH]cn1\n"
     ]
    },
    {
     "name": "stderr",
     "output_type": "stream",
     "text": [
      "[22:10:49] Can't kekulize mol.  Unkekulized atoms: 14 15 16 17 18\n",
      "[22:10:49] Explicit valence for atom # 19 N, 4, is greater than permitted\n"
     ]
    },
    {
     "name": "stdout",
     "output_type": "stream",
     "text": [
      "Unable to canonicalize  ONC(=O)CCCCn1cc(C(=O)Nc2cc(nn2)-c2ccccc2)c(=O)c2ccccc12\n",
      "Unable to canonicalize  CC(C)(C)OC(=O)c1ccc(cc1)-c1c(Cl)cc(N[N]2=CNC(N)=N2)cc1C(F)(F)F\n"
     ]
    },
    {
     "name": "stderr",
     "output_type": "stream",
     "text": [
      "[22:10:50] Can't kekulize mol.  Unkekulized atoms: 9 10 11 12 13 14 15 16 19\n"
     ]
    },
    {
     "name": "stdout",
     "output_type": "stream",
     "text": [
      "Unable to canonicalize  OC(=O)CCCNC(=O)c1ncc2c(ccnc2=O)c1O\n"
     ]
    },
    {
     "name": "stderr",
     "output_type": "stream",
     "text": [
      "[22:10:51] Can't kekulize mol.  Unkekulized atoms: 23 24 25\n",
      "[22:10:51] Can't kekulize mol.  Unkekulized atoms: 29 30 31\n",
      "[22:10:51] Can't kekulize mol.  Unkekulized atoms: 7 8 9 10 11\n",
      "[22:10:51] Can't kekulize mol.  Unkekulized atoms: 7 8 9 10 11\n",
      "[22:10:51] Can't kekulize mol.  Unkekulized atoms: 7 8 9 10 11\n",
      "[22:10:51] Can't kekulize mol.  Unkekulized atoms: 7 8 9 10 11\n",
      "[22:10:51] Can't kekulize mol.  Unkekulized atoms: 7 8 9 10 11\n",
      "[22:10:51] Can't kekulize mol.  Unkekulized atoms: 8 9 10 19 20\n",
      "[22:10:51] Can't kekulize mol.  Unkekulized atoms: 7 8 9 10 11\n",
      "[22:10:51] Can't kekulize mol.  Unkekulized atoms: 20 21 22 23 24\n",
      "[22:10:51] Can't kekulize mol.  Unkekulized atoms: 19 20 21 22 23\n",
      "[22:10:51] Can't kekulize mol.  Unkekulized atoms: 21 22 23 24 25\n",
      "[22:10:51] Can't kekulize mol.  Unkekulized atoms: 24 25 26 27 28\n",
      "[22:10:51] Can't kekulize mol.  Unkekulized atoms: 21 22 23 24 25\n",
      "[22:10:51] Can't kekulize mol.  Unkekulized atoms: 23 24 25 26 27\n",
      "[22:10:51] Can't kekulize mol.  Unkekulized atoms: 19 20 21 22 23\n",
      "[22:10:51] Can't kekulize mol.  Unkekulized atoms: 26 27 28 29 30\n",
      "[22:10:51] Can't kekulize mol.  Unkekulized atoms: 26 27 28 29 30\n",
      "[22:10:51] Can't kekulize mol.  Unkekulized atoms: 26 27 28 29 30\n",
      "[22:10:51] Can't kekulize mol.  Unkekulized atoms: 7 8 9 10 11\n",
      "[22:10:51] Can't kekulize mol.  Unkekulized atoms: 9 10 11 20 21\n",
      "[22:10:51] Can't kekulize mol.  Unkekulized atoms: 7 8 9 10 11\n",
      "[22:10:51] Can't kekulize mol.  Unkekulized atoms: 7 8 9 10 11\n",
      "[22:10:51] Can't kekulize mol.  Unkekulized atoms: 7 8 9 10 11\n",
      "[22:10:51] Can't kekulize mol.  Unkekulized atoms: 7 8 9 10 11\n",
      "[22:10:51] Can't kekulize mol.  Unkekulized atoms: 7 8 9 10 11\n",
      "[22:10:51] Can't kekulize mol.  Unkekulized atoms: 7 8 9 10 11\n",
      "[22:10:51] Can't kekulize mol.  Unkekulized atoms: 7 8 9 10 11\n",
      "[22:10:51] Can't kekulize mol.  Unkekulized atoms: 7 8 9 10 11\n",
      "[22:10:51] Can't kekulize mol.  Unkekulized atoms: 7 8 9 10 11\n",
      "[22:10:51] Can't kekulize mol.  Unkekulized atoms: 7 8 9 10 11\n",
      "[22:10:51] Can't kekulize mol.  Unkekulized atoms: 7 8 9 10 11\n",
      "[22:10:51] Can't kekulize mol.  Unkekulized atoms: 7 8 9 10 11\n",
      "[22:10:51] Can't kekulize mol.  Unkekulized atoms: 7 8 9 10 11\n",
      "[22:10:51] Can't kekulize mol.  Unkekulized atoms: 7 8 9 10 11\n",
      "[22:10:51] Can't kekulize mol.  Unkekulized atoms: 7 8 9 10 11\n",
      "[22:10:51] Can't kekulize mol.  Unkekulized atoms: 6 7 8 17 18\n",
      "[22:10:51] Can't kekulize mol.  Unkekulized atoms: 20 21 22 23 24\n",
      "[22:10:51] Can't kekulize mol.  Unkekulized atoms: 15 16 17 18 19\n",
      "[22:10:51] Can't kekulize mol.  Unkekulized atoms: 22 23 24 25 26\n",
      "[22:10:51] Can't kekulize mol.  Unkekulized atoms: 25 26 27 28 29\n",
      "[22:10:51] Can't kekulize mol.  Unkekulized atoms: 13 14 15 16 17\n",
      "[22:10:51] Can't kekulize mol.  Unkekulized atoms: 11 12 13 22 23\n",
      "[22:10:51] Can't kekulize mol.  Unkekulized atoms: 13 14 15 24 25\n",
      "[22:10:51] Can't kekulize mol.  Unkekulized atoms: 8 9 10 19 20\n",
      "[22:10:51] Can't kekulize mol.  Unkekulized atoms: 8 9 10 19 20\n",
      "[22:10:51] Can't kekulize mol.  Unkekulized atoms: 23 24 25 26 27\n"
     ]
    },
    {
     "name": "stdout",
     "output_type": "stream",
     "text": [
      "Unable to canonicalize  CC1(C)C[C@@H](C[C@@H]2CCCN12)Nc1nc(Nc2cccc(c2)-n2nnnc2=O)ncc1F\n",
      "Unable to canonicalize  COc1ccc(Nc2ncc(F)c(N[C@@H]3C[C@@H]4CCCN4C(C)(C)C3)n2)cc1-n1nnnc1=O\n",
      "Unable to canonicalize  Clc1ccc(CNc2cc(nn2)-c2cccn(Cc3ccccc3Cl)c2=O)s1\n",
      "Unable to canonicalize  Clc1ccc(CNc2cc(nn2)-c2cccn(Cc3cccc(Cl)c3)c2=O)s1\n",
      "Unable to canonicalize  Clc1ccc(CNc2cc(nn2)-c2cccn(Cc3ccc(Cl)cc3)c2=O)s1\n",
      "Unable to canonicalize  Clc1ccc(CNc2cc(nn2)-c2cccn(Cc3ccc(Cl)s3)c2=O)s1\n",
      "Unable to canonicalize  Clc1ccc(CNc2cc(nn2)-c2cccn(Cc3ccccc3)c2=O)s1\n",
      "Unable to canonicalize  OC(=O)n1cccc(-c2cc(NCc3ccc(Cl)s3)nn2)c1=O\n",
      "Unable to canonicalize  Clc1ccc(CNc2cc(nn2)-c2cccn(CC#N)c2=O)s1\n",
      "Unable to canonicalize  Clc1ccc(CNc2cc(nn2C(=O)c2ccccc2)-c2cccnc2=O)s1\n",
      "Unable to canonicalize  CC(C)(C)C(=O)n1nc(cc1NCc1ccc(Cl)s1)-c1cccnc1=O\n",
      "Unable to canonicalize  COCC(C)(C)C(=O)n1nc(cc1NCc1ccc(Cl)s1)-c1cccnc1=O\n",
      "Unable to canonicalize  Clc1ccc(CNc2cc(nn2C(=O)c2cccc3OCCOc23)-c2cccnc2=O)s1\n",
      "Unable to canonicalize  COc1ccc(C(=O)n2nc(cc2NCc2ccc(Cl)s2)-c2cccnc2=O)c(OC)c1\n",
      "Unable to canonicalize  COc1ccccc1C(=O)n1nc(cc1NCc1ccc(Cl)s1)-c1cccnc1=O\n",
      "Unable to canonicalize  Clc1ccc(CNc2cc(nn2C(=O)c2ccsc2)-c2cccnc2=O)s1\n",
      "Unable to canonicalize  Clc1ccc(CNc2cc(nn2C(=O)c2ccccc2N2CCOCC2)-c2cccnc2=O)s1\n",
      "Unable to canonicalize  COCCOc1ccccc1C(=O)n1nc(cc1NCc1ccc(Cl)s1)-c1cccnc1=O\n",
      "Unable to canonicalize  Clc1ccc(CNc2cc(nn2C(=O)c2ccc(cc2)N2CCOCC2)-c2cccnc2=O)s1\n",
      "Unable to canonicalize  Clc1ccc(CNc2cc(nn2)-c2cccn(Cc3nnn[nH]3)c2=O)s1\n",
      "Unable to canonicalize  COCCn1cccc(-c2cc(NCc3ccc(Cl)s3)nn2)c1=O\n",
      "Unable to canonicalize  Clc1ccc(CNc2cc(nn2)-c2cccn(CCc3ccccc3)c2=O)s1\n",
      "Unable to canonicalize  Clc1ccc(CNc2cc(nn2)-c2cccn(Cc3ccco3)c2=O)s1\n",
      "Unable to canonicalize  Clc1ccc(CNc2cc(nn2)-c2cccn(Cc3ccoc3)c2=O)s1\n",
      "Unable to canonicalize  Clc1ccc(CNc2cc(nn2)-c2cccn(Cc3cccc4ccccc34)c2=O)s1\n",
      "Unable to canonicalize  Clc1ccc(CNc2cc(nn2)-c2cccn(Cc3ccc4ccccc4c3)c2=O)s1\n",
      "Unable to canonicalize  Clc1ccc(CNc2cc(nn2)-c2cccn(Cc3cccnn3)c2=O)s1\n",
      "Unable to canonicalize  Clc1ccc(CNc2cc(nn2)-c2cccn(Cc3ccccn3)c2=O)s1\n",
      "Unable to canonicalize  Clc1ccc(CNc2cc(nn2)-c2cccn(Cc3cccnc3)c2=O)s1\n",
      "Unable to canonicalize  Clc1ccc(CNc2cc(nn2)-c2cccn(Cc3ccncc3)c2=O)s1\n",
      "Unable to canonicalize  Clc1ccc(CNc2cc(nn2)-c2cccn(Cc3ncccn3)c2=O)s1\n",
      "Unable to canonicalize  Clc1ccc(CNc2cc(nn2)-c2cccn(Cc3cccs3)c2=O)s1\n",
      "Unable to canonicalize  Clc1ccc(CNc2cc(nn2)-c2cccn(Cc3ccsc3)c2=O)s1\n",
      "Unable to canonicalize  Clc1ccc(CNc2cc(nn2)-c2cccn(CC(=O)N3CCOCC3)c2=O)s1\n",
      "Unable to canonicalize  Clc1ccc(CNc2cc(nn2)-c2cccn(CCN3CCOCC3)c2=O)s1\n",
      "Unable to canonicalize  Clc1ccc(CNc2cc(nn2)-c2cccn(CCc3ccccn3)c2=O)s1\n",
      "Unable to canonicalize  Cn1cccc(-c2cc(NCc3ccc(Cl)s3)nn2)c1=O\n",
      "Unable to canonicalize  O=C(c1ccco1)n1nc(cc1NCc1ccccc1)-c1cccnc1=O\n",
      "Unable to canonicalize  CN(C)c1cc(nn1C(=O)c1ccco1)-c1cccnc1=O\n",
      "Unable to canonicalize  Nc1ccccc1C(=O)n1nc(cc1NCc1ccc(Cl)s1)-c1cccnc1=O\n",
      "Unable to canonicalize  CC(C)(C)c1ccc(cc1)C(=O)n1nc(cc1NCc1ccc(Cl)s1)-c1cccnc1=O\n",
      "Unable to canonicalize  Nc1cc(nn1C(=O)c1ccco1)-c1cccnc1=O\n",
      "Unable to canonicalize  CCOC(=O)Cn1cccc(-c2cc(NCc3ccc(Cl)s3)nn2)c1=O\n",
      "Unable to canonicalize  CC(C)(C)OC(=O)Cn1cccc(-c2cc(NCc3ccc(Cl)s3)nn2)c1=O\n",
      "Unable to canonicalize  OC(=O)n1cccc(-c2cc(NCc3ccc(Cl)s3)nn2)c1=O\n",
      "Unable to canonicalize  OC(=O)n1cccc(-c2cc(NCc3ccc(Cl)s3)nn2)c1=O\n",
      "Unable to canonicalize  COc1ccccc1C(=O)n1nc(cc1NCc1ccc(Cl)s1)-c1cccnc1=O\n"
     ]
    },
    {
     "name": "stderr",
     "output_type": "stream",
     "text": [
      "[22:10:51] Can't kekulize mol.  Unkekulized atoms: 23 24 25 26 27\n",
      "[22:10:51] Can't kekulize mol.  Unkekulized atoms: 7 8 9 10 11\n",
      "[22:10:51] Can't kekulize mol.  Unkekulized atoms: 7 8 9 10 11\n",
      "[22:10:51] Can't kekulize mol.  Unkekulized atoms: 7 8 9 10 11\n",
      "[22:10:51] Can't kekulize mol.  Unkekulized atoms: 20 21 22 23 24\n"
     ]
    },
    {
     "name": "stdout",
     "output_type": "stream",
     "text": [
      "Unable to canonicalize  COc1ccccc1C(=O)n1nc(cc1NCc1ccc(Cl)s1)-c1cccnc1=O\n",
      "Unable to canonicalize  Clc1ccc(CNc2cc(nn2)-c2cccn(Cc3ccccn3)c2=O)s1\n",
      "Unable to canonicalize  Clc1ccc(CNc2cc(nn2)-c2cccn(Cc3ccncc3)c2=O)s1\n",
      "Unable to canonicalize  Clc1ccc(CNc2cc(nn2)-c2cccn(CCc3ccccn3)c2=O)s1\n",
      "Unable to canonicalize  O=C(c1ccco1)n1nc(cc1NCc1ccccc1)-c1cccnc1=O\n",
      "Unable to canonicalize  CCc1ccc(Cl)cc1-c1nc(cc1C#N)-c1cc(N)ncn1\n",
      "Unable to canonicalize  CCc1ccc(Cl)cc1-c1nc(cc1C#N)-c1cc(N)ncn1\n",
      "Unable to canonicalize  Cc1ccc(Cl)cc1-c1cc(nc1C(N)=O)-c1ncnc2[nH]ccc12\n",
      "Unable to canonicalize  Cc1ccc(Cl)cc1-c1cc(nc1C(N)=O)-c1ncnc2[nH]ccc12\n",
      "Unable to canonicalize  CCc1ccc(Cl)cc1-c1cc(nc1C(N)=O)-c1ncnc2[nH]ccc12\n",
      "Unable to canonicalize  CCc1ccc(Cl)cc1-c1cc(nc1C(N)=O)-c1ncnc2[nH]ccc12\n",
      "Unable to canonicalize  CCc1ccc(cc1-c1cc(nc1C(N)=O)-c1ncnc2[nH]ccc12)C(F)(F)F\n",
      "Unable to canonicalize  CCc1ccc(cc1-c1cc(nc1C(N)=O)-c1ncnc2[nH]ccc12)C(F)(F)F\n",
      "Unable to canonicalize  CNc1cc(ncn1)-c1cc(C(N)=O)c(n1)-c1cc(Cl)ccc1C\n",
      "Unable to canonicalize  CNc1cc(ncn1)-c1cc(C(N)=O)c(n1)-c1cc(Cl)ccc1C\n",
      "Unable to canonicalize  Cc1ccc(Cl)cc1-c1nc(cc1C(N)=O)-c1ncnc2[nH]ccc12\n",
      "Unable to canonicalize  Cc1ccc(Cl)cc1-c1nc(cc1C(N)=O)-c1ncnc2[nH]ccc12\n",
      "Unable to canonicalize  Cc1ccc(Cl)cc1-c1nc(cc1C(N)=O)-c1nc[nH]c2nccc12\n",
      "Unable to canonicalize  Cc1ccc(Cl)cc1-c1nc(cc1C(N)=O)-c1nc[nH]c2nccc12\n",
      "Unable to canonicalize  CCc1ccc(Cl)cc1-c1nc(cc1C(N)=O)-c1cc(N)ncn1\n",
      "Unable to canonicalize  CCc1ccc(Cl)cc1-c1nc(cc1C(N)=O)-c1cc(N)ncn1\n",
      "Unable to canonicalize  CNc1cc(ncn1)-c1cc(C(N)=O)c(n1)-c1cc(Cl)ccc1C\n",
      "Unable to canonicalize  CNc1cc(ncn1)-c1cc(C(N)=O)c(n1)-c1cc(Cl)ccc1C\n",
      "Unable to canonicalize  CCc1ccc(Cl)cc1-c1nc(cc1C(N)=O)-c1ncnc2[nH]ccc12\n",
      "Unable to canonicalize  CCc1ccc(Cl)cc1-c1nc(cc1C(N)=O)-c1ncnc2[nH]ccc12\n",
      "Unable to canonicalize  NC(=O)c1cc(nc1-c1cc(ccc1Cl)C(F)(F)F)-c1cc(N)ncn1\n",
      "Unable to canonicalize  NC(=O)c1cc(nc1-c1cc(ccc1Cl)C(F)(F)F)-c1cc(N)ncn1\n",
      "Unable to canonicalize  CNc1cc(ncn1)-c1cc(C(N)=O)c(n1)-c1cc(ccc1Cl)C(F)(F)F\n",
      "Unable to canonicalize  CNc1cc(ncn1)-c1cc(C(N)=O)c(n1)-c1cc(ccc1Cl)C(F)(F)F\n",
      "Unable to canonicalize  NC(=O)c1cc(nc1-c1cc(ccc1Cl)C(F)(F)F)-c1ncnc2[nH]ccc12\n",
      "Unable to canonicalize  NC(=O)c1cc(nc1-c1cc(ccc1Cl)C(F)(F)F)-c1ncnc2[nH]ccc12\n",
      "Unable to canonicalize  Cc1ccc(cc1-c1nc(cc1C(N)=O)-c1cc(N)ncn1)C(F)(F)F\n",
      "Unable to canonicalize  Cc1ccc(cc1-c1nc(cc1C(N)=O)-c1cc(N)ncn1)C(F)(F)F\n",
      "Unable to canonicalize  CNc1cc(ncn1)-c1cc(C(N)=O)c(n1)-c1cc(ccc1C)C(F)(F)F\n",
      "Unable to canonicalize  CNc1cc(ncn1)-c1cc(C(N)=O)c(n1)-c1cc(ccc1C)C(F)(F)F\n",
      "Unable to canonicalize  Cc1ccc(cc1-c1nc(cc1C(N)=O)-c1ncnc2[nH]ccc12)C(F)(F)F\n",
      "Unable to canonicalize  Cc1ccc(cc1-c1nc(cc1C(N)=O)-c1ncnc2[nH]ccc12)C(F)(F)F\n",
      "Unable to canonicalize  CCc1ccc(cc1-c1nc(cc1C(N)=O)-c1cc(N)ncn1)C(F)(F)F\n",
      "Unable to canonicalize  CCc1ccc(cc1-c1nc(cc1C(N)=O)-c1cc(N)ncn1)C(F)(F)F\n",
      "Unable to canonicalize  CCc1ccc(cc1-c1nc(cc1C(N)=O)-c1cc(NC)ncn1)C(F)(F)F\n",
      "Unable to canonicalize  CCc1ccc(cc1-c1nc(cc1C(N)=O)-c1cc(NC)ncn1)C(F)(F)F\n",
      "Unable to canonicalize  CCc1ccc(cc1-c1nc(cc1C(N)=O)-c1ncnc2[nH]ccc12)C(F)(F)F\n",
      "Unable to canonicalize  CCc1ccc(cc1-c1nc(cc1C(N)=O)-c1ncnc2[nH]ccc12)C(F)(F)F\n",
      "Unable to canonicalize  Cc1ccc(Cl)cc1-n1cn(cc1C(N)=O)-c1ncnc2CCNc12\n"
     ]
    },
    {
     "name": "stderr",
     "output_type": "stream",
     "text": [
      "[22:10:51] Can't kekulize mol.  Unkekulized atoms: 9 10 11 12 13\n",
      "[22:10:51] Can't kekulize mol.  Unkekulized atoms: 9 10 11 12 13\n",
      "[22:10:51] Can't kekulize mol.  Unkekulized atoms: 8 9 10 11 12\n",
      "[22:10:51] Can't kekulize mol.  Unkekulized atoms: 8 9 10 11 12\n",
      "[22:10:51] Can't kekulize mol.  Unkekulized atoms: 9 10 11 12 13\n",
      "[22:10:51] Can't kekulize mol.  Unkekulized atoms: 9 10 11 12 13\n",
      "[22:10:51] Can't kekulize mol.  Unkekulized atoms: 8 9 10 11 12\n",
      "[22:10:51] Can't kekulize mol.  Unkekulized atoms: 8 9 10 11 12\n",
      "[22:10:51] Can't kekulize mol.  Unkekulized atoms: 8 9 10 14 15\n",
      "[22:10:51] Can't kekulize mol.  Unkekulized atoms: 8 9 10 14 15\n",
      "[22:10:51] Can't kekulize mol.  Unkekulized atoms: 8 9 10 11 12\n",
      "[22:10:51] Can't kekulize mol.  Unkekulized atoms: 8 9 10 11 12\n",
      "[22:10:51] Can't kekulize mol.  Unkekulized atoms: 8 9 10 11 12\n",
      "[22:10:51] Can't kekulize mol.  Unkekulized atoms: 8 9 10 11 12\n",
      "[22:10:51] Can't kekulize mol.  Unkekulized atoms: 9 10 11 12 13\n",
      "[22:10:51] Can't kekulize mol.  Unkekulized atoms: 9 10 11 12 13\n",
      "[22:10:51] Can't kekulize mol.  Unkekulized atoms: 8 9 10 14 15\n",
      "[22:10:51] Can't kekulize mol.  Unkekulized atoms: 8 9 10 14 15\n",
      "[22:10:51] Can't kekulize mol.  Unkekulized atoms: 9 10 11 12 13\n",
      "[22:10:51] Can't kekulize mol.  Unkekulized atoms: 9 10 11 12 13\n",
      "[22:10:51] Can't kekulize mol.  Unkekulized atoms: 3 4 5 6 7\n",
      "[22:10:51] Can't kekulize mol.  Unkekulized atoms: 3 4 5 6 7\n",
      "[22:10:51] Can't kekulize mol.  Unkekulized atoms: 8 9 10 14 15\n",
      "[22:10:51] Can't kekulize mol.  Unkekulized atoms: 8 9 10 14 15\n",
      "[22:10:51] Can't kekulize mol.  Unkekulized atoms: 3 4 5 6 7\n",
      "[22:10:51] Can't kekulize mol.  Unkekulized atoms: 3 4 5 6 7\n",
      "[22:10:51] Can't kekulize mol.  Unkekulized atoms: 7 8 9 10 11\n",
      "[22:10:51] Can't kekulize mol.  Unkekulized atoms: 7 8 9 10 11\n",
      "[22:10:51] Can't kekulize mol.  Unkekulized atoms: 8 9 10 14 15\n",
      "[22:10:51] Can't kekulize mol.  Unkekulized atoms: 8 9 10 14 15\n",
      "[22:10:51] Can't kekulize mol.  Unkekulized atoms: 7 8 9 10 11\n",
      "[22:10:51] Can't kekulize mol.  Unkekulized atoms: 7 8 9 10 11\n",
      "[22:10:51] Can't kekulize mol.  Unkekulized atoms: 8 9 10 11 12\n",
      "[22:10:51] Can't kekulize mol.  Unkekulized atoms: 8 9 10 11 12\n",
      "[22:10:51] Can't kekulize mol.  Unkekulized atoms: 8 9 10 11 12\n",
      "[22:10:51] Can't kekulize mol.  Unkekulized atoms: 8 9 10 11 12\n",
      "[22:10:51] Can't kekulize mol.  Unkekulized atoms: 8 9 10 11 12\n",
      "[22:10:51] Can't kekulize mol.  Unkekulized atoms: 8 9 10 11 12\n",
      "[22:10:51] Can't kekulize mol.  Unkekulized atoms: 9 11 12\n",
      "[22:10:51] Can't kekulize mol.  Unkekulized atoms: 9 11 12\n",
      "[22:10:51] Can't kekulize mol.  Unkekulized atoms: 10 12 13\n",
      "[22:10:51] Can't kekulize mol.  Unkekulized atoms: 10 12 13\n",
      "[22:10:51] Can't kekulize mol.  Unkekulized atoms: 3 4 6\n",
      "[22:10:51] Can't kekulize mol.  Unkekulized atoms: 3 4 6\n",
      "[22:10:51] Can't kekulize mol.  Unkekulized atoms: 8 9 10 11 12\n",
      "[22:10:51] Can't kekulize mol.  Unkekulized atoms: 9 10 11 12 13\n",
      "[22:10:51] Can't kekulize mol.  Unkekulized atoms: 8 9 10 11 12\n",
      "[22:10:51] Can't kekulize mol.  Unkekulized atoms: 8 9 10 14 15\n",
      "[22:10:51] Can't kekulize mol.  Unkekulized atoms: 8 9 10 11 12\n",
      "[22:10:51] Can't kekulize mol.  Unkekulized atoms: 8 9 10 11 12\n",
      "[22:10:51] Can't kekulize mol.  Unkekulized atoms: 9 10 11 12 13\n",
      "[22:10:51] Can't kekulize mol.  Unkekulized atoms: 8 9 10 14 15\n",
      "[22:10:51] Can't kekulize mol.  Unkekulized atoms: 9 10 11 12 13\n",
      "[22:10:51] Can't kekulize mol.  Unkekulized atoms: 7 8 9 10 11\n",
      "[22:10:51] Can't kekulize mol.  Unkekulized atoms: 8 9 10 11 12\n",
      "[22:10:51] Can't kekulize mol.  Unkekulized atoms: 8 9 10 11 12\n",
      "[22:10:51] Can't kekulize mol.  Unkekulized atoms: 8 9 10 11 12\n",
      "[22:10:51] Can't kekulize mol.  Unkekulized atoms: 9 11 12\n",
      "[22:10:51] Can't kekulize mol.  Unkekulized atoms: 10 12 13\n",
      "[22:10:51] Can't kekulize mol.  Unkekulized atoms: 3 4 6\n"
     ]
    },
    {
     "name": "stdout",
     "output_type": "stream",
     "text": [
      "Unable to canonicalize  Cc1ccc(Cl)cc1-n1cn(cc1C(N)=O)-c1ncnc2CCNc12\n",
      "Unable to canonicalize  CCc1ccc(Cl)cc1-n1cn(cc1C(N)=O)-c1ncnc2CCNc12\n",
      "Unable to canonicalize  CCc1ccc(Cl)cc1-n1cn(cc1C(N)=O)-c1ncnc2CCNc12\n",
      "Unable to canonicalize  NC(=O)c1cn(cn1-c1cc(ccc1Cl)C(F)(F)F)-c1ncnc2C=NCc12\n",
      "Unable to canonicalize  NC(=O)c1cn(cn1-c1cc(ccc1Cl)C(F)(F)F)-c1ncnc2C=NCc12\n",
      "Unable to canonicalize  Cc1ccc(Cl)cc1-c1cc(nc1C(N)=O)-c1ncnc2[nH]ccc12\n",
      "Unable to canonicalize  CCc1ccc(Cl)cc1-c1cc(nc1C(N)=O)-c1ncnc2[nH]ccc12\n",
      "Unable to canonicalize  CCc1ccc(cc1-c1cc(nc1C(N)=O)-c1ncnc2[nH]ccc12)C(F)(F)F\n",
      "Unable to canonicalize  CNc1cc(ncn1)-c1cc(C(N)=O)c(n1)-c1cc(Cl)ccc1C\n",
      "Unable to canonicalize  Cc1ccc(Cl)cc1-c1nc(cc1C(N)=O)-c1ncnc2[nH]ccc12\n",
      "Unable to canonicalize  Cc1ccc(Cl)cc1-c1nc(cc1C(N)=O)-c1nc[nH]c2nccc12\n",
      "Unable to canonicalize  CCc1ccc(Cl)cc1-c1nc(cc1C(N)=O)-c1cc(N)ncn1\n",
      "Unable to canonicalize  CNc1cc(ncn1)-c1cc(C(N)=O)c(n1)-c1cc(Cl)ccc1C\n",
      "Unable to canonicalize  CCc1ccc(Cl)cc1-c1nc(cc1C(N)=O)-c1ncnc2[nH]ccc12\n",
      "Unable to canonicalize  Cc1ccc(cc1-c1nc(cc1C(N)=O)-c1ncnc2[nH]ccc12)C(F)(F)F\n",
      "Unable to canonicalize  CCc1ccc(cc1-c1nc(cc1C(N)=O)-c1cc(N)ncn1)C(F)(F)F\n",
      "Unable to canonicalize  CCc1ccc(cc1-c1nc(cc1C(N)=O)-c1cc(NC)ncn1)C(F)(F)F\n",
      "Unable to canonicalize  CCc1ccc(cc1-c1nc(cc1C(N)=O)-c1ncnc2[nH]ccc12)C(F)(F)F\n",
      "Unable to canonicalize  Cc1ccc(Cl)cc1-n1cn(cc1C(N)=O)-c1ncnc2CCNc12\n",
      "Unable to canonicalize  CCc1ccc(Cl)cc1-n1cn(cc1C(N)=O)-c1ncnc2CCNc12\n",
      "Unable to canonicalize  NC(=O)c1cn(cn1-c1cc(ccc1Cl)C(F)(F)F)-c1ncnc2C=NCc12\n"
     ]
    },
    {
     "name": "stderr",
     "output_type": "stream",
     "text": [
      "[22:10:52] Can't kekulize mol.  Unkekulized atoms: 14 15 16\n",
      "[22:10:52] Can't kekulize mol.  Unkekulized atoms: 23 25 26\n",
      "[22:10:52] Can't kekulize mol.  Unkekulized atoms: 23 24 25 26 27\n",
      "[22:10:52] Can't kekulize mol.  Unkekulized atoms: 7 8 9\n",
      "[22:10:52] Can't kekulize mol.  Unkekulized atoms: 21 22 24 25 26\n",
      "[22:10:52] Can't kekulize mol.  Unkekulized atoms: 21 22 24 25 26\n",
      "[22:10:52] Can't kekulize mol.  Unkekulized atoms: 21 22 24 25 26\n",
      "[22:10:52] Can't kekulize mol.  Unkekulized atoms: 21 22 24 25 26\n",
      "[22:10:52] Can't kekulize mol.  Unkekulized atoms: 21 22 24 25 26\n",
      "[22:10:52] Can't kekulize mol.  Unkekulized atoms: 21 22 24 25 26\n",
      "[22:10:52] Can't kekulize mol.  Unkekulized atoms: 21 22 24 25 26\n"
     ]
    },
    {
     "name": "stdout",
     "output_type": "stream",
     "text": [
      "Unable to canonicalize  CC(C)c1nn(cc1CN1CCn2[nH]nnc2C1c1ccc(F)cc1)-c1ccccc1\n",
      "Unable to canonicalize  Clc1cccc(Cl)c1NC(=O)N1CCN(CC1)c1ccc(cc1)-c1[nH]cnn1CCc1ccccc1\n",
      "Unable to canonicalize  Clc1cccc(Cl)c1NC(=O)N1CCN(CC1)c1ccc(cc1)-c1ncnn1\n",
      "Unable to canonicalize  Cc1ccc(cc1)-c1nc([nH]o1)-c1ccc(cc1)N1CCN(CC1)C(=O)Nc1ccccc1Cl\n",
      "Unable to canonicalize  COc1cc2c(cc1-c1c(C)noc1C)[nH]c1ccnc(-c3c(C)nnc3-c3ccccc3)c21\n",
      "Unable to canonicalize  COc1cc2c(cc1-c1c(C)noc1C)[nH]c1ccnc(-c3c(C)nnc3-c3ccccc3)c21\n",
      "Unable to canonicalize  COc1cc2c(cc1-c1c(C)noc1C)[nH]c1ccnc(-c3c(C)nnc3-c3ccccc3)c21\n",
      "Unable to canonicalize  COc1cc2c(cc1-c1c(C)noc1C)[nH]c1ccnc(-c3c(C)nnc3-c3ccccc3)c21\n",
      "Unable to canonicalize  COc1cc2c(cc1-c1c(C)noc1C)[nH]c1ccnc(-c3c(C)nnc3-c3ccccc3)c21\n",
      "Unable to canonicalize  COc1cc2c(cc1-c1c(C)noc1C)[nH]c1ccnc(-c3c(C)nnc3-c3ccccc3)c21\n",
      "Unable to canonicalize  COc1cc2c(cc1-c1c(C)noc1C)[nH]c1ccnc(-c3c(C)nnc3-c3ccccc3)c21\n"
     ]
    },
    {
     "name": "stderr",
     "output_type": "stream",
     "text": [
      "[22:10:52] Can't kekulize mol.  Unkekulized atoms: 21 22 24 25 26\n",
      "[22:10:52] Can't kekulize mol.  Unkekulized atoms: 21 22 24 25 26\n",
      "[22:10:52] Can't kekulize mol.  Unkekulized atoms: 21 22 24 25 26\n",
      "[22:10:52] Can't kekulize mol.  Unkekulized atoms: 21 22 24 25 26\n",
      "[22:10:52] Can't kekulize mol.  Unkekulized atoms: 21 22 24 25 26\n",
      "[22:10:52] Can't kekulize mol.  Unkekulized atoms: 8 9 11 12 13\n",
      "[22:10:52] Can't kekulize mol.  Unkekulized atoms: 8 9 11 12 13\n",
      "[22:10:52] Can't kekulize mol.  Unkekulized atoms: 8 9 11 12 13\n",
      "[22:10:52] Can't kekulize mol.  Unkekulized atoms: 8 9 11 12 13\n",
      "[22:10:52] Can't kekulize mol.  Unkekulized atoms: 8 9 11 12 13\n",
      "[22:10:52] Can't kekulize mol.  Unkekulized atoms: 8 9 11 12 13\n",
      "[22:10:52] Can't kekulize mol.  Unkekulized atoms: 2 3 4 5 6\n",
      "[22:10:52] Can't kekulize mol.  Unkekulized atoms: 16 17 18 19 20\n",
      "[22:10:52] Can't kekulize mol.  Unkekulized atoms: 6 7 8 9 22\n",
      "[22:10:52] Can't kekulize mol.  Unkekulized atoms: 10 11 12 13 14\n",
      "[22:10:52] Can't kekulize mol.  Unkekulized atoms: 10 11 12 13 14\n",
      "[22:10:52] Can't kekulize mol.  Unkekulized atoms: 10 11 12 13 14\n",
      "[22:10:52] Can't kekulize mol.  Unkekulized atoms: 6 7 8 9 22\n",
      "[22:10:52] Can't kekulize mol.  Unkekulized atoms: 10 11 12 13 14\n",
      "[22:10:52] Can't kekulize mol.  Unkekulized atoms: 11 12 13 14 15\n",
      "[22:10:52] Can't kekulize mol.  Unkekulized atoms: 11 12 13 14 15\n",
      "[22:10:52] Can't kekulize mol.  Unkekulized atoms: 11 12 13 14 15\n",
      "[22:10:52] Can't kekulize mol.  Unkekulized atoms: 11 12 13 14 15\n",
      "[22:10:52] Can't kekulize mol.  Unkekulized atoms: 1 2 3 4 5\n",
      "[22:10:52] Can't kekulize mol.  Unkekulized atoms: 2 3 19 21 22\n"
     ]
    },
    {
     "name": "stdout",
     "output_type": "stream",
     "text": [
      "Unable to canonicalize  COc1cc2c(cc1-c1c(C)noc1C)[nH]c1ccnc(-c3c(C)nnc3-c3ccccc3)c21\n",
      "Unable to canonicalize  COc1cc2c(cc1-c1c(C)noc1C)[nH]c1ccnc(-c3c(C)nnc3-c3ccccc3)c21\n",
      "Unable to canonicalize  COc1cc2c(cc1-c1c(C)noc1C)[nH]c1ccnc(-c3c(C)nnc3-c3ccccc3)c21\n",
      "Unable to canonicalize  COc1cc2c(cc1-c1c(C)noc1C)[nH]c1ccnc(-c3c(C)nnc3-c3ccccc3)c21\n",
      "Unable to canonicalize  COc1cc2c(cc1-c1c(C)noc1C)[nH]c1ccnc(-c3c(C)nnc3-c3ccccc3)c21\n",
      "Unable to canonicalize  COc1cc2c(cc1-c1c(C)nnc1C)[nH]c1ccnc(Cl)c21\n",
      "Unable to canonicalize  COc1cc2c(cc1-c1c(C)nnc1C)[nH]c1ccnc(Cl)c21\n",
      "Unable to canonicalize  COc1cc2c(cc1-c1c(C)nnc1C)[nH]c1ccnc(Cl)c21\n",
      "Unable to canonicalize  COc1cc2c(cc1-c1c(C)nnc1C)[nH]c1ccnc(Cl)c21\n",
      "Unable to canonicalize  COc1cc2c(cc1-c1c(C)nnc1C)[nH]c1ccnc(Cl)c21\n",
      "Unable to canonicalize  COc1cc2c(cc1-c1c(C)nnc1C)[nH]c1ccnc(Cl)c21\n",
      "Unable to canonicalize  Cn1cc(ccc1C(N)=O)S(=O)(=O)c1ccc(CN\\C(Nc2ccncc2)=N/C#N)cc1\n",
      "Unable to canonicalize  Cc1cc(C)n2cc(CCc3nc(cn3C)-c3ccnc3)nc2n1\n",
      "Unable to canonicalize  Cc1ccc(o1)-c1cnc(CCC2=NN3C(N2)C=CC=C3C)n1\n",
      "Unable to canonicalize  CC1=CC=CC2NC(CCc3ncc(n3)-c3ccsc3)=NN12\n",
      "Unable to canonicalize  CC1=CC=CC2NC(CCc3ncc(n3)-c3cccnc3)=NN12\n",
      "Unable to canonicalize  CC1=CC=CC2NC(CCc3ncc(n3)-c3cccnc3)=NN12\n",
      "Unable to canonicalize  Cc1cscc1-c1cnc(CCC2=NN3C(N2)C=CC=C3C)n1\n",
      "Unable to canonicalize  CC1=CC=CN2N=C(CCc3ncc(n3)-c3cccnc3)NC12\n",
      "Unable to canonicalize  COC1=CC=CN2N=C(CCc3ncc(n3)-c3cncs3)NC12\n",
      "Unable to canonicalize  COC1=CC=CN2N=C(CCc3ncc(n3)-c3cccnc3)NC12\n",
      "Unable to canonicalize  COC1=CC=CN2N=C(CCc3ncc(n3)-c3cccs3)NC12\n",
      "Unable to canonicalize  COC1=CC=CN2N=C(CCc3ncc(n3)-c3ccc(C)o3)NC12\n",
      "Unable to canonicalize  Cc1cc(nc1Cc1ccccc1)C(=O)NCc1ccc(CN)cc1\n",
      "Unable to canonicalize  CCc1c(Cc2ccc(Cn3ccccc3=O)cc2)c(C)cc1C(=O)NCc1c(C)cc(CN)cc1C\n",
      "Unable to canonicalize  Cc1cc(nc1Cc1ccccc1)C(=O)NCc1ccc(CN)cc1\n",
      "Unable to canonicalize  CCc1c(Cc2ccc(Cn3ccccc3=O)cc2)c(C)cc1C(=O)NCc1c(C)cc(CN)cc1C\n"
     ]
    },
    {
     "name": "stderr",
     "output_type": "stream",
     "text": [
      "[22:10:52] Can't kekulize mol.  Unkekulized atoms: 1 2 3 4 5\n",
      "[22:10:52] Can't kekulize mol.  Unkekulized atoms: 2 3 19 21 22\n",
      "[22:10:53] Can't kekulize mol.  Unkekulized atoms: 1 2 3 4 5\n",
      "[22:10:53] Explicit valence for atom # 15 N, 4, is greater than permitted\n"
     ]
    },
    {
     "name": "stdout",
     "output_type": "stream",
     "text": [
      "Unable to canonicalize  Cc1cc(nn1)-c1cc(C(=O)Nc2ccc(F)cn2)c2ncnn2c1\n",
      "Unable to canonicalize  C[C@@H](Nc1nc(nc2nc(C3=C(C)N(C)[N](C)=C3)n(Cc3ccc(cc3)C(F)(F)F)c12)C(O)=O)C1CCC1\n"
     ]
    },
    {
     "name": "stderr",
     "output_type": "stream",
     "text": [
      "[22:10:54] Explicit valence for atom # 1 N, 4, is greater than permitted\n",
      "[22:10:54] Explicit valence for atom # 14 N, 4, is greater than permitted\n",
      "[22:10:54] Explicit valence for atom # 6 N, 4, is greater than permitted\n",
      "[22:10:54] Explicit valence for atom # 6 N, 4, is greater than permitted\n"
     ]
    },
    {
     "name": "stdout",
     "output_type": "stream",
     "text": [
      "Unable to canonicalize  C[N]1=C(OC(=C1)c1cccc(Nc2nccc(n2)-c2cccnc2)c1)N1CCNC(=O)C11CC1\n",
      "Unable to canonicalize  Cc1ccnc(Nc2cccc(C3=C[N](C)=C(O3)N3CCNC(=O)C33CC3)c2C)n1\n",
      "Unable to canonicalize  COc1cc2C[N](C)(C)CCc2cc1Nc1ncc(Cl)c(Nc2ccccc2S(=O)(=O)C(C)C)n1\n",
      "Unable to canonicalize  COc1cc2C[N](C)(C)CCc2cc1Nc1ncc(Cl)c(Nc2ccccc2S(=O)(=O)C(C)C)n1\n"
     ]
    },
    {
     "name": "stderr",
     "output_type": "stream",
     "text": [
      "[22:10:54] Explicit valence for atom # 1 N, 4, is greater than permitted\n",
      "[22:10:54] Explicit valence for atom # 1 N, 4, is greater than permitted\n",
      "[22:10:54] Explicit valence for atom # 1 N, 4, is greater than permitted\n",
      "[22:10:55] Explicit valence for atom # 1 N, 4, is greater than permitted\n",
      "[22:10:55] Explicit valence for atom # 1 N, 4, is greater than permitted\n",
      "[22:10:55] Explicit valence for atom # 1 N, 4, is greater than permitted\n",
      "[22:10:55] Can't kekulize mol.  Unkekulized atoms: 1 2 3 5 6 7 8 9 10\n",
      "[22:10:55] Can't kekulize mol.  Unkekulized atoms: 4 5 6 7 8 9 11 12 14\n",
      "[22:10:55] Can't kekulize mol.  Unkekulized atoms: 1 2 3 5 6 7 8 9 10\n"
     ]
    },
    {
     "name": "stdout",
     "output_type": "stream",
     "text": [
      "Unable to canonicalize  C[N]1(C)CC(C1)c1ccc(cc1)-c1ccc(c(c1-c1nn[nH]n1)S(N)(=O)=O)C(F)(F)F\n",
      "Unable to canonicalize  C[N]1(C)CC(C1)c1ccc(cc1)-c1ccc(c(c1-c1nn[nH]n1)S(N)(=O)=O)C(F)(F)F\n",
      "Unable to canonicalize  C[N]1(C)CC(C1)c1ccc(cc1)-c1ccc(c(c1-c1nn[nH]n1)S(N)(=O)=O)C(F)(F)F\n",
      "Unable to canonicalize  C[N]1(C)CCC(Cc2ccc(-c3ccc(cc3)C3CNC3)c(-c3nn[nH]n3)c2S(N)(=O)=O)CC1\n",
      "Unable to canonicalize  C[N]1(C)CCC(Cc2ccc(-c3ccc(cc3)C3CNC3)c(-c3nn[nH]n3)c2S(N)(=O)=O)CC1\n",
      "Unable to canonicalize  C[N]1(C)CCC(Cc2ccc(-c3ccc(cc3)C3CNC3)c(-c3nn[nH]n3)c2S(N)(=O)=O)CC1\n",
      "Unable to canonicalize  Cc1nc(N)c2c(cnc2n1)C(N)=O\n",
      "Unable to canonicalize  COC(=O)c1cnc2nc(C)nc(Cl)c12\n",
      "Unable to canonicalize  Cc1nc(N)c2ccnc2n1\n"
     ]
    },
    {
     "name": "stderr",
     "output_type": "stream",
     "text": [
      "[22:10:55] Explicit valence for atom # 3 N, 4, is greater than permitted\n",
      "[22:10:55] Explicit valence for atom # 3 N, 4, is greater than permitted\n"
     ]
    },
    {
     "name": "stdout",
     "output_type": "stream",
     "text": [
      "Unable to canonicalize  CN1C=[N](C)C=C1c1ccc(C[C@H](NC(=O)[C@H]2N[C@@H]3CC[C@H]2C3)C#N)c(F)c1\n",
      "Unable to canonicalize  CN1C=[N](C)C=C1c1ccc(C[C@H](NC(=O)[C@H]2N[C@@H]3CC[C@H]2C3)C#N)c(F)c1\n"
     ]
    },
    {
     "name": "stderr",
     "output_type": "stream",
     "text": [
      "[22:10:56] Can't kekulize mol.  Unkekulized atoms: 1 2 3 4 27\n",
      "[22:10:56] Can't kekulize mol.  Unkekulized atoms: 6 7 8 9 10 11 12 13 14\n",
      "[22:10:56] Explicit valence for atom # 5 N, 4, is greater than permitted\n",
      "[22:10:56] Explicit valence for atom # 5 N, 4, is greater than permitted\n",
      "[22:10:56] Explicit valence for atom # 8 N, 4, is greater than permitted\n"
     ]
    },
    {
     "name": "stdout",
     "output_type": "stream",
     "text": [
      "Unable to canonicalize  Oc1cnc(Cn2cnc(c(Oc3cc(Cl)cc(c3)C#N)c2=O)C(F)(F)F)c[nH]1\n",
      "Unable to canonicalize  Cn1nc(cc1-c1nc2cnc(cc2n1)-c1ccccc1OC(F)(F)F)C(C)(C)C\n",
      "Unable to canonicalize  NC1=NC=C[N]2=C(NC(=C12)c1ccc(cc1)C(=O)Nc1cc(ccn1)C1CC1)[C@@H]1CCCN(C1)C(=O)N1CCCC1\n",
      "Unable to canonicalize  NC1=NC=C[N]2=C(NC(=C12)c1ccc(cc1)C(=O)Nc1cc(ccn1)C1CC1)[C@@H]1CCCN(C1)C(=O)OC1=CCCC=C1\n",
      "Unable to canonicalize  CC1(C)CC2C[C@@]3(C[N]23c2cc(nc3c(nccc23)-c2ccn[nH]2)N2CCOCC2)C1\n"
     ]
    },
    {
     "name": "stderr",
     "output_type": "stream",
     "text": [
      "[22:10:56] Can't kekulize mol.  Unkekulized atoms: 19 20 21 22 24\n",
      "[22:10:56] Can't kekulize mol.  Unkekulized atoms: 19 20 21 22 24\n",
      "[22:10:56] Can't kekulize mol.  Unkekulized atoms: 19 20 21 23 25\n",
      "[22:10:56] Can't kekulize mol.  Unkekulized atoms: 19 20 21 23 24\n",
      "[22:10:56] Can't kekulize mol.  Unkekulized atoms: 19 20 22 23 24\n",
      "[22:10:56] Can't kekulize mol.  Unkekulized atoms: 19 20 22 23 24\n",
      "[22:10:56] Can't kekulize mol.  Unkekulized atoms: 19 20 21 23 25\n",
      "[22:10:56] Can't kekulize mol.  Unkekulized atoms: 19 20 21 23 25\n",
      "[22:10:56] Can't kekulize mol.  Unkekulized atoms: 19 20 21 23 25\n",
      "[22:10:56] Explicit valence for atom # 41 N, 4, is greater than permitted\n"
     ]
    },
    {
     "name": "stdout",
     "output_type": "stream",
     "text": [
      "Unable to canonicalize  Cc1nc(nc2[nH]nc(N)c12)-c1ccc(NS(=O)(=O)c2ccc(Br)cs2)cc1\n",
      "Unable to canonicalize  Cc1nc(nc2[nH]nc(N)c12)-c1ccc(NS(=O)(=O)c2ccc(Cl)cs2)cc1\n",
      "Unable to canonicalize  Cc1nc(nc2[nH]nc(N)c12)-c1ccc(NS(=O)(=O)c2cc(Cl)c(Cl)cs2)cc1\n",
      "Unable to canonicalize  Cc1nc(nc2[nH]nc(N)c12)-c1ccc(NS(=O)(=O)c2cc(Br)ccs2)cc1\n",
      "Unable to canonicalize  Cc1nc(nc2[nH]nc(N)c12)-c1ccc(NS(=O)(=O)c2csccc2Br)cc1\n",
      "Unable to canonicalize  Cc1nc(nc2[nH]nc(N)c12)-c1ccc(NS(=O)(=O)c2csccc2Cl)cc1\n",
      "Unable to canonicalize  Cc1nc(nc2[nH]nc(N)c12)-c1ccc(NS(=O)(=O)c2cc(Cl)csc2Cl)cc1\n",
      "Unable to canonicalize  COc1nc(nc2[nH]ncc12)-c1ccc(NS(=O)(=O)c2cc(Cl)c(Cl)cs2)cc1\n",
      "Unable to canonicalize  COc1nc(nc2[nH]ncc12)-c1ccc(NS(=O)(=O)c2cc(Cl)csc2Cl)cc1\n",
      "Unable to canonicalize  COc1cccc(OC)c1-n1c(NS(=O)(=O)[C@@H](C)[C@H](C)c2ncc(F)cn2)nnc1C1=CC=CC(c2ccccc2)=[N]1O\n"
     ]
    },
    {
     "name": "stderr",
     "output_type": "stream",
     "text": [
      "[22:10:58] Explicit valence for atom # 0 N, 4, is greater than permitted\n",
      "[22:10:58] Explicit valence for atom # 0 N, 4, is greater than permitted\n",
      "[22:10:58] Explicit valence for atom # 0 N, 4, is greater than permitted\n",
      "[22:10:58] Explicit valence for atom # 1 N, 4, is greater than permitted\n"
     ]
    },
    {
     "name": "stdout",
     "output_type": "stream",
     "text": [
      "Unable to canonicalize  [H][N](C)(C(=O)C1CNCCOC1)C(C)(C)c1noc2c(Cl)cccc12\n",
      "Unable to canonicalize  [H][N](C)(C(=O)C1CNCCOC1)C(C)(C)c1noc2c(Cl)cccc12\n",
      "Unable to canonicalize  [H][N](C)(C(=O)C1CNCCOC1)C(C)(C)c1noc2c(Cl)cccc12\n",
      "Unable to canonicalize  C[N]1=CNC(=C1)c1ccc(Cn2cc(C(=O)N[C@H]3CCCC[C@@H]3O)c3ncccc23)cc1\n"
     ]
    },
    {
     "name": "stderr",
     "output_type": "stream",
     "text": [
      "[22:10:58] Explicit valence for atom # 41 N, 4, is greater than permitted\n",
      "[22:10:58] Explicit valence for atom # 41 N, 4, is greater than permitted\n",
      "[22:10:58] Explicit valence for atom # 41 N, 4, is greater than permitted\n"
     ]
    },
    {
     "name": "stdout",
     "output_type": "stream",
     "text": [
      "Unable to canonicalize  OCC(=O)N1C2CCC1CC(C2)Oc1ccc(cc1C#N)C1=NC(Nc2ccc(cc2)N2CCN(CC2)C2COC2)=[N]=CN1\n",
      "Unable to canonicalize  OCC(=O)N1C2CCC1CC(C2)Oc1ccc(cc1C#N)C1=NC(Nc2ccc(cc2)N2CCN(CC2)C2COC2)=[N]=CN1\n",
      "Unable to canonicalize  OCC(=O)N1C2CCC1CC(C2)Oc1ccc(cc1C#N)C1=NC(Nc2ccc(cc2)N2CCN(CC2)C2COC2)=[N]=CN1\n"
     ]
    },
    {
     "name": "stderr",
     "output_type": "stream",
     "text": [
      "[22:10:59] Explicit valence for atom # 8 N, 4, is greater than permitted\n"
     ]
    },
    {
     "name": "stdout",
     "output_type": "stream",
     "text": [
      "Unable to canonicalize  OC(=O)C(F)(F)F.C[N]1=C(C(NC(=O)c2csc3ncc(N[C@@H]4CCCC[C@@H]4N)nc23)=CN1)C(F)(F)F\n"
     ]
    },
    {
     "name": "stderr",
     "output_type": "stream",
     "text": [
      "[22:10:59] Explicit valence for atom # 9 N, 4, is greater than permitted\n",
      "[22:11:00] Explicit valence for atom # 27 N, 4, is greater than permitted\n"
     ]
    },
    {
     "name": "stdout",
     "output_type": "stream",
     "text": [
      "Unable to canonicalize  OC1Nc2ccc(cc2[N]2=NN=NN12)-c1ccc(CNc2ncccc2C(=O)NCc2ccc(F)c(F)c2)s1\n",
      "Unable to canonicalize  C[C@H](NC(=O)c1nc(cnc1NCc1ccc(cc1)C1=C2N(C=CN=C2N)[N](C)=C1)C#N)c1ccc(F)c(F)c1\n"
     ]
    },
    {
     "name": "stderr",
     "output_type": "stream",
     "text": [
      "[22:11:00] Explicit valence for atom # 1 N, 4, is greater than permitted\n"
     ]
    },
    {
     "name": "stdout",
     "output_type": "stream",
     "text": [
      "Unable to canonicalize  C[N]1=CC(=CN1)c1cc(-c2ccc(nc2)N2CCN(CC2)S(=O)(=O)CC2CC2)c2c(cnn2c1)C#N\n"
     ]
    },
    {
     "name": "stderr",
     "output_type": "stream",
     "text": [
      "[22:11:00] Explicit valence for atom # 20 N, 4, is greater than permitted\n",
      "[22:11:00] Explicit valence for atom # 20 N, 4, is greater than permitted\n",
      "[22:11:00] Explicit valence for atom # 19 N, 4, is greater than permitted\n",
      "[22:11:00] Explicit valence for atom # 19 N, 4, is greater than permitted\n",
      "[22:11:00] Explicit valence for atom # 20 N, 4, is greater than permitted\n",
      "[22:11:00] Explicit valence for atom # 20 N, 4, is greater than permitted\n",
      "[22:11:00] Explicit valence for atom # 24 N, 4, is greater than permitted\n"
     ]
    },
    {
     "name": "stdout",
     "output_type": "stream",
     "text": [
      "Unable to canonicalize  CC(=O)Nc1ccc(C(=O)COC(=O)C2(O)CCC3=C2[N]([O-])=CC(=C3)c2cc(Cl)ccc2NC(=O)OC(C)(C)C)c(F)n1\n",
      "Unable to canonicalize  CC(=O)Nc1ccc(C(=O)COC(=O)C2(O)CCC3=C2[N]([O-])=CC(=C3)c2cc(Cl)ccc2NC(=O)OC(C)(C)C)c(F)n1\n",
      "Unable to canonicalize  CC(C)(C)OC(=O)Nc1ccc(Cl)cc1C1=CC2=C([N]([O-])=C1)C(O)(CC2)c1nc(Cl)c([nH]1)-c1ccc(s1)C(=O)OC(C)(C)C\n",
      "Unable to canonicalize  CC(C)(C)OC(=O)Nc1ccc(Cl)cc1C1=CC2=C([N]([O-])=C1)C(O)(CC2)c1nc(Cl)c([nH]1)-c1ccc(s1)C(=O)OC(C)(C)C\n",
      "Unable to canonicalize  COC(=O)c1scc(C(=O)COC(=O)C2(O)CCC3=C2[N]([O-])=CC(=C3)c2cc(Cl)ccc2NC(=O)OC(C)(C)C)c1F\n",
      "Unable to canonicalize  COC(=O)c1scc(C(=O)COC(=O)C2(O)CCC3=C2[N]([O-])=CC(=C3)c2cc(Cl)ccc2NC(=O)OC(C)(C)C)c1F\n",
      "Unable to canonicalize  COC(=O)Nc1ccc(cc1)-c1cnc(o1)C1(O)CCC2=CC(=C[N](O)=C12)c1c(F)c(Cl)ccc1-n1cnnn1\n"
     ]
    },
    {
     "name": "stderr",
     "output_type": "stream",
     "text": [
      "[22:11:01] Can't kekulize mol.  Unkekulized atoms: 7 8 9 10 11 12 13 14 15\n",
      "[22:11:01] Can't kekulize mol.  Unkekulized atoms: 29 30 31 32 33\n",
      "[22:11:01] Can't kekulize mol.  Unkekulized atoms: 29 30 31 32 33\n"
     ]
    },
    {
     "name": "stdout",
     "output_type": "stream",
     "text": [
      "Unable to canonicalize  OC(=O)CNC(=O)c1cnc2ccccc2c1=O\n",
      "Unable to canonicalize  CC1Cc2cc(ccc2C(N1CC(C)(C)F)c1c(F)cc(\\C=C\\C(O)=O)cc1F)-c1cnnc1\n",
      "Unable to canonicalize  C[C@@H]1Cc2cc(ccc2[C@H](N1CC(C)(C)F)c1c(F)cc(\\C=C\\C(O)=O)cc1F)-c1cnnc1\n"
     ]
    },
    {
     "name": "stderr",
     "output_type": "stream",
     "text": [
      "[22:11:01] Can't kekulize mol.  Unkekulized atoms: 3 4 8\n",
      "[22:11:01] Can't kekulize mol.  Unkekulized atoms: 2 3 23\n",
      "[22:11:01] Can't kekulize mol.  Unkekulized atoms: 18 19 23\n",
      "[22:11:01] Can't kekulize mol.  Unkekulized atoms: 18 19 23\n",
      "[22:11:01] Can't kekulize mol.  Unkekulized atoms: 13 14 18\n",
      "[22:11:01] Can't kekulize mol.  Unkekulized atoms: 13 14 18\n",
      "[22:11:01] Can't kekulize mol.  Unkekulized atoms: 13 14 18\n",
      "[22:11:01] Can't kekulize mol.  Unkekulized atoms: 3 20 24\n",
      "[22:11:01] Can't kekulize mol.  Unkekulized atoms: 1 2 24\n",
      "[22:11:01] Can't kekulize mol.  Unkekulized atoms: 1 2 23\n",
      "[22:11:01] Can't kekulize mol.  Unkekulized atoms: 1 2 23\n",
      "[22:11:01] Can't kekulize mol.  Unkekulized atoms: 17 18 22\n",
      "[22:11:01] Can't kekulize mol.  Unkekulized atoms: 17 18 22\n",
      "[22:11:01] Can't kekulize mol.  Unkekulized atoms: 15 16 20\n",
      "[22:11:01] Can't kekulize mol.  Unkekulized atoms: 1 2 27\n"
     ]
    },
    {
     "name": "stdout",
     "output_type": "stream",
     "text": [
      "Unable to canonicalize  CCn1c(c(C)c(=O)nc1=O)-c1ccc(Oc2ncccc2Cl)cc1C\n",
      "Unable to canonicalize  CCc1c(-c2ccc(Oc3ncccc3Cl)cc2C)n(C)c(=O)nc1=O\n",
      "Unable to canonicalize  Cc1cc(Oc2ncccc2C(F)(F)F)ccc1-c1c(C)c(=O)nc(=O)n1C\n",
      "Unable to canonicalize  Cc1cc(Oc2ncccc2C(F)(F)F)ccc1-c1c(C)c(=O)nc(=O)n1C\n",
      "Unable to canonicalize  Cc1cnc(Oc2ccc(c(C)c2)-c2c(C)c(=O)nc(=O)n2C)c(Cl)c1\n",
      "Unable to canonicalize  Cc1cnc(Oc2ccc(c(C)c2)-c2c(C)c(=O)nc(=O)n2C)c(Cl)c1\n",
      "Unable to canonicalize  Cc1ccnc(Oc2ccc(cc2)-c2c(C)c(=O)nc(=O)n2C)c1Cl\n",
      "Unable to canonicalize  CCn1c(-c2ccc(Oc3ncccc3C(F)F)cc2)c(C)c(=O)nc1=O\n",
      "Unable to canonicalize  Cc1c(-c2ccc(Oc3ncccc3OC(F)F)cc2)n(C)c(=O)nc1=O\n",
      "Unable to canonicalize  Cc1c(-c2ccc(Oc3ncccc3C(F)F)cc2)n(C)c(=O)nc1=O\n",
      "Unable to canonicalize  Cc1c(-c2ccc(Oc3ncccc3C(F)F)cc2)n(C)c(=O)nc1=O\n",
      "Unable to canonicalize  Cc1cc(Oc2ncccc2C(F)F)ccc1-c1c(C)c(=O)nc(=O)n1C\n",
      "Unable to canonicalize  Cc1cc(Oc2ncccc2C(F)F)ccc1-c1c(C)c(=O)nc(=O)n1C\n",
      "Unable to canonicalize  Cc1cc(Oc2ncccc2Cl)ccc1-c1c(C)c(=O)nc(=O)n1C\n",
      "Unable to canonicalize  Cc1c(-c2ccc(Oc3ncccc3C(F)(F)F)c3[nH]ccc23)n(C)c(=O)nc1=O\n"
     ]
    },
    {
     "name": "stderr",
     "output_type": "stream",
     "text": [
      "[22:11:02] Explicit valence for atom # 1 N, 4, is greater than permitted\n",
      "[22:11:02] Explicit valence for atom # 1 N, 4, is greater than permitted\n",
      "[22:11:02] Explicit valence for atom # 1 N, 4, is greater than permitted\n"
     ]
    },
    {
     "name": "stdout",
     "output_type": "stream",
     "text": [
      "Unable to canonicalize  [O-][N]1=CC(=CC=C1)c1cnc(NCc2c3CCOc3ccc2F)n2cnnc12\n",
      "Unable to canonicalize  [O-][N]1=CC(=CC=C1)c1cnc(NCc2c3CCOc3ccc2F)n2cnnc12\n",
      "Unable to canonicalize  [O-][N]1=CC(=CC=C1)c1cnc(NCc2c3CCOc3ccc2F)n2cnnc12\n"
     ]
    },
    {
     "name": "stderr",
     "output_type": "stream",
     "text": [
      "[22:11:02] Explicit valence for atom # 25 N, 4, is greater than permitted\n",
      "[22:11:02] Explicit valence for atom # 25 N, 4, is greater than permitted\n",
      "[22:11:02] Can't kekulize mol.  Unkekulized atoms: 12 13 15 16 18 19 20 21 22\n",
      "[22:11:02] Can't kekulize mol.  Unkekulized atoms: 16 17 19 20 22 23 24 25 26\n",
      "[22:11:02] Can't kekulize mol.  Unkekulized atoms: 16 17 19 20 22 23 24 25 26\n",
      "[22:11:02] Can't kekulize mol.  Unkekulized atoms: 13 14 16 17 18 20 21 22 23\n",
      "[22:11:02] Can't kekulize mol.  Unkekulized atoms: 13 14 16 17 18 20 21 22 23\n"
     ]
    },
    {
     "name": "stdout",
     "output_type": "stream",
     "text": [
      "Unable to canonicalize  Cn1cc(cn1)-c1ccc2cnc(NC(=O)c3ccnc(c3)N3CC[N](C)(O)CC3)cc2c1\n",
      "Unable to canonicalize  Cn1cc(cn1)-c1ccc2cnc(NC(=O)c3ccnc(c3)N3CC[N](C)(O)CC3)cc2c1\n",
      "Unable to canonicalize  CCCCCCC(=O)NNC(=O)c1c(O)c2c(Cl)cccc2nc1=O\n",
      "Unable to canonicalize  CCCCCCCCCCC(=O)NNC(=O)c1c(O)c2c(Cl)cccc2nc1=O\n",
      "Unable to canonicalize  CCCCCCCCCCC(=O)NNC(=O)c1c(O)c2c(F)cccc2nc1=O\n",
      "Unable to canonicalize  CCCCCCCC(=O)NNC(=O)c1c(O)c2cc(Br)ccc2nc1=O\n",
      "Unable to canonicalize  CCCCCCCC(=O)NNC(=O)c1c(O)c2cc(Cl)ccc2nc1=O\n"
     ]
    },
    {
     "name": "stderr",
     "output_type": "stream",
     "text": [
      "[22:11:03] Explicit valence for atom # 2 N, 4, is greater than permitted\n",
      "[22:11:03] Explicit valence for atom # 2 N, 4, is greater than permitted\n"
     ]
    },
    {
     "name": "stdout",
     "output_type": "stream",
     "text": [
      "Unable to canonicalize  CC[N]1=CC=C(N1)n1nnc2CN([C@@H](C)Cc12)C(=O)c1ccnc(c1Cl)C(F)(F)F\n",
      "Unable to canonicalize  CC[N]1=CC=C(N1)n1nnc2CN([C@@H](C)Cc12)C(=O)c1ccnc(c1Cl)C(F)(F)F\n"
     ]
    },
    {
     "name": "stderr",
     "output_type": "stream",
     "text": [
      "[22:11:03] Can't kekulize mol.  Unkekulized atoms: 1 4 6\n",
      "[22:11:03] Can't kekulize mol.  Unkekulized atoms: 18 19 23\n",
      "[22:11:03] Can't kekulize mol.  Unkekulized atoms: 23 24 28\n",
      "[22:11:03] Can't kekulize mol.  Unkekulized atoms: 1 4 6\n",
      "[22:11:03] Can't kekulize mol.  Unkekulized atoms: 20 21 25\n",
      "[22:11:03] Can't kekulize mol.  Unkekulized atoms: 20 21 25\n",
      "[22:11:03] Can't kekulize mol.  Unkekulized atoms: 1 4 6\n",
      "[22:11:03] Can't kekulize mol.  Unkekulized atoms: 1 4 6\n",
      "[22:11:03] Can't kekulize mol.  Unkekulized atoms: 1 4 6\n",
      "[22:11:03] Can't kekulize mol.  Unkekulized atoms: 1 4 6\n",
      "[22:11:03] Can't kekulize mol.  Unkekulized atoms: 1 4 6\n",
      "[22:11:03] Can't kekulize mol.  Unkekulized atoms: 1 4 6\n",
      "[22:11:03] Can't kekulize mol.  Unkekulized atoms: 1 4 6\n",
      "[22:11:03] Can't kekulize mol.  Unkekulized atoms: 1 4 6\n",
      "[22:11:03] Can't kekulize mol.  Unkekulized atoms: 1 4 6\n",
      "[22:11:03] Can't kekulize mol.  Unkekulized atoms: 1 4 6\n",
      "[22:11:03] Can't kekulize mol.  Unkekulized atoms: 1 4 6\n",
      "[22:11:03] Can't kekulize mol.  Unkekulized atoms: 1 4 6\n",
      "[22:11:03] Can't kekulize mol.  Unkekulized atoms: 1 4 6\n",
      "[22:11:03] Can't kekulize mol.  Unkekulized atoms: 1 4 6\n",
      "[22:11:03] Can't kekulize mol.  Unkekulized atoms: 1 4 6\n",
      "[22:11:03] Can't kekulize mol.  Unkekulized atoms: 1 4 6\n",
      "[22:11:03] Can't kekulize mol.  Unkekulized atoms: 1 4 5\n",
      "[22:11:03] Can't kekulize mol.  Unkekulized atoms: 1 4 5\n",
      "[22:11:03] Can't kekulize mol.  Unkekulized atoms: 1 2 6\n",
      "[22:11:03] Can't kekulize mol.  Unkekulized atoms: 1 2 6\n",
      "[22:11:03] Can't kekulize mol.  Unkekulized atoms: 1 2 6\n",
      "[22:11:03] Can't kekulize mol.  Unkekulized atoms: 1 2 6\n",
      "[22:11:03] Can't kekulize mol.  Unkekulized atoms: 1 2 6\n",
      "[22:11:03] Can't kekulize mol.  Unkekulized atoms: 1 2 6\n",
      "[22:11:03] Can't kekulize mol.  Unkekulized atoms: 1 2 6\n",
      "[22:11:03] Can't kekulize mol.  Unkekulized atoms: 20 21 23\n",
      "[22:11:03] Can't kekulize mol.  Unkekulized atoms: 1 2 6\n",
      "[22:11:03] Can't kekulize mol.  Unkekulized atoms: 1 2 6\n",
      "[22:11:03] Can't kekulize mol.  Unkekulized atoms: 1 2 6\n",
      "[22:11:03] Can't kekulize mol.  Unkekulized atoms: 1 2 6\n",
      "[22:11:03] Can't kekulize mol.  Unkekulized atoms: 3 4 5\n",
      "[22:11:03] Can't kekulize mol.  Unkekulized atoms: 3 4 5\n",
      "[22:11:03] Can't kekulize mol.  Unkekulized atoms: 1 2 6\n",
      "[22:11:03] Can't kekulize mol.  Unkekulized atoms: 1 2 6\n",
      "[22:11:03] Can't kekulize mol.  Unkekulized atoms: 1 2 6\n",
      "[22:11:03] Can't kekulize mol.  Unkekulized atoms: 1 2 6\n",
      "[22:11:03] Can't kekulize mol.  Unkekulized atoms: 1 2 6\n",
      "[22:11:03] Can't kekulize mol.  Unkekulized atoms: 20 21 23\n",
      "[22:11:03] Can't kekulize mol.  Unkekulized atoms: 1 2 6\n",
      "[22:11:03] Can't kekulize mol.  Unkekulized atoms: 1 2 6\n",
      "[22:11:03] Can't kekulize mol.  Unkekulized atoms: 1 2 6\n",
      "[22:11:03] Can't kekulize mol.  Unkekulized atoms: 1 2 6\n",
      "[22:11:03] Can't kekulize mol.  Unkekulized atoms: 1 4 6\n",
      "[22:11:03] Can't kekulize mol.  Unkekulized atoms: 1 2 6\n",
      "[22:11:03] Can't kekulize mol.  Unkekulized atoms: 1 2 6\n",
      "[22:11:03] Can't kekulize mol.  Unkekulized atoms: 1 2 6\n",
      "[22:11:03] Can't kekulize mol.  Unkekulized atoms: 1 2 6\n",
      "[22:11:03] Can't kekulize mol.  Unkekulized atoms: 1 2 6\n",
      "[22:11:03] Can't kekulize mol.  Unkekulized atoms: 1 2 6\n",
      "[22:11:03] Can't kekulize mol.  Unkekulized atoms: 1 2 6\n",
      "[22:11:03] Can't kekulize mol.  Unkekulized atoms: 1 2 6\n",
      "[22:11:03] Can't kekulize mol.  Unkekulized atoms: 1 2 6\n",
      "[22:11:03] Can't kekulize mol.  Unkekulized atoms: 1 2 6\n",
      "[22:11:03] Can't kekulize mol.  Unkekulized atoms: 1 2 6\n",
      "[22:11:03] Can't kekulize mol.  Unkekulized atoms: 1 2 6\n",
      "[22:11:03] Can't kekulize mol.  Unkekulized atoms: 1 2 6\n",
      "[22:11:03] Can't kekulize mol.  Unkekulized atoms: 1 2 6\n",
      "[22:11:03] Can't kekulize mol.  Unkekulized atoms: 1 2 6\n",
      "[22:11:03] Can't kekulize mol.  Unkekulized atoms: 1 2 6\n",
      "[22:11:03] Can't kekulize mol.  Unkekulized atoms: 1 2 6\n",
      "[22:11:03] Can't kekulize mol.  Unkekulized atoms: 1 2 6\n",
      "[22:11:03] Can't kekulize mol.  Unkekulized atoms: 1 2 6\n",
      "[22:11:03] Can't kekulize mol.  Unkekulized atoms: 1 2 6\n",
      "[22:11:03] Can't kekulize mol.  Unkekulized atoms: 1 2 6\n",
      "[22:11:03] Can't kekulize mol.  Unkekulized atoms: 1 2 6\n",
      "[22:11:03] Can't kekulize mol.  Unkekulized atoms: 1 2 6\n",
      "[22:11:03] Can't kekulize mol.  Unkekulized atoms: 1 2 6\n",
      "[22:11:03] Can't kekulize mol.  Unkekulized atoms: 1 2 6\n",
      "[22:11:03] Can't kekulize mol.  Unkekulized atoms: 1 4 6\n",
      "[22:11:03] Can't kekulize mol.  Unkekulized atoms: 1 4 6\n",
      "[22:11:03] Can't kekulize mol.  Unkekulized atoms: 1 4 6\n",
      "[22:11:03] Can't kekulize mol.  Unkekulized atoms: 1 4 6\n",
      "[22:11:03] Can't kekulize mol.  Unkekulized atoms: 1 4 6\n",
      "[22:11:03] Can't kekulize mol.  Unkekulized atoms: 1 4 6\n",
      "[22:11:03] Can't kekulize mol.  Unkekulized atoms: 1 4 6\n",
      "[22:11:03] Can't kekulize mol.  Unkekulized atoms: 1 4 6\n",
      "[22:11:03] Can't kekulize mol.  Unkekulized atoms: 1 4 6\n",
      "[22:11:03] Can't kekulize mol.  Unkekulized atoms: 1 4 6\n",
      "[22:11:03] Can't kekulize mol.  Unkekulized atoms: 1 2 6\n",
      "[22:11:03] Can't kekulize mol.  Unkekulized atoms: 1 2 6\n",
      "[22:11:03] Can't kekulize mol.  Unkekulized atoms: 1 2 6\n",
      "[22:11:03] Can't kekulize mol.  Unkekulized atoms: 1 2 6\n",
      "[22:11:03] Can't kekulize mol.  Unkekulized atoms: 1 2 6\n",
      "[22:11:03] Can't kekulize mol.  Unkekulized atoms: 1 2 6\n",
      "[22:11:03] Can't kekulize mol.  Unkekulized atoms: 36 37 39\n",
      "[22:11:03] Can't kekulize mol.  Unkekulized atoms: 36 37 39\n",
      "[22:11:04] Can't kekulize mol.  Unkekulized atoms: 1 2 6\n",
      "[22:11:04] Can't kekulize mol.  Unkekulized atoms: 1 2 6\n",
      "[22:11:04] Can't kekulize mol.  Unkekulized atoms: 1 2 6\n",
      "[22:11:04] Can't kekulize mol.  Unkekulized atoms: 1 2 6\n",
      "[22:11:04] Can't kekulize mol.  Unkekulized atoms: 29 30 32\n",
      "[22:11:04] Can't kekulize mol.  Unkekulized atoms: 29 30 32\n",
      "[22:11:04] Can't kekulize mol.  Unkekulized atoms: 31 32 34\n",
      "[22:11:04] Can't kekulize mol.  Unkekulized atoms: 31 32 34\n",
      "[22:11:04] Can't kekulize mol.  Unkekulized atoms: 1 2 6\n",
      "[22:11:04] Can't kekulize mol.  Unkekulized atoms: 1 2 6\n",
      "[22:11:04] Can't kekulize mol.  Unkekulized atoms: 1 3 6\n",
      "[22:11:04] Can't kekulize mol.  Unkekulized atoms: 1 3 6\n",
      "[22:11:04] Can't kekulize mol.  Unkekulized atoms: 1 3 6\n",
      "[22:11:04] Can't kekulize mol.  Unkekulized atoms: 1 3 6\n",
      "[22:11:04] Can't kekulize mol.  Unkekulized atoms: 1 3 6\n",
      "[22:11:04] Can't kekulize mol.  Unkekulized atoms: 1 3 6\n",
      "[22:11:04] Can't kekulize mol.  Unkekulized atoms: 1 3 6\n",
      "[22:11:04] Can't kekulize mol.  Unkekulized atoms: 1 3 6\n",
      "[22:11:04] Can't kekulize mol.  Unkekulized atoms: 28 29 31\n",
      "[22:11:04] Can't kekulize mol.  Unkekulized atoms: 28 29 31\n",
      "[22:11:04] Can't kekulize mol.  Unkekulized atoms: 1 2 6\n",
      "[22:11:04] Can't kekulize mol.  Unkekulized atoms: 1 2 6\n",
      "[22:11:04] Can't kekulize mol.  Unkekulized atoms: 1 2 6\n",
      "[22:11:04] Can't kekulize mol.  Unkekulized atoms: 1 2 6\n",
      "[22:11:04] Can't kekulize mol.  Unkekulized atoms: 1 4 6\n",
      "[22:11:04] Can't kekulize mol.  Unkekulized atoms: 1 4 6\n",
      "[22:11:04] Can't kekulize mol.  Unkekulized atoms: 1 3 6\n",
      "[22:11:04] Can't kekulize mol.  Unkekulized atoms: 1 3 6\n",
      "[22:11:04] Can't kekulize mol.  Unkekulized atoms: 23 24 27\n",
      "[22:11:04] Can't kekulize mol.  Unkekulized atoms: 23 24 27\n",
      "[22:11:04] Can't kekulize mol.  Unkekulized atoms: 1 3 6\n",
      "[22:11:04] Can't kekulize mol.  Unkekulized atoms: 1 3 6\n",
      "[22:11:04] Can't kekulize mol.  Unkekulized atoms: 1 3 6\n",
      "[22:11:04] Can't kekulize mol.  Unkekulized atoms: 1 3 6\n",
      "[22:11:04] Can't kekulize mol.  Unkekulized atoms: 1 3 6\n",
      "[22:11:04] Can't kekulize mol.  Unkekulized atoms: 1 3 6\n",
      "[22:11:04] Can't kekulize mol.  Unkekulized atoms: 1 3 6\n",
      "[22:11:04] Can't kekulize mol.  Unkekulized atoms: 1 3 6\n",
      "[22:11:04] Can't kekulize mol.  Unkekulized atoms: 1 3 6\n",
      "[22:11:04] Can't kekulize mol.  Unkekulized atoms: 1 3 6\n",
      "[22:11:04] Can't kekulize mol.  Unkekulized atoms: 1 3 6\n",
      "[22:11:04] Can't kekulize mol.  Unkekulized atoms: 1 3 6\n",
      "[22:11:04] Can't kekulize mol.  Unkekulized atoms: 1 3 6\n",
      "[22:11:04] Can't kekulize mol.  Unkekulized atoms: 1 3 6\n",
      "[22:11:04] Can't kekulize mol.  Unkekulized atoms: 1 3 6\n",
      "[22:11:04] Can't kekulize mol.  Unkekulized atoms: 1 3 6\n",
      "[22:11:04] Can't kekulize mol.  Unkekulized atoms: 1 3 6\n",
      "[22:11:04] Can't kekulize mol.  Unkekulized atoms: 1 3 6\n",
      "[22:11:04] Can't kekulize mol.  Unkekulized atoms: 2 4 7\n",
      "[22:11:04] Can't kekulize mol.  Unkekulized atoms: 2 4 7\n",
      "[22:11:04] Can't kekulize mol.  Unkekulized atoms: 1 3 6\n",
      "[22:11:04] Can't kekulize mol.  Unkekulized atoms: 1 3 6\n",
      "[22:11:04] Can't kekulize mol.  Unkekulized atoms: 1 3 6\n",
      "[22:11:04] Can't kekulize mol.  Unkekulized atoms: 1 3 6\n",
      "[22:11:04] Can't kekulize mol.  Unkekulized atoms: 1 3 6\n",
      "[22:11:04] Can't kekulize mol.  Unkekulized atoms: 1 3 6\n",
      "[22:11:04] Can't kekulize mol.  Unkekulized atoms: 1 3 6\n",
      "[22:11:04] Can't kekulize mol.  Unkekulized atoms: 1 3 6\n"
     ]
    },
    {
     "name": "stdout",
     "output_type": "stream",
     "text": [
      "Unable to canonicalize  Cc1[nH]oc(C)c1-c1cnc2c(c1)n(C(c1ccccc1)c1ccccc1)c1cc(ccc21)C(C)(C)O\n",
      "Unable to canonicalize  CCC(CC)n1c2cc(ccc2c2ncc(cc12)-c1c(C)[nH]oc1C)C(C)(C)O\n",
      "Unable to canonicalize  COCC(c1ccccc1)n1c2cc(ccc2c2ncc(cc12)-c1c(C)[nH]oc1C)C(C)(C)O\n",
      "Unable to canonicalize  Cc1[nH]oc(C)c1-c1cnc2c(c1)n(C(CCC(F)(F)F)CCC(F)(F)F)c1cc(ccc21)C(C)(C)O\n",
      "Unable to canonicalize  COCC(COC)n1c2cc(ccc2c2ncc(cc12)-c1c(C)[nH]oc1C)C(C)(C)O\n",
      "Unable to canonicalize  CCCC(CCC)n1c2cc(ccc2c2ncc(cc12)-c1c(C)[nH]oc1C)C(C)(C)O\n",
      "Unable to canonicalize  Cc1[nH]oc(C)c1-c1cnc2c(c1)n([C@@H](CCC(F)(F)F)c1ccccc1)c1cc(ccc21)C(C)(C)O\n",
      "Unable to canonicalize  Cc1[nH]oc(C)c1-c1cnc2c(c1)n([C@H](CCC(F)(F)F)c1ccccc1)c1cc(ccc21)C(C)(C)O\n",
      "Unable to canonicalize  Cc1[nH]oc(C)c1-c1cnc2c(c1)n([C@@H](C1CC1)c1ccccc1)c1cc(ccc21)C(C)(C)O\n",
      "Unable to canonicalize  Cc1[nH]oc(C)c1-c1cnc2c(c1)n([C@H](C1CC1)c1ccccc1)c1cc(ccc21)C(C)(C)O\n",
      "Unable to canonicalize  Cc1[nH]oc(C)c1-c1cnc2c(c1)n([C@@H](C1CCC1)c1ccccc1)c1cc(ccc21)C(C)(C)O\n",
      "Unable to canonicalize  Cc1[nH]oc(C)c1-c1cnc2c(c1)n([C@H](C1CCC1)c1ccccc1)c1cc(ccc21)C(C)(C)O\n",
      "Unable to canonicalize  Cc1[nH]oc(C)c1-c1cnc2c(c1)n([C@@H](C1CCC1)c1ccc(F)cc1)c1cc(ccc21)C(C)(C)O\n",
      "Unable to canonicalize  Cc1[nH]oc(C)c1-c1cnc2c(c1)n([C@H](C1CCC1)c1ccc(F)cc1)c1cc(ccc21)C(C)(C)O\n",
      "Unable to canonicalize  Cc1[nH]oc(C)c1-c1cnc2c(c1)n([C@@H](C1CCOC(C)(C)C1)c1ccc(F)cc1)c1cc(ccc21)C(C)(C)O\n",
      "Unable to canonicalize  Cc1[nH]oc(C)c1-c1cnc2c(c1)n([C@H](C1CCOC(C)(C)C1)c1ccc(F)cc1)c1cc(ccc21)C(C)(C)O\n",
      "Unable to canonicalize  Cc1[nH]oc(C)c1-c1cnc2c(c1)n([C@H](CCC(F)(F)F)c1cscn1)c1cc(ccc21)C(C)(C)O\n",
      "Unable to canonicalize  Cc1[nH]oc(C)c1-c1cnc2c(c1)n([C@@H](CCC(F)(F)F)c1cscn1)c1cc(ccc21)C(C)(C)O\n",
      "Unable to canonicalize  Cc1[nH]oc(C)c1-c1cnc2c(c1)n([C@@H](C1CCOCC1)c1ccccn1)c1cc(ccc21)C(C)(C)O\n",
      "Unable to canonicalize  Cc1[nH]oc(C)c1-c1cnc2c(c1)n([C@H](C1CCOCC1)c1ccccn1)c1cc(ccc21)C(C)(C)O\n",
      "Unable to canonicalize  Cc1[nH]oc(C)c1-c1cnc2c(c1)n([C@@H](CCC(F)(F)F)c1ccccn1)c1cc(ccc21)C(C)(C)O\n",
      "Unable to canonicalize  Cc1[nH]oc(C)c1-c1cnc2c(c1)n([C@H](CCC(F)(F)F)c1ccccn1)c1cc(ccc21)C(C)(C)O\n",
      "Unable to canonicalize  Cc1o[nH]cc1-c1cnc2c(c1)n([C@@H](C1CCOCC1)c1ccc(F)cc1)c1cc(ccc21)C(C)(C)O\n",
      "Unable to canonicalize  Cc1o[nH]cc1-c1cnc2c(c1)n([C@H](C1CCOCC1)c1ccc(F)cc1)c1cc(ccc21)C(C)(C)O\n",
      "Unable to canonicalize  Cc1n[nH]n(C)c1-c1cnc2c(c1)n([C@@H](C1CCOCC1)c1ccccc1)c1cc(ccc21)C(C)(C)O\n",
      "Unable to canonicalize  Cc1n[nH]n(C)c1-c1cnc2c(c1)n([C@H](C1CCOCC1)c1ccccc1)c1cc(ccc21)C(C)(C)O\n",
      "Unable to canonicalize  Cc1n[nH]n(C)c1-c1cnc2c(c1)n(C(CCC(F)(F)F)CCC(F)(F)F)c1cc(ccc21)C(C)(C)O\n",
      "Unable to canonicalize  Cc1n[nH]n(C)c1-c1cnc2c(c1)n([C@@H](CCC(F)(F)F)c1ccccc1)c1cc(ccc21)C(C)(C)O\n",
      "Unable to canonicalize  Cc1n[nH]n(C)c1-c1cnc2c(c1)n([C@H](CCC(F)(F)F)c1ccccc1)c1cc(ccc21)C(C)(C)O\n",
      "Unable to canonicalize  Cc1n[nH]n(C)c1-c1cnc2c(c1)n([C@@H](C1CCOCC1)c1ccc(F)cc1)c1cc(ccc21)C(C)(C)O\n",
      "Unable to canonicalize  Cc1n[nH]n(C)c1-c1cnc2c(c1)n([C@H](C1CCOCC1)c1ccc(F)cc1)c1cc(ccc21)C(C)(C)O\n",
      "Unable to canonicalize  CCCC(CCC)n1c2cc(ccc2c2ncc(cc12)-c1c(C)n[nH]n1C)C(C)(C)O\n",
      "Unable to canonicalize  Cc1n[nH]n(C)c1-c1cnc2c(c1)n([C@@H](C1CCOCC1)c1ccccn1)c1cc(ccc21)C(C)(C)O\n",
      "Unable to canonicalize  Cc1n[nH]n(C)c1-c1cnc2c(c1)n([C@H](C1CCOCC1)c1ccccn1)c1cc(ccc21)C(C)(C)O\n",
      "Unable to canonicalize  Cc1n[nH]n(C)c1-c1cnc2c(c1)n([C@@H](C1CCOCC1)c1ccccc1F)c1cc(ccc21)C(C)(C)O\n",
      "Unable to canonicalize  Cc1n[nH]n(C)c1-c1cnc2c(c1)n([C@H](C1CCOCC1)c1ccccc1F)c1cc(ccc21)C(C)(C)O\n",
      "Unable to canonicalize  Cn1[nH]ncc1-c1cnc2c(c1)n([C@@H](C1CCOCC1)c1ccc(F)cc1)c1cc(ccc21)C(C)(C)O\n",
      "Unable to canonicalize  Cn1[nH]ncc1-c1cnc2c(c1)n([C@H](C1CCOCC1)c1ccc(F)cc1)c1cc(ccc21)C(C)(C)O\n",
      "Unable to canonicalize  Cc1n[nH]n(C)c1-c1cnc2c(c1)n([C@H](C1CCOCC1)c1ccccc1)c1c(F)c(ccc21)C(C)(C)O\n",
      "Unable to canonicalize  Cc1n[nH]n(C)c1-c1cnc2c(c1)n([C@@H](C1CCOCC1)c1ccccc1)c1c(F)c(ccc21)C(C)(C)O\n",
      "Unable to canonicalize  Cc1n[nH]n(C)c1-c1cnc2c(c1)n([C@@H](C1CCOCC1)c1ccc(F)cc1)c1cc(ccc21)C(C)(C)O\n",
      "Unable to canonicalize  Cc1n[nH]n(C)c1-c1cnc2c(c1)n([C@H](C1CCOCC1)c1ccc(F)cc1)c1cc(ccc21)C(C)(C)O\n",
      "Unable to canonicalize  Cc1n[nH]n(C)c1-c1cnc2c(c1)n(C(CCC(F)(F)F)CCC(F)(F)F)c1cc(ccc21)C(C)(C)O\n",
      "Unable to canonicalize  CCCC(CCC)n1c2cc(ccc2c2ncc(cc12)-c1c(C)n[nH]n1C)C(C)(C)O\n",
      "Unable to canonicalize  Cc1n[nH]n(C)c1-c1cnc2c(c1)n([C@@H](C1CCOCC1)c1ccccc1F)c1cc(ccc21)C(C)(C)O\n",
      "Unable to canonicalize  Cc1n[nH]n(C)c1-c1cnc2c(c1)n([C@H](C1CCOCC1)c1ccccc1F)c1cc(ccc21)C(C)(C)O\n",
      "Unable to canonicalize  Cc1n[nH]n(C)c1-c1cnc2c(c1)n([C@@H](C1CCOCC1)c1ccc(F)cc1)c1cc(c(F)cc21)C(C)(C)O\n",
      "Unable to canonicalize  Cc1n[nH]n(C)c1-c1cnc2c(c1)n([C@H](C1CCOCC1)c1ccc(F)cc1)c1cc(c(F)cc21)C(C)(C)O\n",
      "Unable to canonicalize  Cc1[nH]oc(C)c1-c1cnc2c(c1)n([C@@H](C1CCOCC1)c1ccc(F)cc1)c1c(F)c(ccc21)C(C)(C)O\n",
      "Unable to canonicalize  Cc1n[nH]n(C)c1-c1cnc2c(c1)n([C@@H](C1CCOCC1)c1ccccc1)c1cc(ccc21)C(C)(C)O\n",
      "Unable to canonicalize  Cc1n[nH]n(C)c1-c1cnc2c(c1)n([C@H](C1CCOCC1)c1ccccc1)c1cc(ccc21)C(C)(C)O\n",
      "Unable to canonicalize  Cc1n[nH]n(C)c1-c1cnc2c(c1)n([C@@H](C1CCOCC1)c1ccccc1F)c1cc(ccc21)C(C)(C)O\n",
      "Unable to canonicalize  Cc1n[nH]n(C)c1-c1cnc2c(c1)n([C@H](C1CCOCC1)c1ccccc1F)c1cc(ccc21)C(C)(C)O\n",
      "Unable to canonicalize  Cc1n[nH]n(C)c1-c1cnc2c(c1)n([C@@H](C1CCOCC1)c1cccc(F)c1F)c1cc(ccc21)C(C)(C)O\n",
      "Unable to canonicalize  Cc1n[nH]n(C)c1-c1cnc2c(c1)n([C@H](C1CCOCC1)c1cccc(F)c1F)c1cc(ccc21)C(C)(C)O\n",
      "Unable to canonicalize  Cc1n[nH]n(C)c1-c1cnc2c(c1)n([C@@H](C1CCOCC1)c1ccccc1F)c1c(F)c(ccc21)C(C)(O)C1CC1\n",
      "Unable to canonicalize  Cc1n[nH]n(C)c1-c1cnc2c(c1)n(C(C1CCOCC1)c1ccccc1F)c1c(F)c(ccc21)C(C)(C)O\n",
      "Unable to canonicalize  Cc1n[nH]n(C)c1-c1cnc2c(c1)n([C@H](C1CCOCC1)c1cc(F)cc(F)c1)c1cc(ccc21)C(C)(C)O\n",
      "Unable to canonicalize  Cc1n[nH]n(C)c1-c1cnc2c(c1)n([C@@H](C1CCOCC1)c1cc(F)cc(F)c1)c1cc(ccc21)C(C)(C)O\n",
      "Unable to canonicalize  Cc1n[nH]n(C)c1-c1cnc2c(c1)n([C@@H](C1CCOCC1)c1cccc(F)c1)c1cc(ccc21)C(C)(C)O\n",
      "Unable to canonicalize  Cc1n[nH]n(C)c1-c1cnc2c(c1)n([C@H](C1CCOCC1)c1cccc(F)c1)c1cc(ccc21)C(C)(C)O\n",
      "Unable to canonicalize  Cc1n[nH]n(C)c1-c1cnc2c(c1)n([C@H](C1CCOCC1)c1c(F)cc(F)cc1F)c1cc(ccc21)C(C)(C)O\n",
      "Unable to canonicalize  Cc1n[nH]n(C)c1-c1cnc2c(c1)n([C@@H](C1CCOCC1)c1c(F)cc(F)cc1F)c1cc(ccc21)C(C)(C)O\n",
      "Unable to canonicalize  Cc1n[nH]n(C)c1-c1cnc2c(c1)n([C@H](C1CCOCC1)c1ccccc1)c1cc(c(F)cc21)C(C)(O)C1CC1\n",
      "Unable to canonicalize  Cc1n[nH]n(C)c1-c1cnc2c(c1)n([C@@H](C1CCOCC1)c1c(F)cc(F)cc1F)c1cc(cc(F)c21)C(C)(C)O\n",
      "Unable to canonicalize  Cc1n[nH]n(C)c1-c1cnc2c(c1)n([C@H](C1CCOCC1)c1cc(F)ccc1F)c1cc(cc(F)c21)C(C)(C)O\n",
      "Unable to canonicalize  Cc1n[nH]n(C)c1-c1cnc2c(c1)n([C@@H](C1CCOCC1)c1cc(F)ccc1F)c1cc(cc(F)c21)C(C)(C)O\n",
      "Unable to canonicalize  Cc1n[nH]n(C)c1-c1cnc2c(c1)n([C@H](C1CCOCC1)c1cccc(F)c1F)c1cc(cc(F)c21)C(C)(C)O\n",
      "Unable to canonicalize  Cc1n[nH]n(C)c1-c1cnc2c(c1)n([C@@H](C1CCOCC1)c1cccc(F)c1F)c1cc(cc(F)c21)C(C)(C)O\n",
      "Unable to canonicalize  Cc1n[nH]n(C)c1-c1cnc2c(c1)n([C@H](C1CCOCC1)c1ccc(F)cc1F)c1cc(cc(F)c21)C(C)(C)O\n",
      "Unable to canonicalize  Cc1n[nH]n(C)c1-c1cnc2c(c1)n([C@@H](C1CCOCC1)c1ccc(F)cc1F)c1cc(cc(F)c21)C(C)(C)O\n",
      "Unable to canonicalize  Cc1n[nH]n(C)c1-c1cnc2c(c1)n([C@H](C1CCOCC1)c1cccc(F)c1)c1cc(cc(F)c21)C(C)(C)O\n",
      "Unable to canonicalize  Cc1n[nH]n(C)c1-c1cnc2c(c1)n([C@@H](C1CCOCC1)c1cccc(F)c1)c1cc(cc(F)c21)C(C)(C)O\n",
      "Unable to canonicalize  Cc1n[nH]n(C)c1-c1cnc2c(c1)n([C@@H](C1CCOCC1)c1cc(F)ccc1F)c1cc(ccc21)C(C)(C)O\n",
      "Unable to canonicalize  Cc1[nH]oc(C)c1-c1cnc2c(c1)n(C(C1CCOCC1)c1c(F)cccc1F)c1cc(ccc21)C(C)(C)O\n",
      "Unable to canonicalize  Cc1[nH]oc(C)c1-c1cnc2c(c1)n(C(C1CCOCC1)c1c(F)cccc1F)c1cc(ccc21)C(C)(C)O\n",
      "Unable to canonicalize  Cc1[nH]oc(C)c1-c1cnc2c(c1)n(C(C1CCOCC1)c1cccc(F)c1F)c1cc(ccc21)C(C)(C)O\n",
      "Unable to canonicalize  Cc1[nH]oc(C)c1-c1cnc2c(c1)n(C(C1CCOCC1)c1cccc(F)c1F)c1cc(ccc21)C(C)(C)O\n",
      "Unable to canonicalize  Cc1[nH]oc(C)c1-c1cnc2c(c1)n(C(C1CCOCC1)c1cccc(F)c1)c1cc(ccc21)C(C)(C)O\n",
      "Unable to canonicalize  Cc1[nH]oc(C)c1-c1cnc2c(c1)n(C(C1CCOCC1)c1cccc(F)c1)c1cc(ccc21)C(C)(C)O\n",
      "Unable to canonicalize  Cc1[nH]oc(C)c1-c1cnc2c(c1)n(C(C1CCOCC1)c1ccccc1F)c1cc(ccc21)C(C)(C)O\n",
      "Unable to canonicalize  Cc1[nH]oc(C)c1-c1cnc2c(c1)n(C(C1CCOCC1)c1ccccc1F)c1cc(ccc21)C(C)(C)O\n",
      "Unable to canonicalize  Cc1[nH]oc(C)c1-c1cnc2c(c1)n(C(C1CCC(F)(F)CC1)c1ccccc1)c1cc(ccc21)S(C)(=O)=O\n",
      "Unable to canonicalize  Cc1[nH]oc(C)c1-c1cnc2c(c1)n(C(C1CCC(F)(F)CC1)c1ccccc1)c1cc(ccc21)S(C)(=O)=O\n",
      "Unable to canonicalize  Cc1n[nH]n(C)c1-c1cnc2c(c1)n(C(C1CCC(F)(F)CC1)c1ccccc1)c1cc(ccc21)S(C)(=O)=O\n",
      "Unable to canonicalize  Cc1n[nH]n(C)c1-c1cnc2c(c1)n(C(C1CCC(F)(F)CC1)c1ccccc1)c1cc(ccc21)S(C)(=O)=O\n",
      "Unable to canonicalize  Cc1n[nH]n(C)c1-c1cnc2c(c1)n(C(C1CCC(F)(F)CC1)c1ccccc1)c1cc(ccc21)S(C)(=O)=O\n",
      "Unable to canonicalize  Cc1n[nH]n(C)c1-c1cnc2c(c1)n(C(C1CCC(F)(F)CC1)c1ccccc1)c1cc(ccc21)S(C)(=O)=O\n",
      "Unable to canonicalize  Cc1n[nH]n(C)c1-c1cnc2c(c1)n(C(C1CCOCC1)c1ccccc1)c1cc(ccc21)C(C)(C)N\n",
      "Unable to canonicalize  Cc1n[nH]n(C)c1-c1cnc2c(c1)n(C(C1CCOCC1)c1ccccc1)c1cc(ccc21)C(C)(C)N\n",
      "Unable to canonicalize  CN(C)CC(=O)NC(C)(C)c1ccc2c(c1)n(C(C1CCOCC1)c1ccccc1)c1cc(cnc21)-c1c(C)n[nH]n1C\n",
      "Unable to canonicalize  CN(C)CC(=O)NC(C)(C)c1ccc2c(c1)n(C(C1CCOCC1)c1ccccc1)c1cc(cnc21)-c1c(C)n[nH]n1C\n",
      "Unable to canonicalize  Cc1n[nH]n(C)c1-c1cnc2c(c1)n(C(C1CCC(F)(F)CC1)c1ccccc1)c1cc(ccc21)C(C)(C)O\n",
      "Unable to canonicalize  Cc1n[nH]n(C)c1-c1cnc2c(c1)n(C(C1CCC(F)(F)CC1)c1ccccc1)c1cc(ccc21)C(C)(C)O\n",
      "Unable to canonicalize  Cc1n[nH]n(C)c1-c1cnc2c(c1)n(C(C1CCC(F)(F)CC1)c1ccccc1)c1cc(ccc21)C(C)(C)O\n",
      "Unable to canonicalize  Cc1n[nH]n(C)c1-c1cnc2c(c1)n(C(C1CCC(F)(F)CC1)c1ccccc1)c1cc(ccc21)C(C)(C)O\n",
      "Unable to canonicalize  COc1cc(cc2n(C(C3CCOCC3)c3ncccc3F)c3cc(cnc3c12)-c1c(C)n[nH]n1C)S(C)(=O)=O\n",
      "Unable to canonicalize  COc1cc(cc2n(C(C3CCOCC3)c3ncccc3F)c3cc(cnc3c12)-c1c(C)n[nH]n1C)S(C)(=O)=O\n",
      "Unable to canonicalize  CCOc1cc(cc2n(C(C3CCC(F)(F)CC3)c3ccccc3)c3cc(cnc3c12)-c1c(C)n[nH]n1C)S(C)(=O)=O\n",
      "Unable to canonicalize  CCOc1cc(cc2n(C(C3CCC(F)(F)CC3)c3ccccc3)c3cc(cnc3c12)-c1c(C)n[nH]n1C)S(C)(=O)=O\n",
      "Unable to canonicalize  Cc1n[nH]n(C)c1-c1cnc2c(c1)n(C(C1CCC(F)(F)CC1)c1ncccc1F)c1cc(cc(F)c21)S(C)(=O)=O\n",
      "Unable to canonicalize  Cc1n[nH]n(C)c1-c1cnc2c(c1)n(C(C1CCC(F)(F)CC1)c1ncccc1F)c1cc(cc(F)c21)S(C)(=O)=O\n",
      "Unable to canonicalize  Cc1[nH]nn(C)c1-c1cnc2c(c1)n(C(C1CCOCC1)c1ncccc1F)c1c(ccc(F)c21)S(C)(=O)=O\n",
      "Unable to canonicalize  Cc1[nH]nn(C)c1-c1cnc2c(c1)n(C(C1CCOCC1)c1ncccc1F)c1c(ccc(F)c21)S(C)(=O)=O\n",
      "Unable to canonicalize  Cc1[nH]nn(C)c1-c1cnc2c(c1)n(C(C1CCC(F)(F)CC1)c1ncccc1F)c1cc(ccc21)S(C)(=O)=O\n",
      "Unable to canonicalize  Cc1[nH]nn(C)c1-c1cnc2c(c1)n(C(C1CCC(F)(F)CC1)c1ncccc1F)c1cc(ccc21)S(C)(=O)=O\n",
      "Unable to canonicalize  Cc1[nH]nn(C)c1-c1cnc2c(c1)n(C(C1CCOCC1)c1ncccc1F)c1c(ccc(OCC(F)F)c21)S(C)(=O)=O\n",
      "Unable to canonicalize  Cc1[nH]nn(C)c1-c1cnc2c(c1)n(C(C1CCOCC1)c1ncccc1F)c1c(ccc(OCC(F)F)c21)S(C)(=O)=O\n",
      "Unable to canonicalize  Cc1[nH]nn(C)c1-c1cnc2c(c1)n(C(C1CCOCC1)c1ncccc1F)c1c(ccc(OCC(C)(F)F)c21)S(C)(=O)=O\n",
      "Unable to canonicalize  Cc1[nH]nn(C)c1-c1cnc2c(c1)n(C(C1CCOCC1)c1ncccc1F)c1c(ccc(OCC(C)(F)F)c21)S(C)(=O)=O\n",
      "Unable to canonicalize  COc1ccc(cc1)C(C1CCOCC1)n1c2cc(ccc2c2ncc(cc12)-c1c(C)n[nH]n1C)C(C)(C)O\n",
      "Unable to canonicalize  COc1ccc(cc1)C(C1CCOCC1)n1c2cc(ccc2c2ncc(cc12)-c1c(C)n[nH]n1C)C(C)(C)O\n",
      "Unable to canonicalize  Cc1n[nH]n(C)c1-c1cnc2c(c1)n(C(CCC(F)(F)F)c1ccccn1)c1cc(ccc21)C(C)(C)O\n",
      "Unable to canonicalize  Cc1n[nH]n(C)c1-c1cnc2c(c1)n(C(CCC(F)(F)F)c1ccccn1)c1cc(ccc21)C(C)(C)O\n",
      "Unable to canonicalize  Cc1n[nH]n(C)c1-c1cnc2c(c1)n([C@@H](C1CCOCC1)c1ccccc1)c1cc(ccc21)S(C)(=N)=O\n",
      "Unable to canonicalize  Cc1n[nH]n(C)c1-c1cnc2c(c1)n([C@@H](C1CCOCC1)c1ccccc1)c1cc(ccc21)S(C)(=N)=O\n",
      "Unable to canonicalize  Cc1[nH]oc(C)c1-c1cnc2c(c1)n([C@@H](C1CCOCC1)c1ccccc1)c1cc(ccc21)C(O)C[N+]#[C-]\n",
      "Unable to canonicalize  Cc1[nH]oc(C)c1-c1cnc2c(c1)n([C@@H](C1CCOCC1)c1ccccc1)c1cc(ccc21)C(O)C[N+]#[C-]\n",
      "Unable to canonicalize  Cc1[nH]nn(C)c1-c1cnc2c(c1)n(C(CC1CC1)C1CCOCC1)c1cc(ccc21)C(C)(C)O\n",
      "Unable to canonicalize  Cc1[nH]nn(C)c1-c1cnc2c(c1)n(C(CC1CC1)C1CCOCC1)c1cc(ccc21)C(C)(C)O\n",
      "Unable to canonicalize  COCC(C1CCOCC1)n1c2cc(ccc2c2ncc(cc12)-c1c(C)[nH]nn1C)C(C)(C)O\n",
      "Unable to canonicalize  COCC(C1CCOCC1)n1c2cc(ccc2c2ncc(cc12)-c1c(C)[nH]nn1C)C(C)(C)O\n",
      "Unable to canonicalize  Cc1[nH]nn(C)c1-c1cnc2c(c1)n(C(C1CCOCC1)c1ccc(Cl)cc1)c1cc(ccc21)C(C)(C)O\n",
      "Unable to canonicalize  Cc1[nH]nn(C)c1-c1cnc2c(c1)n(C(C1CCOCC1)c1ccc(Cl)cc1)c1cc(ccc21)C(C)(C)O\n",
      "Unable to canonicalize  Cc1[nH]nn(C)c1-c1cnc2c(c1)n(C(C1CCOCC1)c1cccc(Cl)c1)c1cc(ccc21)C(C)(C)O\n",
      "Unable to canonicalize  Cc1[nH]nn(C)c1-c1cnc2c(c1)n(C(C1CCOCC1)c1cccc(Cl)c1)c1cc(ccc21)C(C)(C)O\n",
      "Unable to canonicalize  Cc1[nH]nn(C)c1-c1cnc2c(c1)n(C(C1CCOCC1)c1ccccc1Cl)c1cc(ccc21)C(C)(C)O\n",
      "Unable to canonicalize  Cc1[nH]nn(C)c1-c1cnc2c(c1)n(C(C1CCOCC1)c1ccccc1Cl)c1cc(ccc21)C(C)(C)O\n",
      "Unable to canonicalize  Cc1[nH]nn(C)c1-c1cnc2c(c1)n([C@@H](C1CCOCC1)c1ccccc1)c1cc(ccc21)C(C)(O)C1CC1\n",
      "Unable to canonicalize  Cc1[nH]nn(C)c1-c1cnc2c(c1)n([C@@H](C1CCOCC1)c1ccccc1)c1cc(ccc21)C(C)(O)C1CC1\n",
      "Unable to canonicalize  Cc1[nH]nn(C)c1-c1cnc2c(c1)n([C@@H](C1CCOCC1)c1ccccc1)c1cc(ccc21)C(C)(O)C1CC1\n",
      "Unable to canonicalize  Cc1[nH]nn(C)c1-c1cnc2c(c1)n([C@@H](C1CCOCC1)c1ccccc1)c1cc(ccc21)C(C)(O)C1CC1\n",
      "Unable to canonicalize  Cc1[nH]nn(C)c1-c1cnc2c(c1)n([C@@H](C1CCOCC1)c1ccccc1)c1c(F)c(ccc21)[C@](C)(O)C1CC1\n",
      "Unable to canonicalize  Cc1[nH]nn(C)c1-c1cnc2c(c1)n([C@@H](C1CCOCC1)c1ccccc1)c1c(F)c(ccc21)[C@](C)(O)C1CC1\n",
      "Unable to canonicalize  Cc1[nH]nn(C)c1-c1cnc2c(c1)n([C@@H](C1CCOCC1)c1ccccc1)c1c(F)c(ccc21)[C@](C)(O)C1CC1\n",
      "Unable to canonicalize  Cc1[nH]nn(C)c1-c1cnc2c(c1)n([C@@H](C1CCOCC1)c1ccccc1)c1c(F)c(ccc21)[C@@](C)(O)C1CC1\n",
      "Unable to canonicalize  Cc1[nH]nn(C)c1-c1cnc2c(c1)n([C@@H](C1CCOCC1)c1ccccc1F)c1c(F)c(ccc21)C(C)(O)C1CC1\n",
      "Unable to canonicalize  Cc1[nH]nn(C)c1-c1cnc2c(c1)n([C@@H](C1CCOCC1)c1ccccc1F)c1c(F)c(ccc21)C(C)(O)C1CC1\n",
      "Unable to canonicalize  Cc1[nH]nn(C)c1-c1cnc2c(c1)n([C@@H](C1CCOCC1)c1ccccc1F)c1c(F)c(ccc21)C(C)(O)C1CC1\n",
      "Unable to canonicalize  Cc1[nH]nn(C)c1-c1cnc2c(c1)n([C@@H](C1CCOCC1)c1ccccc1F)c1c(F)c(ccc21)[C@@](C)(O)C1CC1\n",
      "Unable to canonicalize  COc1[nH]nn(C)c1-c1cnc2c(c1)n([C@@H](C1CCOCC1)c1ccccc1)c1c(F)c(ccc21)C(C)(O)C1CC1\n",
      "Unable to canonicalize  COc1[nH]nn(C)c1-c1cnc2c(c1)n([C@@H](C1CCOCC1)c1ccccc1)c1c(F)c(ccc21)C(C)(O)C1CC1\n",
      "Unable to canonicalize  Cc1[nH]nn(C)c1-c1cnc2c(c1)n([C@@H](C1CCOCC1)c1ccccc1)c1cc(c(F)cc21)C(C)(O)C1CC1\n",
      "Unable to canonicalize  Cc1[nH]nn(C)c1-c1cnc2c(c1)n([C@@H](C1CCOCC1)c1ccccc1)c1cc(c(F)cc21)C(C)(O)C1CC1\n",
      "Unable to canonicalize  Cc1[nH]nn(C)c1-c1cnc2c(c1)n([C@@H](C1CCOCC1)c1ccccc1)c1cc(c(F)cc21)C(C)(O)C1CC1\n",
      "Unable to canonicalize  Cc1[nH]nn(C)c1-c1cnc2c(c1)n([C@@H](C1CCOCC1)c1ccccc1)c1cc(c(F)cc21)C(C)(O)C1CC1\n",
      "Unable to canonicalize  Cc1[nH]nn(C)c1-c1cnc2c(c1)n([C@@H](C1CCOCC1)c1ccccc1F)c1cc(c(F)cc21)C(C)(O)C1CC1\n",
      "Unable to canonicalize  Cc1[nH]nn(C)c1-c1cnc2c(c1)n([C@@H](C1CCOCC1)c1ccccc1F)c1cc(c(F)cc21)C(C)(O)C1CC1\n",
      "Unable to canonicalize  Cc1[nH]nn(C)c1-c1cnc2c(c1)n([C@@H](C1CCOCC1)c1ccccc1)c1c(F)c(c(F)cc21)C(C)(O)C1CC1\n",
      "Unable to canonicalize  Cc1[nH]nn(C)c1-c1cnc2c(c1)n([C@@H](C1CCOCC1)c1ccccc1)c1c(F)c(c(F)cc21)C(C)(O)C1CC1\n"
     ]
    },
    {
     "name": "stderr",
     "output_type": "stream",
     "text": [
      "[22:11:04] Can't kekulize mol.  Unkekulized atoms: 22 23 24 25 26\n"
     ]
    },
    {
     "name": "stdout",
     "output_type": "stream",
     "text": [
      "Unable to canonicalize  C[C@@](CO)(C[C@@H](Cc1ccc(cc1)-c1ccccc1)NC(=O)c1cnnn1)C(O)=O\n"
     ]
    },
    {
     "name": "stderr",
     "output_type": "stream",
     "text": [
      "[22:11:05] Explicit valence for atom # 35 N, 4, is greater than permitted\n",
      "[22:11:05] Explicit valence for atom # 35 N, 4, is greater than permitted\n",
      "[22:11:05] Explicit valence for atom # 13 N, 4, is greater than permitted\n",
      "[22:11:05] Explicit valence for atom # 13 N, 4, is greater than permitted\n"
     ]
    },
    {
     "name": "stdout",
     "output_type": "stream",
     "text": [
      "Unable to canonicalize  CN1C=C(CN2C3CC2CN(C3)c2ccc(cn2)-c2cc(OCC(C)(C)O)cn3ncc(C#N)c23)[N](C)=C1\n",
      "Unable to canonicalize  CN1C=C(CN2C3CC2CN(C3)c2ccc(cn2)-c2cc(OCC(C)(C)O)cn3ncc(C#N)c23)[N](C)=C1\n",
      "Unable to canonicalize  CC(=O)N1CCC(C1)OC1=CC(=C=[N]=C1)n1cc(cn1)-c1cc(ccc1C)C(=O)NC1CC1\n",
      "Unable to canonicalize  CC(=O)N1CCC(C1)OC1=CC(=C=[N]=C1)n1cc(cn1)-c1cc(ccc1C)C(=O)NC1CC1\n"
     ]
    },
    {
     "name": "stderr",
     "output_type": "stream",
     "text": [
      "[22:11:06] Explicit valence for atom # 22 N, 4, is greater than permitted\n",
      "[22:11:06] Explicit valence for atom # 22 N, 4, is greater than permitted\n"
     ]
    },
    {
     "name": "stdout",
     "output_type": "stream",
     "text": [
      "Unable to canonicalize  C[C@@H]1CN(Cc2cc(ccc2C)C(CC(O)=O)C2=CC3N=N[N](C)=C3C=C2)S(=O)(=O)c2ccccc2O1\n",
      "Unable to canonicalize  C[C@@H]1CN(Cc2cc(ccc2C)C(CC(O)=O)C2=CC3N=N[N](C)=C3C=C2)S(=O)(=O)c2ccccc2O1\n"
     ]
    },
    {
     "name": "stderr",
     "output_type": "stream",
     "text": [
      "[22:11:06] Explicit valence for atom # 24 N, 4, is greater than permitted\n",
      "[22:11:06] Explicit valence for atom # 33 N, 4, is greater than permitted\n",
      "[22:11:06] Explicit valence for atom # 29 N, 4, is greater than permitted\n",
      "[22:11:06] Explicit valence for atom # 34 N, 4, is greater than permitted\n",
      "[22:11:06] Explicit valence for atom # 34 N, 4, is greater than permitted\n",
      "[22:11:06] Explicit valence for atom # 36 N, 4, is greater than permitted\n"
     ]
    },
    {
     "name": "stdout",
     "output_type": "stream",
     "text": [
      "Unable to canonicalize  Cc1cc(N)nc(C)c1CNC(=O)c1ccc2C3OC(c4cc(C[N]5(O)CCOCC5)ccc34)c2c1\n",
      "Unable to canonicalize  Cc1cc(N)nc(C)c1CNC(=O)c1ccc2[C@H]3O[C@@H](c2c1)c1cc(ccc31)C1=CC=CC=[N]1O\n",
      "Unable to canonicalize  Cc1cc(N)nc(C)c1CNC(=O)c1ccc2[C@H]3O[C@@H](c2c1)c1cc(ccc31)C1=[N](O)C=C(F)C=C1\n",
      "Unable to canonicalize  CC(C)c1cc(N)nc(C)c1CNC(=O)c1ccc2[C@H]3O[C@@H](c2c1)c1cc(ccc31)C1=C(F)C=[N](O)C=C1\n",
      "Unable to canonicalize  Cc1nc(N)cc(C2CC2)c1CNC(=O)c1ccc2[C@H]3O[C@@H](c2c1)c1cc(ccc31)C1=C(F)C=[N](O)C=C1\n",
      "Unable to canonicalize  CC(C)c1cc(N)nc(C)c1CNC(=O)c1ccc2[C@H]3O[C@@H](c2c1)c1cc(ccc31)C1=C(F)C=CC=[N]1O\n"
     ]
    },
    {
     "name": "stderr",
     "output_type": "stream",
     "text": [
      "[22:11:07] Explicit valence for atom # 10 N, 4, is greater than permitted\n",
      "[22:11:07] Explicit valence for atom # 3 N, 4, is greater than permitted\n"
     ]
    },
    {
     "name": "stdout",
     "output_type": "stream",
     "text": [
      "Unable to canonicalize  CC(=O)N[C@@H](CC1=CNC=[N]1C)C(=O)Nc1cccc(n1)-c1ccc(Oc2ccc(F)cc2)cc1\n",
      "Unable to canonicalize  CC(C)[N]1(O)CCC(CC1)c1ccc(Nc2nc(cnc2C(N)=O)N2CCC[C@H](C2)NC(=O)N(C)C)cc1\n"
     ]
    },
    {
     "name": "stderr",
     "output_type": "stream",
     "text": [
      "[22:11:07] non-ring atom 14 marked aromatic\n",
      "[22:11:07] non-ring atom 14 marked aromatic\n"
     ]
    },
    {
     "name": "stdout",
     "output_type": "stream",
     "text": [
      "Unable to canonicalize  CC(O)(CS(=O)(=O)c1ccc(F)cc1)[c](=O):c:n-c1ccc(C#N)c(c1)C(F)(F)F\n",
      "Unable to canonicalize  CC(O)(CS(=O)(=O)c1ccc(F)cc1)[c](=O):c:n-c1ccc(C#N)c(c1)C(F)(F)F\n"
     ]
    },
    {
     "name": "stderr",
     "output_type": "stream",
     "text": [
      "[22:11:07] Can't kekulize mol.  Unkekulized atoms: 33 34 36 37 39\n",
      "[22:11:07] Can't kekulize mol.  Unkekulized atoms: 33 34 36 37 39\n",
      "[22:11:07] Can't kekulize mol.  Unkekulized atoms: 33 34 36 37 39\n",
      "[22:11:07] Can't kekulize mol.  Unkekulized atoms: 33 34 36 37 39\n",
      "[22:11:07] Can't kekulize mol.  Unkekulized atoms: 33 34 36 37 39\n",
      "[22:11:07] Can't kekulize mol.  Unkekulized atoms: 33 34 36 37 39\n",
      "[22:11:07] Can't kekulize mol.  Unkekulized atoms: 21 22 24 25 27\n",
      "[22:11:07] Can't kekulize mol.  Unkekulized atoms: 21 22 24 25 27\n",
      "[22:11:07] Can't kekulize mol.  Unkekulized atoms: 30 31 33 34 36\n",
      "[22:11:07] Can't kekulize mol.  Unkekulized atoms: 18 19 21 22 24\n",
      "[22:11:07] Can't kekulize mol.  Unkekulized atoms: 18 19 21 22 24\n",
      "[22:11:07] Can't kekulize mol.  Unkekulized atoms: 18 19 21 22 24\n",
      "[22:11:07] Can't kekulize mol.  Unkekulized atoms: 18 19 21 22 24\n",
      "[22:11:07] Can't kekulize mol.  Unkekulized atoms: 18 19 21 22 24\n",
      "[22:11:07] Can't kekulize mol.  Unkekulized atoms: 18 19 21 22 24\n",
      "[22:11:07] Can't kekulize mol.  Unkekulized atoms: 18 19 21 22 24\n",
      "[22:11:07] Can't kekulize mol.  Unkekulized atoms: 18 19 21 22 24\n",
      "[22:11:07] Can't kekulize mol.  Unkekulized atoms: 18 19 21 22 24\n",
      "[22:11:07] Can't kekulize mol.  Unkekulized atoms: 18 19 21 22 24\n",
      "[22:11:07] Can't kekulize mol.  Unkekulized atoms: 18 19 21 22 24\n",
      "[22:11:07] Can't kekulize mol.  Unkekulized atoms: 18 19 21 22 24\n",
      "[22:11:07] Can't kekulize mol.  Unkekulized atoms: 1 2 3 5 39\n",
      "[22:11:07] Can't kekulize mol.  Unkekulized atoms: 1 2 3 5 39\n",
      "[22:11:07] Can't kekulize mol.  Unkekulized atoms: 12 13 15 16 18\n",
      "[22:11:07] Can't kekulize mol.  Unkekulized atoms: 12 13 15 16 18\n",
      "[22:11:07] Can't kekulize mol.  Unkekulized atoms: 18 19 22 23 25\n",
      "[22:11:07] Can't kekulize mol.  Unkekulized atoms: 18 19 22 23 25\n",
      "[22:11:07] Can't kekulize mol.  Unkekulized atoms: 19 20 22 23 25\n",
      "[22:11:07] Can't kekulize mol.  Unkekulized atoms: 19 20 22 23 25\n",
      "[22:11:07] Can't kekulize mol.  Unkekulized atoms: 18 19 21 22 24\n",
      "[22:11:07] Can't kekulize mol.  Unkekulized atoms: 18 19 21 22 24\n",
      "[22:11:07] Can't kekulize mol.  Unkekulized atoms: 18 19 21 22 24\n",
      "[22:11:07] Can't kekulize mol.  Unkekulized atoms: 18 19 21 22 24\n",
      "[22:11:07] Can't kekulize mol.  Unkekulized atoms: 18 19 21 22 24\n",
      "[22:11:07] Can't kekulize mol.  Unkekulized atoms: 18 19 21 22 24\n",
      "[22:11:07] Can't kekulize mol.  Unkekulized atoms: 18 19 21 22 24\n",
      "[22:11:07] Can't kekulize mol.  Unkekulized atoms: 18 19 21 22 24\n",
      "[22:11:07] Can't kekulize mol.  Unkekulized atoms: 22 23 25 26 28\n",
      "[22:11:07] Can't kekulize mol.  Unkekulized atoms: 22 23 25 26 28\n",
      "[22:11:07] Can't kekulize mol.  Unkekulized atoms: 21 22 24 25 27\n",
      "[22:11:07] Can't kekulize mol.  Unkekulized atoms: 21 22 24 25 27\n",
      "[22:11:07] Can't kekulize mol.  Unkekulized atoms: 18 19 21 22 24\n",
      "[22:11:07] Can't kekulize mol.  Unkekulized atoms: 18 19 21 22 24\n",
      "[22:11:07] Can't kekulize mol.  Unkekulized atoms: 24 25 27 28 30\n",
      "[22:11:07] Can't kekulize mol.  Unkekulized atoms: 24 25 27 28 30\n",
      "[22:11:07] Can't kekulize mol.  Unkekulized atoms: 19 20 22 23 25\n",
      "[22:11:07] Can't kekulize mol.  Unkekulized atoms: 19 20 22 23 25\n",
      "[22:11:07] Can't kekulize mol.  Unkekulized atoms: 22 23 25 26 28\n",
      "[22:11:07] Can't kekulize mol.  Unkekulized atoms: 22 23 25 26 28\n",
      "[22:11:07] Can't kekulize mol.  Unkekulized atoms: 19 20 22 23 25\n",
      "[22:11:07] Can't kekulize mol.  Unkekulized atoms: 19 20 22 23 25\n",
      "[22:11:07] Can't kekulize mol.  Unkekulized atoms: 18 19 21 22 24\n",
      "[22:11:07] Can't kekulize mol.  Unkekulized atoms: 18 19 21 22 24\n",
      "[22:11:07] Can't kekulize mol.  Unkekulized atoms: 18 19 21 22 24\n",
      "[22:11:07] Can't kekulize mol.  Unkekulized atoms: 18 19 21 22 24\n",
      "[22:11:07] Can't kekulize mol.  Unkekulized atoms: 19 20 22 23 25\n",
      "[22:11:07] Can't kekulize mol.  Unkekulized atoms: 19 20 22 23 25\n",
      "[22:11:07] Can't kekulize mol.  Unkekulized atoms: 18 19 21 22 24\n",
      "[22:11:07] Can't kekulize mol.  Unkekulized atoms: 18 19 21 22 24\n",
      "[22:11:07] Can't kekulize mol.  Unkekulized atoms: 19 20 22 23 25\n",
      "[22:11:07] Can't kekulize mol.  Unkekulized atoms: 19 20 22 23 25\n",
      "[22:11:07] Can't kekulize mol.  Unkekulized atoms: 20 21 23 24 26\n",
      "[22:11:07] Can't kekulize mol.  Unkekulized atoms: 20 21 23 24 26\n",
      "[22:11:07] Explicit valence for atom # 34 N, 4, is greater than permitted\n",
      "[22:11:07] Explicit valence for atom # 34 N, 4, is greater than permitted\n",
      "[22:11:07] Can't kekulize mol.  Unkekulized atoms: 1 2 3 5 44\n",
      "[22:11:07] Can't kekulize mol.  Unkekulized atoms: 18 19 21 22 24\n",
      "[22:11:07] Can't kekulize mol.  Unkekulized atoms: 18 19 21 22 24\n",
      "[22:11:07] Can't kekulize mol.  Unkekulized atoms: 18 19 21 22 24\n",
      "[22:11:07] Can't kekulize mol.  Unkekulized atoms: 18 19 21 22 24\n",
      "[22:11:07] Can't kekulize mol.  Unkekulized atoms: 21 22 24 25 27\n",
      "[22:11:07] Can't kekulize mol.  Unkekulized atoms: 21 22 24 25 27\n",
      "[22:11:07] Explicit valence for atom # 6 N, 4, is greater than permitted\n",
      "[22:11:07] Explicit valence for atom # 5 N, 4, is greater than permitted\n",
      "[22:11:07] Explicit valence for atom # 6 N, 4, is greater than permitted\n",
      "[22:11:07] Explicit valence for atom # 5 N, 4, is greater than permitted\n",
      "[22:11:07] Explicit valence for atom # 17 N, 4, is greater than permitted\n",
      "[22:11:07] Explicit valence for atom # 17 N, 4, is greater than permitted\n",
      "[22:11:07] Explicit valence for atom # 17 N, 4, is greater than permitted\n",
      "[22:11:07] Explicit valence for atom # 4 N, 4, is greater than permitted\n",
      "[22:11:07] Explicit valence for atom # 4 N, 4, is greater than permitted\n",
      "[22:11:07] Explicit valence for atom # 11 N, 4, is greater than permitted\n",
      "[22:11:07] Explicit valence for atom # 11 N, 4, is greater than permitted\n"
     ]
    },
    {
     "name": "stdout",
     "output_type": "stream",
     "text": [
      "Unable to canonicalize  CN(C)Cc1ccc(cc1)-c1cc(N(C)[C@H]2CC[C@@H](CC2)NC(C)=O)c(C)c(c1)C(=O)NCc1c(C)cc(C)nc1=O\n",
      "Unable to canonicalize  CN(C)Cc1ccc(cc1)-c1cc(N(C)[C@H]2CC[C@@H](CC2)NC(C)=O)c(C)c(c1)C(=O)NCc1c(C)cc(C)nc1=O\n",
      "Unable to canonicalize  CN(C)Cc1ccc(cc1)-c1cc(N(C)[C@@H]2CC[C@@H](CC2)NC(C)=O)c(C)c(c1)C(=O)NCc1c(C)cc(C)nc1=O\n",
      "Unable to canonicalize  CN(C)Cc1ccc(cc1)-c1cc(N(C)[C@@H]2CC[C@@H](CC2)NC(C)=O)c(C)c(c1)C(=O)NCc1c(C)cc(C)nc1=O\n",
      "Unable to canonicalize  CN(C)Cc1ccc(cn1)-c1cc(N(C)[C@@H]2CC[C@@H](CC2)NC(C)=O)c(C)c(c1)C(=O)NCc1c(C)cc(C)nc1=O\n",
      "Unable to canonicalize  CN(C)Cc1ccc(cn1)-c1cc(N(C)[C@@H]2CC[C@@H](CC2)NC(C)=O)c(C)c(c1)C(=O)NCc1c(C)cc(C)nc1=O\n",
      "Unable to canonicalize  CN([C@@H]1CC[C@@H](CC1)NC(C)=O)c1cc(cc(C(=O)NCc2c(C)cc(C)nc2=O)c1C)-c1ccc(CO)nc1\n",
      "Unable to canonicalize  CN([C@@H]1CC[C@@H](CC1)NC(C)=O)c1cc(cc(C(=O)NCc2c(C)cc(C)nc2=O)c1C)-c1ccc(CO)nc1\n",
      "Unable to canonicalize  CN(C)Cc1ccc(cc1)-c1cc(N(C)[C@H]2CC[C@H](N)CC2)c(C)c(c1)C(=O)NCc1c(C)cc(C)nc1=O\n",
      "Unable to canonicalize  CCN(C1CCOCC1)c1cc(cc(C(=O)NCc2c(C)cc(C)nc2=O)c1C)-c1cnn(C)c1\n",
      "Unable to canonicalize  CCN(C1CCOCC1)c1cc(cc(C(=O)NCc2c(C)cc(C)nc2=O)c1C)-c1cnn(C)c1\n",
      "Unable to canonicalize  CCN(C1CCOCC1)c1cc(cc(C(=O)NCc2c(C)cc(C)nc2=O)c1C)-c1ccc(CN(C)C)nc1\n",
      "Unable to canonicalize  CCN(C1CCOCC1)c1cc(cc(C(=O)NCc2c(C)cc(C)nc2=O)c1C)-c1ccc(CN(C)C)nc1\n",
      "Unable to canonicalize  CCN(C1CCOCC1)c1cc(cc(C(=O)NCc2c(C)cc(C)nc2=O)c1C)-c1ccc(CN2CCN(C)CC2)nc1\n",
      "Unable to canonicalize  CCN(C1CCOCC1)c1cc(cc(C(=O)NCc2c(C)cc(C)nc2=O)c1C)-c1ccc(CN2CCN(C)CC2)nc1\n",
      "Unable to canonicalize  CCN(C1CCOCC1)c1cc(cc(C(=O)NCc2c(C)cc(C)nc2=O)c1C)-c1ccc(C)cc1\n",
      "Unable to canonicalize  CCN(C1CCOCC1)c1cc(cc(C(=O)NCc2c(C)cc(C)nc2=O)c1C)-c1ccc(C)cc1\n",
      "Unable to canonicalize  CCN(C1CCOCC1)c1cc(cc(C(=O)NCc2c(C)cc(C)nc2=O)c1C)-c1cccc(CN2CCOCC2)c1\n",
      "Unable to canonicalize  CCN(C1CCOCC1)c1cc(cc(C(=O)NCc2c(C)cc(C)nc2=O)c1C)-c1cccc(CN2CCOCC2)c1\n",
      "Unable to canonicalize  CCN(C1CCOCC1)c1cc(cc(C(=O)NCc2c(C)cc(C)nc2=O)c1C)-c1ccc(CN2CC(CN3CCOCC3)C2)cc1\n",
      "Unable to canonicalize  CCN(C1CCOCC1)c1cc(cc(C(=O)NCc2c(C)cc(C)nc2=O)c1C)-c1ccc(CN2CC(CN3CCOCC3)C2)cc1\n",
      "Unable to canonicalize  Cc1cc(C)c(CNC(=O)c2cc(cc(NC3CCOCC3)c2C)-c2ccc(CN3CCOCC3)cc2)c(=O)n1\n",
      "Unable to canonicalize  Cc1cc(C)c(CNC(=O)c2cc(cc(NC3CCOCC3)c2C)-c2ccc(CN3CCOCC3)cc2)c(=O)n1\n",
      "Unable to canonicalize  CCNc1cc(cc(C(=O)NCc2c(C)cc(C)nc2=O)c1C)-c1ccc(CN2CCOCC2)cc1\n",
      "Unable to canonicalize  CCNc1cc(cc(C(=O)NCc2c(C)cc(C)nc2=O)c1C)-c1ccc(CN2CCOCC2)cc1\n",
      "Unable to canonicalize  CCN(C1CCOCC1)c1cc(cc(C(=O)NCc2c(CO)cc(C)nc2=O)c1C)-c1ccc(CN2CCOCC2)cc1\n",
      "Unable to canonicalize  CCN(C1CCOCC1)c1cc(cc(C(=O)NCc2c(CO)cc(C)nc2=O)c1C)-c1ccc(CN2CCOCC2)cc1\n",
      "Unable to canonicalize  CC(=O)N(C1CCOCC1)c1cc(cc(C(=O)NCc2c(C)cc(C)nc2=O)c1C)-c1ccc(CN2CCOCC2)cc1\n",
      "Unable to canonicalize  CC(=O)N(C1CCOCC1)c1cc(cc(C(=O)NCc2c(C)cc(C)nc2=O)c1C)-c1ccc(CN2CCOCC2)cc1\n",
      "Unable to canonicalize  CCN(C1CCOCC1)c1cc(cc(C(=O)NCc2c(C)cc(C)nc2=O)c1C)-c1ccc(CN2CCOCC2)c(F)c1\n",
      "Unable to canonicalize  CCN(C1CCOCC1)c1cc(cc(C(=O)NCc2c(C)cc(C)nc2=O)c1C)-c1ccc(CN2CCOCC2)c(F)c1\n",
      "Unable to canonicalize  CCN(C1CCOCC1)c1cc(cc(C(=O)NCc2c(C)cc(C)nc2=O)c1C)-c1ccc(CN2CCOCC2)cc1F\n",
      "Unable to canonicalize  CCN(C1CCOCC1)c1cc(cc(C(=O)NCc2c(C)cc(C)nc2=O)c1C)-c1ccc(CN2CCOCC2)cc1F\n",
      "Unable to canonicalize  CCN(C1CCOCC1)c1cc(cc(C(=O)NCc2c(C)cc(C)nc2=O)c1C)-c1ccc(CN2CCOCC2)cc1C\n",
      "Unable to canonicalize  CCN(C1CCOCC1)c1cc(cc(C(=O)NCc2c(C)cc(C)nc2=O)c1C)-c1ccc(CN2CCOCC2)cc1C\n",
      "Unable to canonicalize  CCN(C1CCOCC1)c1cc(cc(C(=O)NCc2c(C)cc(C)nc2=O)c1C)-c1ccc(cc1)C(=O)N1CCOCC1\n",
      "Unable to canonicalize  CCN(C1CCOCC1)c1cc(cc(C(=O)NCc2c(C)cc(C)nc2=O)c1C)-c1ccc(cc1)C(=O)N1CCOCC1\n",
      "Unable to canonicalize  CCN(C1CCN(CC1)S(C)(=O)=O)c1cc(cc(C(=O)NCc2c(C)cc(C)nc2=O)c1C)-c1ccc(CN2CCOCC2)cc1\n",
      "Unable to canonicalize  CCN(C1CCN(CC1)S(C)(=O)=O)c1cc(cc(C(=O)NCc2c(C)cc(C)nc2=O)c1C)-c1ccc(CN2CCOCC2)cc1\n",
      "Unable to canonicalize  CCN(C1CCN(CC1)C(C)=O)c1cc(cc(C(=O)NCc2c(C)cc(C)nc2=O)c1C)-c1ccc(CN2CCOCC2)cc1\n",
      "Unable to canonicalize  CCN(C1CCN(CC1)C(C)=O)c1cc(cc(C(=O)NCc2c(C)cc(C)nc2=O)c1C)-c1ccc(CN2CCOCC2)cc1\n",
      "Unable to canonicalize  CCN(C1CCNCC1)c1cc(cc(C(=O)NCc2c(C)cc(C)nc2=O)c1C)-c1ccc(CN2CCOCC2)cc1\n",
      "Unable to canonicalize  CCN(C1CCNCC1)c1cc(cc(C(=O)NCc2c(C)cc(C)nc2=O)c1C)-c1ccc(CN2CCOCC2)cc1\n",
      "Unable to canonicalize  CCN(C1CCN(CC1)C(=O)C(C)(C)C)c1cc(cc(C(=O)NCc2c(C)cc(C)nc2=O)c1C)-c1ccc(CN2CCOCC2)cc1\n",
      "Unable to canonicalize  CCN(C1CCN(CC1)C(=O)C(C)(C)C)c1cc(cc(C(=O)NCc2c(C)cc(C)nc2=O)c1C)-c1ccc(CN2CCOCC2)cc1\n",
      "Unable to canonicalize  CCN([C@H]1CC[C@H](N)CC1)c1cc(cc(C(=O)NCc2c(C)cc(C)nc2=O)c1C)-c1ccc(CN2CCOCC2)cc1\n",
      "Unable to canonicalize  CCN([C@H]1CC[C@H](N)CC1)c1cc(cc(C(=O)NCc2c(C)cc(C)nc2=O)c1C)-c1ccc(CN2CCOCC2)cc1\n",
      "Unable to canonicalize  CCN([C@H]1CC[C@@H](CC1)NC(C)=O)c1cc(cc(C(=O)NCc2c(C)cc(C)nc2=O)c1C)-c1ccc(CN2CCOCC2)cc1\n",
      "Unable to canonicalize  CCN([C@H]1CC[C@@H](CC1)NC(C)=O)c1cc(cc(C(=O)NCc2c(C)cc(C)nc2=O)c1C)-c1ccc(CN2CCOCC2)cc1\n",
      "Unable to canonicalize  CCN(C1CCOCC1)c1cc(c(F)c(C(=O)NCc2c(C)cc(C)nc2=O)c1C)-c1ccc(CN2CCOCC2)cc1\n",
      "Unable to canonicalize  CCN(C1CCOCC1)c1cc(c(F)c(C(=O)NCc2c(C)cc(C)nc2=O)c1C)-c1ccc(CN2CCOCC2)cc1\n",
      "Unable to canonicalize  CCN(C1CCOCC1)c1cc(cc(C(=O)NCc2c(C)cc(C)nc2=O)c1C)-c1ccc(CN2CCOCC2=O)cc1\n",
      "Unable to canonicalize  CCN(C1CCOCC1)c1cc(cc(C(=O)NCc2c(C)cc(C)nc2=O)c1C)-c1ccc(CN2CCOCC2=O)cc1\n",
      "Unable to canonicalize  CCN(C1CCSCC1)c1cc(cc(C(=O)NCc2c(C)cc(C)nc2=O)c1C)-c1ccc(CN2CCOCC2)cc1\n",
      "Unable to canonicalize  CCN(C1CCSCC1)c1cc(cc(C(=O)NCc2c(C)cc(C)nc2=O)c1C)-c1ccc(CN2CCOCC2)cc1\n",
      "Unable to canonicalize  CCN(C1CCS(=O)CC1)c1cc(cc(C(=O)NCc2c(C)cc(C)nc2=O)c1C)-c1ccc(CN2CCOCC2)cc1\n",
      "Unable to canonicalize  CCN(C1CCS(=O)CC1)c1cc(cc(C(=O)NCc2c(C)cc(C)nc2=O)c1C)-c1ccc(CN2CCOCC2)cc1\n",
      "Unable to canonicalize  CCN(C1CCOCC1)c1cc(cc(C(=O)NCc2c(C)cc(C)nc2=O)c1C)-c1ccc(CN2CCOCC2)c(C)c1\n",
      "Unable to canonicalize  CCN(C1CCOCC1)c1cc(cc(C(=O)NCc2c(C)cc(C)nc2=O)c1C)-c1ccc(CN2CCOCC2)c(C)c1\n",
      "Unable to canonicalize  CCN(C1CCS(=O)CC1)c1cc(cc(C(=O)NCc2c(C)cc(C)nc2=O)c1C)-c1ccc(C[N+]2([O-])CCOCC2)cc1\n",
      "Unable to canonicalize  CCN(C1CCS(=O)CC1)c1cc(cc(C(=O)NCc2c(C)cc(C)nc2=O)c1C)-c1ccc(C[N+]2([O-])CCOCC2)cc1\n",
      "Unable to canonicalize  CCN(C1CCS(=O)(=O)CC1)c1cc(cc(C(=O)NCc2c(C)cc(C)nc2=O)c1C)-c1ccc(CN2CCOCC2)cc1\n",
      "Unable to canonicalize  CCN(C1CCS(=O)(=O)CC1)c1cc(cc(C(=O)NCc2c(C)cc(C)nc2=O)c1C)-c1ccc(CN2CCOCC2)cc1\n",
      "Unable to canonicalize  CCN(C1CCOCC1)c1cc(cc(C(=O)NCc2c(C)cc(C)[nH]c2=O)c1C)-c1ccc(C[N]2(O)CCOCC2)cc1\n",
      "Unable to canonicalize  CCN(C1CCOCC1)c1cc(cc(C(=O)NCc2c(C)cc(C)[nH]c2=O)c1C)-c1ccc(C[N]2(O)CCOCC2)cc1\n",
      "Unable to canonicalize  Cc1cc(C)c(CNC(=O)c2cc(cc(N(CC(F)(F)F)C3CCOCC3)c2C)-c2ccc(CN3CCOCC3)cc2)c(=O)n1\n",
      "Unable to canonicalize  CCN(C1CCOCC1)c1cc(cc(C(=O)NCc2c(C)cc(C)nc2=O)c1CC)-c1ccc(CN2CCOCC2)cc1\n",
      "Unable to canonicalize  CCN(C1CCOCC1)c1cc(cc(C(=O)NCc2c(C)cc(C)nc2=O)c1CC)-c1ccc(CN2CCOCC2)cc1\n",
      "Unable to canonicalize  CCN(C1CCOCC1)c1cc(cc(C(=O)NCc2c(C)cc(C)nc2=O)c1C)-c1ccc(CN2CCOCC2)c(c1)C#N\n",
      "Unable to canonicalize  CCN(C1CCOCC1)c1cc(cc(C(=O)NCc2c(C)cc(C)nc2=O)c1C)-c1ccc(CN2CCOCC2)c(c1)C#N\n",
      "Unable to canonicalize  CCN([C@H]1CC[C@@H](CC1)N(C)C)c1cc(cc(C(=O)NCc2c(C)cc(C)nc2=O)c1C)-c1ccc(CN2CCOCC2)cc1\n",
      "Unable to canonicalize  CCN([C@H]1CC[C@@H](CC1)N(C)C)c1cc(cc(C(=O)NCc2c(C)cc(C)nc2=O)c1C)-c1ccc(CN2CCOCC2)cc1\n",
      "Unable to canonicalize  Cn1ccc(C[N]2=CC(C=N2)c2cccc(c2)C(F)(F)F)n1\n",
      "Unable to canonicalize  Cc1cc(C[N]2=CC(C=N2)c2ccc(cc2)C(F)(F)F)n(C)n1\n",
      "Unable to canonicalize  Cn1ccc(C[N]2=CC(C=N2)c2cccc(c2)C(F)(F)F)n1\n",
      "Unable to canonicalize  Cc1cc(C[N]2=CC(C=N2)c2ccc(cc2)C(F)(F)F)n(C)n1\n",
      "Unable to canonicalize  C[C@@H](Oc1nc(cc2nn(C)c(C)c12)C1=CN[N](=C1)C(C)(C)C)[C@H]1CNC(=O)C1\n",
      "Unable to canonicalize  C[C@@H](Oc1nc(cc2nn(C)c(C)c12)C1=CN[N](=C1)C(C)(C)C)[C@H]1CNC(=O)C1\n",
      "Unable to canonicalize  C[C@@H](Oc1nc(cc2nn(C)c(C)c12)C1=CN[N](=C1)C(C)(C)C)[C@H]1CNC(=O)C1\n",
      "Unable to canonicalize  NC(=O)C1=[N](NC=C1NC(=O)c1cnn2ccc(nc12)N1CCNCC1)c1ccncc1\n",
      "Unable to canonicalize  CSC1=N[N]2=C(C=CC2C=N1)C(=O)Nc1cn(C)nc1C(N)=O\n",
      "Unable to canonicalize  COCc1ccc(NC(=O)C2=[N](OC[C@@H]3CCCO3)N(c3ncnc(N)c23)C2(C)CC2)cc1\n",
      "Unable to canonicalize  COCc1ccc(NC(=O)C2=[N](OC[C@@H]3CCCO3)N(c3ncnc(N)c23)C2(C)CC2)cc1\n"
     ]
    },
    {
     "name": "stderr",
     "output_type": "stream",
     "text": [
      "[22:11:10] Explicit valence for atom # 19 N, 4, is greater than permitted\n",
      "[22:11:10] Explicit valence for atom # 19 N, 4, is greater than permitted\n",
      "[22:11:10] Explicit valence for atom # 19 N, 4, is greater than permitted\n"
     ]
    },
    {
     "name": "stdout",
     "output_type": "stream",
     "text": [
      "Unable to canonicalize  O=C(\\C=C\\c1cnc2NC(=O)CCc2c1)N1C[C@H]2C[N](=C[C@H]2C1)c1ccccc1\n",
      "Unable to canonicalize  O=C(\\C=C\\c1cnc2NC(=O)CCc2c1)N1C[C@@H]2C[N](=C[C@@H]2C1)c1ccccc1\n",
      "Unable to canonicalize  O=C(\\C=C\\c1cnc2NC(=O)CCc2c1)N1C[C@H]2C[N](=C[C@H]2C1)c1ccncc1\n"
     ]
    },
    {
     "name": "stderr",
     "output_type": "stream",
     "text": [
      "[22:11:10] Explicit valence for atom # 8 N, 4, is greater than permitted\n",
      "[22:11:10] Explicit valence for atom # 23 N, 4, is greater than permitted\n",
      "[22:11:10] Explicit valence for atom # 23 N, 4, is greater than permitted\n",
      "[22:11:10] Explicit valence for atom # 23 N, 4, is greater than permitted\n",
      "[22:11:10] Explicit valence for atom # 23 N, 4, is greater than permitted\n"
     ]
    },
    {
     "name": "stdout",
     "output_type": "stream",
     "text": [
      "Unable to canonicalize  C[C@H](c1ccccc1)[N]1=Cc2cc3c(n[nH]c3cc2NC1=O)-c1ccnc(C)c1\n",
      "Unable to canonicalize  COc1ncccc1-c1n[nH]c2C(N(C(=O)c12)C1=CC2C(=NN=[N]2C)C(C)=C1)c1ccc(Cl)cc1\n",
      "Unable to canonicalize  COc1ncccc1-c1n[nH]c2C(N(C(=O)c12)C1=CC2C(=NN=[N]2C)C(C)=C1)c1ccc(Cl)cc1\n",
      "Unable to canonicalize  COc1ncccc1-c1n[nH]c2C(N(C(=O)c12)C1=CC2C(=NN=[N]2C)C(C)=C1)c1ccc(Cl)cc1\n",
      "Unable to canonicalize  COc1ncccc1-c1n[nH]c2C(N(C(=O)c12)C1=CC2C(=NN=[N]2C)C(C)=C1)c1ccc(Cl)cc1\n"
     ]
    },
    {
     "name": "stderr",
     "output_type": "stream",
     "text": [
      "[22:11:11] Explicit valence for atom # 1 N, 4, is greater than permitted\n",
      "[22:11:11] Explicit valence for atom # 1 N, 4, is greater than permitted\n",
      "[22:11:11] Explicit valence for atom # 1 N, 4, is greater than permitted\n"
     ]
    },
    {
     "name": "stdout",
     "output_type": "stream",
     "text": [
      "Unable to canonicalize  C[N]1=CC2C=CC(COc3ccnn3-c3cc(ccn3)C(O)=O)=CC2=N1\n",
      "Unable to canonicalize  C[N]1=CC2C=CC(COc3ccnn3-c3cc(ccn3)C(O)=O)=CC2=N1\n",
      "Unable to canonicalize  C[N]1=CC2C=CC(COc3ccnn3-c3cc(ccn3)C(O)=O)=CC2=N1\n"
     ]
    },
    {
     "name": "stderr",
     "output_type": "stream",
     "text": [
      "[22:11:11] Can't kekulize mol.  Unkekulized atoms: 34 35 38\n",
      "[22:11:11] Can't kekulize mol.  Unkekulized atoms: 34 35 38\n",
      "[22:11:11] Explicit valence for atom # 4 N, 4, is greater than permitted\n",
      "[22:11:11] Can't kekulize mol.  Unkekulized atoms: 1 3 6\n",
      "[22:11:11] Can't kekulize mol.  Unkekulized atoms: 1 3 6\n",
      "[22:11:11] Can't kekulize mol.  Unkekulized atoms: 1 2 6\n",
      "[22:11:11] Can't kekulize mol.  Unkekulized atoms: 1 2 6\n",
      "[22:11:11] Can't kekulize mol.  Unkekulized atoms: 1 2 6\n",
      "[22:11:11] Can't kekulize mol.  Unkekulized atoms: 1 2 6\n",
      "[22:11:11] Can't kekulize mol.  Unkekulized atoms: 1 2 6\n",
      "[22:11:11] Can't kekulize mol.  Unkekulized atoms: 1 2 6\n",
      "[22:11:11] Can't kekulize mol.  Unkekulized atoms: 1 2 6\n",
      "[22:11:11] Can't kekulize mol.  Unkekulized atoms: 1 2 6\n",
      "[22:11:11] Can't kekulize mol.  Unkekulized atoms: 1 2 6\n",
      "[22:11:11] Can't kekulize mol.  Unkekulized atoms: 1 2 6\n",
      "[22:11:11] Can't kekulize mol.  Unkekulized atoms: 1 3 6\n",
      "[22:11:11] Can't kekulize mol.  Unkekulized atoms: 1 3 6\n",
      "[22:11:11] Can't kekulize mol.  Unkekulized atoms: 1 2 6\n",
      "[22:11:11] Can't kekulize mol.  Unkekulized atoms: 1 2 6\n",
      "[22:11:11] Can't kekulize mol.  Unkekulized atoms: 1 2 6\n",
      "[22:11:11] Can't kekulize mol.  Unkekulized atoms: 1 2 6\n"
     ]
    },
    {
     "name": "stdout",
     "output_type": "stream",
     "text": [
      "Unable to canonicalize  Cc1nnn(C)c1-c1ccc2c(c1)n(C(C1CCOCC1)c1ncccc1F)c1cc(cnc21)-c1c(C)[nH]nn1C\n",
      "Unable to canonicalize  Cc1nnn(C)c1-c1ccc2c(c1)n(C(C1CCOCC1)c1ncccc1F)c1cc(cnc21)-c1c(C)[nH]nn1C\n",
      "Unable to canonicalize  CC1N=N[N](C)=C1c1cnc2c(c1)n([C@@H](C1CCOCC1)c1ccccc1)c1cc(ccc21)-c1c(C)nnn1C\n",
      "Unable to canonicalize  Cc1[nH]nn(C)c1-c1cnc2c(c1)n(C(C1CCOCC1)c1ncccc1F)c1c(ccc(N3CCCS3(=O)=O)c21)S(C)(=O)=O\n",
      "Unable to canonicalize  Cc1[nH]nn(C)c1-c1cnc2c(c1)n(C(C1CCOCC1)c1ncccc1F)c1c(ccc(N3CCCS3(=O)=O)c21)S(C)(=O)=O\n",
      "Unable to canonicalize  Cc1n[nH]n(C)c1-c1cnc2c(c1)n([C@@H](C1CCOCC1)c1ccccc1)c1c(F)c(ccc21)C1(C)COC(=O)N1\n",
      "Unable to canonicalize  Cc1n[nH]n(C)c1-c1cnc2c(c1)n([C@@H](C1CCOCC1)c1ccccc1)c1c(F)c(ccc21)C1(C)COC(=O)N1\n",
      "Unable to canonicalize  Cc1n[nH]n(C)c1-c1cnc2c(c1)n([C@@H](C1CCOCC1)c1ccccc1)c1c(F)c(ccc21)C1(O)CCOC1\n",
      "Unable to canonicalize  Cc1n[nH]n(C)c1-c1cnc2c(c1)n([C@@H](C1CCOCC1)c1ccccc1)c1c(F)c(ccc21)C1(O)CCOC1\n",
      "Unable to canonicalize  Cc1n[nH]n(C)c1-c1cnc2c(c1)n(C(C1CCOCC1)c1ncccc1F)c1cc(ccc21)N1CCC(F)(F)CC1\n",
      "Unable to canonicalize  Cc1n[nH]n(C)c1-c1cnc2c(c1)n(C(C1CCOCC1)c1ncccc1F)c1cc(ccc21)N1CCC(F)(F)CC1\n",
      "Unable to canonicalize  Cc1n[nH]n(C)c1-c1cnc2c(c1)n(C(C1CCOCC1)c1ncccc1F)c1cc(ccc21)N1CCS(=O)(=O)CC1\n",
      "Unable to canonicalize  Cc1n[nH]n(C)c1-c1cnc2c(c1)n(C(C1CCOCC1)c1ncccc1F)c1cc(ccc21)N1CCS(=O)(=O)CC1\n",
      "Unable to canonicalize  Cc1n[nH]n(C)c1-c1cnc2c(c1)n(C(C1CCOCC1)c1ncccc1F)c1cc(ccc21)N1CCC(CC1)S(C)(=O)=O\n",
      "Unable to canonicalize  Cc1n[nH]n(C)c1-c1cnc2c(c1)n(C(C1CCOCC1)c1ncccc1F)c1cc(ccc21)N1CCC(CC1)S(C)(=O)=O\n",
      "Unable to canonicalize  Cc1[nH]nn(C)c1-c1cnc2c(c1)n(C(C1CCC(F)(F)CC1)c1ccccc1)c1c(C)ccc(N3CCC(F)(F)CC3)c21\n",
      "Unable to canonicalize  Cc1[nH]nn(C)c1-c1cnc2c(c1)n(C(C1CCC(F)(F)CC1)c1ccccc1)c1c(C)ccc(N3CCC(F)(F)CC3)c21\n",
      "Unable to canonicalize  Cc1n[nH]n(C)c1-c1cnc2c(c1)n(C(C1CCC(F)(F)CC1)c1ccccc1)c1cc(ccc21)N1CCC(F)(F)CC1\n",
      "Unable to canonicalize  Cc1n[nH]n(C)c1-c1cnc2c(c1)n(C(C1CCC(F)(F)CC1)c1ccccc1)c1cc(ccc21)N1CCC(F)(F)CC1\n",
      "Unable to canonicalize  Cc1n[nH]n(C)c1-c1cnc2c(c1)n(C(C1CCC(F)(F)CC1)c1ccccc1)c1cc(ccc21)N1CCC(CC1)C(F)(F)F\n",
      "Unable to canonicalize  Cc1n[nH]n(C)c1-c1cnc2c(c1)n(C(C1CCC(F)(F)CC1)c1ccccc1)c1cc(ccc21)N1CCC(CC1)C(F)(F)F\n"
     ]
    },
    {
     "name": "stderr",
     "output_type": "stream",
     "text": [
      "[22:11:11] Explicit valence for atom # 1 N, 4, is greater than permitted\n",
      "[22:11:11] Explicit valence for atom # 13 N, 4, is greater than permitted\n",
      "[22:11:11] Explicit valence for atom # 17 N, 4, is greater than permitted\n",
      "[22:11:11] Explicit valence for atom # 14 N, 4, is greater than permitted\n",
      "[22:11:11] Explicit valence for atom # 17 N, 4, is greater than permitted\n"
     ]
    },
    {
     "name": "stdout",
     "output_type": "stream",
     "text": [
      "Unable to canonicalize  C[N]1=CC(=CN1)c1cc(-c2ccc(nc2)N2CCOCC2)c2c(cnn2c1)C#N\n",
      "Unable to canonicalize  CCn1c(nc2C(N3CCOCC3)[N](C)(C=Nc12)c1cn[nH]c1)C1CC(CCN1C=O)N1CCOCC1\n",
      "Unable to canonicalize  CN1C(C2CN(CCC2N2CCOCC2)C=O)[N](C)(c2cn[nH]c2)c2c1nccc2N1CCOCC1\n",
      "Unable to canonicalize  CN1C(C2CN(CCC22COC2)C=O)[N](C)(c2cn[nH]c2)c2c1ncc(F)c2N1CCOCC1\n",
      "Unable to canonicalize  CN1C(C2CN(CCC2N2CCOCC2)C=O)[N](C)(c2cn[nH]c2)c2c1ncc(F)c2N1CCOCC1\n"
     ]
    },
    {
     "name": "stderr",
     "output_type": "stream",
     "text": [
      "[22:11:12] Explicit valence for atom # 13 N, 4, is greater than permitted\n",
      "[22:11:12] Explicit valence for atom # 3 N, 4, is greater than permitted\n",
      "[22:11:12] Explicit valence for atom # 3 N, 4, is greater than permitted\n"
     ]
    },
    {
     "name": "stdout",
     "output_type": "stream",
     "text": [
      "Unable to canonicalize  CC(C(=O)Nc1ccc(cc1)C1=N[N](=NN1)C(F)(F)F)n1ccc(cc1=O)-c1cc(Cl)ccc1C#N\n",
      "Unable to canonicalize  COC[N]1=NNC(=N1)c1ccc(NC(=O)C(C)n2ccc(cc2=O)-c2cc(Cl)ccc2C#N)cc1\n",
      "Unable to canonicalize  COC[N]1=NNC(=N1)c1ccc(NC(=O)C(C)n2ccc(cc2=O)-c2cc(Cl)ccc2C#N)cc1\n"
     ]
    },
    {
     "name": "stderr",
     "output_type": "stream",
     "text": [
      "[22:11:12] Explicit valence for atom # 26 N, 4, is greater than permitted\n"
     ]
    },
    {
     "name": "stdout",
     "output_type": "stream",
     "text": [
      "Unable to canonicalize  CNCc1ccc(cc1)-c1cc(on1)-c1nc(cnc1N)C1=CCC(=O)[N](CCO)=C1\n"
     ]
    },
    {
     "name": "stderr",
     "output_type": "stream",
     "text": [
      "[22:11:13] Explicit valence for atom # 23 N, 4, is greater than permitted\n",
      "[22:11:13] Explicit valence for atom # 23 N, 4, is greater than permitted\n",
      "[22:11:13] Explicit valence for atom # 23 N, 4, is greater than permitted\n",
      "[22:11:13] Explicit valence for atom # 23 N, 4, is greater than permitted\n",
      "[22:11:13] Explicit valence for atom # 23 N, 4, is greater than permitted\n",
      "[22:11:13] Explicit valence for atom # 23 N, 4, is greater than permitted\n",
      "[22:11:13] Explicit valence for atom # 23 N, 4, is greater than permitted\n",
      "[22:11:13] Can't kekulize mol.  Unkekulized atoms: 26 27 29 30 32\n",
      "[22:11:13] Can't kekulize mol.  Unkekulized atoms: 26 27 29 30 32\n",
      "[22:11:13] Can't kekulize mol.  Unkekulized atoms: 26 27 29 30 32\n",
      "[22:11:13] Can't kekulize mol.  Unkekulized atoms: 25 26 28 29 31\n",
      "[22:11:13] Can't kekulize mol.  Unkekulized atoms: 25 26 28 29 31\n",
      "[22:11:13] Can't kekulize mol.  Unkekulized atoms: 26 27 29 30 32\n",
      "[22:11:13] Can't kekulize mol.  Unkekulized atoms: 24 25 27 28 30\n",
      "[22:11:13] Can't kekulize mol.  Unkekulized atoms: 17 18 20 21 23\n",
      "[22:11:13] Can't kekulize mol.  Unkekulized atoms: 25 26 28 29 31\n",
      "[22:11:13] Can't kekulize mol.  Unkekulized atoms: 23 24 26 27 29\n",
      "[22:11:13] Can't kekulize mol.  Unkekulized atoms: 23 24 26 27 29\n",
      "[22:11:13] Can't kekulize mol.  Unkekulized atoms: 24 25 27 28 30\n",
      "[22:11:13] Can't kekulize mol.  Unkekulized atoms: 23 24 26 27 29\n",
      "[22:11:13] Can't kekulize mol.  Unkekulized atoms: 23 24 26 27 29\n",
      "[22:11:13] Can't kekulize mol.  Unkekulized atoms: 15 16 18 19 21\n",
      "[22:11:13] Can't kekulize mol.  Unkekulized atoms: 26 27 29 30 32\n",
      "[22:11:13] Can't kekulize mol.  Unkekulized atoms: 1 2 3 5 35\n",
      "[22:11:13] Can't kekulize mol.  Unkekulized atoms: 16 17 19 20 22\n",
      "[22:11:13] Can't kekulize mol.  Unkekulized atoms: 26 27 28 29 31\n",
      "[22:11:13] Can't kekulize mol.  Unkekulized atoms: 23 24 26 27 29\n",
      "[22:11:13] Can't kekulize mol.  Unkekulized atoms: 23 24 26 27 29\n",
      "[22:11:13] Can't kekulize mol.  Unkekulized atoms: 15 16 18 19 21\n",
      "[22:11:13] Can't kekulize mol.  Unkekulized atoms: 25 26 28 29 31\n",
      "[22:11:13] Can't kekulize mol.  Unkekulized atoms: 15 16 18 19 21\n",
      "[22:11:13] Can't kekulize mol.  Unkekulized atoms: 25 26 28 29 31\n",
      "[22:11:13] Can't kekulize mol.  Unkekulized atoms: 17 18 20 21 23\n",
      "[22:11:13] Can't kekulize mol.  Unkekulized atoms: 25 26 28 29 31\n",
      "[22:11:13] Can't kekulize mol.  Unkekulized atoms: 24 25 27 28 30\n"
     ]
    },
    {
     "name": "stdout",
     "output_type": "stream",
     "text": [
      "Unable to canonicalize  C[C@@H]1CCC[C@@H]1n1cc(cn1)-c1nc(cn2nccc12)C1=CN[N](C[C@@H](O)CO)=C1\n",
      "Unable to canonicalize  C[C@@H]1CCC[C@@H]1n1cc(cn1)-c1nc(cn2nccc12)C1=CN[N](C[C@@H](O)CO)=C1\n",
      "Unable to canonicalize  C[C@@H]1CCC[C@@H]1n1cc(cn1)-c1nc(cn2nccc12)C1=CN[N](C[C@@H](O)CO)=C1\n",
      "Unable to canonicalize  C[C@@H]1CCC[C@@H]1n1cc(cn1)-c1nc(cn2nccc12)C1=CN[N](C[C@@H](O)CO)=C1\n",
      "Unable to canonicalize  C[C@@H]1CCC[C@@H]1n1cc(cn1)-c1nc(cn2nccc12)C1=CN[N](C[C@@H](O)CO)=C1\n",
      "Unable to canonicalize  C[C@@H]1CCC[C@@H]1n1cc(cn1)-c1nc(cn2nccc12)C1=CN[N](C[C@@H](O)CO)=C1\n",
      "Unable to canonicalize  C[C@@H]1CCC[C@@H]1n1cc(cn1)-c1nc(cn2nccc12)C1=CN[N](C[C@@H](O)CO)=C1\n",
      "Unable to canonicalize  CC(C)n1ncc2c(cc(nc12)-c1ccc(NC(C)=O)cc1)C(=O)NCc1c(C)cc(C)nc1=O\n",
      "Unable to canonicalize  CC(C)n1ncc2c(cc(nc12)-c1ccc2OCCOc2c1)C(=O)NCc1c(C)cc(C)nc1=O\n",
      "Unable to canonicalize  CC(C)n1ncc2c(cc(nc12)-c1ccc(cc1)S(C)(=O)=O)C(=O)NCc1c(C)cc(C)nc1=O\n",
      "Unable to canonicalize  CC(C)n1ncc2c(cc(nc12)-c1ccc2OCOc2c1)C(=O)NCc1c(C)cc(C)nc1=O\n",
      "Unable to canonicalize  CC(C)n1ncc2c(cc(nc12)-c1ccc(cc1)C(N)=O)C(=O)NCc1c(C)cc(C)nc1=O\n",
      "Unable to canonicalize  CC(C)n1ncc2c(cc(nc12)-c1cccc(NC(C)=O)c1)C(=O)NCc1c(C)cc(C)nc1=O\n",
      "Unable to canonicalize  CC(C)n1ncc2c(cc(nc12)-c1ccc(cc1)C#N)C(=O)NCc1c(C)cc(C)nc1=O\n",
      "Unable to canonicalize  COc1ccc(cc1OC)-c1cc(C(=O)NCc2c(C)cc(C)nc2=O)c2cnn(C(C)C)c2n1\n",
      "Unable to canonicalize  CC(C)n1ncc2c(cc(nc12)-c1ccc(cc1)N(C)C)C(=O)NCc1c(C)cc(C)nc1=O\n",
      "Unable to canonicalize  CC(C)n1ncc2c(cc(nc12)-c1cccc(F)c1)C(=O)NCc1c(C)cc(C)nc1=O\n",
      "Unable to canonicalize  CC(C)n1ncc2c(cc(nc12)-c1cccc(C)c1)C(=O)NCc1c(C)cc(C)nc1=O\n",
      "Unable to canonicalize  CC(C)n1ncc2c(cc(nc12)-c1ccc(CO)cc1)C(=O)NCc1c(C)cc(C)nc1=O\n",
      "Unable to canonicalize  CC(C)n1ncc2c(cc(nc12)-c1cccc(Cl)c1)C(=O)NCc1c(C)cc(C)nc1=O\n",
      "Unable to canonicalize  CC(C)n1ncc2c(cc(nc12)-c1ccc(C)cc1)C(=O)NCc1c(C)cc(C)nc1=O\n",
      "Unable to canonicalize  COc1ccccc1-c1cc(C(=O)NCc2c(C)cc(C)nc2=O)c2cnn(C(C)C)c2n1\n",
      "Unable to canonicalize  CC(C)n1ncc2c(cc(nc12)-c1ccc(cc1)C(C)(C)C)C(=O)NCc1c(C)cc(C)nc1=O\n",
      "Unable to canonicalize  Cc1cc(C)c(CNC(=O)c2cc(nc3n(ncc23)C(C)(C)C)-c2ccc3OCCOc3c2)c(=O)n1\n",
      "Unable to canonicalize  CCOc1ccc(cc1)-c1cc(C(=O)NCc2c(C)cc(C)nc2=O)c2cnn(C(C)C)c2n1\n",
      "Unable to canonicalize  CC(C)n1ncc2c(cc(nc12)-c1ccc2OCCOc2c1)C(=O)NCc1ccc(C)nc1=O\n",
      "Unable to canonicalize  CC(C)n1ncc2c(cc(nc12)-c1ccccc1Cl)C(=O)NCc1c(C)cc(C)nc1=O\n",
      "Unable to canonicalize  CC(C)n1ncc2c(cc(nc12)-c1ccccc1C)C(=O)NCc1c(C)cc(C)nc1=O\n",
      "Unable to canonicalize  COc1cccc(c1)-c1cc(C(=O)NCc2c(C)cc(C)nc2=O)c2cnn(C(C)C)c2n1\n",
      "Unable to canonicalize  CC(C)n1ncc2c(cc(nc12)-c1ccc(cc1)C(C)=O)C(=O)NCc1c(C)cc(C)nc1=O\n",
      "Unable to canonicalize  COc1ccc(cc1)-c1cc(C(=O)NCc2c(C)cc(C)nc2=O)c2cnn(C(C)C)c2n1\n",
      "Unable to canonicalize  CC(C)n1ncc2c(cc(nc12)-c1cccc(c1)C(C)=O)C(=O)NCc1c(C)cc(C)nc1=O\n",
      "Unable to canonicalize  CC(C)Oc1ccc(cc1)-c1cc(C(=O)NCc2c(C)cc(C)nc2=O)c2cnn(C(C)C)c2n1\n",
      "Unable to canonicalize  CC(C)n1ncc2c(cc(nc12)-c1cccc(c1)N(C)C)C(=O)NCc1c(C)cc(C)nc1=O\n",
      "Unable to canonicalize  CC(C)n1ncc2c(cc(nc12)-c1cccc(CO)c1)C(=O)NCc1c(C)cc(C)nc1=O\n"
     ]
    },
    {
     "name": "stderr",
     "output_type": "stream",
     "text": [
      "[22:11:13] Can't kekulize mol.  Unkekulized atoms: 23 24 26 27 29\n",
      "[22:11:13] Can't kekulize mol.  Unkekulized atoms: 19 20 22 23 25\n",
      "[22:11:13] Can't kekulize mol.  Unkekulized atoms: 17 18 20 21 23\n"
     ]
    },
    {
     "name": "stdout",
     "output_type": "stream",
     "text": [
      "Unable to canonicalize  CC(C)n1ncc2c(cc(nc12)-c1ccc(F)cc1)C(=O)NCc1c(C)cc(C)nc1=O\n",
      "Unable to canonicalize  CC(C)n1ncc2c(cc(nc12)C1CC1)C(=O)NCc1c(C)cc(C)nc1=O\n",
      "Unable to canonicalize  CC(C)n1ncc2c(cc(C)nc12)C(=O)NCc1c(C)cc(C)nc1=O\n"
     ]
    },
    {
     "name": "stderr",
     "output_type": "stream",
     "text": [
      "[22:11:13] Can't kekulize mol.  Unkekulized atoms: 13 14 15 16 17 18 19 20 21\n",
      "[22:11:13] Can't kekulize mol.  Unkekulized atoms: 18 19 20 21 22 23 24 25 26\n",
      "[22:11:13] Can't kekulize mol.  Unkekulized atoms: 18 19 20 21 22 23 24 25 26\n"
     ]
    },
    {
     "name": "stdout",
     "output_type": "stream",
     "text": [
      "Unable to canonicalize  Cc1cc2C[C@H]3[C@H](CCCN3C(=O)c3ccc4ncnc4c3)c2cc1C#N\n",
      "Unable to canonicalize  Cc1c2[C@H]3CCCN([C@H]3Cc2ccc1C#N)C(=O)c1ccc2ncnc2c1\n",
      "Unable to canonicalize  Cc1c2[C@@H]3CCCN([C@@H]3Cc2ccc1C#N)C(=O)c1ccc2ncnc2c1\n"
     ]
    },
    {
     "name": "stderr",
     "output_type": "stream",
     "text": [
      "[22:11:14] Can't kekulize mol.  Unkekulized atoms: 1 2 6\n",
      "[22:11:14] Can't kekulize mol.  Unkekulized atoms: 1 2 6\n",
      "[22:11:14] Can't kekulize mol.  Unkekulized atoms: 1 2 6\n",
      "[22:11:14] Can't kekulize mol.  Unkekulized atoms: 1 2 6\n",
      "[22:11:14] Can't kekulize mol.  Unkekulized atoms: 1 2 6\n",
      "[22:11:14] Can't kekulize mol.  Unkekulized atoms: 1 2 6\n",
      "[22:11:14] Can't kekulize mol.  Unkekulized atoms: 30 31 33\n",
      "[22:11:14] Can't kekulize mol.  Unkekulized atoms: 30 31 33\n",
      "[22:11:14] Can't kekulize mol.  Unkekulized atoms: 24 25 27\n",
      "[22:11:14] Can't kekulize mol.  Unkekulized atoms: 24 25 27\n",
      "[22:11:14] Can't kekulize mol.  Unkekulized atoms: 24 25 27\n",
      "[22:11:14] Can't kekulize mol.  Unkekulized atoms: 24 25 27\n",
      "[22:11:14] Can't kekulize mol.  Unkekulized atoms: 1 2 6\n",
      "[22:11:14] Can't kekulize mol.  Unkekulized atoms: 1 2 6\n"
     ]
    },
    {
     "name": "stdout",
     "output_type": "stream",
     "text": [
      "Unable to canonicalize  Cc1n[nH]n(C)c1-c1cnc2c(c1)n(C(C1CCC(F)(F)CC1)c1ccccc1)c1c(cncc21)S(C)(=O)=O\n",
      "Unable to canonicalize  Cc1n[nH]n(C)c1-c1cnc2c(c1)n(C(C1CCC(F)(F)CC1)c1ccccc1)c1c(cncc21)S(C)(=O)=O\n",
      "Unable to canonicalize  Cc1n[nH]n(C)c1-c1cnc2c(c1)n([C@@H](C1CCOCC1)c1ccccc1)c1cc(nc(Cl)c21)C(C)(C)O\n",
      "Unable to canonicalize  Cc1n[nH]n(C)c1-c1cnc2c(c1)n([C@@H](C1CCOCC1)c1ccccc1)c1cc(nc(Cl)c21)C(C)(C)O\n",
      "Unable to canonicalize  Cc1n[nH]n(C)c1-c1cnc2c(c1)n(C(C1CCOCC1)c1ncccc1F)c1cncc(NCC(F)(F)F)c21\n",
      "Unable to canonicalize  Cc1n[nH]n(C)c1-c1cnc2c(c1)n(C(C1CCOCC1)c1ncccc1F)c1cncc(NCC(F)(F)F)c21\n",
      "Unable to canonicalize  COc1nc(cc2n(C(C3CCC(F)(F)CC3)c3ccccc3)c3cc(cnc3c12)-c1c(C)n[nH]n1C)C(C)(C)O\n",
      "Unable to canonicalize  COc1nc(cc2n(C(C3CCC(F)(F)CC3)c3ccccc3)c3cc(cnc3c12)-c1c(C)n[nH]n1C)C(C)(C)O\n",
      "Unable to canonicalize  CCCC(c1ccc(F)cn1)n1c2cc(ncc2c2ncc(cc12)-c1c(C)n[nH]n1C)C(C)(C)O\n",
      "Unable to canonicalize  CCCC(c1ccc(F)cn1)n1c2cc(ncc2c2ncc(cc12)-c1c(C)n[nH]n1C)C(C)(C)O\n",
      "Unable to canonicalize  CCCC(c1ncccc1F)n1c2cc(ncc2c2ncc(cc12)-c1c(C)n[nH]n1C)C(C)(C)O\n",
      "Unable to canonicalize  CCCC(c1ncccc1F)n1c2cc(ncc2c2ncc(cc12)-c1c(C)n[nH]n1C)C(C)(C)O\n",
      "Unable to canonicalize  Cc1n[nH]n(C)c1-c1ccc2c3cnc(cc3n(C(C3CCOCC3)c3ncccc3F)c2n1)C(C)(C)O\n",
      "Unable to canonicalize  Cc1n[nH]n(C)c1-c1ccc2c3cnc(cc3n(C(C3CCOCC3)c3ncccc3F)c2n1)C(C)(C)O\n"
     ]
    },
    {
     "name": "stderr",
     "output_type": "stream",
     "text": [
      "[22:11:14] Explicit valence for atom # 22 N, 4, is greater than permitted\n",
      "[22:11:14] Explicit valence for atom # 22 N, 4, is greater than permitted\n",
      "[22:11:14] Explicit valence for atom # 22 N, 4, is greater than permitted\n",
      "[22:11:14] Explicit valence for atom # 22 N, 4, is greater than permitted\n",
      "[22:11:14] Explicit valence for atom # 22 N, 4, is greater than permitted\n",
      "[22:11:14] Explicit valence for atom # 22 N, 4, is greater than permitted\n",
      "[22:11:14] Explicit valence for atom # 22 N, 4, is greater than permitted\n",
      "[22:11:14] Explicit valence for atom # 22 N, 4, is greater than permitted\n",
      "[22:11:14] Explicit valence for atom # 22 N, 4, is greater than permitted\n"
     ]
    },
    {
     "name": "stdout",
     "output_type": "stream",
     "text": [
      "Unable to canonicalize  COc1cc2ncnc(Oc3cccc(NC(=O)NC4=CC(=[N](N4)c4ccccc4)C(F)(F)F)c3)c2cc1OC\n",
      "Unable to canonicalize  COc1cc2ncnc(Oc3cccc(NC(=O)NC4=CC(=[N](N4)c4ccccc4)C(F)(F)F)c3)c2cc1OC\n",
      "Unable to canonicalize  COc1cc2ncnc(Oc3cccc(NC(=O)NC4=CC(=[N](N4)c4ccccc4)C(F)(F)F)c3)c2cc1OC\n",
      "Unable to canonicalize  COc1cc2ncnc(Sc3cccc(NC(=O)NC4=CC(=[N](N4)c4ccccc4)C(F)(F)F)c3)c2cc1OC\n",
      "Unable to canonicalize  COc1cc2ncnc(Sc3cccc(NC(=O)NC4=CC(=[N](N4)c4ccccc4)C(F)(F)F)c3)c2cc1OC\n",
      "Unable to canonicalize  COc1cc2ncnc(Sc3cccc(NC(=O)NC4=CC(=[N](N4)c4ccccc4)C(F)(F)F)c3)c2cc1OC\n",
      "Unable to canonicalize  COc1cc2ncnc(Sc3cccc(NC(=O)NC4=CC(=[N](C)N4)C(F)(F)F)c3)c2cc1OC\n",
      "Unable to canonicalize  COc1cc2ncnc(Sc3cccc(NC(=O)NC4=CC(=[N](C)N4)C(F)(F)F)c3)c2cc1OC\n",
      "Unable to canonicalize  COc1cc2ncnc(Sc3cccc(NC(=O)NC4=CC(=[N](C)N4)C(F)(F)F)c3)c2cc1OC\n"
     ]
    },
    {
     "name": "stderr",
     "output_type": "stream",
     "text": [
      "[22:11:15] Explicit valence for atom # 16 N, 4, is greater than permitted\n",
      "[22:11:15] Explicit valence for atom # 21 N, 4, is greater than permitted\n",
      "[22:11:15] Explicit valence for atom # 21 N, 4, is greater than permitted\n",
      "[22:11:15] Explicit valence for atom # 21 N, 4, is greater than permitted\n",
      "[22:11:15] Explicit valence for atom # 21 N, 4, is greater than permitted\n",
      "[22:11:15] Explicit valence for atom # 21 N, 4, is greater than permitted\n",
      "[22:11:15] Can't kekulize mol.  Unkekulized atoms: 11 12 13 14 15 16 17 18 19\n",
      "[22:11:15] Can't kekulize mol.  Unkekulized atoms: 11 12 13 14 15 16 17 18 19\n",
      "[22:11:15] Can't kekulize mol.  Unkekulized atoms: 11 12 13 14 15 16 17 18 19\n",
      "[22:11:15] Can't kekulize mol.  Unkekulized atoms: 11 12 13 14 15 16 17 18 19\n",
      "[22:11:15] Can't kekulize mol.  Unkekulized atoms: 11 12 13 14 15 16 17 18 19\n",
      "[22:11:15] Can't kekulize mol.  Unkekulized atoms: 11 12 13 14 15 16 17 18 19\n",
      "[22:11:15] Can't kekulize mol.  Unkekulized atoms: 11 12 13 14 15 16 17 18 19\n",
      "[22:11:15] Can't kekulize mol.  Unkekulized atoms: 11 12 13 14 15 16 17 18 19\n"
     ]
    },
    {
     "name": "stdout",
     "output_type": "stream",
     "text": [
      "Unable to canonicalize  CC(C)(O)c1cc(O[C@H]2CC[C@H](CC2)N2C[N](CC#N)(C2)n2cc(cn2)-c2ncnc3[nH]ccc23)nc(c1)C(F)(F)F\n",
      "Unable to canonicalize  COc1cc(OC)cc(c1)C(\\O)=C1\\CC=c2ncc(cc2=[N]1CCO)-c1cnn(C)c1\n",
      "Unable to canonicalize  COc1cc(OC)cc(c1)C(\\O)=C1\\CC=c2ncc(cc2=[N]1CCO)-c1cnn(C)c1\n",
      "Unable to canonicalize  COc1cc(OC)cc(c1)C(\\O)=C1\\CC=c2ncc(cc2=[N]1CCO)-c1cnn(C)c1\n",
      "Unable to canonicalize  COc1cc(OC)cc(c1)C(\\O)=C1\\CC=c2ncc(cc2=[N]1CCO)-c1cnn(C)c1\n",
      "Unable to canonicalize  COc1cc(OC)cc(c1)C(\\O)=C1\\CC=c2ncc(cc2=[N]1CCO)-c1cnn(C)c1\n",
      "Unable to canonicalize  Clc1ccc(cc1Cl)C(=O)Nc1ccc2nccc2n1\n",
      "Unable to canonicalize  Clc1ccc(cc1Cl)C(=O)Nc1ccc2nccc2n1\n",
      "Unable to canonicalize  Fc1ccc(cc1Cl)C(=O)Nc1ccc2nccc2n1\n",
      "Unable to canonicalize  Fc1ccc(cc1Cl)C(=O)Nc1ccc2nccc2n1\n",
      "Unable to canonicalize  Fc1cc(ccc1Cl)C(=O)Nc1ccc2nccc2n1\n",
      "Unable to canonicalize  Fc1cc(ccc1Cl)C(=O)Nc1ccc2nccc2n1\n",
      "Unable to canonicalize  Fc1ccc(cc1F)C(=O)Nc1ccc2nccc2n1\n",
      "Unable to canonicalize  Fc1ccc(cc1F)C(=O)Nc1ccc2nccc2n1\n"
     ]
    },
    {
     "name": "stderr",
     "output_type": "stream",
     "text": [
      "[22:11:16] Explicit valence for atom # 24 N, 4, is greater than permitted\n",
      "[22:11:16] Explicit valence for atom # 24 N, 4, is greater than permitted\n"
     ]
    },
    {
     "name": "stdout",
     "output_type": "stream",
     "text": [
      "Unable to canonicalize  COC1CCN(CC1)c1cccc2C(N(CCc12)C(=O)C1=NC=C[N](=C1)c1cccc(Cl)c1F)C(=O)Nc1ccc(cc1)C(O)=O\n",
      "Unable to canonicalize  COC1CCN(CC1)c1cccc2C(N(CCc12)C(=O)C1=NC=C[N](=C1)c1cccc(Cl)c1F)C(=O)Nc1ccc(cc1)C(O)=O\n"
     ]
    },
    {
     "name": "stderr",
     "output_type": "stream",
     "text": [
      "[22:11:16] Explicit valence for atom # 5 N, 4, is greater than permitted\n",
      "[22:11:16] Explicit valence for atom # 32 N, 4, is greater than permitted\n",
      "[22:11:16] Explicit valence for atom # 32 N, 4, is greater than permitted\n",
      "[22:11:16] Explicit valence for atom # 31 N, 4, is greater than permitted\n"
     ]
    },
    {
     "name": "stdout",
     "output_type": "stream",
     "text": [
      "Unable to canonicalize  CC1=C(C(C)=[N](C)C=N1)c1ccc(Oc2nccc3N(CCc23)C2CCCCO2)cc1C\n",
      "Unable to canonicalize  CCOC(=O)c1cn(-c2ccc(N3CCNC3=O)c(F)c2)c(=O)n(Cc2cccc(c2C)N([O-])=O)c1=O\n",
      "Unable to canonicalize  Cc1c(Cn2c(=O)c(cn(-c3ccc(N4CCNC4=O)c(F)c3)c2=O)C(O)=O)cccc1N([O-])=O\n",
      "Unable to canonicalize  Cc1c(Cn2c(=O)c(cn(-c3ccc(cc3)N3CCOC3=O)c2=O)C(O)=O)cccc1N([O-])=O\n"
     ]
    },
    {
     "name": "stderr",
     "output_type": "stream",
     "text": [
      "[22:11:17] Can't kekulize mol.  Unkekulized atoms: 20 21 22 23 24 25 26 27 28\n"
     ]
    },
    {
     "name": "stdout",
     "output_type": "stream",
     "text": [
      "Unable to canonicalize  N[C@H](CF)[C@H]1CC[C@@H](CC1)C(=O)N1CC[C@H]([C@H]1C(=O)Nc1ccc2cc(cc2c1)C(=O)OCC1CCOCC1)C1CCCCC1\n"
     ]
    },
    {
     "name": "stderr",
     "output_type": "stream",
     "text": [
      "[22:11:17] Explicit valence for atom # 24 N, 4, is greater than permitted\n",
      "[22:11:17] Explicit valence for atom # 24 N, 4, is greater than permitted\n",
      "[22:11:17] Explicit valence for atom # 24 N, 4, is greater than permitted\n"
     ]
    },
    {
     "name": "stdout",
     "output_type": "stream",
     "text": [
      "Unable to canonicalize  CC(Nc1nc(C)nc(N)c1C#N)C1=Nc2cccc(Cl)c2C(=O)[N@@]1(c1ccccc1)c1cc(F)cc(F)c1\n",
      "Unable to canonicalize  CC(Nc1nc(N)nc(Cl)c1C#N)C1=Nc2cccc(Cl)c2C(=O)[N@@]1(c1ccccc1)c1cc(F)cc(F)c1\n",
      "Unable to canonicalize  CC(Nc1nc(N)nc(Cl)c1C#N)C1=Nc2cccc(Cl)c2C(=O)[N@@]1(c1ccccc1)c1cc(F)cc(F)c1\n"
     ]
    },
    {
     "name": "stderr",
     "output_type": "stream",
     "text": [
      "[22:11:17] Can't kekulize mol.  Unkekulized atoms: 5 6 8 9 10 11 12 13 14\n",
      "[22:11:17] Can't kekulize mol.  Unkekulized atoms: 5 6 8 9 10 11 12 13 14\n",
      "[22:11:17] Can't kekulize mol.  Unkekulized atoms: 5 6 8 9 10 11 12 13 14\n",
      "[22:11:17] Can't kekulize mol.  Unkekulized atoms: 5 6 8 9 10 11 12 13 14\n",
      "[22:11:17] Can't kekulize mol.  Unkekulized atoms: 2 3 5 36 38\n",
      "[22:11:17] Can't kekulize mol.  Unkekulized atoms: 2 3 5 36 38\n",
      "[22:11:17] Can't kekulize mol.  Unkekulized atoms: 2 3 5 36 38\n",
      "[22:11:17] Can't kekulize mol.  Unkekulized atoms: 2 3 5 36 38\n"
     ]
    },
    {
     "name": "stdout",
     "output_type": "stream",
     "text": [
      "Unable to canonicalize  C[C@H](NC(=O)c1c[nH]cc2cccnc12)c1cc2cccc(C#Cc3cnn(C)c3)c2c(=O)n1-c1ccccc1\n",
      "Unable to canonicalize  C[C@H](NC(=O)c1c[nH]cc2cccnc12)c1cc2cccc(C#Cc3cnn(C)c3)c2c(=O)n1-c1ccccc1\n",
      "Unable to canonicalize  C[C@H](NC(=O)c1c[nH]cc2cccnc12)c1cc2cccc(C#Cc3cnn(C)c3)c2c(=O)n1-c1ccccc1\n",
      "Unable to canonicalize  C[C@H](NC(=O)c1c[nH]cc2cccnc12)c1cc2cccc(C#Cc3cnn(C)c3)c2c(=O)n1-c1ccccc1\n",
      "Unable to canonicalize  COc1c[nH]c(C(=O)N[C@@H](C)c2cc3cccc(C#Cc4cnn(C)c4)c3c(=O)n2-c2ccccc2)c(N)n1\n",
      "Unable to canonicalize  COc1c[nH]c(C(=O)N[C@@H](C)c2cc3cccc(C#Cc4cnn(C)c4)c3c(=O)n2-c2ccccc2)c(N)n1\n",
      "Unable to canonicalize  COc1c[nH]c(C(=O)N[C@@H](C)c2cc3cccc(C#Cc4cnn(C)c4)c3c(=O)n2-c2ccccc2)c(N)n1\n",
      "Unable to canonicalize  COc1c[nH]c(C(=O)N[C@@H](C)c2cc3cccc(C#Cc4cnn(C)c4)c3c(=O)n2-c2ccccc2)c(N)n1\n"
     ]
    },
    {
     "name": "stderr",
     "output_type": "stream",
     "text": [
      "[22:11:18] Explicit valence for atom # 24 N, 4, is greater than permitted\n",
      "[22:11:18] Explicit valence for atom # 24 N, 4, is greater than permitted\n",
      "[22:11:18] Explicit valence for atom # 24 N, 4, is greater than permitted\n",
      "[22:11:18] Explicit valence for atom # 24 N, 4, is greater than permitted\n"
     ]
    },
    {
     "name": "stdout",
     "output_type": "stream",
     "text": [
      "Unable to canonicalize  Cc1nnc2ccc3n(Cc4cccc(Cl)c4)c(cc3n12)C1=CC=[N](N1)C1CNC1\n",
      "Unable to canonicalize  Cc1nnc2ccc3n(Cc4cccc(Cl)c4)c(cc3n12)C1=CC=[N](N1)C1CNC1\n",
      "Unable to canonicalize  Cc1nnc2ccc3n(Cc4cccc(Cl)c4)c(cc3n12)C1=CC=[N](N1)C1(CC#N)CNC1\n",
      "Unable to canonicalize  Cc1nnc2ccc3n(Cc4cccc(Cl)c4)c(cc3n12)C1=CC=[N](N1)C1(CC#N)CNC1\n"
     ]
    },
    {
     "name": "stderr",
     "output_type": "stream",
     "text": [
      "[22:11:19] Explicit valence for atom # 12 N, 4, is greater than permitted\n",
      "[22:11:19] Explicit valence for atom # 12 N, 4, is greater than permitted\n"
     ]
    },
    {
     "name": "stdout",
     "output_type": "stream",
     "text": [
      "Unable to canonicalize  C[C@@H]1CC(=O)Nc2cccc(C3=[N](C)c4ccccc4C3)c2O1\n",
      "Unable to canonicalize  C[C@@H]1CC(=O)Nc2cccc(C3=[N](C)c4ccccc4C3)c2O1\n"
     ]
    },
    {
     "name": "stderr",
     "output_type": "stream",
     "text": [
      "[22:11:19] Can't kekulize mol.  Unkekulized atoms: 2 3 4 5 6 7 8 9 10\n",
      "[22:11:19] Can't kekulize mol.  Unkekulized atoms: 2 3 4 5 6 7 8 9 10\n",
      "[22:11:19] Can't kekulize mol.  Unkekulized atoms: 17 18 19 20 21 22 23 24 25\n",
      "[22:11:19] Can't kekulize mol.  Unkekulized atoms: 17 18 19 20 21 22 23 24 25\n",
      "[22:11:19] Can't kekulize mol.  Unkekulized atoms: 17 18 19 20 21 22 23 24 25\n",
      "[22:11:19] Explicit valence for atom # 11 N, 4, is greater than permitted\n",
      "[22:11:19] Explicit valence for atom # 11 N, 4, is greater than permitted\n",
      "[22:11:19] Explicit valence for atom # 10 N, 4, is greater than permitted\n",
      "[22:11:19] Can't kekulize mol.  Unkekulized atoms: 9 10 11 12 13\n",
      "[22:11:19] Can't kekulize mol.  Unkekulized atoms: 24 25 26 27 28\n",
      "[22:11:19] Can't kekulize mol.  Unkekulized atoms: 9 10 11 12 13\n",
      "[22:11:19] Can't kekulize mol.  Unkekulized atoms: 9 10 11 12 13\n",
      "[22:11:19] Can't kekulize mol.  Unkekulized atoms: 9 10 11 12 13\n",
      "[22:11:19] Can't kekulize mol.  Unkekulized atoms: 9 10 11 12 13\n",
      "[22:11:19] Can't kekulize mol.  Unkekulized atoms: 9 10 11 12 13\n",
      "[22:11:19] Can't kekulize mol.  Unkekulized atoms: 5 6 7 8 9 10 11 12 13 23 24\n"
     ]
    },
    {
     "name": "stdout",
     "output_type": "stream",
     "text": [
      "Unable to canonicalize  N[C@H](c1nc2cc(cc(c2n1)C(F)(F)F)C(F)(F)F)c1ccc(Cl)cc1\n",
      "Unable to canonicalize  N[C@H](c1nc2cc(cc(c2n1)C(F)(F)F)C(F)(F)F)c1ccc(Cl)cc1\n",
      "Unable to canonicalize  N[C@H](Cc1cccc(c1)C(F)(F)F)C(=O)NCc1nc2cc(cc(c2n1)C(F)(F)F)C(F)(F)F\n",
      "Unable to canonicalize  N[C@H](Cc1cccc(c1)C(F)(F)F)C(=O)NCc1nc2cc(cc(c2n1)C(F)(F)F)C(F)(F)F\n",
      "Unable to canonicalize  N[C@H](Cc1cccc(c1)C(F)(F)F)C(=O)NCc1nc2cc(cc(c2n1)C(F)(F)F)C(F)(F)F\n",
      "Unable to canonicalize  CNC1=NC(c2ccccc2)=[N](S1)c1ccccc1\n",
      "Unable to canonicalize  C(NC1=NC(c2ccccc2)=[N](S1)c1ccccc1)c1ccccc1\n",
      "Unable to canonicalize  N(C1=NC(c2ccccc2)=[N](S1)c1ccccc1)c1ccccc1\n",
      "Unable to canonicalize  C[C@@H]1CCC[C@H](NC(=O)c2nnc(c2C)-c2cccc(Cl)c2F)c2cc(ccn2)-c2ccc(NC(=O)ONCc3ccon3)cc2NC1=O\n",
      "Unable to canonicalize  CCCOC(=O)Nc1ccc-2c(NC(=O)[C@H](C)CCC[C@H](NC(=O)c3nnc(c3C)-c3cccc(Cl)c3F)c3cc-2ccn3)c1\n",
      "Unable to canonicalize  C[C@@H]1CCC[C@H](NC(=O)c2nnc(c2C)-c2cccc(Cl)c2F)c2cc(ccn2)-c2ccc(NC(=O)OCCC3COC3)cc2NC1=O\n",
      "Unable to canonicalize  C[C@@H]1CCC[C@H](NC(=O)c2nnc(c2C)-c2cccc(Cl)c2F)c2cc(ccn2)-c2ccc(NC(=O)OCCc3ccccn3)cc2NC1=O\n",
      "Unable to canonicalize  C[C@@H]1CCC[C@H](NC(=O)c2nnc(c2C)-c2cccc(Cl)c2F)c2cc(ccn2)-c2ccc(NC(=O)OCCc3ccco3)cc2NC1=O\n",
      "Unable to canonicalize  C[C@@H]1CCC[C@H](NC(=O)c2nnc(c2C)-c2cccc(Cl)c2F)c2cc(ccn2)-c2ccc(NC(=O)OCCC3CCCO3)cc2NC1=O\n",
      "Unable to canonicalize  C[C@@H]1CCC[C@H](NC(=O)c2nnc(c2C)-c2cccc(Cl)c2F)c2cc(ccn2)-c2ccc(Nc3ccncn3)cc2NC1=O\n",
      "Unable to canonicalize  COC(=O)Nc1ccc2-c3cnc(n3)[C@H](CCC[C@@H](C)C(=O)Nc2c1)NC(=O)c1nnn(c1C)-c1c(F)ccc(Cl)c1F\n"
     ]
    },
    {
     "name": "stderr",
     "output_type": "stream",
     "text": [
      "[22:11:20] Can't kekulize mol.  Unkekulized atoms: 2 3 4 30 32\n",
      "[22:11:20] Explicit valence for atom # 5 N, 4, is greater than permitted\n",
      "[22:11:20] Explicit valence for atom # 5 N, 4, is greater than permitted\n",
      "[22:11:20] Explicit valence for atom # 5 N, 4, is greater than permitted\n",
      "[22:11:20] Explicit valence for atom # 5 N, 4, is greater than permitted\n",
      "[22:11:20] Explicit valence for atom # 25 N, 4, is greater than permitted\n",
      "[22:11:20] Explicit valence for atom # 25 N, 4, is greater than permitted\n",
      "[22:11:20] Explicit valence for atom # 25 N, 4, is greater than permitted\n",
      "[22:11:20] Explicit valence for atom # 25 N, 4, is greater than permitted\n",
      "[22:11:20] Explicit valence for atom # 25 N, 4, is greater than permitted\n"
     ]
    },
    {
     "name": "stdout",
     "output_type": "stream",
     "text": [
      "Unable to canonicalize  COc1cc(Nc2ncc(c(Nc3cc(F)c(C)cc3NC(=O)C=C)n2)C(F)(F)F)c(C)c[nH]1\n",
      "Unable to canonicalize  COC1=CC=[N](C=C1)c1nc(COc2cc3ncnc(Nc4ccc(Cl)c(Cl)c4)c3cc2OC)no1\n",
      "Unable to canonicalize  COC1=CC=[N](C=C1)c1nc(COc2cc3ncnc(Nc4ccc(Cl)c(Cl)c4)c3cc2OC)no1\n",
      "Unable to canonicalize  COC1=CC=[N](C=C1)c1nc(COc2cc3ncnc(Nc4ccc(Cl)c(Cl)c4)c3cc2OC)no1\n",
      "Unable to canonicalize  COC1=CC=[N](C=C1)c1nc(COc2cc3ncnc(Nc4ccc(Cl)c(Cl)c4)c3cc2OC)no1\n",
      "Unable to canonicalize  COc1cc2c(Nc3ccc(Cl)c(Cl)c3)ncnc2cc1OCC1=N[N](CS(=O)(=O)c2ccccn2)=CO1\n",
      "Unable to canonicalize  COc1cc2c(Nc3ccc(Cl)c(Cl)c3)ncnc2cc1OCC1=N[N](CS(=O)(=O)c2ccccn2)=CO1\n",
      "Unable to canonicalize  COc1cc2c(Nc3ccc(Cl)c(Cl)c3)ncnc2cc1OCC1=N[N](CS(=O)(=O)c2ccccn2)=CO1\n",
      "Unable to canonicalize  COc1cc2c(Nc3ccc(Cl)c(Cl)c3)ncnc2cc1OCC1=N[N](CS(=O)(=O)c2ccccn2)=CO1\n",
      "Unable to canonicalize  COc1cc2c(Nc3ccc(Cl)c(Cl)c3)ncnc2cc1OCC1=N[N](CS(=O)(=O)c2ccccn2)=CO1\n",
      "Unable to canonicalize  CN1CCC(CC1)c1cc2c(ccnc2[nH]1)-c1c(Cl)ccc(N)n1Cc1ccccc1\n"
     ]
    },
    {
     "name": "stderr",
     "output_type": "stream",
     "text": [
      "[22:11:20] Can't kekulize mol.  Unkekulized atoms: 16 17 19 20 21\n",
      "[22:11:20] Explicit valence for atom # 5 N, 4, is greater than permitted\n"
     ]
    },
    {
     "name": "stdout",
     "output_type": "stream",
     "text": [
      "Unable to canonicalize  CN1C=NC=[N]1c1ccccc1NC(=O)[C@@H]1C[C@@H](F)CN1C(=O)Cn1nc(C(N)=O)c2cc(ccc12)-c1ccnnc1\n"
     ]
    },
    {
     "name": "stderr",
     "output_type": "stream",
     "text": [
      "[22:11:20] Can't kekulize mol.  Unkekulized atoms: 28 29 30 31 34 35 36 37 38 44 45\n",
      "[22:11:21] Can't kekulize mol.  Unkekulized atoms: 4 5 6 8 9 10 11 24 25\n",
      "[22:11:21] Can't kekulize mol.  Unkekulized atoms: 12 13 14 15 16 17 18 28 29\n"
     ]
    },
    {
     "name": "stdout",
     "output_type": "stream",
     "text": [
      "Unable to canonicalize  CCOC(=O)[C@H]1CCCC[C@H](NC(=O)\\C=C\\c2cc(Cl)ccc2-n2cnnn2)c2cc(cc(=O)n2)-c2ccc(NC(=O)OC)cc2N1\n",
      "Unable to canonicalize  CC(C)Oc1cc(F)c2nnc(-c3ccnc(c3)N3CCOCC3)c2c1\n",
      "Unable to canonicalize  COc1cc(cc(OC)c1OC)-c1cnc2ncc(-c3ccc4[nH]ccc4c3)c2c1\n"
     ]
    },
    {
     "name": "stderr",
     "output_type": "stream",
     "text": [
      "[22:11:21] Can't kekulize mol.  Unkekulized atoms: 12 13 14 15 16 17 18 19 20\n"
     ]
    },
    {
     "name": "stdout",
     "output_type": "stream",
     "text": [
      "Unable to canonicalize  CN1CCN(Cc2ccc(cc2)-c2cnc3ncc(cc23)-c2ccc(cc2)C(N)=O)CC1\n"
     ]
    },
    {
     "name": "stderr",
     "output_type": "stream",
     "text": [
      "[22:11:21] Explicit valence for atom # 1 N, 4, is greater than permitted\n",
      "[22:11:21] Explicit valence for atom # 1 N, 4, is greater than permitted\n",
      "[22:11:21] Explicit valence for atom # 1 N, 4, is greater than permitted\n"
     ]
    },
    {
     "name": "stdout",
     "output_type": "stream",
     "text": [
      "Unable to canonicalize  C[N]1(CCNCC1)S(=O)(=O)Nc1cccc(c1)-c1ccc(cc1)[C@H]1C[C@@H]1NC1CCC(N)CC1\n",
      "Unable to canonicalize  C[N]1(CCNCC1)S(=O)(=O)Nc1cccc(c1)-c1ccc(cc1)[C@H]1C[C@@H]1NC1CCC(N)CC1\n",
      "Unable to canonicalize  C[N]1(CCNCC1)S(=O)(=O)Nc1cccc(c1)-c1ccc(cc1)[C@H]1C[C@@H]1NC1CCC(N)CC1\n"
     ]
    },
    {
     "name": "stderr",
     "output_type": "stream",
     "text": [
      "[22:11:22] Explicit valence for atom # 41 N, 4, is greater than permitted\n"
     ]
    },
    {
     "name": "stdout",
     "output_type": "stream",
     "text": [
      "Unable to canonicalize  COc1cccc(OC)c1-n1c(NS(=O)(=O)[C@@H](C)[C@H](C)c2ncc(F)cn2)nnc1C1=CC=CC(c2ccccc2)=[N]1O\n"
     ]
    },
    {
     "name": "stderr",
     "output_type": "stream",
     "text": [
      "[22:11:22] Explicit valence for atom # 1 N, 4, is greater than permitted\n",
      "[22:11:22] Explicit valence for atom # 1 N, 4, is greater than permitted\n",
      "[22:11:22] Explicit valence for atom # 1 N, 4, is greater than permitted\n",
      "[22:11:22] Explicit valence for atom # 1 N, 4, is greater than permitted\n",
      "[22:11:22] Explicit valence for atom # 1 N, 4, is greater than permitted\n",
      "[22:11:22] Explicit valence for atom # 1 N, 4, is greater than permitted\n",
      "[22:11:22] Explicit valence for atom # 1 N, 4, is greater than permitted\n",
      "[22:11:22] Explicit valence for atom # 1 N, 4, is greater than permitted\n",
      "[22:11:22] Explicit valence for atom # 1 N, 4, is greater than permitted\n"
     ]
    },
    {
     "name": "stdout",
     "output_type": "stream",
     "text": [
      "Unable to canonicalize  C[N]1(C)CC[C@H](C1)NS(=O)(=O)c1ccc(-c2cccc3[nH]c(N)nc23)c(-c2nn[nH]n2)c1S(N)(=O)=O\n",
      "Unable to canonicalize  C[N]1(C)CC[C@H](C1)NS(=O)(=O)c1ccc(-c2cccc3[nH]c(N)nc23)c(-c2nn[nH]n2)c1S(N)(=O)=O\n",
      "Unable to canonicalize  C[N]1(C)CC[C@H](C1)NS(=O)(=O)c1ccc(-c2cccc3[nH]c(N)nc23)c(-c2nn[nH]n2)c1S(N)(=O)=O\n",
      "Unable to canonicalize  C[N]1(C)CC(C1)NS(=O)(=O)c1ccc(-c2cccc3[nH]c(N)nc23)c(-c2nn[nH]n2)c1S(N)(=O)=O\n",
      "Unable to canonicalize  C[N]1(C)CC(C1)NS(=O)(=O)c1ccc(-c2cccc3[nH]c(N)nc23)c(-c2nn[nH]n2)c1S(N)(=O)=O\n",
      "Unable to canonicalize  C[N]1(C)CC(C1)NS(=O)(=O)c1ccc(-c2cccc3[nH]c(N)nc23)c(-c2nn[nH]n2)c1S(N)(=O)=O\n",
      "Unable to canonicalize  C[N]1(CCN)CC[C@@H](C1)NS(=O)(=O)c1ccc(-c2cccc3[nH]c(N)nc23)c(-c2nn[nH]n2)c1S(N)(=O)=O\n",
      "Unable to canonicalize  C[N]1(CCN)CC[C@@H](C1)NS(=O)(=O)c1ccc(-c2cccc3[nH]c(N)nc23)c(-c2nn[nH]n2)c1S(N)(=O)=O\n",
      "Unable to canonicalize  C[N]1(CCN)CC[C@@H](C1)NS(=O)(=O)c1ccc(-c2cccc3[nH]c(N)nc23)c(-c2nn[nH]n2)c1S(N)(=O)=O\n"
     ]
    },
    {
     "name": "stderr",
     "output_type": "stream",
     "text": [
      "[22:11:23] Explicit valence for atom # 41 N, 4, is greater than permitted\n",
      "[22:11:23] Can't kekulize mol.  Unkekulized atoms: 24 25 26 28 29\n"
     ]
    },
    {
     "name": "stdout",
     "output_type": "stream",
     "text": [
      "Unable to canonicalize  COc1cccc(OC)c1-n1c(NS(=O)(=O)[C@@H](C)[C@H](C)c2ncc(F)cn2)nnc1C1=CC=CC(c2ccccc2)=[N]1O\n",
      "Unable to canonicalize  Fc1cc(O[C@H]2CCCC[C@@H]2c2ccn[nH]2)c(Cl)cc1S(=O)(=O)Nc1cc[nH]cn1\n"
     ]
    },
    {
     "name": "stderr",
     "output_type": "stream",
     "text": [
      "[22:11:23] Explicit valence for atom # 19 N, 4, is greater than permitted\n",
      "[22:11:23] Can't kekulize mol.  Unkekulized atoms: 22 23 24 25 28\n"
     ]
    },
    {
     "name": "stdout",
     "output_type": "stream",
     "text": [
      "Unable to canonicalize  COc1nn2cc(nc2s1)-c1cc2ccc(cc2o1)N([O-])=O\n",
      "Unable to canonicalize  CCS(=O)(=O)c1ccc(CC(=O)Nc2nc3[C@H](C(C)C)N(Cc4ccc(n(C)c4)C(F)(F)F)Cc3s2)cc1\n"
     ]
    },
    {
     "name": "stderr",
     "output_type": "stream",
     "text": [
      "[22:11:23] Explicit valence for atom # 1 N, 4, is greater than permitted\n",
      "[22:11:24] Explicit valence for atom # 19 N, 4, is greater than permitted\n",
      "[22:11:24] Explicit valence for atom # 23 N, 4, is greater than permitted\n",
      "[22:11:24] Explicit valence for atom # 16 N, 4, is greater than permitted\n",
      "[22:11:24] Explicit valence for atom # 13 N, 4, is greater than permitted\n",
      "[22:11:24] Explicit valence for atom # 14 N, 4, is greater than permitted\n",
      "[22:11:24] Explicit valence for atom # 14 N, 4, is greater than permitted\n",
      "[22:11:24] Explicit valence for atom # 27 N, 4, is greater than permitted\n",
      "[22:11:24] Explicit valence for atom # 6 N, 4, is greater than permitted\n",
      "[22:11:24] Explicit valence for atom # 6 N, 4, is greater than permitted\n",
      "[22:11:24] Explicit valence for atom # 2 N, 4, is greater than permitted\n",
      "[22:11:24] Explicit valence for atom # 2 N, 4, is greater than permitted\n",
      "[22:11:24] Explicit valence for atom # 17 N, 4, is greater than permitted\n",
      "[22:11:24] Explicit valence for atom # 17 N, 4, is greater than permitted\n",
      "[22:11:24] Explicit valence for atom # 17 N, 4, is greater than permitted\n",
      "[22:11:24] Explicit valence for atom # 17 N, 4, is greater than permitted\n",
      "[22:11:24] Explicit valence for atom # 30 N, 4, is greater than permitted\n"
     ]
    },
    {
     "name": "stdout",
     "output_type": "stream",
     "text": [
      "Unable to canonicalize  CN(=O)C1CCC(CC1)Oc1cc(CNC(=O)c2cccn(Cc3ccc(F)c(F)c3)c2=O)cc(c1)-c1c[nH]c2ncccc12\n",
      "Unable to canonicalize  Cc1ccc(nc1)C1CCCN1C(=O)c1ccc(N[N]2=CN3C=CC=C(N4CCC(O)(CC4)c4ccc(Cl)cc4)C3=N2)cc1\n",
      "Unable to canonicalize  CN(C)c1cc(nc(C)n1)C1CCCN(C1)C(=O)c1ccc(N[N]2=CN3C=CC=C(N4CCC(O)(CC4)c4ccc(Cl)cc4)C3=N2)cc1\n",
      "Unable to canonicalize  CC1CCCN(CCNC(=O)c2ccc(N[N]3=CN4C=CC=C(N5CCC(O)(CC5)c5ccc(Cl)cc5)C4=N3)cc2)C1\n",
      "Unable to canonicalize  OC1(CCN(CC1)C1=CC=CN2C=[N](Nc3ccc(cc3)C(=O)NCCc3cccnc3)N=C12)c1ccc(Cl)cc1\n",
      "Unable to canonicalize  OC1(CCN(CC1)c1ccc[nH]\\c1=N/[N](=C)Nc1ccc(cc1)C(=O)NC1CCNC1)c1ccc(Cl)cc1\n",
      "Unable to canonicalize  OC1(CCN(CC1)c1ccc[nH]\\c1=N/[N](=C)Nc1ccc(cc1)C(=O)NC1CCNC1)c1ccc(Cl)cc1\n",
      "Unable to canonicalize  CCOC(=O)N1CCC(=CC1)c1cccn2nc(Nc3ccc(cc3)C(=O)[N]34CC5COCC(C3)N45)nc12\n",
      "Unable to canonicalize  CC(C)C1=CC=[N](C=C1)C1CCCN(C1)C(=O)c1ccc(Nc2nc3c(cccn3n2)C2=CCN(CC2)C(=O)CCC(F)(F)F)cc1\n",
      "Unable to canonicalize  CC(C)C1=CC=[N](C=C1)C1CCCN(C1)C(=O)c1ccc(Nc2nc3c(cccn3n2)C2=CCN(CC2)C(=O)CCC(F)(F)F)cc1\n",
      "Unable to canonicalize  CC[N]1(CC)CCN(C1)C(=O)c1ccc(Nc2nc3c(cccn3n2)C2=CCN(CC2)C(=O)CCC(F)(F)F)cc1\n",
      "Unable to canonicalize  CC[N]1(CC)CCN(C1)C(=O)c1ccc(Nc2nc3c(cccn3n2)C2=CCN(CC2)C(=O)CCC(F)(F)F)cc1\n",
      "Unable to canonicalize  CCOC(=O)N1CCC(=CC1)C1=CC=CN2C=[N](Nc3ccc(cc3)C(=O)NC3CCNC3)N=C12\n",
      "Unable to canonicalize  CCOC(=O)N1CCC(=CC1)C1=CC=CN2C=[N](Nc3ccc(cc3)C(=O)NC3CCNC3)N=C12\n",
      "Unable to canonicalize  CCOC(=O)N1CCC(=CC1)C1=CC=CN2C=[N](Nc3ccc(cc3)C(=O)N3CCCCC3c3cccnc3)N=C12\n",
      "Unable to canonicalize  CCOC(=O)N1CCC(=CC1)C1=CC=CN2C=[N](Nc3ccc(cc3)C(=O)N3CCCCC3c3cccnc3)N=C12\n",
      "Unable to canonicalize  FC(F)(F)CCC(=O)N1CCC(=CC1)c1cccn2nc(Nc3ccc(cc3)C(=O)[N]34CC5COCC(C3)N45)nc12\n"
     ]
    },
    {
     "name": "stderr",
     "output_type": "stream",
     "text": [
      "[22:11:24] Explicit valence for atom # 5 N, 4, is greater than permitted\n",
      "[22:11:24] Explicit valence for atom # 5 N, 4, is greater than permitted\n"
     ]
    },
    {
     "name": "stdout",
     "output_type": "stream",
     "text": [
      "Unable to canonicalize  NC(CC#N)[N]1=NN=NC1\n",
      "Unable to canonicalize  N[C@@H](CC#C)[N]1=NN=NC1\n"
     ]
    },
    {
     "name": "stderr",
     "output_type": "stream",
     "text": [
      "[22:11:24] Explicit valence for atom # 1 N, 4, is greater than permitted\n"
     ]
    },
    {
     "name": "stdout",
     "output_type": "stream",
     "text": [
      "Unable to canonicalize  C[N]1=CC(Nc2nccc(n2)-c2ccc3C(CCCCc3c2)NC(=O)c2nnc(s2)C(C)(C)C)=CN1\n"
     ]
    },
    {
     "name": "stderr",
     "output_type": "stream",
     "text": [
      "[22:11:24] Explicit valence for atom # 1 N, 4, is greater than permitted\n",
      "[22:11:24] Explicit valence for atom # 1 N, 4, is greater than permitted\n",
      "[22:11:25] Explicit valence for atom # 36 N, 4, is greater than permitted\n"
     ]
    },
    {
     "name": "stdout",
     "output_type": "stream",
     "text": [
      "Unable to canonicalize  C[N]1(CCOc2ccc(CC(=O)NS(C)(=O)=O)cc2)CC(CN[C@@H]2C[C@H]2c2ccccc2)C1\n",
      "Unable to canonicalize  C[N]1(CCOc2ccc(cc2)C(=O)NS(C)(=O)=O)CC(CN[C@@H]2C[C@H]2c2ccccc2)C1\n",
      "Unable to canonicalize  CC(C)[C@@H](NC(=O)c1cc(ccc1F)C(F)(F)F)C(=O)N1CCC2(CC1)N(C(=O)N(C)C2=O)C1=CC=[N](O)C=C1\n"
     ]
    },
    {
     "name": "stderr",
     "output_type": "stream",
     "text": [
      "[22:11:25] Can't kekulize mol.  Unkekulized atoms: 12 13 14 15 16 17 18 19 20\n",
      "[22:11:25] Can't kekulize mol.  Unkekulized atoms: 6 7 8 9 10 11 12 13 14\n",
      "[22:11:25] Can't kekulize mol.  Unkekulized atoms: 16 17 18 19 21\n",
      "[22:11:25] Can't kekulize mol.  Unkekulized atoms: 12 13 14 15 16\n",
      "[22:11:25] Can't kekulize mol.  Unkekulized atoms: 1 2 3 26 27\n",
      "[22:11:25] Explicit valence for atom # 2 N, 4, is greater than permitted\n",
      "[22:11:25] Explicit valence for atom # 5 N, 4, is greater than permitted\n",
      "[22:11:25] Explicit valence for atom # 7 N, 4, is greater than permitted\n",
      "[22:11:25] Can't kekulize mol.  Unkekulized atoms: 1 2 3 4 34\n",
      "[22:11:25] Can't kekulize mol.  Unkekulized atoms: 1 2 3 33 34\n",
      "[22:11:25] Can't kekulize mol.  Unkekulized atoms: 1 2 3 4 34\n",
      "[22:11:25] Can't kekulize mol.  Unkekulized atoms: 10 11 12 13 14\n",
      "[22:11:25] Can't kekulize mol.  Unkekulized atoms: 10 11 12 13 14\n",
      "[22:11:25] Can't kekulize mol.  Unkekulized atoms: 10 11 12 13 14\n",
      "[22:11:25] Can't kekulize mol.  Unkekulized atoms: 10 11 12 13 14\n",
      "[22:11:25] Can't kekulize mol.  Unkekulized atoms: 1 2 3 4 34\n",
      "[22:11:25] Can't kekulize mol.  Unkekulized atoms: 16 17 18 19 21\n",
      "[22:11:25] Can't kekulize mol.  Unkekulized atoms: 16 17 18 19 21\n",
      "[22:11:25] Explicit valence for atom # 5 N, 4, is greater than permitted\n",
      "[22:11:25] Explicit valence for atom # 5 N, 4, is greater than permitted\n"
     ]
    },
    {
     "name": "stdout",
     "output_type": "stream",
     "text": [
      "Unable to canonicalize  Cn1c2ccc(cc2c(=O)n(Cc2nc3ccccc3n2)c1=O)S(=O)(=O)NC1(C)CC1\n",
      "Unable to canonicalize  Cn1c(=O)n(Cc2nc3ccccc3n2)c2ccc(cc2c1=O)S(=O)(=O)NC1(C)CC1\n",
      "Unable to canonicalize  Cc1cc(Cn2c3ccc(cc3c(=O)n(Cc3cnc(C)n3)c2=O)S(=O)(=O)NC2(C)CC2)n(C)n1\n",
      "Unable to canonicalize  Cn1c2ccc(cc2c(=O)n(Cc2cnnc2)c1=O)S(=O)(=O)NC1(C)CC1\n",
      "Unable to canonicalize  Cc1cc(Cn2c(=O)n(C)c3ccc(cc3c2=O)S(=O)(=O)NC2(C)CC2)nn1\n",
      "Unable to canonicalize  CN[N]1=CN(Cc2cc(C)no2)C(=O)c2cc(ccc12)S(=O)(=O)NC1(C)CC1\n",
      "Unable to canonicalize  CC(C)OC[N]1=CN(Cc2cnn(C)c2)C(=O)c2cc(ccc12)S(=O)(=O)NC1(C)CC1\n",
      "Unable to canonicalize  Cc1cc(CN2C=[N](C(O)=O)c3ccc(cc3C2=O)S(=O)(=O)NC2(C)CC2)on1\n",
      "Unable to canonicalize  Cc1nnc(Cn2c3ccc(cc3c(=O)n(Cc3cnn(C)c3)c2=O)S(=O)(=O)NC2(CF)CC2)n1\n",
      "Unable to canonicalize  Cc1cc(Cn2c3ccc(cc3c(=O)n(Cc3cnn(C)c3)c2=O)S(=O)(=O)NC2(CF)CC2)nn1\n",
      "Unable to canonicalize  Cc1ncc(Cn2c3ccc(cc3c(=O)n(Cc3cnn(C)c3)c2=O)S(=O)(=O)NC2(CF)CC2)n1\n",
      "Unable to canonicalize  Cn1cc(Cn2c(=O)n(Cc3cncn3)c3ccc(cc3c2=O)S(=O)(=O)NC2(CF)CC2)cn1\n",
      "Unable to canonicalize  Cn1cc(Cn2c(=O)n(Cc3ccnn3)c3ccc(cc3c2=O)S(=O)(=O)NC2(CF)CC2)cn1\n",
      "Unable to canonicalize  Cn1cc(Cn2c(=O)n(Cc3ncnn3)c3ccc(cc3c2=O)S(=O)(=O)NC2(CF)CC2)cn1\n",
      "Unable to canonicalize  Cn1cc(Cn2c(=O)n(Cc3cnnc3)c3ccc(cc3c2=O)S(=O)(=O)NC2(CF)CC2)cn1\n",
      "Unable to canonicalize  Cc1nnc(Cn2c3ccc(cc3c(=O)n(Cc3cnn(C)c3)c2=O)S(=O)(=O)NC2(CF)CC2)n1\n",
      "Unable to canonicalize  Cc1cc(Cn2c3ccc(cc3c(=O)n(Cc3cnc(C)n3)c2=O)S(=O)(=O)NC2(C)CC2)n(C)n1\n",
      "Unable to canonicalize  Cc1cc(Cn2c3ccc(cc3c(=O)n(Cc3cnc(C)n3)c2=O)S(=O)(=O)NC2(C)CC2)n(C)n1\n",
      "Unable to canonicalize  CC(C)OC[N]1=CN(Cc2cnn(C)c2)C(=O)c2cc(ccc12)S(=O)(=O)NC1(C)CC1\n",
      "Unable to canonicalize  CC(C)OC[N]1=CN(Cc2cnn(C)c2)C(=O)c2cc(ccc12)S(=O)(=O)NC1(C)CC1\n"
     ]
    },
    {
     "name": "stderr",
     "output_type": "stream",
     "text": [
      "[22:11:26] Can't kekulize mol.  Unkekulized atoms: 21 22 23 24 25 26 27 28 29\n",
      "[22:11:26] Can't kekulize mol.  Unkekulized atoms: 21 22 23 24 25 26 27 28 29\n",
      "[22:11:26] Explicit valence for atom # 16 N, 4, is greater than permitted\n"
     ]
    },
    {
     "name": "stdout",
     "output_type": "stream",
     "text": [
      "Unable to canonicalize  FC(F)(F)c1ccc2nc([nH]c2c1)C1C2Oc3ccc(Oc4ccnc5nccc45)cc3C12\n",
      "Unable to canonicalize  FC(F)(F)c1ccc2nc([nH]c2c1)C1C2Oc3ccc(Oc4ccnc5nccc45)cc3C12\n",
      "Unable to canonicalize  CN1c2ncccc2OC[C@H](NC(=O)C2=N[N](Cc3cc(F)cc(c3)C#N)=C=C2F)C1=O\n"
     ]
    },
    {
     "name": "stderr",
     "output_type": "stream",
     "text": [
      "[22:11:27] Can't kekulize mol.  Unkekulized atoms: 8 10 12\n",
      "[22:11:27] Can't kekulize mol.  Unkekulized atoms: 5 6 7 8 9 10 11 14 15 16 17 18 19\n",
      "[22:11:27] Can't kekulize mol.  Unkekulized atoms: 11 12 13 14 15 16 17 18 19 20 21 24 25\n",
      "[22:11:27] Explicit valence for atom # 1 Cl, 2, is greater than permitted\n",
      "[22:11:27] Can't kekulize mol.  Unkekulized atoms: 3 4 7 8 9\n",
      "[22:11:27] Can't kekulize mol.  Unkekulized atoms: 3 4 7 8 9\n",
      "[22:11:27] Explicit valence for atom # 6 N, 4, is greater than permitted\n",
      "[22:11:27] Explicit valence for atom # 6 N, 4, is greater than permitted\n"
     ]
    },
    {
     "name": "stdout",
     "output_type": "stream",
     "text": [
      "Unable to canonicalize  COC(=O)N1CCn2c(C1)c[nH]c2-c1cccc(CNC(=O)c2ccc-3c(OCc4cnccc-34)c2)c1\n",
      "Unable to canonicalize  C[C@H](NC(=O)c1ccc2c(c1)nc(=O)c1cnccc21)c1ccc(F)cc1\n",
      "Unable to canonicalize  COc1cccc(CNC(=O)c2ccc3c4ccncc4nc(=O)c3c2)c1\n",
      "Unable to canonicalize  C[Cl]c1cccc(CNC(=O)c2ccc3c4ccncc4n(C)c(=O)c3c2)c1\n",
      "Unable to canonicalize  CCOc1cc(=O)ncc1-c1ccc(CC(=O)Nc2cc(cc(c2)C(F)(F)F)C(=O)NCCN(C)C)c(F)c1\n",
      "Unable to canonicalize  CCOc1cc(=O)ncc1-c1ccc(CC(=O)Nc2cc(OCCN(C)C)cc(c2)C(F)(F)F)c(F)c1\n",
      "Unable to canonicalize  CN(C)C(=O)C[N]1=CNc2c1ccc(c2Oc1ccc(F)cc1F)-c1cn(C)c(=O)c2[nH]ccc12\n",
      "Unable to canonicalize  CN(C)C(=O)C[N]1=CNc2c1ccc(c2Oc1ccc(F)cc1F)-c1cn(C)c(=O)c2[nH]ccc12\n"
     ]
    },
    {
     "name": "stderr",
     "output_type": "stream",
     "text": [
      "[22:11:27] Explicit valence for atom # 1 N, 4, is greater than permitted\n",
      "[22:11:27] Explicit valence for atom # 1 N, 4, is greater than permitted\n"
     ]
    },
    {
     "name": "stdout",
     "output_type": "stream",
     "text": [
      "Unable to canonicalize  C[N]1=CC=[N](C=C1)c1ccc(cc1)-c1nc2c(ncnc2[nH]1)-c1ccc(OC2CCOCC2)c(c1)C#N\n",
      "Unable to canonicalize  C[N]1=CC=[N](C=C1)c1ccc(cc1)-c1nc2c(ncnc2[nH]1)-c1ccc(OC2CCOCC2)c(c1)C#N\n"
     ]
    },
    {
     "name": "stderr",
     "output_type": "stream",
     "text": [
      "[22:11:29] Can't kekulize mol.  Unkekulized atoms: 26 27 29 30 32\n",
      "[22:11:29] Can't kekulize mol.  Unkekulized atoms: 26 27 29 30 32\n",
      "[22:11:29] Can't kekulize mol.  Unkekulized atoms: 26 27 29 30 32\n",
      "[22:11:29] Can't kekulize mol.  Unkekulized atoms: 25 26 28 29 31\n",
      "[22:11:29] Can't kekulize mol.  Unkekulized atoms: 25 26 28 29 31\n",
      "[22:11:29] Can't kekulize mol.  Unkekulized atoms: 26 27 29 30 32\n",
      "[22:11:29] Can't kekulize mol.  Unkekulized atoms: 24 25 27 28 30\n",
      "[22:11:29] Can't kekulize mol.  Unkekulized atoms: 17 18 20 21 23\n",
      "[22:11:29] Can't kekulize mol.  Unkekulized atoms: 25 26 28 29 31\n",
      "[22:11:29] Can't kekulize mol.  Unkekulized atoms: 23 24 26 27 29\n",
      "[22:11:29] Can't kekulize mol.  Unkekulized atoms: 23 24 26 27 29\n",
      "[22:11:29] Can't kekulize mol.  Unkekulized atoms: 24 25 27 28 30\n",
      "[22:11:29] Can't kekulize mol.  Unkekulized atoms: 23 24 26 27 29\n",
      "[22:11:29] Can't kekulize mol.  Unkekulized atoms: 23 24 26 27 29\n",
      "[22:11:29] Can't kekulize mol.  Unkekulized atoms: 15 16 18 19 21\n",
      "[22:11:29] Can't kekulize mol.  Unkekulized atoms: 26 27 29 30 32\n",
      "[22:11:29] Can't kekulize mol.  Unkekulized atoms: 1 2 3 5 35\n",
      "[22:11:29] Can't kekulize mol.  Unkekulized atoms: 16 17 19 20 22\n",
      "[22:11:29] Can't kekulize mol.  Unkekulized atoms: 26 27 28 29 31\n",
      "[22:11:29] Can't kekulize mol.  Unkekulized atoms: 23 24 26 27 29\n",
      "[22:11:29] Can't kekulize mol.  Unkekulized atoms: 23 24 26 27 29\n",
      "[22:11:29] Can't kekulize mol.  Unkekulized atoms: 15 16 18 19 21\n",
      "[22:11:29] Can't kekulize mol.  Unkekulized atoms: 25 26 28 29 31\n",
      "[22:11:29] Can't kekulize mol.  Unkekulized atoms: 15 16 18 19 21\n",
      "[22:11:29] Can't kekulize mol.  Unkekulized atoms: 25 26 28 29 31\n",
      "[22:11:29] Can't kekulize mol.  Unkekulized atoms: 17 18 20 21 23\n",
      "[22:11:29] Can't kekulize mol.  Unkekulized atoms: 25 26 28 29 31\n",
      "[22:11:29] Can't kekulize mol.  Unkekulized atoms: 24 25 27 28 30\n",
      "[22:11:29] Can't kekulize mol.  Unkekulized atoms: 23 24 26 27 29\n",
      "[22:11:29] Can't kekulize mol.  Unkekulized atoms: 19 20 22 23 25\n",
      "[22:11:29] Can't kekulize mol.  Unkekulized atoms: 17 18 20 21 23\n",
      "[22:11:29] Explicit valence for atom # 12 N, 4, is greater than permitted\n"
     ]
    },
    {
     "name": "stdout",
     "output_type": "stream",
     "text": [
      "Unable to canonicalize  CC(C)n1ncc2c(cc(nc12)-c1ccc(NC(C)=O)cc1)C(=O)NCc1c(C)cc(C)nc1=O\n",
      "Unable to canonicalize  CC(C)n1ncc2c(cc(nc12)-c1ccc2OCCOc2c1)C(=O)NCc1c(C)cc(C)nc1=O\n",
      "Unable to canonicalize  CC(C)n1ncc2c(cc(nc12)-c1ccc(cc1)S(C)(=O)=O)C(=O)NCc1c(C)cc(C)nc1=O\n",
      "Unable to canonicalize  CC(C)n1ncc2c(cc(nc12)-c1ccc2OCOc2c1)C(=O)NCc1c(C)cc(C)nc1=O\n",
      "Unable to canonicalize  CC(C)n1ncc2c(cc(nc12)-c1ccc(cc1)C(N)=O)C(=O)NCc1c(C)cc(C)nc1=O\n",
      "Unable to canonicalize  CC(C)n1ncc2c(cc(nc12)-c1cccc(NC(C)=O)c1)C(=O)NCc1c(C)cc(C)nc1=O\n",
      "Unable to canonicalize  CC(C)n1ncc2c(cc(nc12)-c1ccc(cc1)C#N)C(=O)NCc1c(C)cc(C)nc1=O\n",
      "Unable to canonicalize  COc1ccc(cc1OC)-c1cc(C(=O)NCc2c(C)cc(C)nc2=O)c2cnn(C(C)C)c2n1\n",
      "Unable to canonicalize  CC(C)n1ncc2c(cc(nc12)-c1ccc(cc1)N(C)C)C(=O)NCc1c(C)cc(C)nc1=O\n",
      "Unable to canonicalize  CC(C)n1ncc2c(cc(nc12)-c1cccc(F)c1)C(=O)NCc1c(C)cc(C)nc1=O\n",
      "Unable to canonicalize  CC(C)n1ncc2c(cc(nc12)-c1cccc(C)c1)C(=O)NCc1c(C)cc(C)nc1=O\n",
      "Unable to canonicalize  CC(C)n1ncc2c(cc(nc12)-c1ccc(CO)cc1)C(=O)NCc1c(C)cc(C)nc1=O\n",
      "Unable to canonicalize  CC(C)n1ncc2c(cc(nc12)-c1cccc(Cl)c1)C(=O)NCc1c(C)cc(C)nc1=O\n",
      "Unable to canonicalize  CC(C)n1ncc2c(cc(nc12)-c1ccc(C)cc1)C(=O)NCc1c(C)cc(C)nc1=O\n",
      "Unable to canonicalize  COc1ccccc1-c1cc(C(=O)NCc2c(C)cc(C)nc2=O)c2cnn(C(C)C)c2n1\n",
      "Unable to canonicalize  CC(C)n1ncc2c(cc(nc12)-c1ccc(cc1)C(C)(C)C)C(=O)NCc1c(C)cc(C)nc1=O\n",
      "Unable to canonicalize  Cc1cc(C)c(CNC(=O)c2cc(nc3n(ncc23)C(C)(C)C)-c2ccc3OCCOc3c2)c(=O)n1\n",
      "Unable to canonicalize  CCOc1ccc(cc1)-c1cc(C(=O)NCc2c(C)cc(C)nc2=O)c2cnn(C(C)C)c2n1\n",
      "Unable to canonicalize  CC(C)n1ncc2c(cc(nc12)-c1ccc2OCCOc2c1)C(=O)NCc1ccc(C)nc1=O\n",
      "Unable to canonicalize  CC(C)n1ncc2c(cc(nc12)-c1ccccc1Cl)C(=O)NCc1c(C)cc(C)nc1=O\n",
      "Unable to canonicalize  CC(C)n1ncc2c(cc(nc12)-c1ccccc1C)C(=O)NCc1c(C)cc(C)nc1=O\n",
      "Unable to canonicalize  COc1cccc(c1)-c1cc(C(=O)NCc2c(C)cc(C)nc2=O)c2cnn(C(C)C)c2n1\n",
      "Unable to canonicalize  CC(C)n1ncc2c(cc(nc12)-c1ccc(cc1)C(C)=O)C(=O)NCc1c(C)cc(C)nc1=O\n",
      "Unable to canonicalize  COc1ccc(cc1)-c1cc(C(=O)NCc2c(C)cc(C)nc2=O)c2cnn(C(C)C)c2n1\n",
      "Unable to canonicalize  CC(C)n1ncc2c(cc(nc12)-c1cccc(c1)C(C)=O)C(=O)NCc1c(C)cc(C)nc1=O\n",
      "Unable to canonicalize  CC(C)Oc1ccc(cc1)-c1cc(C(=O)NCc2c(C)cc(C)nc2=O)c2cnn(C(C)C)c2n1\n",
      "Unable to canonicalize  CC(C)n1ncc2c(cc(nc12)-c1cccc(c1)N(C)C)C(=O)NCc1c(C)cc(C)nc1=O\n",
      "Unable to canonicalize  CC(C)n1ncc2c(cc(nc12)-c1cccc(CO)c1)C(=O)NCc1c(C)cc(C)nc1=O\n",
      "Unable to canonicalize  CC(C)n1ncc2c(cc(nc12)-c1ccc(F)cc1)C(=O)NCc1c(C)cc(C)nc1=O\n",
      "Unable to canonicalize  CC(C)n1ncc2c(cc(nc12)C1CC1)C(=O)NCc1c(C)cc(C)nc1=O\n",
      "Unable to canonicalize  CC(C)n1ncc2c(cc(C)nc12)C(=O)NCc1c(C)cc(C)nc1=O\n",
      "Unable to canonicalize  OC(=O)C1CC2(C1)CC(C2)C(=O)[N]12CCCCC1(c1ccc(cc1OC2)C(F)(C(F)(F)F)C(F)(F)F)S(=O)(=O)c1ccc(F)cc1\n"
     ]
    },
    {
     "name": "stderr",
     "output_type": "stream",
     "text": [
      "[22:11:30] Explicit valence for atom # 5 N, 4, is greater than permitted\n",
      "[22:11:30] Can't kekulize mol.  Unkekulized atoms: 15 16 17 18 19 20 21 22 32\n",
      "[22:11:30] Can't kekulize mol.  Unkekulized atoms: 15 16 17 18 19 20 21 22 32\n",
      "[22:11:30] Can't kekulize mol.  Unkekulized atoms: 17 18 19 20 21 22 23 24 34\n",
      "[22:11:30] Can't kekulize mol.  Unkekulized atoms: 17 18 19 20 21 22 23 24 34\n"
     ]
    },
    {
     "name": "stdout",
     "output_type": "stream",
     "text": [
      "Unable to canonicalize  N#CC1=CC=[N](C=C1)c1ccnc2ncnn12\n",
      "Unable to canonicalize  OCCOc1ccc2c(Oc3ccc(Nc4nccc5ncc(-c6ccc(F)cc6)c(=O)c45)cc3F)ccnc2c1\n",
      "Unable to canonicalize  OCCOc1ccc2c(Oc3ccc(Nc4nccc5ncc(-c6ccc(F)cc6)c(=O)c45)cc3F)ccnc2c1\n",
      "Unable to canonicalize  COC(C)(C)Oc1ccc2c(Oc3ccc(Nc4nccc5ncc(-c6ccc(F)cc6)c(=O)c45)cc3F)ccnc2c1\n",
      "Unable to canonicalize  COC(C)(C)Oc1ccc2c(Oc3ccc(Nc4nccc5ncc(-c6ccc(F)cc6)c(=O)c45)cc3F)ccnc2c1\n"
     ]
    },
    {
     "name": "stderr",
     "output_type": "stream",
     "text": [
      "[22:11:30] Can't kekulize mol.  Unkekulized atoms: 12 13 14 15 16 17 18 19 20\n",
      "[22:11:30] Can't kekulize mol.  Unkekulized atoms: 14 15 16 17 18 19 20 21 22\n",
      "[22:11:30] Can't kekulize mol.  Unkekulized atoms: 4 5 6 7 8 9 10 11 12\n",
      "[22:11:30] Can't kekulize mol.  Unkekulized atoms: 4 5 6 7 8 9 11 12 13\n",
      "[22:11:30] Can't kekulize mol.  Unkekulized atoms: 4 5 6 7 8 9 11 12 13\n",
      "[22:11:30] Can't kekulize mol.  Unkekulized atoms: 4 5 6 7 8 10 11 12 13\n",
      "[22:11:30] Can't kekulize mol.  Unkekulized atoms: 11 12 13 14 15 16 17 19 20\n",
      "[22:11:30] Can't kekulize mol.  Unkekulized atoms: 1 2 3 4 5 6 12 29 30\n",
      "[22:11:30] Can't kekulize mol.  Unkekulized atoms: 14 15 16 17 18 19 20 22 23\n",
      "[22:11:30] Can't kekulize mol.  Unkekulized atoms: 14 15 16 17 18 19 20 21 22\n",
      "[22:11:30] Can't kekulize mol.  Unkekulized atoms: 4 5 6 7 8 9 10 11 12\n",
      "[22:11:30] Can't kekulize mol.  Unkekulized atoms: 4 5 6 7 8 9 10 11 12\n",
      "[22:11:30] Can't kekulize mol.  Unkekulized atoms: 4 5 6 7 8 9 11 12 13\n",
      "[22:11:30] Can't kekulize mol.  Unkekulized atoms: 1 2 3 4 5 6 12 30 31\n",
      "[22:11:30] Can't kekulize mol.  Unkekulized atoms: 4 5 6 7 8 9 11 12 13\n",
      "[22:11:30] Can't kekulize mol.  Unkekulized atoms: 16 17 18 19 20 21 22 23 24\n",
      "[22:11:30] Can't kekulize mol.  Unkekulized atoms: 4 5 6 7 8 9 11 12 13\n",
      "[22:11:30] Can't kekulize mol.  Unkekulized atoms: 3 4 5 6 7 8 9 10 11\n",
      "[22:11:30] Can't kekulize mol.  Unkekulized atoms: 3 4 5 6 7 8 9 10 11\n",
      "[22:11:30] Can't kekulize mol.  Unkekulized atoms: 4 5 6 7 8 9 11 12 13\n",
      "[22:11:30] Can't kekulize mol.  Unkekulized atoms: 4 5 6 7 8 9 11 12 13\n",
      "[22:11:30] Can't kekulize mol.  Unkekulized atoms: 4 5 6 7 8 9 11 12 13\n",
      "[22:11:30] Can't kekulize mol.  Unkekulized atoms: 11 12 13 14 15 16 17 18 19\n",
      "[22:11:30] Can't kekulize mol.  Unkekulized atoms: 4 5 6 7 8 9 10 11 12\n",
      "[22:11:30] Can't kekulize mol.  Unkekulized atoms: 4 5 6 7 8 9 10 11 12\n",
      "[22:11:30] Can't kekulize mol.  Unkekulized atoms: 4 5 6 7 8 9 11 12 13\n",
      "[22:11:30] Can't kekulize mol.  Unkekulized atoms: 4 5 6 7 8 9 11 12 13\n",
      "[22:11:30] Can't kekulize mol.  Unkekulized atoms: 5 6 7 8 9 10 11 12 13\n",
      "[22:11:30] Can't kekulize mol.  Unkekulized atoms: 4 5 6 7 8 9 10 11 12\n",
      "[22:11:30] Can't kekulize mol.  Unkekulized atoms: 4 5 6 7 8 9 10 11 12\n",
      "[22:11:30] Can't kekulize mol.  Unkekulized atoms: 4 5 6 7 8 9 11 12 13\n",
      "[22:11:30] Can't kekulize mol.  Unkekulized atoms: 4 5 6 7 8 9 10 11 12\n",
      "[22:11:30] Can't kekulize mol.  Unkekulized atoms: 3 4 5 6 7 8 9 10 11\n",
      "[22:11:30] Can't kekulize mol.  Unkekulized atoms: 5 6 7 8 9 10 11 12 13\n",
      "[22:11:30] Can't kekulize mol.  Unkekulized atoms: 4 5 6 7 8 9 11 12 13\n",
      "[22:11:30] Can't kekulize mol.  Unkekulized atoms: 4 5 6 7 8 9 11 12 13\n",
      "[22:11:30] Can't kekulize mol.  Unkekulized atoms: 16 17 18 19 20 21 22 23 24\n",
      "[22:11:30] Can't kekulize mol.  Unkekulized atoms: 1 2 3 4 5 6 12 29 30\n",
      "[22:11:30] Can't kekulize mol.  Unkekulized atoms: 4 5 6 7 8 9 11 12 13\n",
      "[22:11:30] Can't kekulize mol.  Unkekulized atoms: 3 4 5 6 7 8 9 10 11\n",
      "[22:11:30] Can't kekulize mol.  Unkekulized atoms: 15 16 17 18 19 20 21 22 23\n",
      "[22:11:30] Can't kekulize mol.  Unkekulized atoms: 3 4 5 6 7 8 9 10 11\n",
      "[22:11:30] Can't kekulize mol.  Unkekulized atoms: 3 4 5 6 7 8 10 11 12\n",
      "[22:11:30] Can't kekulize mol.  Unkekulized atoms: 3 4 5 6 7 8 10 11 12\n",
      "[22:11:30] Can't kekulize mol.  Unkekulized atoms: 4 5 6 7 8 9 10 11 12\n",
      "[22:11:30] Can't kekulize mol.  Unkekulized atoms: 4 5 6 7 8 9 11 12 13\n",
      "[22:11:30] Can't kekulize mol.  Unkekulized atoms: 4 5 6 7 8 9 11 12 13\n",
      "[22:11:30] Can't kekulize mol.  Unkekulized atoms: 11 12 13 14 15 16 17 18 19\n",
      "[22:11:30] Can't kekulize mol.  Unkekulized atoms: 4 5 6 7 8 9 10 11 12\n",
      "[22:11:30] Can't kekulize mol.  Unkekulized atoms: 11 12 13 14 15 16 17 18 19\n",
      "[22:11:30] Can't kekulize mol.  Unkekulized atoms: 3 4 5 6 7 8 10 11 12\n",
      "[22:11:30] Can't kekulize mol.  Unkekulized atoms: 3 4 5 6 7 8 9 10 11\n",
      "[22:11:30] Can't kekulize mol.  Unkekulized atoms: 11 12 13 14 15 16 17 18 19\n",
      "[22:11:30] Can't kekulize mol.  Unkekulized atoms: 13 14 15 16 17 18 19 20 21\n",
      "[22:11:30] Can't kekulize mol.  Unkekulized atoms: 4 5 6 7 8 9 10 11 12\n",
      "[22:11:30] Can't kekulize mol.  Unkekulized atoms: 16 17 18 19 20 21 22 23 24\n",
      "[22:11:30] Can't kekulize mol.  Unkekulized atoms: 4 5 6 7 8 9 10 11 12\n",
      "[22:11:30] Can't kekulize mol.  Unkekulized atoms: 4 5 6 7 8 9 15 32 33\n",
      "[22:11:30] Can't kekulize mol.  Unkekulized atoms: 15 16 17 18 19 20 21 22 23\n",
      "[22:11:30] Can't kekulize mol.  Unkekulized atoms: 4 5 6 7 8 9 10 11 12\n",
      "[22:11:30] Can't kekulize mol.  Unkekulized atoms: 4 5 6 7 8 9 10 11 12\n",
      "[22:11:30] Can't kekulize mol.  Unkekulized atoms: 16 17 18 19 20 21 22 23 24\n",
      "[22:11:30] Can't kekulize mol.  Unkekulized atoms: 1 2 3 4 5 6 12 28 29\n",
      "[22:11:30] Can't kekulize mol.  Unkekulized atoms: 3 4 5 6 7 8 9 10 11\n",
      "[22:11:30] Can't kekulize mol.  Unkekulized atoms: 15 16 17 18 19 20 21 22 23\n",
      "[22:11:30] Can't kekulize mol.  Unkekulized atoms: 16 17 18 19 20 21 22 23 24\n",
      "[22:11:30] Can't kekulize mol.  Unkekulized atoms: 16 17 18 19 20 21 22 23 24\n",
      "[22:11:30] Can't kekulize mol.  Unkekulized atoms: 14 15 16 17 18 19 20 21 22\n",
      "[22:11:30] Can't kekulize mol.  Unkekulized atoms: 16 17 18 19 20 21 22 23 24\n",
      "[22:11:30] Can't kekulize mol.  Unkekulized atoms: 16 17 18 19 20 21 22 23 24\n",
      "[22:11:30] Can't kekulize mol.  Unkekulized atoms: 16 17 18 19 20 21 22 23 24\n",
      "[22:11:30] Can't kekulize mol.  Unkekulized atoms: 3 4 5 6 7 8 9 10 11\n",
      "[22:11:30] Can't kekulize mol.  Unkekulized atoms: 16 17 18 19 20 21 22 23 24\n",
      "[22:11:30] Can't kekulize mol.  Unkekulized atoms: 11 12 13 14 15 16 17 18 19\n",
      "[22:11:30] Can't kekulize mol.  Unkekulized atoms: 4 5 6 7 8 9 11 12 13\n",
      "[22:11:30] Can't kekulize mol.  Unkekulized atoms: 7 8 9 10 11 12 18 31 32\n",
      "[22:11:30] Can't kekulize mol.  Unkekulized atoms: 3 4 5 6 7 8 9 10 11\n",
      "[22:11:30] Can't kekulize mol.  Unkekulized atoms: 4 5 6 7 8 9 11 12 13\n",
      "[22:11:30] Can't kekulize mol.  Unkekulized atoms: 4 5 6 7 8 9 11 12 13\n",
      "[22:11:30] Can't kekulize mol.  Unkekulized atoms: 4 5 6 7 8 9 11 12 13\n"
     ]
    },
    {
     "name": "stdout",
     "output_type": "stream",
     "text": [
      "Unable to canonicalize  CC(C)(C)C1CCN(CC(=O)Nc2c(nc3ccccc23)C(=O)C2CC2)CC1\n",
      "Unable to canonicalize  O=C(CN1CCC2(CCCC2)CC1)Nc1c(nc2ccccc12)C(=O)C1CC1\n",
      "Unable to canonicalize  COC(=O)c1nc2ccccc2c1NC(=O)CN1CCC(CC1)C1CCCCC1\n",
      "Unable to canonicalize  COC(=O)c1nc2ccc(Cl)cc2c1NC(=O)CN1CCC(CC1)c1ccccc1\n",
      "Unable to canonicalize  COC(=O)c1nc2ccc(Br)cc2c1NC(=O)CN1CCN(CC1)c1cccc(C)c1C\n",
      "Unable to canonicalize  COC(=O)c1nc2cc(Br)ccc2c1NC(=O)CN1CCN(CC1)c1ccc(F)cc1\n",
      "Unable to canonicalize  CC1(C)CCCN(CC(=O)Nc2c(nc3ccc(Br)cc23)C(=O)C2CC2)C1\n",
      "Unable to canonicalize  Brc1ccc2nc(C(=O)C3CC3)c(NC(=O)CN3CCC(CC3)c3ccccc3)c2c1\n",
      "Unable to canonicalize  Cc1cccc(N2CCN(CC(=O)Nc3c(nc4ccc(Br)cc34)C(=O)C3CC3)CC2)c1C\n",
      "Unable to canonicalize  Cc1cccc(N2CCN(CC(=O)Nc3c(nc4ccccc34)C(=O)C3CC3)CC2)c1C\n",
      "Unable to canonicalize  COC(=O)c1nc2ccccc2c1NC(=O)CN1CCC(CC1)c1ccccc1\n",
      "Unable to canonicalize  COC(=O)c1nc2ccccc2c1NC(=O)CN1CCN(CC1)c1cccc(c1)C(F)(F)F\n",
      "Unable to canonicalize  COC(=O)c1nc2ccc(Br)cc2c1NC(=O)CN1CCN(C(C)C1)c1cccc(OC)c1\n",
      "Unable to canonicalize  Brc1ccc2nc(C(=O)C3CC3)c(NC(=O)CN3CCN(Cc4ccccc4)CC3)c2c1\n",
      "Unable to canonicalize  COC(=O)c1nc2ccc(Cl)cc2c1NC(=O)CN1CCN(CC1)c1ccccc1\n",
      "Unable to canonicalize  O=C(CN1CCC(CC1)c1ccccc1)Nc1c(nc2ccccc12)C(=O)C1CC1\n",
      "Unable to canonicalize  COC(=O)c1nc2ccc(Br)cc2c1NC(=O)CN1CCN(CC1)c1ccccc1\n",
      "Unable to canonicalize  CC(=O)c1nc2ccccc2c1NC(=O)CN1CCC(Cc2ccccc2)CC1\n",
      "Unable to canonicalize  CC(=O)c1nc2ccccc2c1NC(=O)CN1CCC(CC1)c1ccccc1\n",
      "Unable to canonicalize  COC(=O)c1nc2ccc(Br)cc2c1NC(=O)C(C)N1CCC(Cc2ccccc2)CC1\n",
      "Unable to canonicalize  COC(=O)c1nc2ccc(Cl)cc2c1NC(=O)CN1CCC(Cc2ccccc2)CC1\n",
      "Unable to canonicalize  COC(=O)c1nc2ccc(Br)cc2c1NC(=O)CN1CCC(Cc2ccccc2)CC1\n",
      "Unable to canonicalize  CC1(C)CCCN(CC(=O)Nc2c(nc3ccccc23)C(=O)C2CC2)C1\n",
      "Unable to canonicalize  COC(=O)c1nc2ccccc2c1NC(=O)CN1CCC(Cc2ccccc2)CC1\n",
      "Unable to canonicalize  COC(=O)c1nc2ccccc2c1NC(=O)CN1CCC(CC1)Oc1ccccc1\n",
      "Unable to canonicalize  COC(=O)c1nc2ccc(Br)cc2c1NC(=O)CN1CCCCC1\n",
      "Unable to canonicalize  COC(=O)c1nc2ccc(C)cc2c1NC(=O)CN1CCN(CC1)c1cccc(C)c1C\n",
      "Unable to canonicalize  CCOC(=O)c1nc2ccncc2c1NC(=O)CN1CCCC(C)(C)C1\n",
      "Unable to canonicalize  COC(=O)c1nc2ccccc2c1NC(=O)CN1CCCC2(CCC2)C1\n",
      "Unable to canonicalize  COC(=O)c1nc2ccccc2c1NC(=O)C(C)N1CCC(Cc2ccccc2)CC1\n",
      "Unable to canonicalize  COC(=O)c1nc2ccc(C)cc2c1NC(=O)CN1CCN(C(C)C1)c1cccc(OC)c1\n",
      "Unable to canonicalize  COC(=O)c1nc2ccccc2c1NC(=O)CN1CCC(CC1)Oc1ccccn1\n",
      "Unable to canonicalize  CC(=O)c1nc2ccccc2c1NC(=O)CN1CCN(Cc2ccccc2)CC1\n",
      "Unable to canonicalize  CCOC(=O)c1nc2ncccc2c1NC(=O)CN1CCCC(C)(C)C1\n",
      "Unable to canonicalize  COC(=O)c1nc2ccc(Br)cc2c1NC(=O)CN1CCN(Cc2ccccc2)CC1\n",
      "Unable to canonicalize  COC(=O)c1nc2ccc(Br)cc2c1NC(=O)CN1CCSCC1\n",
      "Unable to canonicalize  O=C(CN1CCC(CC1)C1CCCCC1)Nc1c(nc2ccccc12)C(=O)C1CC1\n",
      "Unable to canonicalize  Clc1ccc2nc(C(=O)C3CC3)c(NC(=O)CN3CCC(CC3)C3CCCCC3)c2c1\n",
      "Unable to canonicalize  COC(=O)c1nc2ccc(Br)cc2c1NC(=O)CN1CCC(CC1)c1ccccc1\n",
      "Unable to canonicalize  CC(=O)c1nc2ccccc2c1NC(=O)CN1CCC(CC1)C1CCCC1\n",
      "Unable to canonicalize  O=C(CN1CCC(CC1)C1CCCC1)Nc1c(nc2ccccc12)C(=O)C1CC1\n",
      "Unable to canonicalize  CC(=O)c1nc2ccccc2c1NC(=O)CN1CCC(CC1)C1CCCCC1\n",
      "Unable to canonicalize  CC(=O)c1nc2ccc(Br)cc2c1NC(=O)CN1CCC(CC1)c1ccccc1\n",
      "Unable to canonicalize  CC(=O)c1nc2ccc(Br)cc2c1NC(=O)CN1CCC(Cc2ccccc2)CC1\n",
      "Unable to canonicalize  COC(=O)c1nc2ccccc2c1NC(=O)CN1CCC(CC1)N(C)c1ccccc1\n",
      "Unable to canonicalize  COC(=O)c1nc2ccc(Br)cc2c1NC(=O)CN1CCN(CC1)C1c2ccccc2-c2ccccc12\n",
      "Unable to canonicalize  COC(=O)c1nc2ccc(Br)cc2c1NC(=O)CN1CCN(CC1)C(c1ccccc1)c1ccccc1\n",
      "Unable to canonicalize  CC1(C)CCCN(CC(=O)Nc2c(nc3ccc(cc23)S(C)(=O)=O)C(=O)C2CC2)C1\n",
      "Unable to canonicalize  COC(=O)c1nc2ccccc2c1NC(=O)CN1CCC(CC1)N1CCc2ccccc12\n",
      "Unable to canonicalize  CC(C)=C1CCN(CC(=O)Nc2c(nc3ccccc23)C(=O)C2CC2)CC1\n",
      "Unable to canonicalize  CC(=O)c1nc2ccc(Br)cc2c1NC(=O)CN1CCCC(C)(C)C1\n",
      "Unable to canonicalize  CC(=O)c1nc2ccccc2c1NC(=O)CN1CCC(CC1)Oc1ccccc1\n",
      "Unable to canonicalize  CC1(C)CCCN(CC(=O)Nc2c(nc3ccc(cc23)N2CCOCC2)C(=O)C2CC2)C1\n",
      "Unable to canonicalize  O=C(CN1CCC(CC1)C1CC1)Nc1c(nc2ccccc12)C(=O)C1CC1\n",
      "Unable to canonicalize  COC(=O)c1nc2ccccc2c1NC(=O)CN1CCC(CC1)Nc1ccccc1\n",
      "Unable to canonicalize  O=C(CN1CCC(CC1)c1ccccc1)Nc1c(nc2ccccc12)C(=O)C1CCC1\n",
      "Unable to canonicalize  COC(=O)c1nc2ccccc2c1NC(=O)CN1CCN(Cc2ccccc2)C(C)(C)C1\n",
      "Unable to canonicalize  CS(=O)(=O)c1ccc2nc(C(=O)C3CC3)c(NC(=O)CN3CCC(CC3)C3CCCCC3)c2c1\n",
      "Unable to canonicalize  O=C(CN1CCC(CC1)C1CCCC1)Nc1c(nc2ccncc12)C(=O)C1CC1\n",
      "Unable to canonicalize  COC(=O)c1nc2ccc(cc2c1NC(=O)CN1CCC(CC1)C1CCCCC1)N1CCOCC1C\n",
      "Unable to canonicalize  COC(=O)c1nc2ccc(cc2c1NC(=O)CN1CCC(CC1)C1CCCCC1)N1CCOCC1\n",
      "Unable to canonicalize  O=C(CN1CCC(CC1)C1CCCCC1)Nc1c(nc2ccncc12)C(=O)C1CC1\n",
      "Unable to canonicalize  Clc1ccc2nc(C(=O)C3CC3)c(NC(=O)CN3CCC(CC3)C3CCCC3)c2c1\n",
      "Unable to canonicalize  CC(=O)c1nc2ccncc2c1NC(=O)CN1CCC(CC1)C1CCCC1\n",
      "Unable to canonicalize  O=C(CN1CCC2(CCCCC2)CC1)Nc1c(nc2ccccc12)C(=O)C1CC1\n",
      "Unable to canonicalize  O=C(CN1CCC(CC1)C1CCCCC1)Nc1c(nc2ccc(cc12)N1CCOCC1)C(=O)C1CC1\n",
      "Unable to canonicalize  O=C(CN1CCC(CC1)c1ccccc1)Nc1c(nc2ccncc12)C(=O)C1CC1\n",
      "Unable to canonicalize  O=C(CN1CCC2(CCCC2)CC1)Nc1c(nc2ccncc12)C(=O)C1CC1\n",
      "Unable to canonicalize  O=C(CN1CCC(CC1)c1ccccc1)Nc1c(nc2ccc(cc12)N1CCOCC1)C(=O)C1CC1\n",
      "Unable to canonicalize  CC(N1CCC(CC1)C1CCCC1)C(=O)Nc1c(nc2ccccc12)C(C)=O\n",
      "Unable to canonicalize  CC(N1CCC(CC1)C1CCCC1)C(=O)Nc1c(nc2ccccc12)C(=O)C1CC1\n",
      "Unable to canonicalize  CC(=O)c1nc2ccncc2c1NC(=O)CN1CCC(CC1)C(C)(C)C\n",
      "Unable to canonicalize  O=C(CN1CCN(CC1)c1ccccc1)Nc1c(nc2ccncc12)C(=O)C1CC1\n",
      "Unable to canonicalize  CC1(C)CCCN(CC(=O)Nc2c(nc3ccncc23)C(=O)C2CC2)C1\n",
      "Unable to canonicalize  COC(=O)c1nc2ccc(C)cc2c1NC(=O)CN1CCC(Cc2ccccc2)CC1\n",
      "Unable to canonicalize  CC1COCCN1c1ccc2nc(C(=O)C3CC3)c(NC(=O)CN3CCCC(C)(C)C3)c2c1\n",
      "Unable to canonicalize  CC(=O)c1nc2ccccc2c1NC(=O)CN1CCC(CC1)OC1CCCCC1\n",
      "Unable to canonicalize  COC(=O)c1nc2ccc(Cl)cc2c1NC(=O)C(C)N1CCC(Cc2ccccc2)CC1\n",
      "Unable to canonicalize  COC(=O)c1nc2ccc(Br)cc2c1NC(=O)CN1CCCC(C)(C)C1\n",
      "Unable to canonicalize  COC(=O)c1nc2ccc(Cl)cc2c1NC(=O)CN1CCCC(C)(C)C1\n"
     ]
    },
    {
     "name": "stderr",
     "output_type": "stream",
     "text": [
      "[22:11:31] Explicit valence for atom # 25 N, 4, is greater than permitted\n",
      "[22:11:31] Explicit valence for atom # 25 N, 4, is greater than permitted\n"
     ]
    },
    {
     "name": "stdout",
     "output_type": "stream",
     "text": [
      "Unable to canonicalize  Cn1cc(cn1)-c1ccc2cnc(NC(=O)c3ccnc(c3)N3CC[N](C)(O)CC3)cc2c1\n",
      "Unable to canonicalize  Cn1cc(cn1)-c1ccc2cnc(NC(=O)c3ccnc(c3)N3CC[N](C)(O)CC3)cc2c1\n"
     ]
    },
    {
     "name": "stderr",
     "output_type": "stream",
     "text": [
      "[22:11:32] Explicit valence for atom # 1 N, 4, is greater than permitted\n"
     ]
    },
    {
     "name": "stdout",
     "output_type": "stream",
     "text": [
      "Unable to canonicalize  C[N]1=CC(N2C(=O)c3c(C2=O)c(NS(=O)(=O)c2ccc(cc2)C(C)(C)C)ccc3Cl)=C(N1)C(O)=O\n"
     ]
    },
    {
     "name": "stderr",
     "output_type": "stream",
     "text": [
      "[22:11:32] Can't kekulize mol.  Unkekulized atoms: 22 23 24 26 27\n"
     ]
    },
    {
     "name": "stdout",
     "output_type": "stream",
     "text": [
      "Unable to canonicalize  COC[C@@]1(CC[C@@H](CC1)Oc1ccc(cc1)-c1ccc(cn1)-c1nc(C)c(n1)C(F)(F)F)C(O)=O\n"
     ]
    },
    {
     "name": "stderr",
     "output_type": "stream",
     "text": [
      "[22:11:32] Can't kekulize mol.  Unkekulized atoms: 9 10 11 12 14\n",
      "[22:11:32] Can't kekulize mol.  Unkekulized atoms: 9 10 11 12 14\n"
     ]
    },
    {
     "name": "stdout",
     "output_type": "stream",
     "text": [
      "Unable to canonicalize  NCCCCC(NC(=O)c1cccn(c1)C(=O)CCc1ccccc1)C(=O)c1nc2ccccc2s1\n",
      "Unable to canonicalize  NCCCCC(NC(=O)c1cccn(c1)C(=O)CCc1ccccc1)C(=O)c1nc2ccccc2s1\n"
     ]
    },
    {
     "name": "stderr",
     "output_type": "stream",
     "text": [
      "[22:11:34] Explicit valence for atom # 4 N, 4, is greater than permitted\n",
      "[22:11:34] Explicit valence for atom # 4 N, 4, is greater than permitted\n",
      "[22:11:34] Explicit valence for atom # 10 N, 4, is greater than permitted\n",
      "[22:11:34] Explicit valence for atom # 10 N, 4, is greater than permitted\n"
     ]
    },
    {
     "name": "stdout",
     "output_type": "stream",
     "text": [
      "Unable to canonicalize  CC(C)(C)[N]1=CC(NC(=O)c2cnn3ccc(N[C@@H]4CCCC[C@@H]4O)nc23)=C(N1)C(F)F\n",
      "Unable to canonicalize  CC(C)(C)[N]1=CC(NC(=O)c2cnn3ccc(N[C@@H]4CCCC(F)(F)[C@@H]4N)nc23)=C(N1)C(F)F\n",
      "Unable to canonicalize  COc1cc2c(OC[C@@H]3C[N@@](F)(CC(F)(F)F)C(=O)N3)cccc2cc1C(N)=O\n",
      "Unable to canonicalize  COc1cc2c(OC[C@@H]3C[N@](F)(CC(F)(F)F)C(=O)N3)cccc2cc1C(N)=O\n"
     ]
    },
    {
     "name": "stderr",
     "output_type": "stream",
     "text": [
      "[22:11:34] Explicit valence for atom # 3 N, 4, is greater than permitted\n"
     ]
    },
    {
     "name": "stdout",
     "output_type": "stream",
     "text": [
      "Unable to canonicalize  CC1=N[N](=CN1)c1cc(Cl)c(C(=O)NC2(CO)CCc3nn4cc(C)ccc4c3C2)c(Cl)c1\n"
     ]
    },
    {
     "name": "stderr",
     "output_type": "stream",
     "text": [
      "[22:11:35] Explicit valence for atom # 31 N, 4, is greater than permitted\n",
      "[22:11:35] Explicit valence for atom # 3 N, 4, is greater than permitted\n",
      "[22:11:35] Explicit valence for atom # 23 N, 4, is greater than permitted\n",
      "[22:11:35] Explicit valence for atom # 23 N, 4, is greater than permitted\n",
      "[22:11:35] Explicit valence for atom # 23 N, 4, is greater than permitted\n",
      "[22:11:35] Explicit valence for atom # 15 N, 4, is greater than permitted\n",
      "[22:11:35] Explicit valence for atom # 15 N, 4, is greater than permitted\n"
     ]
    },
    {
     "name": "stdout",
     "output_type": "stream",
     "text": [
      "Unable to canonicalize  CS(=O)c1ccc(cc1)C(=O)C1CCN(CC1)C(=O)c1ccc(nc1)C(=O)NC1CC[N](O)(Cc2ccc(cc2)C#N)CC1\n",
      "Unable to canonicalize  CC(C)[N]1=CC(C=N1)C1CC(C1)N1CCN(C1=O)c1cccc(n1)-c1nncn1C(C)C\n",
      "Unable to canonicalize  CNS(=O)(=O)C[C@H]1CCC(CC1)N(C)c1c(cnc2[nH]ccc12)N([O-])=O\n",
      "Unable to canonicalize  CNS(=O)(=O)C[C@H]1CCC(CC1)N(C)c1c(cnc2[nH]ccc12)N([O-])=O\n",
      "Unable to canonicalize  CNS(=O)(=O)C[C@H]1CCC(CC1)N(C)c1c(cnc2[nH]ccc12)N([O-])=O\n",
      "Unable to canonicalize  COC(=O)NC[C@H]1CC[C@@H](CC1)N1C(=N[N]2=CN=c3ccsc3=C12)[C@@H](C)O\n",
      "Unable to canonicalize  COC(=O)NC[C@H]1CC[C@@H](CC1)N1C(=N[N]2=CN=c3ccsc3=C12)[C@@H](C)O\n"
     ]
    },
    {
     "name": "stderr",
     "output_type": "stream",
     "text": [
      "[22:11:36] Can't kekulize mol.  Unkekulized atoms: 30 31 32 33 34\n",
      "[22:11:36] Explicit valence for atom # 1 F, 2, is greater than permitted\n",
      "[22:11:36] Explicit valence for atom # 20 H, 2, is greater than permitted\n",
      "[22:11:36] non-ring atom 1 marked aromatic\n",
      "[22:11:36] Explicit valence for atom # 1 N, 4, is greater than permitted\n"
     ]
    },
    {
     "name": "stdout",
     "output_type": "stream",
     "text": [
      "Unable to canonicalize  CS(=O)(=O)N(CC(O)Cn1c2ccc(F)cc2c2cc(F)ccc12)c1ccc(cc1)-c1ccnn1\n",
      "Unable to canonicalize  C[F]c1nc2ccccc2n1-c1nc(cc(n1)N1CCOC[C@H]1C)N=S(C)(C)=O\n",
      "Unable to canonicalize  C[C@@H]1COCCN1c1cc(N=S(C)(C)=O)nc(n1)-n1c([H]C(F)F)nc2ccccc12\n",
      "Unable to canonicalize  Cc:n:c:c(C)NC(=O)c1c(N)nn2cc(cnc12)C(C)C#N\n",
      "Unable to canonicalize  C[N]1(O)CCc2c(C1)cncc2NC(=O)c1c(N)nn2cc(F)cnc12\n"
     ]
    },
    {
     "name": "stderr",
     "output_type": "stream",
     "text": [
      "[22:11:36] Can't kekulize mol.  Unkekulized atoms: 4 5 7 8 9\n"
     ]
    },
    {
     "name": "stdout",
     "output_type": "stream",
     "text": [
      "Unable to canonicalize  NC1Nn2cc(F)cnc2C1C(=O)Nc1cnccc1-c1ccc(cc1F)C(=O)N1CCN2CCC1CC2\n"
     ]
    },
    {
     "name": "stderr",
     "output_type": "stream",
     "text": [
      "[22:11:36] Explicit valence for atom # 6 O, 3, is greater than permitted\n"
     ]
    },
    {
     "name": "stdout",
     "output_type": "stream",
     "text": [
      "Unable to canonicalize  CCNC(=O)C1=[O]OC(=C1c1ccc(CN2CCCCC2)cc1)c1cc(CCc2ccccc2)c(O)cc1O\n"
     ]
    },
    {
     "name": "stderr",
     "output_type": "stream",
     "text": [
      "[22:11:37] Explicit valence for atom # 7 N, 4, is greater than permitted\n",
      "[22:11:37] Explicit valence for atom # 7 N, 4, is greater than permitted\n"
     ]
    },
    {
     "name": "stdout",
     "output_type": "stream",
     "text": [
      "Unable to canonicalize  CC(NC(=O)C1=C[N](=CN1)C(=O)C(F)(F)F)[C@@H]1CC[C@@]2([C@H]1CCc1cc(ccc21)C(F)(C(F)(F)F)C(F)(F)F)S(=O)(=O)c1ccc(F)cc1\n",
      "Unable to canonicalize  CC(NC(=O)C1=C[N](=CN1)C(=O)C(F)(F)F)[C@@H]1CC[C@@]2([C@H]1CCc1cc(ccc21)C(F)(C(F)(F)F)C(F)(F)F)S(=O)(=O)c1ccc(F)cc1\n"
     ]
    },
    {
     "name": "stderr",
     "output_type": "stream",
     "text": [
      "[22:11:37] Explicit valence for atom # 15 N, 4, is greater than permitted\n"
     ]
    },
    {
     "name": "stdout",
     "output_type": "stream",
     "text": [
      "Unable to canonicalize  CC1(C)Cc2[nH]c(c(Nc3ccc(cc3)N([O-])=O)c2C(=O)C1)-c1ccncc1\n"
     ]
    },
    {
     "name": "stderr",
     "output_type": "stream",
     "text": [
      "[22:11:38] Explicit valence for atom # 2 N, 4, is greater than permitted\n"
     ]
    },
    {
     "name": "stdout",
     "output_type": "stream",
     "text": [
      "Unable to canonicalize  CN([N]1=CC(CNc2nc(Nc3ccc(cc3)C(C)(C)O)ncc2C(F)(F)F)=CC=C1)S(C)(=O)=O\n"
     ]
    },
    {
     "name": "stderr",
     "output_type": "stream",
     "text": [
      "[22:11:38] Can't kekulize mol.  Unkekulized atoms: 26 27 28 29 31\n",
      "[22:11:39] Can't kekulize mol.  Unkekulized atoms: 26 27 28 29 31\n",
      "[22:11:39] Explicit valence for atom # 2 O, 3, is greater than permitted\n"
     ]
    },
    {
     "name": "stdout",
     "output_type": "stream",
     "text": [
      "Unable to canonicalize  CC(=O)N1CCC=C(C1)c1nc2ccc(-c3c(C)noc3C)c3OCC(c4cccn(c4)C(C)=O)n1c23\n",
      "Unable to canonicalize  CC(=O)N1CCC=C(C1)c1nc2ccc(-c3c(C)noc3C)c3OCC(c4cccn(c4)C(C)=O)n1c23\n",
      "Unable to canonicalize  CN1[O]=C(CC(OC[C@H]2O[C@H]([C@@H](F)[C@@H]2O)n2cnc3c(N)nc(Cl)nc23)(C(O)=O)C(O)=O)C=C1C(O)=O\n"
     ]
    },
    {
     "name": "stderr",
     "output_type": "stream",
     "text": [
      "[22:11:39] Explicit valence for atom # 19 O, 3, is greater than permitted\n",
      "[22:11:39] Explicit valence for atom # 19 O, 3, is greater than permitted\n",
      "[22:11:39] Explicit valence for atom # 19 O, 3, is greater than permitted\n",
      "[22:11:39] Explicit valence for atom # 19 O, 3, is greater than permitted\n",
      "[22:11:39] Explicit valence for atom # 20 O, 3, is greater than permitted\n",
      "[22:11:39] Explicit valence for atom # 14 O, 3, is greater than permitted\n"
     ]
    },
    {
     "name": "stdout",
     "output_type": "stream",
     "text": [
      "Unable to canonicalize  CN(C)C(=O)c1ccc(cc1)-c1cnc(N)c(n1)C1=[O]C(Nc2ccc(Cl)cc2)=NN1\n",
      "Unable to canonicalize  CN(C)C(=O)c1ccc(cc1)-c1cnc(N)c(n1)C1=[O]C(Nc2cccc(Cl)c2)=NN1\n",
      "Unable to canonicalize  CN(C)C(=O)c1ccc(cc1)-c1cnc(N)c(n1)C1=[O]C(Nc2cccnc2)=NN1\n",
      "Unable to canonicalize  CN(C)C(=O)c1ccc(cc1)-c1cnc(N)c(n1)C1=[O]C(=NN1)N1CCOCC1\n",
      "Unable to canonicalize  CN(C)C(=O)c1ccc(c(Cl)c1)-c1cnc(N)c(n1)C1=[O]C(=NN1)c1ccccc1\n",
      "Unable to canonicalize  Cc1ccsc1-c1nnc(o1)C1=C(N)[O]=CC(=[O]1)c1ccc(cc1C#N)C(=O)N1CCCNCC1\n"
     ]
    },
    {
     "name": "stderr",
     "output_type": "stream",
     "text": [
      "[22:11:40] Can't kekulize mol.  Unkekulized atoms: 15 16 17 18 19\n",
      "[22:11:40] Can't kekulize mol.  Unkekulized atoms: 15 16 17 18 19\n",
      "[22:11:40] Can't kekulize mol.  Unkekulized atoms: 15 16 17 18 19\n"
     ]
    },
    {
     "name": "stdout",
     "output_type": "stream",
     "text": [
      "Unable to canonicalize  Cc1nc(C)c(Cn2c3ccc(cc3n(-c3cncn3)c2=O)S(=O)(=O)NC2(C)CC2)s1\n",
      "Unable to canonicalize  Cc1nc(C)c(Cn2c3ccc(cc3n(-c3cnnc3)c2=O)S(=O)(=O)NC2(C)CC2)s1\n",
      "Unable to canonicalize  Cc1nnc(s1)-n1c2cc(ccc2n(Cc2cnnc2)c1=O)S(=O)(=O)NC1(C)CC1\n"
     ]
    },
    {
     "name": "stderr",
     "output_type": "stream",
     "text": [
      "[22:11:40] Explicit valence for atom # 29 N, 4, is greater than permitted\n",
      "[22:11:40] Explicit valence for atom # 9 N, 4, is greater than permitted\n",
      "[22:11:40] Can't kekulize mol.  Unkekulized atoms: 7 8 9 10 12 13 14\n",
      "[22:11:40] Can't kekulize mol.  Unkekulized atoms: 7 8 9 10 12 13 14\n",
      "[22:11:40] Can't kekulize mol.  Unkekulized atoms: 8 9 10 12 14 15 16\n",
      "[22:11:40] Can't kekulize mol.  Unkekulized atoms: 8 9 10 12 14 15 16\n"
     ]
    },
    {
     "name": "stdout",
     "output_type": "stream",
     "text": [
      "Unable to canonicalize  CCCCc1nc(=O)c(c(O)n1[C@@H](CC)c1cccc(OC)c1)S(=O)(=O)C1=CC=[N](C=C1)c1ccnc(F)c1C\n",
      "Unable to canonicalize  Cc1cc(ncc1C#N)[N]1=NCC(CN2CCN[C@@H](C2)c2ccc3C(=O)OCc3c2C)=N1\n",
      "Unable to canonicalize  OC1(CCCCC1)c1cc(cn2cncn12)C(F)(F)F\n",
      "Unable to canonicalize  OC1(CCCCC1)c1cc(cn2cncn12)C(F)(F)F\n",
      "Unable to canonicalize  CC(=O)N1CCN(Cc2cc(Cl)cn3cncn23)CC1(C)C\n",
      "Unable to canonicalize  CC(=O)N1CCN(Cc2cc(Cl)cn3cncn23)CC1(C)C\n"
     ]
    },
    {
     "name": "stderr",
     "output_type": "stream",
     "text": [
      "[22:11:41] Explicit valence for atom # 31 N, 4, is greater than permitted\n",
      "[22:11:41] Explicit valence for atom # 25 N, 4, is greater than permitted\n",
      "[22:11:41] Explicit valence for atom # 25 N, 4, is greater than permitted\n"
     ]
    },
    {
     "name": "stdout",
     "output_type": "stream",
     "text": [
      "Unable to canonicalize  COc1ccc(cc1F)-c1c(nc(NC2CCNCC2)n(C)c1=O)-c1ccc(cc1)C#[N]C\n",
      "Unable to canonicalize  Cn1cc(cn1)-c1ccc2cnc(NC(=O)c3ccnc(c3)N3CC[N](C)(O)CC3)cc2c1\n",
      "Unable to canonicalize  Cn1cc(cn1)-c1ccc2cnc(NC(=O)c3ccnc(c3)N3CC[N](C)(O)CC3)cc2c1\n"
     ]
    },
    {
     "name": "stderr",
     "output_type": "stream",
     "text": [
      "[22:11:41] Explicit valence for atom # 25 N, 4, is greater than permitted\n",
      "[22:11:41] Explicit valence for atom # 1 N, 4, is greater than permitted\n",
      "[22:11:41] Explicit valence for atom # 1 N, 4, is greater than permitted\n",
      "[22:11:41] Explicit valence for atom # 1 N, 4, is greater than permitted\n",
      "[22:11:41] Explicit valence for atom # 1 N, 4, is greater than permitted\n",
      "[22:11:41] Explicit valence for atom # 1 N, 4, is greater than permitted\n",
      "[22:11:41] Explicit valence for atom # 1 N, 4, is greater than permitted\n",
      "[22:11:41] Explicit valence for atom # 1 N, 4, is greater than permitted\n",
      "[22:11:41] Explicit valence for atom # 1 N, 4, is greater than permitted\n",
      "[22:11:41] Explicit valence for atom # 1 N, 4, is greater than permitted\n",
      "[22:11:41] Explicit valence for atom # 1 N, 4, is greater than permitted\n",
      "[22:11:41] Explicit valence for atom # 1 N, 4, is greater than permitted\n",
      "[22:11:41] Explicit valence for atom # 1 N, 4, is greater than permitted\n"
     ]
    },
    {
     "name": "stdout",
     "output_type": "stream",
     "text": [
      "Unable to canonicalize  Cn1cc(cn1)-c1ccc2cnc(NC(=O)c3ccnc(c3)N3CC[N](C)(O)CC3)cc2c1\n",
      "Unable to canonicalize  C[N]1(C)CC[C@H](C1)NS(=O)(=O)c1ccc(-c2cccc3[nH]c(N)nc23)c(-c2nn[nH]n2)c1S(N)(=O)=O\n",
      "Unable to canonicalize  C[N]1(C)CC[C@H](C1)NS(=O)(=O)c1ccc(-c2cccc3[nH]c(N)nc23)c(-c2nn[nH]n2)c1S(N)(=O)=O\n",
      "Unable to canonicalize  C[N]1(C)CC[C@H](C1)NS(=O)(=O)c1ccc(-c2cccc3[nH]c(N)nc23)c(-c2nn[nH]n2)c1S(N)(=O)=O\n",
      "Unable to canonicalize  C[N]1(C)CC(C1)NS(=O)(=O)c1ccc(-c2cccc3[nH]c(N)nc23)c(-c2nn[nH]n2)c1S(N)(=O)=O\n",
      "Unable to canonicalize  C[N]1(C)CC(C1)NS(=O)(=O)c1ccc(-c2cccc3[nH]c(N)nc23)c(-c2nn[nH]n2)c1S(N)(=O)=O\n",
      "Unable to canonicalize  C[N]1(C)CC(C1)NS(=O)(=O)c1ccc(-c2cccc3[nH]c(N)nc23)c(-c2nn[nH]n2)c1S(N)(=O)=O\n",
      "Unable to canonicalize  C[N]1(CCN)CC[C@H](C1)NS(=O)(=O)c1ccc(-c2cccc3[nH]c(N)nc23)c(-c2nn[nH]n2)c1S(N)(=O)=O\n",
      "Unable to canonicalize  C[N]1(CCN)CC[C@H](C1)NS(=O)(=O)c1ccc(-c2cccc3[nH]c(N)nc23)c(-c2nn[nH]n2)c1S(N)(=O)=O\n",
      "Unable to canonicalize  C[N]1(CCN)CC[C@H](C1)NS(=O)(=O)c1ccc(-c2cccc3[nH]c(N)nc23)c(-c2nn[nH]n2)c1S(N)(=O)=O\n",
      "Unable to canonicalize  C[N]1(CCN)CC[C@@H](C1)NS(=O)(=O)c1ccc(-c2cccc3[nH]c(N)nc23)c(-c2nn[nH]n2)c1S(N)(=O)=O\n",
      "Unable to canonicalize  C[N]1(CCN)CC[C@@H](C1)NS(=O)(=O)c1ccc(-c2cccc3[nH]c(N)nc23)c(-c2nn[nH]n2)c1S(N)(=O)=O\n",
      "Unable to canonicalize  C[N]1(CCN)CC[C@@H](C1)NS(=O)(=O)c1ccc(-c2cccc3[nH]c(N)nc23)c(-c2nn[nH]n2)c1S(N)(=O)=O\n"
     ]
    },
    {
     "name": "stderr",
     "output_type": "stream",
     "text": [
      "[22:11:42] Explicit valence for atom # 15 N, 4, is greater than permitted\n",
      "[22:11:42] Explicit valence for atom # 15 N, 4, is greater than permitted\n",
      "[22:11:42] Explicit valence for atom # 15 N, 4, is greater than permitted\n",
      "[22:11:42] Explicit valence for atom # 15 N, 4, is greater than permitted\n",
      "[22:11:42] Explicit valence for atom # 15 N, 4, is greater than permitted\n",
      "[22:11:42] Explicit valence for atom # 15 N, 4, is greater than permitted\n"
     ]
    },
    {
     "name": "stdout",
     "output_type": "stream",
     "text": [
      "Unable to canonicalize  CC(C)c1c([nH]c2ccc(nc12)N1CC[N]2(CCCC[C@H]2C1)C(=O)CN(C)C)-c1cn2ncnc2c(C)c1C\n",
      "Unable to canonicalize  CC(C)c1c([nH]c2ccc(nc12)N1CC[N]2(CCCC[C@H]2C1)C(=O)CN(C)C)-c1cn2ncnc2c(C)c1C\n",
      "Unable to canonicalize  CC(C)c1c([nH]c2ccc(nc12)N1CC[N]2(CCCC[C@H]2C1)C(=O)CN(C)C)-c1cn2ncnc2c(C)c1C\n",
      "Unable to canonicalize  CC(C)c1c([nH]c2ccc(nc12)N1CC[N]2(CCS(C)(=O)=O)CCCC[C@H]2C1)-c1cn2ncnc2c(C)c1C\n",
      "Unable to canonicalize  CC(C)c1c([nH]c2ccc(nc12)N1CC[N]2(CCS(C)(=O)=O)CCCC[C@H]2C1)-c1cn2ncnc2c(C)c1C\n",
      "Unable to canonicalize  CC(C)c1c([nH]c2ccc(nc12)N1CC[N]2(CCS(C)(=O)=O)CCCC[C@H]2C1)-c1cn2ncnc2c(C)c1C\n"
     ]
    },
    {
     "name": "stderr",
     "output_type": "stream",
     "text": [
      "[22:11:42] Explicit valence for atom # 20 N, 4, is greater than permitted\n",
      "[22:11:42] Explicit valence for atom # 19 N, 4, is greater than permitted\n"
     ]
    },
    {
     "name": "stdout",
     "output_type": "stream",
     "text": [
      "Unable to canonicalize  ONC(=O)c1cccc(Nc2nc3cc(Cl)c(cc3[nH]2)N([O-])=O)c1\n",
      "Unable to canonicalize  ONC(=O)c1cccc(Nc2nc3cc(ccc3[nH]2)N(O)=O)c1\n"
     ]
    },
    {
     "name": "stderr",
     "output_type": "stream",
     "text": [
      "[22:11:43] Explicit valence for atom # 22 N, 4, is greater than permitted\n",
      "[22:11:43] Can't kekulize mol.  Unkekulized atoms: 12 13 14 16 17\n",
      "[22:11:43] Can't kekulize mol.  Unkekulized atoms: 8 9 10 12 13\n",
      "[22:11:43] Can't kekulize mol.  Unkekulized atoms: 13 14 15 16 17\n",
      "[22:11:43] Can't kekulize mol.  Unkekulized atoms: 13 14 15\n",
      "[22:11:43] Can't kekulize mol.  Unkekulized atoms: 13 14 15 16 17\n",
      "[22:11:43] Can't kekulize mol.  Unkekulized atoms: 13 14 15 16 17\n",
      "[22:11:43] Can't kekulize mol.  Unkekulized atoms: 4 5 6 7 29\n",
      "[22:11:43] Can't kekulize mol.  Unkekulized atoms: 5 6 7\n",
      "[22:11:43] Can't kekulize mol.  Unkekulized atoms: 5 6 7 8 31\n",
      "[22:11:43] Can't kekulize mol.  Unkekulized atoms: 5 6 7\n",
      "[22:11:43] Can't kekulize mol.  Unkekulized atoms: 13 14 15 16 17\n",
      "[22:11:43] Can't kekulize mol.  Unkekulized atoms: 4 5 6 7 29\n",
      "[22:11:43] Can't kekulize mol.  Unkekulized atoms: 5 6 7\n",
      "[22:11:43] Can't kekulize mol.  Unkekulized atoms: 4 5 6 7 30\n",
      "[22:11:43] Can't kekulize mol.  Unkekulized atoms: 4 5 6\n",
      "[22:11:43] Explicit valence for atom # 21 N, 4, is greater than permitted\n"
     ]
    },
    {
     "name": "stdout",
     "output_type": "stream",
     "text": [
      "Unable to canonicalize  CC(C)Nc1nc(Nc2cc(C)ns2)nc2ccn(C3=CC=[N]4OCOC4=C3)c12\n",
      "Unable to canonicalize  C[C@H]1CC[C@@H](CC1)Nc1nc(Nc2cc(C)nn2)nc2ccn(-c3cnn(C)c3)c12\n",
      "Unable to canonicalize  CC(C)Nc1nc(Nc2cc(C)nn2)nc2ccn(-c3cnn(c3)C3CCOCC3)c12\n",
      "Unable to canonicalize  Cn1cc(cn1)-n1ccc2nc(Nc3ccnc3)nc(O[C@H]3CCOC3)c12\n",
      "Unable to canonicalize  Cn1cc(cn1)-n1ccc2nc(Nc3ccss3)nc(O[C@H]3CCOC3)c12\n",
      "Unable to canonicalize  Cn1cc(cn1)-n1ccc2nc(Nc3ccnn3)nc(O[C@H]3CCOC3)c12\n",
      "Unable to canonicalize  Cn1cc(cn1)-n1ccc2nc(Nc3cnnc3)nc(O[C@H]3CCOC3)c12\n",
      "Unable to canonicalize  CNC(=O)c1ccc(Nc2nc(O[C@H]3CCOC3)c3n(ccc3n2)-c2ccoc2)c1\n",
      "Unable to canonicalize  CCNC(=O)c1cc(Nc2nc(O[C@H]3CCOC3)c3n(ccc3n2)-c2cnn(C)c2)ss1\n",
      "Unable to canonicalize  CCNC(=O)c1ccc(Nc2nc(O[C@H]3CCOC3)c3n(ccc3n2)-c2cnn(C)c2)c1\n",
      "Unable to canonicalize  CCNC(=O)c1cc(Nc2nc(OC3CCCC3)c3n(ccc3n2)-c2cnn(C)c2)ss1\n",
      "Unable to canonicalize  Cn1cc(cn1)-n1ccc2nc(Nc3ccc(c3)C(N)=O)nc(O[C@@H]3CCOC3)c12\n",
      "Unable to canonicalize  CNC(=O)c1ccc(Nc2nc(OCCOC)c3n(ccc3n2)-c2cnn(C)c2)c1\n",
      "Unable to canonicalize  CCNC(=O)c1cc(Nc2nc(OCCOC)c3n(ccc3n2)-c2cnn(C)c2)ss1\n",
      "Unable to canonicalize  CNC(=O)c1ccc(Nc2nc(O[C@H]3CCOC3)c3n(ccc3n2)-c2cnn(C)c2)c1\n",
      "Unable to canonicalize  CNC(=O)c1cc(Nc2nc(O[C@H]3CCOC3)c3n(ccc3n2)-c2cnn(C)c2)ss1\n",
      "Unable to canonicalize  CNC1=CC(Nc2cccn(-c3cccc(C)n3)c2=O)=C[N]2=C(C=NN12)C(=O)NC1CC1\n"
     ]
    },
    {
     "name": "stderr",
     "output_type": "stream",
     "text": [
      "[22:11:44] Can't kekulize mol.  Unkekulized atoms: 16 17 18 19 20 21 22 23 24\n",
      "[22:11:44] Can't kekulize mol.  Unkekulized atoms: 16 17 18 19 20 21 22 23 24\n",
      "[22:11:44] Can't kekulize mol.  Unkekulized atoms: 16 17 18 19 20 21 22 23 24\n",
      "[22:11:44] Can't kekulize mol.  Unkekulized atoms: 16 17 18 19 20 21 22 23 24\n",
      "[22:11:44] Can't kekulize mol.  Unkekulized atoms: 20 21 22 23 24 25 26 27 28\n",
      "[22:11:44] Can't kekulize mol.  Unkekulized atoms: 20 21 22 23 24 25 26 27 28\n",
      "[22:11:44] Can't kekulize mol.  Unkekulized atoms: 18 19 20 21 22 23 24 25 26\n",
      "[22:11:44] Can't kekulize mol.  Unkekulized atoms: 18 19 20 21 22 23 24 25 26\n",
      "[22:11:44] Can't kekulize mol.  Unkekulized atoms: 11 12 13 14 15 16 17 18 19\n",
      "[22:11:44] Can't kekulize mol.  Unkekulized atoms: 11 12 13 14 15 16 17 18 19\n",
      "[22:11:44] Can't kekulize mol.  Unkekulized atoms: 17 18 19 20 21 22 23 24 25\n",
      "[22:11:44] Can't kekulize mol.  Unkekulized atoms: 17 18 19 20 21 22 23 24 25\n",
      "[22:11:44] Can't kekulize mol.  Unkekulized atoms: 15 16 17 18 19 20 21 22 23\n",
      "[22:11:44] Can't kekulize mol.  Unkekulized atoms: 15 16 17 18 19 20 21 22 23\n",
      "[22:11:44] Can't kekulize mol.  Unkekulized atoms: 19 20 21 22 23 24 25 26 27\n",
      "[22:11:44] Can't kekulize mol.  Unkekulized atoms: 19 20 21 22 23 24 25 26 27\n",
      "[22:11:44] Can't kekulize mol.  Unkekulized atoms: 13 14 15 16 17 18 19 20 21\n",
      "[22:11:44] Can't kekulize mol.  Unkekulized atoms: 27 28 29 30 31 32 33 34 35\n",
      "[22:11:44] Can't kekulize mol.  Unkekulized atoms: 27 28 29 30 31 32 33 34 35\n",
      "[22:11:44] Can't kekulize mol.  Unkekulized atoms: 15 16 17 18 19 20 21 22 23\n",
      "[22:11:44] Can't kekulize mol.  Unkekulized atoms: 17 18 19 20 21 22 23 24 25\n",
      "[22:11:44] Can't kekulize mol.  Unkekulized atoms: 18 19 20 21 22 23 24 25 26\n",
      "[22:11:44] Can't kekulize mol.  Unkekulized atoms: 16 17 18 19 20 21 22 23 24\n",
      "[22:11:44] Can't kekulize mol.  Unkekulized atoms: 14 15 16 17 18 19 20 21 22\n",
      "[22:11:44] Can't kekulize mol.  Unkekulized atoms: 18 19 20 21 22 23 24 25 26\n",
      "[22:11:44] Can't kekulize mol.  Unkekulized atoms: 18 19 20 21 22 23 24 25 26\n",
      "[22:11:44] Can't kekulize mol.  Unkekulized atoms: 10 11 12 13 14 15 16 17 18\n",
      "[22:11:44] Can't kekulize mol.  Unkekulized atoms: 14 15 16 17 18 19 20 21 22\n",
      "[22:11:44] Can't kekulize mol.  Unkekulized atoms: 14 15 16 17 18 19 20 21 22\n",
      "[22:11:44] Can't kekulize mol.  Unkekulized atoms: 17 18 19 20 21 22 23\n"
     ]
    },
    {
     "name": "stdout",
     "output_type": "stream",
     "text": [
      "Unable to canonicalize  CCNC(=O)Nc1cccc(c1)-c1nc(Nc2ccc3nncc3c2)c2ccccc2n1\n",
      "Unable to canonicalize  CCCC(=O)Oc1cccc(c1)-c1nc(Nc2ccc3nncc3c2)c2ccccc2n1\n",
      "Unable to canonicalize  CCCC(=O)Nc1ccccc1-c1nc(Nc2ccc3nncc3c2)c2ccccc2n1\n",
      "Unable to canonicalize  CCCC(=O)Nc1ccccc1-c1nc(Nc2ccc3nncc3c2)c2ccccc2n1\n",
      "Unable to canonicalize  COCCN(C)CC(=O)Nc1cccc(c1)-c1nc(Nc2ccc3nncc3c2)c2ccccc2n1\n",
      "Unable to canonicalize  COCCN(C)CC(=O)Nc1cccc(c1)-c1nc(Nc2ccc3nncc3c2)c2ccccc2n1\n",
      "Unable to canonicalize  CC(C)NC(=O)COc1cccc(c1)-c1nc(Nc2ccc3nncc3c2)c2ccccc2n1\n",
      "Unable to canonicalize  CC(C)NC(=O)COc1cccc(c1)-c1nc(Nc2ccc3nncc3c2)c2ccccc2n1\n",
      "Unable to canonicalize  Oc1ccccc1-c1nc(Nc2ccc3nncc3c2)c2ccccc2n1\n",
      "Unable to canonicalize  Oc1ccccc1-c1nc(Nc2ccc3nncc3c2)c2ccccc2n1\n",
      "Unable to canonicalize  CC(C)(C)C(=O)Nc1ccccc1-c1nc(Nc2ccc3nncc3c2)c2ccccc2n1\n",
      "Unable to canonicalize  CC(C)(C)C(=O)Nc1ccccc1-c1nc(Nc2ccc3nncc3c2)c2ccccc2n1\n",
      "Unable to canonicalize  CNC(=O)Nc1ccccc1-c1nc(Nc2ccc3nncc3c2)c2ccccc2n1\n",
      "Unable to canonicalize  CNC(=O)Nc1ccccc1-c1nc(Nc2ccc3nncc3c2)c2ccccc2n1\n",
      "Unable to canonicalize  COCCNC(=O)COc1ccccc1-c1nc(Nc2ccc3nncc3c2)c2ccccc2n1\n",
      "Unable to canonicalize  COCCNC(=O)COc1ccccc1-c1nc(Nc2ccc3nncc3c2)c2ccccc2n1\n",
      "Unable to canonicalize  O=C(Nc1ccccc1-c1nc(Nc2ccc3nncc3c2)c2ccccc2n1)c1ccoc1\n",
      "Unable to canonicalize  COCCNC(=O)COc1ccccc1-c1nc(N(CC(=O)NCCOC)c2ccc3nncc3c2)c2ccccc2n1\n",
      "Unable to canonicalize  COCCNC(=O)COc1ccccc1-c1nc(N(CC(=O)NCCOC)c2ccc3nncc3c2)c2ccccc2n1\n",
      "Unable to canonicalize  COC(=O)Nc1ccccc1-c1nc(Nc2ccc3nncc3c2)c2ccccc2n1\n",
      "Unable to canonicalize  CCCCC(=O)Nc1cccc(c1)-c1nc(Nc2ccc3nncc3c2)c2ccccc2n1\n",
      "Unable to canonicalize  CN(C)CCC(=C)Nc1ccccc1-c1nc(Nc2ccc3nncc3c2)c2ccccc2n1\n",
      "Unable to canonicalize  COCC(=O)Nc1ccccc1-c1nc(Nc2ccc3nncc3c2)c2ccccc2n1\n",
      "Unable to canonicalize  CC(=O)Oc1ccccc1-c1nc(Nc2ccc3nncc3c2)c2ccccc2n1\n",
      "Unable to canonicalize  C(CN1CCOCC1)Oc1ccc2nc(nc(Nc3ccc4nncc4c3)c2c1)-c1ccccc1\n",
      "Unable to canonicalize  C(CN1CCOCC1)Oc1ccc2nc(nc(Nc3ccc4nncc4c3)c2c1)-c1ccccc1\n",
      "Unable to canonicalize  Oc1ccc2nc(nc(Nc3ccc4nncc4c3)c2c1)-c1ccccc1\n",
      "Unable to canonicalize  CC(=O)Oc1cccc(c1)-c1nc(Nc2ccc3nncc3c2)c2ccccc2n1\n",
      "Unable to canonicalize  CC(=O)Oc1cccc(c1)-c1nc(Nc2ccc3nncc3c2)c2ccccc2n1\n",
      "Unable to canonicalize  CC1(C)[C@@H](O)[C@@H](OC1[C@H](O)c1ccc(Cl)cc1)c1ccc2c1nc[nH]\\c2=N/O\n"
     ]
    },
    {
     "name": "stderr",
     "output_type": "stream",
     "text": [
      "[22:11:44] Explicit valence for atom # 9 N, 4, is greater than permitted\n"
     ]
    },
    {
     "name": "stdout",
     "output_type": "stream",
     "text": [
      "Unable to canonicalize  C[C@H](NC1=C(C#N)C(N)=[N](O)C=N1)c1cc2ncc(Cl)n2nc1-c1ccccc1\n"
     ]
    },
    {
     "name": "stderr",
     "output_type": "stream",
     "text": [
      "[22:11:45] Can't kekulize mol.  Unkekulized atoms: 26 27 28 29 30 31 32 33 34\n",
      "[22:11:45] Can't kekulize mol.  Unkekulized atoms: 26 27 28 29 30 31 32 33 34\n"
     ]
    },
    {
     "name": "stdout",
     "output_type": "stream",
     "text": [
      "Unable to canonicalize  Fc1ccc(cc1)S(=O)(=O)Nc1cncc(c1)-c1ccc2nc(oc2c1)-c1nc2ccccc2n1\n",
      "Unable to canonicalize  Fc1ccc(cc1)S(=O)(=O)Nc1cncc(c1)-c1ccc2nc(oc2c1)-c1nc2ccccc2n1\n"
     ]
    },
    {
     "name": "stderr",
     "output_type": "stream",
     "text": [
      "[22:11:45] Can't kekulize mol.  Unkekulized atoms: 11 12 13 14 15 16 28 29 30\n",
      "[22:11:45] Explicit valence for atom # 4 N, 4, is greater than permitted\n",
      "[22:11:45] Explicit valence for atom # 25 N, 4, is greater than permitted\n",
      "[22:11:45] Explicit valence for atom # 22 N, 4, is greater than permitted\n",
      "[22:11:45] Explicit valence for atom # 25 N, 4, is greater than permitted\n",
      "[22:11:45] Explicit valence for atom # 4 N, 4, is greater than permitted\n",
      "[22:11:45] Explicit valence for atom # 25 N, 4, is greater than permitted\n",
      "[22:11:45] Explicit valence for atom # 22 N, 4, is greater than permitted\n",
      "[22:11:45] Explicit valence for atom # 25 N, 4, is greater than permitted\n"
     ]
    },
    {
     "name": "stdout",
     "output_type": "stream",
     "text": [
      "Unable to canonicalize  COc1cc(OC)c(Cl)c(c1)-c1cc2cnc(N[C@@H]3COC[C@@H]3NC(=O)C=C)nc2nc1=O\n",
      "Unable to canonicalize  CC(C)C[N]1(CC(C)C)CCC(CC1)C(=O)Nc1cc2cc(ccc2cn1)-c1cnn(C)c1\n",
      "Unable to canonicalize  Cn1cc(nn1)-c1ccc2cnc(NC(=O)c3ccnc(c3)N3CC[N](C)(O)CC3)cc2c1\n",
      "Unable to canonicalize  Cn1cc(nn1)-c1ccc2cnc(NC(=O)C3=CC(N4CC[N](C)(O)CC4)=[N](O)C=C3)cc2c1\n",
      "Unable to canonicalize  Cn1cc(nn1)-c1ccc2cnc(NC(=O)c3ccnc(c3)N3CC[N](C)(O)CC3)cc2c1\n",
      "Unable to canonicalize  CC(C)C[N]1(CC(C)C)CCC(CC1)C(=O)Nc1cc2cc(ccc2cn1)-c1cnn(C)c1\n",
      "Unable to canonicalize  Cn1cc(nn1)-c1ccc2cnc(NC(=O)c3ccnc(c3)N3CC[N](C)(O)CC3)cc2c1\n",
      "Unable to canonicalize  Cn1cc(nn1)-c1ccc2cnc(NC(=O)C3=CC(N4CC[N](C)(O)CC4)=[N](O)C=C3)cc2c1\n",
      "Unable to canonicalize  Cn1cc(nn1)-c1ccc2cnc(NC(=O)c3ccnc(c3)N3CC[N](C)(O)CC3)cc2c1\n"
     ]
    },
    {
     "name": "stderr",
     "output_type": "stream",
     "text": [
      "[22:11:46] Explicit valence for atom # 39 F, 3, is greater than permitted\n",
      "[22:11:46] Explicit valence for atom # 34 N, 4, is greater than permitted\n",
      "[22:11:46] Explicit valence for atom # 31 N, 4, is greater than permitted\n",
      "[22:11:46] Explicit valence for atom # 23 N, 4, is greater than permitted\n"
     ]
    },
    {
     "name": "stdout",
     "output_type": "stream",
     "text": [
      "Unable to canonicalize  CN1CCN(Cc2cc(Cl)c(O[C@H]3CCc4c3cccc4-c3ccccc3F)cc2OCc2cncc(c2)C#[F])CC1\n",
      "Unable to canonicalize  Nc1nccc2[C@@H](CCc12)NC(=O)C1=CN(Cc2ccc(CN3CC4CCCN4C3=O)cc2)N=[N]1C(F)(F)F\n",
      "Unable to canonicalize  COCCN1C[C@@H](NC(=O)Nc2c(C)c(nn2-c2ccccc2)-c2cnc3c(CN(C)N3=O)c2)[C@@H](O1)c1cnc(F)c(F)c1\n",
      "Unable to canonicalize  CCN1C[C@@H](NC(=O)Nc2c(C)c(nn2-c2ccccc2)C2=C[N](C)=[C](=O)C=C2)[C@@H](O1)c1ccc(F)c(F)c1\n"
     ]
    },
    {
     "name": "stderr",
     "output_type": "stream",
     "text": [
      "[22:11:46] Explicit valence for atom # 12 H, 2, is greater than permitted\n",
      "[22:11:46] Explicit valence for atom # 1 Cl, 4, is greater than permitted\n",
      "[22:11:46] Explicit valence for atom # 1 Cl, 4, is greater than permitted\n"
     ]
    },
    {
     "name": "stdout",
     "output_type": "stream",
     "text": [
      "Unable to canonicalize  OC(CCNC(=O)c1ccc(O[H]C(F)F)cc1)CN1CCc2ccccc2C1\n",
      "Unable to canonicalize  N=[Cl]1CCC(CC1)Oc1ccc(Nc2nc(nc3cn[nH]c(=O)c23)N2CCCCCC2)cc1\n",
      "Unable to canonicalize  N=[Cl]1CCC(CC1)Oc1ccc(Nc2nc(nc3cn[nH]c(=O)c23)N2CCCCCC2)cc1\n"
     ]
    },
    {
     "name": "stderr",
     "output_type": "stream",
     "text": [
      "[22:11:46] Can't kekulize mol.  Unkekulized atoms: 18 19 20 21 29 30 31\n",
      "[22:11:46] Can't kekulize mol.  Unkekulized atoms: 18 19 20 21 23 24 25\n",
      "[22:11:46] Can't kekulize mol.  Unkekulized atoms: 18 19 20 21 22 24 25\n",
      "[22:11:46] Can't kekulize mol.  Unkekulized atoms: 18 19 20 21 28 30 31\n",
      "[22:11:46] Can't kekulize mol.  Unkekulized atoms: 18 19 20 21 22 30 31\n",
      "[22:11:46] Can't kekulize mol.  Unkekulized atoms: 18 19 20 21 22 29 30\n",
      "[22:11:46] Can't kekulize mol.  Unkekulized atoms: 18 19 20 21 22 29 30\n",
      "[22:11:46] Can't kekulize mol.  Unkekulized atoms: 18 19 20 21 22 31 32\n",
      "[22:11:46] Can't kekulize mol.  Unkekulized atoms: 20 21 22 23 24 25 26\n",
      "[22:11:46] Can't kekulize mol.  Unkekulized atoms: 18 19 20 21 22 24 25\n",
      "[22:11:46] Can't kekulize mol.  Unkekulized atoms: 18 19 20 21 22 30 31\n",
      "[22:11:46] Can't kekulize mol.  Unkekulized atoms: 18 19 20 21 22 29 30\n",
      "[22:11:46] Can't kekulize mol.  Unkekulized atoms: 18 19 20 21 22 29 30\n"
     ]
    },
    {
     "name": "stdout",
     "output_type": "stream",
     "text": [
      "Unable to canonicalize  CCOc1cc(ccc1OC)[C@@H](CS(C)(=O)=O)n1c2ncc(Oc3ncccn3)cc2nc1=O\n",
      "Unable to canonicalize  CCOc1cc(ccc1OC)[C@@H](CS(C)(=O)=O)n1c2ncc(Br)cc2nc1=O\n",
      "Unable to canonicalize  CCOc1cc(ccc1OC)[C@@H](CS(C)(=O)=O)n1c2ncc(c(C)c2nc1=O)-c1ccccc1F\n",
      "Unable to canonicalize  CCOc1cc(ccc1OC)[C@@H](CS(C)(=O)=O)n1c2ncc(-c3ccccc3)c(C)c2nc1=O\n",
      "Unable to canonicalize  CCOc1cc(ccc1OC)[C@@H](CS(C)(=O)=O)n1c2nccc(-c3ccccc3F)c2nc1=O\n",
      "Unable to canonicalize  CCOc1cc(ccc1OC)[C@@H](CS(C)(=O)=O)n1c2nccc(-c3ccccc3)c2nc1=O\n",
      "Unable to canonicalize  CCOc1cc(ccc1OC)[C@@H](CS(C)(=O)=O)n1c2nccc(-c3cnn(C)c3)c2nc1=O\n",
      "Unable to canonicalize  CCOc1cc(ccc1OC)[C@@H](CS(C)(=O)=O)n1c2nccc(Cc3ccccc3C)c2nc1=O\n",
      "Unable to canonicalize  CCOc1cc(ccc1OC(F)F)C(CS(C)(=O)=O)n1c2ncc(cc2nc1=O)-c1ccccc1F\n",
      "Unable to canonicalize  CCOc1cc(ccc1OC)[C@@H](CS(C)(=O)=O)n1c2ncc(c(C)c2nc1=O)-c1ccccc1F\n",
      "Unable to canonicalize  CCOc1cc(ccc1OC)[C@@H](CS(C)(=O)=O)n1c2nccc(-c3ccccc3F)c2nc1=O\n",
      "Unable to canonicalize  CCOc1cc(ccc1OC)[C@@H](CS(C)(=O)=O)n1c2nccc(-c3ccccc3)c2nc1=O\n",
      "Unable to canonicalize  CCOc1cc(ccc1OC)[C@@H](CS(C)(=O)=O)n1c2nccc(-c3cnn(C)c3)c2nc1=O\n"
     ]
    },
    {
     "name": "stderr",
     "output_type": "stream",
     "text": [
      "[22:11:47] Explicit valence for atom # 19 N, 4, is greater than permitted\n",
      "[22:11:47] Explicit valence for atom # 19 N, 4, is greater than permitted\n",
      "[22:11:47] Explicit valence for atom # 19 N, 4, is greater than permitted\n",
      "[22:11:47] Explicit valence for atom # 19 N, 4, is greater than permitted\n",
      "[22:11:47] Explicit valence for atom # 19 N, 4, is greater than permitted\n",
      "[22:11:47] Explicit valence for atom # 19 N, 4, is greater than permitted\n"
     ]
    },
    {
     "name": "stdout",
     "output_type": "stream",
     "text": [
      "Unable to canonicalize  CC(C)c1c([nH]c2ccc(cc12)C1CCN(CC2=C[N](C)=NN2)CC1)-c1cc(C)ncc1C\n",
      "Unable to canonicalize  CC(C)c1c([nH]c2ccc(cc12)C1CCN(CC2=C[N](C)=NN2)CC1)-c1cc(C)ncc1C\n",
      "Unable to canonicalize  CC(C)c1c([nH]c2ccc(cc12)C1CCN(CC2=C[N](C)=NN2)CC1)-c1cc(C)ncc1C\n",
      "Unable to canonicalize  CC(C)c1c([nH]c2ccc(cc12)C1CCN(CC2=C[N](C)=NN2)CC1)-c1cc(C)ncc1F\n",
      "Unable to canonicalize  CC(C)c1c([nH]c2ccc(cc12)C1CCN(CC2=C[N](C)=NN2)CC1)-c1cc(C)ncc1F\n",
      "Unable to canonicalize  CC(C)c1c([nH]c2ccc(cc12)C1CCN(CC2=C[N](C)=NN2)CC1)-c1cc(C)ncc1F\n"
     ]
    },
    {
     "name": "stderr",
     "output_type": "stream",
     "text": [
      "[22:11:47] Explicit valence for atom # 4 N, 4, is greater than permitted\n",
      "[22:11:47] Explicit valence for atom # 4 N, 4, is greater than permitted\n",
      "[22:11:47] Explicit valence for atom # 4 N, 4, is greater than permitted\n"
     ]
    },
    {
     "name": "stdout",
     "output_type": "stream",
     "text": [
      "Unable to canonicalize  CC1=C(C=[N]([O-])C=C1)c1ccc2nc(NC(=O)[C@@H]3C[C@@H]3F)sc2c1\n",
      "Unable to canonicalize  CCN(CN(=O)CC(=O)N[C@@H](Cc1ccc(C)cc1C)B(O)O)S(=O)(=O)C=C\n",
      "Unable to canonicalize  CCN(CN(=O)CC(=O)N[C@@H](Cc1ccc(C)cc1C)B(O)O)S(=O)(=O)C=C\n"
     ]
    },
    {
     "name": "stderr",
     "output_type": "stream",
     "text": [
      "[22:11:48] Explicit valence for atom # 31 N, 4, is greater than permitted\n",
      "[22:11:48] Explicit valence for atom # 31 N, 4, is greater than permitted\n",
      "[22:11:48] Explicit valence for atom # 31 N, 4, is greater than permitted\n",
      "[22:11:48] Explicit valence for atom # 31 N, 4, is greater than permitted\n"
     ]
    },
    {
     "name": "stdout",
     "output_type": "stream",
     "text": [
      "Unable to canonicalize  COc1cc(Nc2ccc3ncc(nc3c2C#N)N2CCOCC2)ccc1OCC1=C[N](O)=C(C)C=C1\n",
      "Unable to canonicalize  COc1cc(Nc2ccc3ncc(nc3c2C#N)N2CCOCC2)ccc1OCC1=C[N](O)=C(C)C=C1\n",
      "Unable to canonicalize  COc1cc(Nc2ccc3ncc(nc3c2C#N)N2CCOCC2)ccc1OCC1=C[N](O)=C(C)C=C1\n",
      "Unable to canonicalize  COc1cc(Nc2ccc3ncc(nc3c2C#N)N2CCOCC2)ccc1OCC1=C[N](O)=C(C)C=C1\n"
     ]
    },
    {
     "name": "stderr",
     "output_type": "stream",
     "text": [
      "[22:11:48] Can't kekulize mol.  Unkekulized atoms: 11 12 13 14 15 18 19 20 21\n",
      "[22:11:48] Can't kekulize mol.  Unkekulized atoms: 12 13 14 15 16 19 20 21 22\n",
      "[22:11:48] Can't kekulize mol.  Unkekulized atoms: 4 5 6 7 8 9 29 30 31\n",
      "[22:11:48] Can't kekulize mol.  Unkekulized atoms: 4 5 6 7 8 28 29 30 31\n",
      "[22:11:48] Can't kekulize mol.  Unkekulized atoms: 1 2 3 4 5 6 7 30 31\n",
      "[22:11:48] Can't kekulize mol.  Unkekulized atoms: 11 12 13 14 15 18 19 20 21\n",
      "[22:11:48] Can't kekulize mol.  Unkekulized atoms: 12 13 14 15 16 19 20 21 22\n",
      "[22:11:48] Can't kekulize mol.  Unkekulized atoms: 4 5 6 7 8 9 29 30 31\n",
      "[22:11:48] Can't kekulize mol.  Unkekulized atoms: 4 5 6 7 8 28 29 30 31\n",
      "[22:11:48] Can't kekulize mol.  Unkekulized atoms: 1 2 3 4 5 6 7 30 31\n"
     ]
    },
    {
     "name": "stdout",
     "output_type": "stream",
     "text": [
      "Unable to canonicalize  CC1CN(CCN1CCCOc1ccc2nc(=O)ccc2c1)c1cccc2sccc12\n",
      "Unable to canonicalize  CC1CN(CCN1CCCCOc1ccc2nc(=O)ccc2c1)c1cccc2sccc12\n",
      "Unable to canonicalize  CC(=O)n1cccc2cc(OCCCN3CCN(CC3)c3cccc4sccc34)ccc12\n",
      "Unable to canonicalize  CC(=C)n1ccc2cc(OCCCN3CCN(CC3)c3cccc4sccc34)ccc2c1\n",
      "Unable to canonicalize  Cc1cccc2cc(OCCCCN3CCN(CC3)c3cccc4sccc34)c(=O)nc12\n",
      "Unable to canonicalize  CC1CN(CCN1CCCOc1ccc2nc(=O)ccc2c1)c1cccc2sccc12\n",
      "Unable to canonicalize  CC1CN(CCN1CCCCOc1ccc2nc(=O)ccc2c1)c1cccc2sccc12\n",
      "Unable to canonicalize  CC(=O)n1cccc2cc(OCCCN3CCN(CC3)c3cccc4sccc34)ccc12\n",
      "Unable to canonicalize  CC(=C)n1ccc2cc(OCCCN3CCN(CC3)c3cccc4sccc34)ccc2c1\n",
      "Unable to canonicalize  Cc1cccc2cc(OCCCCN3CCN(CC3)c3cccc4sccc34)c(=O)nc12\n"
     ]
    },
    {
     "name": "stderr",
     "output_type": "stream",
     "text": [
      "[22:11:48] Explicit valence for atom # 0 N, 4, is greater than permitted\n"
     ]
    },
    {
     "name": "stdout",
     "output_type": "stream",
     "text": [
      "Unable to canonicalize  [H][N]1(CC)CCC[C@H](C1)NC(=O)NCCc1ccc(OC(C)C)cc1\n"
     ]
    },
    {
     "name": "stderr",
     "output_type": "stream",
     "text": [
      "[22:11:48] Can't kekulize mol.  Unkekulized atoms: 2 3 5 36 38\n",
      "[22:11:48] Can't kekulize mol.  Unkekulized atoms: 2 3 5 36 38\n",
      "[22:11:48] Can't kekulize mol.  Unkekulized atoms: 2 3 5 36 38\n",
      "[22:11:48] Can't kekulize mol.  Unkekulized atoms: 2 3 5 36 38\n",
      "[22:11:48] Can't kekulize mol.  Unkekulized atoms: 2 3 5 36 38\n"
     ]
    },
    {
     "name": "stdout",
     "output_type": "stream",
     "text": [
      "Unable to canonicalize  COc1c[nH]c(C(=O)N[C@@H](C)c2cc3cccc(C#Cc4cnn(C)c4)c3c(=O)n2-c2ccccc2)c(N)n1\n",
      "Unable to canonicalize  COc1c[nH]c(C(=O)N[C@@H](C)c2cc3cccc(C#Cc4cnn(C)c4)c3c(=O)n2-c2ccccc2)c(N)n1\n",
      "Unable to canonicalize  COc1c[nH]c(C(=O)N[C@@H](C)c2cc3cccc(C#Cc4cnn(C)c4)c3c(=O)n2-c2ccccc2)c(N)n1\n",
      "Unable to canonicalize  COc1c[nH]c(C(=O)N[C@@H](C)c2cc3cccc(C#Cc4cnn(C)c4)c3c(=O)n2-c2ccccc2)c(N)n1\n",
      "Unable to canonicalize  COc1c[nH]c(C(=O)N[C@@H](C)c2cc3cccc(C#Cc4cnn(C)c4)c3c(=O)n2-c2ccccc2)c(N)n1\n"
     ]
    },
    {
     "name": "stderr",
     "output_type": "stream",
     "text": [
      "[22:11:49] Explicit valence for atom # 1 N, 4, is greater than permitted\n",
      "[22:11:49] Explicit valence for atom # 1 N, 4, is greater than permitted\n",
      "[22:11:49] Explicit valence for atom # 1 N, 4, is greater than permitted\n",
      "[22:11:49] Explicit valence for atom # 1 N, 4, is greater than permitted\n"
     ]
    },
    {
     "name": "stdout",
     "output_type": "stream",
     "text": [
      "Unable to canonicalize  C[N]1=CNc2c1cccc2-c1cnc(N)c(c1)-c1ccc2C(=O)NCCc2c1\n",
      "Unable to canonicalize  C[N]1=CNc2c1cccc2-c1cnc(N)c(c1)-c1ccc2C(=O)NCCc2c1\n",
      "Unable to canonicalize  C[N]1=CNc2c1cccc2-c1cnc(N)c(c1)-c1ccc2C(=O)NCCc2c1\n",
      "Unable to canonicalize  C[N]1=CNc2c1cccc2-c1cnc(N)c(c1)-c1ccc2C(=O)NCCc2c1\n",
      "Unable to canonicalize  nan\n"
     ]
    },
    {
     "name": "stderr",
     "output_type": "stream",
     "text": [
      "[22:11:50] Can't kekulize mol.  Unkekulized atoms: 17 18 19 20 21 22 23 24 25\n",
      "[22:11:50] Can't kekulize mol.  Unkekulized atoms: 4 5 27 28 29 30 31 32 33\n",
      "[22:11:50] Can't kekulize mol.  Unkekulized atoms: 18 19 21 22 23 25 26\n",
      "[22:11:50] Can't kekulize mol.  Unkekulized atoms: 18 19 20 21 22 23 24 25 26\n"
     ]
    },
    {
     "name": "stdout",
     "output_type": "stream",
     "text": [
      "Unable to canonicalize  Clc1ccn2cnc(CNC(=O)c3cnn(Cc4nc5ccc(cc5n4)C4CC4)c3)c2c1\n",
      "Unable to canonicalize  COC(=O)c1c(Cn2cc(nn2)C(=O)NCc2ncn3ccc(Cl)c(F)c23)nc2cc(ccc12)C1CC1\n",
      "Unable to canonicalize  Fc1c(Cl)ccn2cnc(CNC(=O)c3cn(Cc4cn5ccc(Cl)cc5o4)nn3)c12\n",
      "Unable to canonicalize  Fc1c(Cl)ccn2cnc(CNC(=O)c3cn(Cc4nc5ccc(cc5c4C(F)(F)F)C4CC4)nn3)c12\n"
     ]
    },
    {
     "name": "stderr",
     "output_type": "stream",
     "text": [
      "[22:11:51] Explicit valence for atom # 30 N, 4, is greater than permitted\n",
      "[22:11:51] Explicit valence for atom # 30 N, 4, is greater than permitted\n",
      "[22:11:51] Explicit valence for atom # 30 N, 4, is greater than permitted\n",
      "[22:11:51] Explicit valence for atom # 30 N, 4, is greater than permitted\n",
      "[22:11:51] Can't kekulize mol.  Unkekulized atoms: 19 20 30\n",
      "[22:11:51] Can't kekulize mol.  Unkekulized atoms: 19 20 30\n",
      "[22:11:51] Can't kekulize mol.  Unkekulized atoms: 19 20 30\n",
      "[22:11:51] Can't kekulize mol.  Unkekulized atoms: 19 20 30\n",
      "[22:11:51] Explicit valence for atom # 28 N, 4, is greater than permitted\n",
      "[22:11:51] Explicit valence for atom # 17 N, 4, is greater than permitted\n"
     ]
    },
    {
     "name": "stdout",
     "output_type": "stream",
     "text": [
      "Unable to canonicalize  CCC1(CN(C1)S(=O)(=O)C(F)(F)F)n1cc(cn1)-c1nc(cn2nccc12)C1C=N[N](C)=C1\n",
      "Unable to canonicalize  CCC1(CN(C1)S(=O)(=O)C(F)(F)F)n1cc(cn1)-c1nc(cn2nccc12)C1C=N[N](C)=C1\n",
      "Unable to canonicalize  CCC1(CN(C1)S(=O)(=O)C(F)(F)F)n1cc(cn1)-c1nc(cn2nccc12)C1C=N[N](C)=C1\n",
      "Unable to canonicalize  CCC1(CN(C1)S(=O)(=O)C(F)(F)F)n1cc(cn1)-c1nc(cn2nccc12)C1C=N[N](C)=C1\n",
      "Unable to canonicalize  CCC(CC)n1cc(cn1)-c1nc(cn2nccc12)-c1c[nH]n(CC(=O)NC(C)C)c1\n",
      "Unable to canonicalize  CCC(CC)n1cc(cn1)-c1nc(cn2nccc12)-c1c[nH]n(CC(=O)NC(C)C)c1\n",
      "Unable to canonicalize  CCC(CC)n1cc(cn1)-c1nc(cn2nccc12)-c1c[nH]n(CC(=O)NC(C)C)c1\n",
      "Unable to canonicalize  CCC(CC)n1cc(cn1)-c1nc(cn2nccc12)-c1c[nH]n(CC(=O)NC(C)C)c1\n",
      "Unable to canonicalize  CN1C(=CC(C(=O)N2CCC3(CC3CNC(=O)c3cc4ccncc4o3)CC2)=[N]1C)C(F)(F)F\n",
      "Unable to canonicalize  CC(C)(C)OC(=O)N1CCC2(CC2CNC(=O)[N]2=Cc3ccnn3N=C2)CC1\n"
     ]
    },
    {
     "name": "stderr",
     "output_type": "stream",
     "text": [
      "[22:11:51] Can't kekulize mol.  Unkekulized atoms: 18 19 21\n",
      "[22:11:51] Can't kekulize mol.  Unkekulized atoms: 18 20 22\n"
     ]
    },
    {
     "name": "stdout",
     "output_type": "stream",
     "text": [
      "Unable to canonicalize  Oc1[nH]c(=O)[nH]c(=O)c1C(=O)Nc1ccc(cc1)-c1n[nH]c[nH]1\n",
      "Unable to canonicalize  Oc1[nH]c(=O)[nH]c(=O)c1C(=O)Nc1ccc(cc1)-c1[nH]n[nH]c1C(F)(F)F\n"
     ]
    },
    {
     "name": "stderr",
     "output_type": "stream",
     "text": [
      "[22:11:52] Explicit valence for atom # 34 N, 4, is greater than permitted\n",
      "[22:11:52] Explicit valence for atom # 34 N, 4, is greater than permitted\n"
     ]
    },
    {
     "name": "stdout",
     "output_type": "stream",
     "text": [
      "Unable to canonicalize  CC(C)(C)C[C@@]1(NC(=N)N([C@H](COC(=O)NC2(CC2)C(F)(F)F)c2ccc(F)c(c2)N2C=NC=[N]2C(F)F)C1=O)c1ccc(cc1)-c1cnn(c1)C(F)F\n",
      "Unable to canonicalize  CC(C)(C)C[C@@]1(NC(=N)N([C@H](COC(=O)NC2(CC2)C(F)(F)F)c2ccc(F)c(c2)N2C=NC=[N]2C(F)F)C1=O)c1ccc(cc1)-c1cnn(c1)C(F)F\n"
     ]
    },
    {
     "name": "stderr",
     "output_type": "stream",
     "text": [
      "[22:11:53] Can't kekulize mol.  Unkekulized atoms: 3 4 5 6 7 9 10\n",
      "[22:11:53] Can't kekulize mol.  Unkekulized atoms: 3 4 5 6 7 9 10\n",
      "[22:11:53] Explicit valence for atom # 3 N, 4, is greater than permitted\n",
      "[22:11:53] Explicit valence for atom # 3 N, 4, is greater than permitted\n"
     ]
    },
    {
     "name": "stdout",
     "output_type": "stream",
     "text": [
      "Unable to canonicalize  CC1(C)ccc2nc(F)c(cn12)-c1nc(N[C@H]2CCN(C[C@@H]2O)S(C)(=O)=O)ncc1Cl\n",
      "Unable to canonicalize  CC1(C)ccc2nc(F)c(cn12)-c1nc(N[C@H]2CCN(C[C@@H]2O)S(C)(=O)=O)ncc1Cl\n",
      "Unable to canonicalize  CC(C)[N]1=C2C=C(C=C(F)C2N=C1C)c1nc(N[C@@H]2CCN(C[C@H]2O)S(C)(=O)=O)ncc1Cl\n",
      "Unable to canonicalize  CC(C)[N]1=C2C=C(C=C(F)C2N=C1C)c1nc(N[C@@H]2CCN(C[C@H]2O)S(C)(=O)=O)ncc1Cl\n",
      "Unable to canonicalize  nan\n",
      "Unable to canonicalize  nan\n",
      "Unable to canonicalize  nan\n"
     ]
    },
    {
     "name": "stderr",
     "output_type": "stream",
     "text": [
      "[22:11:54] Can't kekulize mol.  Unkekulized atoms: 40 41 42 43 44\n",
      "[22:11:54] Can't kekulize mol.  Unkekulized atoms: 30 31 32 33 34\n"
     ]
    },
    {
     "name": "stdout",
     "output_type": "stream",
     "text": [
      "Unable to canonicalize  COc1cc(C)[nH]c(=O)c1CNC(=O)c1cc(cc2n(cc(O)c12)S(=O)(=O)C1(CC=C)CC1)-c1ccc(nc1)-n1ccncc1\n",
      "Unable to canonicalize  Cc1cn(c2cc(cc(C(=O)NCc3c(C)cc(C)[nH]c3=O)c12)-c1cnc(nc1)-n1ccncc1)S(=O)(=O)C1(CC=C)CC1\n"
     ]
    },
    {
     "name": "stderr",
     "output_type": "stream",
     "text": [
      "[22:11:54] Explicit valence for atom # 1 F, 2, is greater than permitted\n",
      "[22:11:54] Explicit valence for atom # 1 F, 2, is greater than permitted\n",
      "[22:11:54] Explicit valence for atom # 20 H, 2, is greater than permitted\n",
      "[22:11:54] Explicit valence for atom # 20 H, 2, is greater than permitted\n",
      "[22:11:54] Explicit valence for atom # 29 N, 4, is greater than permitted\n"
     ]
    },
    {
     "name": "stdout",
     "output_type": "stream",
     "text": [
      "Unable to canonicalize  C[F]c1nc2ccccc2n1-c1nc(cc(n1)N1CCOC[C@H]1C)N=S(C)(C)=O\n",
      "Unable to canonicalize  C[F]c1nc2ccccc2n1-c1nc(cc(n1)N1CCOC[C@H]1C)N=S(C)(C)=O\n",
      "Unable to canonicalize  C[C@@H]1COCCN1c1cc(N=S(C)(C)=O)nc(n1)-n1c([H]C(F)F)nc2ccccc12\n",
      "Unable to canonicalize  C[C@@H]1COCCN1c1cc(N=S(C)(C)=O)nc(n1)-n1c([H]C(F)F)nc2ccccc12\n",
      "Unable to canonicalize  Cc1cc(Oc2ccccc2)ccc1-n1c2ccnc3sc(C(=O)NC4CC(C4)N(=O)CCS(C)(=O)=O)c([nH]c1=O)c23\n"
     ]
    },
    {
     "name": "stderr",
     "output_type": "stream",
     "text": [
      "[22:11:55] Explicit valence for atom # 26 N, 4, is greater than permitted\n",
      "[22:11:55] Explicit valence for atom # 26 N, 4, is greater than permitted\n",
      "[22:11:55] Explicit valence for atom # 26 N, 4, is greater than permitted\n",
      "[22:11:55] Explicit valence for atom # 14 N, 4, is greater than permitted\n",
      "[22:11:55] Explicit valence for atom # 14 N, 4, is greater than permitted\n"
     ]
    },
    {
     "name": "stdout",
     "output_type": "stream",
     "text": [
      "Unable to canonicalize  C[C@](O)(c1ccc(F)cc1)c1cnc(nc1)N1CCN(CC1)C1=NC=N[N]2=CC(C=C12)c1ccc(cc1)C1CC1\n",
      "Unable to canonicalize  C[C@](O)(c1ccc(F)cc1)c1cnc(nc1)N1CCN(CC1)C1=NC=N[N]2=CC(C=C12)c1cnn(c1)C1COC1\n",
      "Unable to canonicalize  C[C@](O)(c1ccc(F)cc1)c1cnc(nc1)N1CCN(CC1)C1=NC=N[N]2=CC(C=C12)c1cnn(c1)C1COC1\n",
      "Unable to canonicalize  CN(C)[C@]1(CC[C@]2(CN(CC(=O)NC[N]3=COC=C3)C(=O)N2CC2CCC2)CC1)c1ccccc1\n",
      "Unable to canonicalize  CN(C)[C@]1(CC[C@]2(CN(CC(=O)NC[N]3=COC=C3)C(=O)N2CC2CCC2)CC1)c1ccccc1\n"
     ]
    },
    {
     "name": "stderr",
     "output_type": "stream",
     "text": [
      "[22:11:55] Can't kekulize mol.  Unkekulized atoms: 10 11 12 13 14 15 16 17 18\n",
      "[22:11:55] Can't kekulize mol.  Unkekulized atoms: 19 20 21 22 30\n",
      "[22:11:55] Can't kekulize mol.  Unkekulized atoms: 23 24 25 26 34\n",
      "[22:11:55] Can't kekulize mol.  Unkekulized atoms: 24 25 26 27 35\n",
      "[22:11:55] Can't kekulize mol.  Unkekulized atoms: 29 30 31 32 40\n",
      "[22:11:55] Can't kekulize mol.  Unkekulized atoms: 22 23 24 25 33\n",
      "[22:11:55] Can't kekulize mol.  Unkekulized atoms: 18 19 20 21 29\n",
      "[22:11:55] Can't kekulize mol.  Unkekulized atoms: 19 20 21 22 30\n",
      "[22:11:55] Can't kekulize mol.  Unkekulized atoms: 26 27 28 29 37\n",
      "[22:11:55] Can't kekulize mol.  Unkekulized atoms: 25 26 27 28 36\n",
      "[22:11:55] Can't kekulize mol.  Unkekulized atoms: 27 28 29 30 38\n",
      "[22:11:55] Can't kekulize mol.  Unkekulized atoms: 27 28 29 30 40\n",
      "[22:11:55] Can't kekulize mol.  Unkekulized atoms: 23 24 25 26 34\n",
      "[22:11:55] Can't kekulize mol.  Unkekulized atoms: 22 23 24 25 33\n",
      "[22:11:55] Can't kekulize mol.  Unkekulized atoms: 24 25 26 27 35\n",
      "[22:11:55] Can't kekulize mol.  Unkekulized atoms: 14 15 16 17 25\n",
      "[22:11:55] Can't kekulize mol.  Unkekulized atoms: 19 20 21 22 30\n",
      "[22:11:55] Can't kekulize mol.  Unkekulized atoms: 14 15 16 17 25\n",
      "[22:11:55] Can't kekulize mol.  Unkekulized atoms: 14 15 16 17 25\n",
      "[22:11:55] Can't kekulize mol.  Unkekulized atoms: 14 15 16 17 25\n",
      "[22:11:55] Can't kekulize mol.  Unkekulized atoms: 28 29 30 31 39\n",
      "[22:11:55] Can't kekulize mol.  Unkekulized atoms: 14 15 16 17 25\n",
      "[22:11:55] Can't kekulize mol.  Unkekulized atoms: 14 15 16 17 25\n",
      "[22:11:55] Can't kekulize mol.  Unkekulized atoms: 14 15 16 17 27\n",
      "[22:11:55] Can't kekulize mol.  Unkekulized atoms: 14 15 16 17 25\n",
      "[22:11:55] Can't kekulize mol.  Unkekulized atoms: 14 15 16 17 25\n",
      "[22:11:55] Can't kekulize mol.  Unkekulized atoms: 28 29 30 31 39\n",
      "[22:11:55] Can't kekulize mol.  Unkekulized atoms: 28 29 30 31 39\n",
      "[22:11:55] Can't kekulize mol.  Unkekulized atoms: 14 15 16 17 25\n",
      "[22:11:55] Can't kekulize mol.  Unkekulized atoms: 14 15 16 17 25\n",
      "[22:11:55] Can't kekulize mol.  Unkekulized atoms: 14 15 16 17 25\n",
      "[22:11:55] Can't kekulize mol.  Unkekulized atoms: 14 15 16 17 25\n",
      "[22:11:55] Can't kekulize mol.  Unkekulized atoms: 14 15 16 17 25\n",
      "[22:11:55] Can't kekulize mol.  Unkekulized atoms: 14 15 16 17 25\n",
      "[22:11:55] Can't kekulize mol.  Unkekulized atoms: 14 15 16 17 25\n",
      "[22:11:55] Can't kekulize mol.  Unkekulized atoms: 14 15 16 17 25\n",
      "[22:11:55] Can't kekulize mol.  Unkekulized atoms: 14 15 16 17 25\n",
      "[22:11:55] Can't kekulize mol.  Unkekulized atoms: 14 15 16 17 25\n",
      "[22:11:55] Can't kekulize mol.  Unkekulized atoms: 14 15 16 17 25\n",
      "[22:11:55] Can't kekulize mol.  Unkekulized atoms: 15 16 17 18 26\n",
      "[22:11:55] Can't kekulize mol.  Unkekulized atoms: 17 18 19 20 28\n",
      "[22:11:55] Can't kekulize mol.  Unkekulized atoms: 14 15 16 17 25\n",
      "[22:11:55] Can't kekulize mol.  Unkekulized atoms: 14 15 16 17 25\n",
      "[22:11:55] Can't kekulize mol.  Unkekulized atoms: 14 15 16 17 25\n",
      "[22:11:55] Can't kekulize mol.  Unkekulized atoms: 14 15 16 17 27\n",
      "[22:11:55] Can't kekulize mol.  Unkekulized atoms: 28 29 30 31 41\n",
      "[22:11:55] Can't kekulize mol.  Unkekulized atoms: 14 15 16 17 26\n",
      "[22:11:55] Can't kekulize mol.  Unkekulized atoms: 14 15 16 17 26\n",
      "[22:11:55] Can't kekulize mol.  Unkekulized atoms: 14 15 16 17 26\n",
      "[22:11:55] Can't kekulize mol.  Unkekulized atoms: 14 15 16 17 26\n",
      "[22:11:55] Can't kekulize mol.  Unkekulized atoms: 14 15 16 17 31\n",
      "[22:11:55] Can't kekulize mol.  Unkekulized atoms: 14 15 16 17 25\n",
      "[22:11:55] Can't kekulize mol.  Unkekulized atoms: 14 15 16 17 25\n",
      "[22:11:55] Can't kekulize mol.  Unkekulized atoms: 14 15 16 17 25\n",
      "[22:11:55] Can't kekulize mol.  Unkekulized atoms: 14 15 16 17 25\n"
     ]
    },
    {
     "name": "stdout",
     "output_type": "stream",
     "text": [
      "Unable to canonicalize  CN1c2cc(CCC(=O)Nc3ccc4cnnc4c3)ccc2OC[C@H](NC(=O)c2n[nH]c(Cc3ccccc3)n2)C1=O\n",
      "Unable to canonicalize  CN1c2cc(CCC(O)=O)ccc2OC[C@H](NC(=O)c2nnc(Cc3ccccc3)n2)C1=O\n",
      "Unable to canonicalize  CN1c2cc(CCC(=O)N3CCCC3)ccc2OC[C@H](NC(=O)c2nnc(Cc3ccccc3)n2)C1=O\n",
      "Unable to canonicalize  CN1c2cc(CCC(=O)N3CCOCC3)ccc2OC[C@H](NC(=O)c2nnc(Cc3ccccc3)n2)C1=O\n",
      "Unable to canonicalize  CN1c2cc(CCC(=O)Nc3ccc4cccnc4c3)ccc2OC[C@H](NC(=O)c2nnc(Cc3ccccc3)n2)C1=O\n",
      "Unable to canonicalize  CN1c2cc(CCC(=O)NC3CC3)ccc2OC[C@H](NC(=O)c2nnc(Cc3ccccc3)n2)C1=O\n",
      "Unable to canonicalize  CN1c2cc(CCCO)ccc2OC[C@H](NC(=O)c2nnc(Cc3ccccc3)n2)C1=O\n",
      "Unable to canonicalize  CN1c2cc(CCCCO)ccc2OC[C@H](NC(=O)c2nnc(Cc3ccccc3)n2)C1=O\n",
      "Unable to canonicalize  CN1c2cc(CCCCOCc3ccccn3)ccc2OC[C@H](NC(=O)c2nnc(Cc3ccccc3)n2)C1=O\n",
      "Unable to canonicalize  CN1c2cc(CCCCNc3ccccn3)ccc2OC[C@H](NC(=O)c2nnc(Cc3ccccc3)n2)C1=O\n",
      "Unable to canonicalize  CN1c2cc(CN3CCN(CC3)c3ccncc3)ccc2OC[C@H](NC(=O)c2nnc(Cc3ccccc3)n2)C1=O\n",
      "Unable to canonicalize  CN1c2cc(CN3CCN(CC3)c3ccncc3)ccc2OC[C@H](NC(=O)c2nnc(Cc3c(Cl)cccc3Cl)n2)C1=O\n",
      "Unable to canonicalize  CN1c2cc(\\C=C\\C(=O)N3CCCC3)ccc2OC[C@H](NC(=O)c2nnc(Cc3ccccc3)n2)C1=O\n",
      "Unable to canonicalize  CN1c2cc(\\C=C\\C(=O)NC3CC3)ccc2OC[C@H](NC(=O)c2nnc(Cc3ccccc3)n2)C1=O\n",
      "Unable to canonicalize  CN1c2cc(CN3CCn4ncnc4C3)ccc2OC[C@H](NC(=O)c2nnc(Cc3ccccc3)n2)C1=O\n",
      "Unable to canonicalize  CN1c2cc(ccc2OC[C@H](NC(=O)c2nnc(Cc3ccccc3)n2)C1=O)C#CC(C)(C)O\n",
      "Unable to canonicalize  CN1c2cc(CCC(N)=O)ccc2OC[C@H](NC(=O)c2nnc(Cc3ccccc3)n2)C1=O\n",
      "Unable to canonicalize  CN1c2cc(ccc2OC[C@H](NC(=O)c2nnc(Cc3ccccc3)n2)C1=O)C#CCCCO\n",
      "Unable to canonicalize  CN1c2cc(ccc2OC[C@H](NC(=O)c2nnc(Cc3ccccc3)n2)C1=O)C#CC(C)(C)O\n",
      "Unable to canonicalize  CN1c2cc(ccc2OC[C@H](NC(=O)c2nnc(Cc3ccccc3)n2)C1=O)C#CCCOc1ccc2ncccc2c1\n",
      "Unable to canonicalize  CN1c2cc(CN3CCN4N=C(NC4C3)C(F)(F)F)ccc2OC[C@H](NC(=O)c2nnc(Cc3ccccc3)n2)C1=O\n",
      "Unable to canonicalize  CN1c2cc(ccc2OC[C@H](NC(=O)c2nnc(Cc3ccccc3)n2)C1=O)C#CCCOc1ccc2cccnc2c1\n",
      "Unable to canonicalize  CN1c2cc(ccc2OC[C@@H](NC(=O)c2nnc(Cc3ccccc3)n2)C1=O)C#CCCOc1ccc2cccnc2c1\n",
      "Unable to canonicalize  CN1c2cc(ccc2OC[C@H](NC(=O)c2nnc(Cc3ccc(F)cc3F)n2)C1=O)C#CC(C)(C)O\n",
      "Unable to canonicalize  CN1c2cc(ccc2OC[C@H](NC(=O)c2nnc(Cc3ccccc3)n2)C1=O)C#CCCOc1cccc2ncccc12\n",
      "Unable to canonicalize  CN1c2cc(ccc2OC[C@@H](NC(=O)c2nnc(Cc3ccccc3)n2)C1=O)C#CCCOc1cccc2ncccc12\n",
      "Unable to canonicalize  CN1c2cc(CN3CCn4c(C3)nnc4C(F)(F)F)ccc2OC[C@H](NC(=O)c2nnc(Cc3ccccc3)n2)C1=O\n",
      "Unable to canonicalize  CN1c2cc(CN3CCn4c(C3)nnc4C(F)(F)F)ccc2OC[C@@H](NC(=O)c2nnc(Cc3ccccc3)n2)C1=O\n",
      "Unable to canonicalize  CN1c2cc(ccc2OC[C@H](NC(=O)c2nnc(Cc3ccccc3)n2)C1=O)C#CC(C)(C)C\n",
      "Unable to canonicalize  CN1c2cc(ccc2OC[C@@H](NC(=O)c2nnc(Cc3ccccc3)n2)C1=O)C#CC(C)(C)C\n",
      "Unable to canonicalize  CN1c2cc(ccc2OC[C@H](NC(=O)c2nnc(Cc3ccccc3)n2)C1=O)C#CC1(O)CCC1\n",
      "Unable to canonicalize  CN1c2cc(ccc2OC[C@@H](NC(=O)c2nnc(Cc3ccccc3)n2)C1=O)C#CC1(O)CCC1\n",
      "Unable to canonicalize  CN1c2cc(ccc2OC[C@H](NC(=O)c2nnc(Cc3ccccc3)n2)C1=O)C#CC1(O)CCCC1\n",
      "Unable to canonicalize  CN1c2cc(ccc2OC[C@@H](NC(=O)c2nnc(Cc3ccccc3)n2)C1=O)C#CC1(O)CCCC1\n",
      "Unable to canonicalize  CN1c2cc(ccc2OC[C@H](NC(=O)c2nnc(Cc3ccccc3)n2)C1=O)C#CC1(O)CCOCC1\n",
      "Unable to canonicalize  CN1c2cc(ccc2OC[C@@H](NC(=O)c2nnc(Cc3ccccc3)n2)C1=O)C#CC1(O)CCOCC1\n",
      "Unable to canonicalize  CN1c2cc(ccc2OC[C@H](NC(=O)c2nnc(Cc3ccccc3)n2)C1=O)C#CC1(O)CCCC1\n",
      "Unable to canonicalize  CN1c2cc(ccc2OC[C@H](NC(=O)c2nnc(Cc3ccccc3)n2)C1=O)C#CC1(O)COC1\n",
      "Unable to canonicalize  CN1c2cc(ccc2OC[C@H](NC(=O)c2nnc(Cc3ccccc3)n2)C1=O)C#CC(C)=C\n",
      "Unable to canonicalize  CC(C)CCc1ccc2OC[C@H](NC(=O)c3nnc(Cc4ccccc4)n3)C(=O)N(C)c2c1\n",
      "Unable to canonicalize  COC(C)(C)C#Cc1ccc2OC[C@H](NC(=O)c3nnc(Cc4ccccc4)n3)C(=O)N(C)c2c1\n",
      "Unable to canonicalize  CN1c2cc(ccc2OC[C@H](NC(=O)c2nnc(Cc3ccccc3)n2)C1=O)C#CC(C)(C)O\n",
      "Unable to canonicalize  CN1c2cc(ccc2OC[C@H](NC(=O)c2nnc(Cc3ccccc3)n2)C1=O)C#CC(C)(C)O\n",
      "Unable to canonicalize  CN1c2cc(ccc2OC[C@H](NC(=O)c2nnc(Oc3ccccc3)n2)C1=O)C#CC(C)(C)O\n",
      "Unable to canonicalize  CN1c2cc(ccc2OC[C@H](NC(=O)c2nnc(Cc3c(Cl)cccc3Cl)n2)C1=O)C#CC(C)(C)O\n",
      "Unable to canonicalize  CN1c2ccc(CN3CCn4nc(nc4C3)C(F)(F)F)cc2OC[C@H](NC(=O)c2nnc(Cc3c(Cl)cccc3Cl)n2)C1=O\n",
      "Unable to canonicalize  CN1c2cc(ccc2OC[C@H](NC(=O)c2nnc(Cc3cccc(F)c3)n2)C1=O)C#CC(C)(C)O\n",
      "Unable to canonicalize  CN1c2cc(ccc2OC[C@H](NC(=O)c2nnc(Cc3ccc(F)cc3)n2)C1=O)C#CC(C)(C)O\n",
      "Unable to canonicalize  CN1c2cc(ccc2OC[C@H](NC(=O)c2nnc(Cc3ccccc3F)n2)C1=O)C#CC(C)(C)O\n",
      "Unable to canonicalize  CN1c2cc(ccc2OC[C@H](NC(=O)c2nnc(Cc3ccccc3C)n2)C1=O)C#CC(C)(C)O\n",
      "Unable to canonicalize  CN1c2cc(ccc2OC[C@H](NC(=O)c2nnc(Cc3ccc(cc3)-c3ccccc3)n2)C1=O)C#CC(C)(C)O\n",
      "Unable to canonicalize  CN1c2cc(ccc2OC[C@H](NC(=O)c2nnc(Cc3ccccc3)n2)C1=O)C#CC(C)(C)O\n",
      "Unable to canonicalize  CN1c2cc(ccc2OC[C@H](NC(=O)c2nnc(Cc3ccccc3)n2)C1=O)C#CCN1CCCC1\n",
      "Unable to canonicalize  CN1c2cc(ccc2OC[C@H](NC(=O)c2nnc(Cc3ccccc3)n2)C1=O)C#CCN1CCOCC1\n",
      "Unable to canonicalize  CN1c2cc(ccc2OC[C@H](NC(=O)c2nnc(Cc3ccccc3)n2)C1=O)C#C[Si](C)(C)C\n"
     ]
    },
    {
     "name": "stderr",
     "output_type": "stream",
     "text": [
      "[22:11:56] Explicit valence for atom # 37 N, 4, is greater than permitted\n",
      "[22:11:56] Explicit valence for atom # 36 N, 4, is greater than permitted\n"
     ]
    },
    {
     "name": "stdout",
     "output_type": "stream",
     "text": [
      "Unable to canonicalize  CC(=O)c1nn(CC(=O)N2C[C@H](F)C[C@H]2C(=O)Nc2cccc(Br)n2)c2ccc(cc12)C1=CC2N=CC=[N]2N=C1\n",
      "Unable to canonicalize  CC(=O)c1nn(CC(=O)N2C[C@H](F)C[C@H]2C(=O)Nc2cccc(Br)n2)c2ccc(cc12)C1=CNC(=O)[N](C)=C1\n"
     ]
    },
    {
     "name": "stderr",
     "output_type": "stream",
     "text": [
      "[22:11:56] Can't kekulize mol.  Unkekulized atoms: 20 21 22 23 24\n",
      "[22:11:56] Can't kekulize mol.  Unkekulized atoms: 20 21 22 23 25\n"
     ]
    },
    {
     "name": "stdout",
     "output_type": "stream",
     "text": [
      "Unable to canonicalize  C[C@H](NC(=O)c1cc(Cn2ccn(C)c2=N)cc(c1F)-c1ccccn1C(F)(F)F)c1ccc(F)c(C)n1\n",
      "Unable to canonicalize  C[C@H](NC(=O)c1cc(Cn2ccn(C)c2=N)cc(c1F)-c1ccc(F)cn1C(F)(F)F)c1ccc(F)c(C)c1\n"
     ]
    },
    {
     "name": "stderr",
     "output_type": "stream",
     "text": [
      "[22:11:57] Explicit valence for atom # 8 N, 4, is greater than permitted\n",
      "[22:11:57] Explicit valence for atom # 8 N, 4, is greater than permitted\n"
     ]
    },
    {
     "name": "stdout",
     "output_type": "stream",
     "text": [
      "Unable to canonicalize  CN(C1CCC(CC1)N(=O)C=C)c1cc(cn2cncc12)-c1ccc(O)cc1\n",
      "Unable to canonicalize  CN(C1CCC(CC1)N(=O)C=C)c1cc(cn2cncc12)-c1ccc(O)cc1\n"
     ]
    },
    {
     "name": "stderr",
     "output_type": "stream",
     "text": [
      "[22:11:58] Explicit valence for atom # 17 N, 4, is greater than permitted\n",
      "[22:11:58] Explicit valence for atom # 17 N, 4, is greater than permitted\n",
      "[22:11:58] Explicit valence for atom # 17 N, 4, is greater than permitted\n"
     ]
    },
    {
     "name": "stdout",
     "output_type": "stream",
     "text": [
      "Unable to canonicalize  N#CC1=C2C(C=C(OCCN3CCOCC3)C=[N]2N=C1)c1ccc(nc1)N1CCC(CC1)Oc1ccccn1\n",
      "Unable to canonicalize  N#CC1=C2C(C=C(OCCN3CCOCC3)C=[N]2N=C1)c1ccc(nc1)N1CCC(CC1)Oc1ccccn1\n",
      "Unable to canonicalize  N#CC1=C2C(C=C(OCCN3CCOCC3)C=[N]2N=C1)c1ccc(nc1)N1CCC(CC1)Oc1ccccn1\n"
     ]
    },
    {
     "name": "stderr",
     "output_type": "stream",
     "text": [
      "[22:11:58] Explicit valence for atom # 19 N, 4, is greater than permitted\n",
      "[22:11:58] Explicit valence for atom # 2 N, 4, is greater than permitted\n"
     ]
    },
    {
     "name": "stdout",
     "output_type": "stream",
     "text": [
      "Unable to canonicalize  COc1ccc(cn1)-n1c(CO)nnc1N1CC(C1)[N]1=CC=Cc2cc(F)ccc12\n",
      "Unable to canonicalize  CC1=[N](C)c2cc(cc(c2N1)-c1ccn[nH]1)C(=O)Nc1ccc(OC(F)(F)Cl)cc1\n"
     ]
    },
    {
     "name": "stderr",
     "output_type": "stream",
     "text": [
      "[22:11:59] Can't kekulize mol.  Unkekulized atoms: 41 42 43 44 45\n",
      "[22:11:59] Can't kekulize mol.  Unkekulized atoms: 41 42 43 44 45\n",
      "[22:11:59] Can't kekulize mol.  Unkekulized atoms: 41 42 43 44 45\n",
      "[22:11:59] Explicit valence for atom # 16 N, 4, is greater than permitted\n",
      "[22:11:59] Explicit valence for atom # 16 N, 4, is greater than permitted\n"
     ]
    },
    {
     "name": "stdout",
     "output_type": "stream",
     "text": [
      "Unable to canonicalize  CN1CCN(Cc2ccc(cc2)C(=O)Nc2ccc(C)c(Nc3nccc(n3)-c3cncc(c3)C3=NN=C(C3)C(=O)c3nccn3)c2)CC1\n",
      "Unable to canonicalize  CN1CCN(Cc2ccc(cc2)C(=O)Nc2ccc(C)c(Nc3nccc(n3)-c3cncc(c3)C3=NN=C(C3)C(=O)c3nccn3)c2)CC1\n",
      "Unable to canonicalize  CN1CCN(Cc2ccc(cc2)C(=O)Nc2ccc(C)c(Nc3nccc(n3)-c3cncc(c3)C3=NN=C(C3)C(=O)c3nccn3)c2)CC1\n",
      "Unable to canonicalize  Cc1cccc(n1)C1=NC2C3CCC(CC3)[N]2=C1c1ccnc(NCCO)c1\n",
      "Unable to canonicalize  Cc1cccc(n1)C1=NC2C3CCC(CC3)[N]2=C1c1ccnc(NCCO)c1\n"
     ]
    },
    {
     "name": "stderr",
     "output_type": "stream",
     "text": [
      "[22:11:59] Can't kekulize mol.  Unkekulized atoms: 3 4 5 6 7\n",
      "[22:11:59] Can't kekulize mol.  Unkekulized atoms: 3 4 5 6 7\n",
      "[22:11:59] Can't kekulize mol.  Unkekulized atoms: 3 4 5 6 7\n",
      "[22:11:59] Can't kekulize mol.  Unkekulized atoms: 3 4 5 6 7\n"
     ]
    },
    {
     "name": "stdout",
     "output_type": "stream",
     "text": [
      "Unable to canonicalize  O=C(Nc1cnnc1)c1cc(on1)-c1ccco1\n",
      "Unable to canonicalize  O=C(Nc1cnnc1)c1cc(on1)-c1ccco1\n",
      "Unable to canonicalize  O=C(Nc1cnnc1)c1cc(on1)-c1ccccc1\n",
      "Unable to canonicalize  O=C(Nc1cnnc1)c1cc(on1)-c1ccccc1\n"
     ]
    },
    {
     "name": "stderr",
     "output_type": "stream",
     "text": [
      "[22:11:59] Explicit valence for atom # 33 H, 2, is greater than permitted\n",
      "[22:11:59] Explicit valence for atom # 31 H, 2, is greater than permitted\n"
     ]
    },
    {
     "name": "stdout",
     "output_type": "stream",
     "text": [
      "Unable to canonicalize  C[C@H](c1ccc(nc1)C(F)(F)F)n1nc(C#N)c2c1nc([nH]c2=O)[C@@H]1CC[C@H]1c1nccc([H]C(F)F)n1\n",
      "Unable to canonicalize  C[C@H](c1ccc(nc1)C(F)(F)F)n1nc(C#N)c2c1nc([nH]c2=O)C1CC[C@H]1c1nc([H]C(F)F)cc(n1)C(F)F\n"
     ]
    },
    {
     "name": "stderr",
     "output_type": "stream",
     "text": [
      "[22:12:00] Explicit valence for atom # 11 N, 4, is greater than permitted\n",
      "[22:12:00] Explicit valence for atom # 11 N, 4, is greater than permitted\n",
      "[22:12:00] Explicit valence for atom # 10 N, 4, is greater than permitted\n"
     ]
    },
    {
     "name": "stdout",
     "output_type": "stream",
     "text": [
      "Unable to canonicalize  CNC1=NC(c2ccccc2)=[N](S1)c1ccccc1\n",
      "Unable to canonicalize  C(NC1=NC(c2ccccc2)=[N](S1)c1ccccc1)c1ccccc1\n",
      "Unable to canonicalize  N(C1=NC(c2ccccc2)=[N](S1)c1ccccc1)c1ccccc1\n"
     ]
    },
    {
     "name": "stderr",
     "output_type": "stream",
     "text": [
      "[22:12:00] Explicit valence for atom # 1 O, 3, is greater than permitted\n"
     ]
    },
    {
     "name": "stdout",
     "output_type": "stream",
     "text": [
      "Unable to canonicalize  F[O](F)[F]#Cc1cccc(c1)-c1cn(-c2ccc(F)cc2)c2cc(ccc12)C(=O)NC1CCS(=O)(=O)C1\n"
     ]
    },
    {
     "name": "stderr",
     "output_type": "stream",
     "text": [
      "[22:12:01] Explicit valence for atom # 13 F, 3, is greater than permitted\n",
      "[22:12:01] Explicit valence for atom # 23 N, 4, is greater than permitted\n",
      "[22:12:01] Explicit valence for atom # 25 N, 4, is greater than permitted\n"
     ]
    },
    {
     "name": "stdout",
     "output_type": "stream",
     "text": [
      "Unable to canonicalize  NC(=O)c1nccc2c(cccc12)[F]1N=CC(C(=O)Nc2cnc(c(Cl)c2)-n2nccn2)=C1C(F)(F)F\n",
      "Unable to canonicalize  CN1CCC2(CC1)CCN(CC2)c1ccc(Nc2ncc3C(=O)[N](CC=C)=[N](c3n2)c2cccc(n2)C(C)(O)C(F)F)cc1\n",
      "Unable to canonicalize  COc1cccc(c1)-c1cccc(c1)C1=NN(c2nc(cs2)C(O)=O)[N](=C1Cc1ccc(cc1)[SH+](N)=O)C(F)(F)F\n"
     ]
    },
    {
     "name": "stderr",
     "output_type": "stream",
     "text": [
      "[22:12:01] Explicit valence for atom # 24 N, 4, is greater than permitted\n"
     ]
    },
    {
     "name": "stdout",
     "output_type": "stream",
     "text": [
      "Unable to canonicalize  CCCCC#Cc1cc(ccc1F)C1=NN(c2nc(cs2)C(O)=O)[N](CC2CC2)=C1Cc1ccc(c(F)c1)S(N)(=O)=O\n"
     ]
    },
    {
     "name": "stderr",
     "output_type": "stream",
     "text": [
      "[22:12:02] Can't kekulize mol.  Unkekulized atoms: 3 4 5 7 10\n",
      "[22:12:02] Can't kekulize mol.  Unkekulized atoms: 34 35 36 37 39\n",
      "[22:12:02] Can't kekulize mol.  Unkekulized atoms: 7 8 10 12 15\n",
      "[22:12:02] Can't kekulize mol.  Unkekulized atoms: 40 41 42 43 44 45 46 47 49\n"
     ]
    },
    {
     "name": "stdout",
     "output_type": "stream",
     "text": [
      "Unable to canonicalize  CCCc1cc(C)nc(=O)c1CNC(=O)c1cc2c(ccn2c(C(C)N2CCN(CC(F)(F)F)CC2)c1C)-c1ccc(N)nc1\n",
      "Unable to canonicalize  CC(N1CCN(CC(F)(F)F)CC1)c1c(C)c(cc2c(ccn12)-c1ccc(N)nc1)C(=O)NCc1c(cc(C)nc1=O)C(F)(F)F\n",
      "Unable to canonicalize  CC(C)CN1CCc2c(C1)c(C)nc(=O)c2CNC(=O)c1cc2c(ccn2c(C(C)N2CCN(CC(F)(F)F)CC2)c1C)-c1ccc(N)nc1\n",
      "Unable to canonicalize  CC(N1CCN(CC(F)(F)F)CC1)c1c(C)c(cc2c(ccn12)-c1ccc(nc1)N1CCC(N)CC1)C(=O)NCc1c2ccccc2c(C)nc1=O\n"
     ]
    },
    {
     "name": "stderr",
     "output_type": "stream",
     "text": [
      "[22:12:03] Can't kekulize mol.  Unkekulized atoms: 1 2 3 22 23\n",
      "[22:12:03] Can't kekulize mol.  Unkekulized atoms: 15 16 17 18 19\n",
      "[22:12:03] Can't kekulize mol.  Unkekulized atoms: 15 16 17 18 19\n",
      "[22:12:03] Can't kekulize mol.  Unkekulized atoms: 15 16 17 18 19\n"
     ]
    },
    {
     "name": "stdout",
     "output_type": "stream",
     "text": [
      "Unable to canonicalize  Cc1cc(Nc2nc(N[C@@H]3CC[C@H](N)CC3)c3sccc3n2)nn1\n",
      "Unable to canonicalize  Cc1nc(C)c(Cn2c3ccc(cc3n(-c3cncn3)c2=O)S(=O)(=O)NC2(C)CC2)s1\n",
      "Unable to canonicalize  Cc1nc(C)c(Cn2c3ccc(cc3n(-c3cnnc3)c2=O)S(=O)(=O)NC2(C)CC2)s1\n",
      "Unable to canonicalize  Cc1nnc(s1)-n1c2cc(ccc2n(Cc2cnnc2)c1=O)S(=O)(=O)NC1(C)CC1\n"
     ]
    },
    {
     "name": "stderr",
     "output_type": "stream",
     "text": [
      "[22:12:03] Can't kekulize mol.  Unkekulized atoms: 7 8 9 10 11 12 13\n",
      "[22:12:03] Can't kekulize mol.  Unkekulized atoms: 7 8 9 10 11 12 13\n",
      "[22:12:03] Can't kekulize mol.  Unkekulized atoms: 7 8 9 10 11 12 13\n",
      "[22:12:03] Explicit valence for atom # 16 N, 4, is greater than permitted\n",
      "[22:12:03] Can't kekulize mol.  Unkekulized atoms: 7 8 9 10 11 12 13\n",
      "[22:12:03] Can't kekulize mol.  Unkekulized atoms: 7 8 9 10 11 12 13\n"
     ]
    },
    {
     "name": "stdout",
     "output_type": "stream",
     "text": [
      "Unable to canonicalize  Cc1nnc(s1)-n1c2cc(ccc2c(Cc2ccccc2)c1=O)S(=O)(=O)NC1(C)CC1\n",
      "Unable to canonicalize  Cc1nnc(s1)-n1c2cc(ccc2c(CC2CC2)c1=O)S(=O)(=O)NC1(C)CC1\n",
      "Unable to canonicalize  Cc1nnc(s1)-n1c2cc(ccc2c(Cc2sc(C)nc2C)c1=O)S(=O)(=O)NC1(C)CC1\n",
      "Unable to canonicalize  Cc1nnc(s1)-n1c2cc(ccc2n(CC[N](C)(C)C)c1=O)S(=O)(=O)NC1(CF)CC1\n",
      "Unable to canonicalize  Cc1nnc(s1)-n1c2cc(ccc2c(Cc2sc(C)nc2C)c1=O)S(=O)(=O)NC1(C)CC1\n",
      "Unable to canonicalize  Cc1nnc(s1)-n1c2cc(ccc2c(Cc2sc(C)nc2C)c1=O)S(=O)(=O)NC1(C)CC1\n"
     ]
    },
    {
     "name": "stderr",
     "output_type": "stream",
     "text": [
      "[22:12:03] Can't kekulize mol.  Unkekulized atoms: 11 12 13 14 15\n",
      "[22:12:03] Can't kekulize mol.  Unkekulized atoms: 1 3 5\n"
     ]
    },
    {
     "name": "stdout",
     "output_type": "stream",
     "text": [
      "Unable to canonicalize  NC\\C(COc1ccc(cc1)-c1nnc(n1)C1CCCC1)=C\\F\n",
      "Unable to canonicalize  Cc1[nH]c(sc1N1CCOCC1)-c1ccc(OC\\C(CN)=C/F)cc1\n"
     ]
    },
    {
     "name": "stderr",
     "output_type": "stream",
     "text": [
      "[22:12:04] Explicit valence for atom # 25 N, 4, is greater than permitted\n",
      "[22:12:04] Explicit valence for atom # 32 C, 5, is greater than permitted\n"
     ]
    },
    {
     "name": "stdout",
     "output_type": "stream",
     "text": [
      "Unable to canonicalize  Clc1ccc(NC(=O)N2CCC(=CC2)C2=CN=C(NCc3ccco3)[N]3=[C]2=NN=C3)cc1\n",
      "Unable to canonicalize  Fc1ccc2OCCc2c1CNC1=NC=C(C2=CCN(CC2)C(=O)Nc2ccc(Cl)cc2)[C]=2=[N]1C=NN=2\n"
     ]
    },
    {
     "name": "stderr",
     "output_type": "stream",
     "text": [
      "[22:12:04] Explicit valence for atom # 18 C, 5, is greater than permitted\n"
     ]
    },
    {
     "name": "stdout",
     "output_type": "stream",
     "text": [
      "Unable to canonicalize  COc1cccc(F)c1-c1ncc2[nH]nc(C3=C[C](=O)=[N](C)C=C3)c2n1\n"
     ]
    },
    {
     "name": "stderr",
     "output_type": "stream",
     "text": [
      "[22:12:04] Explicit valence for atom # 33 N, 4, is greater than permitted\n",
      "[22:12:04] Explicit valence for atom # 33 N, 4, is greater than permitted\n",
      "[22:12:04] Explicit valence for atom # 26 N, 4, is greater than permitted\n",
      "[22:12:05] Explicit valence for atom # 33 N, 4, is greater than permitted\n",
      "[22:12:05] Explicit valence for atom # 33 N, 4, is greater than permitted\n",
      "[22:12:05] Explicit valence for atom # 19 N, 4, is greater than permitted\n",
      "[22:12:05] Explicit valence for atom # 19 N, 4, is greater than permitted\n"
     ]
    },
    {
     "name": "stdout",
     "output_type": "stream",
     "text": [
      "Unable to canonicalize  C[C@H]1NC(=O)c2c1c(ccc2Nc1ccc(cn1)N1CCC(O)CC1)-c1ccnc2c1CC=[N]2C\n",
      "Unable to canonicalize  C[C@@H]1NC(=O)c2c1c(ccc2Nc1ccc(cn1)N1CCC(O)CC1)-c1ccnc2c1CC=[N]2C\n",
      "Unable to canonicalize  OC1CCN(CC1)c1ccc(Nc2cnc(c3CNC(=O)c23)C2=CC=C[N]3=[C]2=NC=C3)nc1\n",
      "Unable to canonicalize  FC1=CC2=NCC(c3ccc(Nc4ccc(cn4)N4CCO[C@@H]5CNC[C@H]45)c4C(=O)NCc34)=[N]2C=C1\n",
      "Unable to canonicalize  FC1=CC2=NCC(c3ccc(Nc4ccc(cn4)N4CCO[C@H]5CNC[C@@H]45)c4C(=O)NCc34)=[N]2C=C1\n",
      "Unable to canonicalize  COC[C@@H]1CN(CCO1)c1ccc(Nc2ccc(C3=[N]4C=CC(F)=CC4N=C3)c3CNC(=O)c23)nc1CN(C)C\n",
      "Unable to canonicalize  COC[C@H]1CN(CCO1)c1ccc(Nc2ccc(C3=[N]4C=CC(F)=CC4N=C3)c3CNC(=O)c23)nc1CN(C)C\n"
     ]
    },
    {
     "name": "stderr",
     "output_type": "stream",
     "text": [
      "[22:12:05] Explicit valence for atom # 19 C, 5, is greater than permitted\n",
      "[22:12:05] Explicit valence for atom # 31 F, 4, is greater than permitted\n",
      "[22:12:05] Explicit valence for atom # 31 F, 4, is greater than permitted\n",
      "[22:12:05] Explicit valence for atom # 9 O, 3, is greater than permitted\n",
      "[22:12:05] Explicit valence for atom # 19 N, 4, is greater than permitted\n"
     ]
    },
    {
     "name": "stdout",
     "output_type": "stream",
     "text": [
      "Unable to canonicalize  Fc1ccc2c(c1)C(=C(C(=O)\\C=C\\c1cccnc1)[C](=O)=[N]2CCC#N)c1ccccc1\n",
      "Unable to canonicalize  CN(C)CCOc1cc(C)cc2c1oc1cc(Oc3ccc(NCc4ccc(cc4)C#[F][O](F)F)nc3)ccc1c2=O\n",
      "Unable to canonicalize  CN(C)CCOc1cc(C)cc2c1oc1cc(Oc3ccc(NCc4ccc(cc4)C#[F][O](F)F)nc3)ccc1c2=O\n",
      "Unable to canonicalize  O=C1NCc2c1c(NC1=[O]C=C(C=C1)N1CCOCC1)cnc2-c1c[nH]c2ccccc12\n",
      "Unable to canonicalize  CN1CCN(CC1)c1ccc(Nc2ccc(C3=CN=[N]4C=C(C)C=CC34)c3CNC(=O)c23)nc1\n"
     ]
    },
    {
     "name": "stderr",
     "output_type": "stream",
     "text": [
      "[22:12:05] Explicit valence for atom # 21 O, 3, is greater than permitted\n",
      "[22:12:05] Explicit valence for atom # 33 H, 2, is greater than permitted\n",
      "[22:12:05] Explicit valence for atom # 31 H, 2, is greater than permitted\n"
     ]
    },
    {
     "name": "stdout",
     "output_type": "stream",
     "text": [
      "Unable to canonicalize  COCCOc1ccc2c(c1)nc(NCCCCNC(=O)[O]1CCOCC1)c1nnc(C)n21\n",
      "Unable to canonicalize  C[C@H](c1ccc(nc1)C(F)(F)F)n1nc(C#N)c2c1nc([nH]c2=O)[C@@H]1CC[C@H]1c1nccc([H]C(F)F)n1\n",
      "Unable to canonicalize  C[C@H](c1ccc(nc1)C(F)(F)F)n1nc(C#N)c2c1nc([nH]c2=O)C1CC[C@H]1c1nc([H]C(F)F)cc(n1)C(F)F\n"
     ]
    },
    {
     "name": "stderr",
     "output_type": "stream",
     "text": [
      "[22:12:06] Explicit valence for atom # 17 N, 4, is greater than permitted\n",
      "[22:12:06] Explicit valence for atom # 19 N, 4, is greater than permitted\n",
      "[22:12:06] Explicit valence for atom # 24 N, 4, is greater than permitted\n"
     ]
    },
    {
     "name": "stdout",
     "output_type": "stream",
     "text": [
      "Unable to canonicalize  CC(C)(C=C(C#N)C(=O)N1CCC[C@H](C1)N1C=[N](c2c1ncnc2N)c1ccc(Oc2ccccc2)cc1F)N1CCC1\n",
      "Unable to canonicalize  CC(C)(CO)C=C(C#N)C(=O)N1CCC[C@H](C1)N1C=[N](c2c1ncnc2N)c1ccc(Oc2ccccc2)cc1F\n",
      "Unable to canonicalize  CN1CCN(CC1)C(C)(C)C=C(C#N)C(=O)N1CCC[C@H](C1)N1C=[N](c2c1ncnc2N)c1ccc(Oc2ccccc2)cc1F\n"
     ]
    },
    {
     "name": "stderr",
     "output_type": "stream",
     "text": [
      "[22:12:06] Explicit valence for atom # 10 C, 5, is greater than permitted\n",
      "[22:12:06] Can't kekulize mol.  Unkekulized atoms: 1 2 3 9 10 23 24\n",
      "[22:12:06] Explicit valence for atom # 20 N, 4, is greater than permitted\n",
      "[22:12:06] Explicit valence for atom # 31 N, 4, is greater than permitted\n",
      "[22:12:07] Explicit valence for atom # 31 C, 5, is greater than permitted\n",
      "[22:12:07] Explicit valence for atom # 9 C, 5, is greater than permitted\n",
      "[22:12:07] Explicit valence for atom # 0 N, 4, is greater than permitted\n",
      "[22:12:07] Explicit valence for atom # 1 N, 4, is greater than permitted\n",
      "[22:12:07] Explicit valence for atom # 19 H, 2, is greater than permitted\n"
     ]
    },
    {
     "name": "stdout",
     "output_type": "stream",
     "text": [
      "Unable to canonicalize  COc1ccc(C)c(c1)N=[C]1=NC(=O)C(F)=C2CCC(N12)c1ccc(F)cc1F\n",
      "Unable to canonicalize  Nc1nc(-c2ccco2)c2nc(=O)n(Cc3ccc(F)cc3F)c2n1\n",
      "Unable to canonicalize  CC[C@@H](Nc1c(cnc2c(Cl)cc(N[C@H](C3=CN(CC[N](C)(CC)CC)NN3)c3cccnc3)cc12)C#N)c1ccccc1\n",
      "Unable to canonicalize  CC(C)(C)CNc1c(cnc2c(cc(N[C@H](C3=CN(NN3)C3(CC3)C(F)F)C3=CC=C[N]4=[C]3=CC=N4)cc12)C#N)C#N\n",
      "Unable to canonicalize  Cc1nc(F)ccc1[C@H](Nc1cc(C#N)c2ncc(C#N)c(NCC(C)(C)C)c2c1)C1=[C](=O)N(NN1)C1(CC1)C(F)(F)F\n",
      "Unable to canonicalize  CN(C)c1ncccc1[C](=O)(Nc1cc(Cl)c2ncc(C#N)c(NCC(C)(C)C)c2c1)C1=CN(NN1)C1CC1\n",
      "Unable to canonicalize  [H][N]1=[C](=O)c2cccc([C@H](Nc3cc(Cl)c4ncc(C#N)c(NCC(C)(C)C)c4c3)C3=CN(NN3)C3(CC3)C(F)(F)F)c2C=C1\n",
      "Unable to canonicalize  C[N]1=[C](=O)c2cccc([C@H](Nc3cc(Cl)c4ncc(C#N)c(NCC(C)(C)C)c4c3)C3=CN(NN3)C34CCC(CC3)CC4)c2C=C1\n",
      "Unable to canonicalize  CN(CC(C)(C)C)c1c(cnc2c(Cl)cc(cc12)N1[H]OCCCN2NNC(=C2)[C@@H]1c1ccc(F)nc1C)C#N\n"
     ]
    },
    {
     "name": "stderr",
     "output_type": "stream",
     "text": [
      "[22:12:07] Explicit valence for atom # 27 H, 2, is greater than permitted\n",
      "[22:12:07] Explicit valence for atom # 28 H, 2, is greater than permitted\n",
      "[22:12:07] Explicit valence for atom # 17 N, 4, is greater than permitted\n"
     ]
    },
    {
     "name": "stdout",
     "output_type": "stream",
     "text": [
      "Unable to canonicalize  CC([C@@H]1[C@H]2C[C@@H](C[C@@H]12)Oc1ccnc2ccc(F)cc12)C(=O)Nc1cnn([H]C(F)F)c1\n",
      "Unable to canonicalize  CCC([C@@H]1[C@H]2C[C@@H](C[C@@H]12)Oc1ccnc2ccc(F)cc12)C(=O)Nc1cnn([H]C(F)F)c1\n",
      "Unable to canonicalize  CO[C@@H]([C@H](C)S(=O)(=O)Nc1nnc(C2=NNC3=[N]2C=C(C)C=C3)n1-c1c(OC)cccc1OC)c1ncc(Cl)cn1\n"
     ]
    },
    {
     "name": "stderr",
     "output_type": "stream",
     "text": [
      "[22:12:07] Explicit valence for atom # 21 F, 4, is greater than permitted\n",
      "[22:12:07] Explicit valence for atom # 17 O, 3, is greater than permitted\n"
     ]
    },
    {
     "name": "stdout",
     "output_type": "stream",
     "text": [
      "Unable to canonicalize  CNc1nc(=O)n(-c2ccccc2Cl)c2cc(ccc12)C#[F][O](F)F\n",
      "Unable to canonicalize  CNc1cc(Nc2cccn([C@@H]3CC[C@@H](CC3)[O]3CCOCC3)c2=O)nc2c(cnn12)C(=O)N[C@H]1C[C@H]1F\n"
     ]
    },
    {
     "name": "stderr",
     "output_type": "stream",
     "text": [
      "[22:12:07] Explicit valence for atom # 9 N, 4, is greater than permitted\n",
      "[22:12:08] Explicit valence for atom # 26 N, 4, is greater than permitted\n",
      "[22:12:08] Explicit valence for atom # 26 N, 4, is greater than permitted\n"
     ]
    },
    {
     "name": "stdout",
     "output_type": "stream",
     "text": [
      "Unable to canonicalize  COC1=CC(=NC(OC)=[NH]1)C(=O)N1[C@@H](CC[C@@H]1c1ccccc1Cl)C(O)=O\n",
      "Unable to canonicalize  COc1cccc2[nH]c(cc12)C(=O)N[C@@H](CC(C)C)C(=O)N[C@@H](CC1=C[N](C)=CN1)C#N\n",
      "Unable to canonicalize  COc1cccc2[nH]c(cc12)C(=O)N[C@@H](CC(C)C)C(=O)N[C@@H](CC1=C[N](C)=CN1)C#N\n"
     ]
    },
    {
     "name": "stderr",
     "output_type": "stream",
     "text": [
      "[22:12:08] Explicit valence for atom # 22 N, 4, is greater than permitted\n",
      "[22:12:08] Explicit valence for atom # 30 N, 4, is greater than permitted\n",
      "[22:12:08] Explicit valence for atom # 3 N, 4, is greater than permitted\n"
     ]
    },
    {
     "name": "stdout",
     "output_type": "stream",
     "text": [
      "Unable to canonicalize  O[C@H]1CC[C@@](F)(C(=O)NCc2ccc(Cl)cc2Cl)C2=CC=C[N](O)=C12\n",
      "Unable to canonicalize  nan\n",
      "Unable to canonicalize  CC(C)(O)COc1ccc2c(cnn2c1C1CC1)C(=O)N[C@H]1C[C@]2(C1)C[C@@H](C2)OC1=[N](CCCN)NC=C1C(N)=O\n",
      "Unable to canonicalize  CC1=C[N]2=NC=C(C2C=C1)c1ccc(Nc2ccc(cn2)N2CCOCC2)c2C(=O)NCc12\n"
     ]
    },
    {
     "name": "stderr",
     "output_type": "stream",
     "text": [
      "[22:12:08] Explicit valence for atom # 14 C, 5, is greater than permitted\n",
      "[22:12:08] Explicit valence for atom # 16 C, 5, is greater than permitted\n",
      "[22:12:08] Explicit valence for atom # 21 F, 4, is greater than permitted\n"
     ]
    },
    {
     "name": "stdout",
     "output_type": "stream",
     "text": [
      "Unable to canonicalize  FC(F)(F)c1ccc2c(c1)N(C(=O)N=[C]2=O)c1ccccc1Cl\n",
      "Unable to canonicalize  OC1(CNC2=NC(=O)C(c3ccccc3Cl)=[C]3=NC(=CC=C23)C(F)(F)F)CC1\n",
      "Unable to canonicalize  CNc1nc(=O)n(-c2ccccc2Cl)c2cc(ccc12)C#[F][O](F)F\n"
     ]
    },
    {
     "name": "stderr",
     "output_type": "stream",
     "text": [
      "[22:12:25] Explicit valence for atom # 1 B, 6, is greater than permitted\n",
      "[22:12:25] Explicit valence for atom # 1 B, 6, is greater than permitted\n",
      "[22:12:25] Explicit valence for atom # 1 C, 7, is greater than permitted\n"
     ]
    },
    {
     "name": "stdout",
     "output_type": "stream",
     "text": [
      "Unable to canonicalize  C[B]1234[B]567[B]89%10[B]55%11[B]88%12[B]%13%14%15[B]11([B]2%132[B]365[C]%118%142c2ccc(O)cc2)[B]9%12%15=[C]47%101\n",
      "Unable to canonicalize  C[B]1234[B]567[B]89%10[B]%11%12%13[B]%14%15%16[B]15([B]2%141[B]%11%152=[C]311(CO)[B]8%122[B]4691)[C]7%10%13%16c1ccc(O)cc1\n",
      "Unable to canonicalize  N[C]12=34[B]567[B]89%10[B]55%11[B]%12%13%14[B]%15%16%17[B]88([B]169[B]2%158[B]=3%12%16[B]475%13)[C]%10%11%14%17c1ccc(O)cc1\n"
     ]
    },
    {
     "name": "stderr",
     "output_type": "stream",
     "text": [
      "[22:12:26] Explicit valence for atom # 19 C, 6, is greater than permitted\n",
      "[22:12:26] Explicit valence for atom # 4 C, 6, is greater than permitted\n",
      "[22:12:26] Explicit valence for atom # 8 C, 6, is greater than permitted\n"
     ]
    },
    {
     "name": "stdout",
     "output_type": "stream",
     "text": [
      "Unable to canonicalize  CC(C)[C@@H]1N(C)c2cc(ccc2C[C@@H](CO)NC1=O)[C]1234[B]567[B]89%10[B]%11%12%13[B]585[B]%118%11[B]%12%12%14[B]9%139[B]16%10[B]2%129[C]38%14[B]475%11\n",
      "Unable to canonicalize  CCCC[C]1234[B]567[B]89%10[B]%11%12%13[B]585[B]%118%11[B]%12%12%14[B]9%139[B]16%10[B]2%129[C]38%14(c1ccc2C[C@@H](CO)NC(=O)[C@H](C(C)C)N(C)c2c1)[B]475%11\n",
      "Unable to canonicalize  CCCCCCCC[C]1234[B]567[B]89%10[B]%11%12%13[B]585[B]%118%11[B]%12%12%14[B]9%139[B]16%10[B]2%129[C]38%14(c1ccc2C[C@@H](CO)NC(=O)[C@H](C(C)C)N(C)c2c1)[B]475%11\n"
     ]
    },
    {
     "name": "stderr",
     "output_type": "stream",
     "text": [
      "[22:12:40] Explicit valence for atom # 7 B, 6, is greater than permitted\n",
      "[22:12:40] Explicit valence for atom # 7 B, 6, is greater than permitted\n",
      "[22:12:40] Explicit valence for atom # 7 B, 6, is greater than permitted\n",
      "[22:12:40] Explicit valence for atom # 7 C, 6, is greater than permitted\n",
      "[22:12:40] Explicit valence for atom # 7 B, 6, is greater than permitted\n",
      "[22:12:40] Explicit valence for atom # 7 B, 6, is greater than permitted\n",
      "[22:12:40] Explicit valence for atom # 7 C, 6, is greater than permitted\n",
      "[22:12:40] Explicit valence for atom # 7 C, 6, is greater than permitted\n"
     ]
    },
    {
     "name": "stdout",
     "output_type": "stream",
     "text": [
      "Unable to canonicalize  Oc1ccc(cc1)[B]1234[B]567[B]89%10[B]%11%12%13[B]585[B]%118%11[B]%12%12%14[B]9%139[B]16%10[C]2%129[C]38%14[B]475%11\n",
      "Unable to canonicalize  Oc1ccc(cc1)[B]1234[B]567[B]89%10[B]%11%12%13[B]%14%15%16[B]%11%11%17[B]8%128[B]159[C]2%118[B]3%14%17[B]46%15[C]7%10%13%16\n",
      "Unable to canonicalize  Oc1ccc(cc1)[B]1234[B]567[B]89%10[B]55%11[B]88%12[B]%13%14%15[B]11([B]269[C]%108%131)[B]3%141[B]475[C]%11%12%151\n",
      "Unable to canonicalize  Oc1ccc(cc1)[C]1234[B]567[B]89%10[B]55%11[B]%12%13%14[B]%15%16%17[B]88([B]169[B]2%158[B]3%12%16[B]475%13)[C]%10%11%14%17\n",
      "Unable to canonicalize  Oc1ccc(cc1)[B]1234[B]567[B]89%10[B]55%11[B]161[B]556[B]211[B]323[B]478[B]922[C]%10%115[C]6132\n",
      "Unable to canonicalize  Oc1ccc(cc1)[B]1234[B]567[B]89%10[B]%11%12%13[B]585[B]%118%11[B]%12%12%14[B]9%139[B]16%10[C]2%129[B]38%14[C]475%11\n",
      "Unable to canonicalize  Oc1ccc(cc1)[C]1234[B]567[B]89%10[B]55%11[B]88%12[B]99%13[B]16%10[B]291[B]323[B]58([B]47%112)[C]%12%1313\n",
      "Unable to canonicalize  Oc1ccc(cc1)[C]1234[B]567[B]89%10[B]%11%12%13[B]585[B]%118%11[B]%12%12%14[B]9%139[B]16%10[B]2%129[C]38%14[B]475%11\n"
     ]
    },
    {
     "name": "stderr",
     "output_type": "stream",
     "text": [
      "[22:14:12] Explicit valence for atom # 11 C, 6, is greater than permitted\n"
     ]
    },
    {
     "name": "stdout",
     "output_type": "stream",
     "text": [
      "Unable to canonicalize  CC(C)C[C@H](NC(=O)[C@H](CC[C]1234B5B6B5[B--]115[B--]789B%10B%11B%10[C]217[B--]38%11[B--]4659)NC(=O)CNC(=O)[C@H](C)NC(=O)[C@@H](N)Cc1ccc(O)cc1)C(N)=O\n"
     ]
    }
   ],
   "source": [
    "def make_canonical(smi):\n",
    "    try:\n",
    "        canSMILE=Chem.MolToSmiles(Chem.MolFromSmiles(smi))\n",
    "        return canSMILE\n",
    "    except:\n",
    "        print (\"Unable to canonicalize \", smi)\n",
    "        return None\n",
    "    \n",
    "df['can_smiles'] = df['Ligand SMILES'].apply(make_canonical)"
   ]
  },
  {
   "cell_type": "code",
   "execution_count": 125,
   "id": "8fab8dd7",
   "metadata": {},
   "outputs": [
    {
     "name": "stdout",
     "output_type": "stream",
     "text": [
      "Total pairs before applying filter  2407235\n",
      "Total pairs after applying filter  1273822\n"
     ]
    }
   ],
   "source": [
    "print (\"Total pairs before applying filter \", df.shape[0])\n",
    "df = df[( df['Target Source Organism According to Curator or DataSource']==\"Homo sapiens\") & (~pd.isna(df['can_smiles']))]\n",
    "print (\"Total pairs after applying filter \", df.shape[0])"
   ]
  },
  {
   "cell_type": "code",
   "execution_count": 126,
   "id": "a07f0cf9",
   "metadata": {},
   "outputs": [],
   "source": [
    "IC50df = df[ (~pd.isna( pd.to_numeric(df['IC50 (nM)'], errors='coerce'))) & (pd.to_numeric(df['IC50 (nM)'], errors='coerce') < 100 ) ]"
   ]
  },
  {
   "cell_type": "code",
   "execution_count": 127,
   "id": "72da76db",
   "metadata": {},
   "outputs": [],
   "source": [
    "KDdf = df[ (pd.isna( pd.to_numeric(df['IC50 (nM)'], errors='coerce'))) & (pd.to_numeric(df['Kd (nM)'], errors='coerce') < 100 ) ]"
   ]
  },
  {
   "cell_type": "code",
   "execution_count": 128,
   "id": "86d8351f",
   "metadata": {},
   "outputs": [],
   "source": [
    "EC50df = df[ (pd.isna( pd.to_numeric(df['IC50 (nM)'], errors='coerce'))) & (pd.isna( pd.to_numeric(df['Kd (nM)'], errors='coerce'))) & (pd.to_numeric(df['EC50 (nM)'], errors='coerce') < 100 ) ]"
   ]
  },
  {
   "cell_type": "code",
   "execution_count": 129,
   "id": "40ef62df",
   "metadata": {},
   "outputs": [
    {
     "name": "stdout",
     "output_type": "stream",
     "text": [
      "Resulting dataframe   (326326, 195)\n"
     ]
    }
   ],
   "source": [
    "filterDF=pd.concat( [IC50df, KDdf, EC50df])\n",
    "filterDF=filterDF[ ~pd.isna( filterDF['PubChem CID'] ) & ~pd.isna( filterDF['Ligand SMILES'] ) ]\n",
    "print (\"Resulting dataframe  \", filterDF.shape)"
   ]
  },
  {
   "cell_type": "code",
   "execution_count": 130,
   "id": "4b19e2ba",
   "metadata": {},
   "outputs": [
    {
     "name": "stdout",
     "output_type": "stream",
     "text": [
      "Resulting dataframe   (319030, 8)\n"
     ]
    }
   ],
   "source": [
    "filterDF=filterDF[ (filterDF['seq_0'].str.len() > 80) & (filterDF['seq_0'].str.len() < 2050) ]\n",
    "filterDF=filterDF[['can_smiles','seq_0','BindingDB Ligand Name','Target Name Assigned by Curator or DataSource','Target Source Organism According to Curator or DataSource','IC50 (nM)','Kd (nM)','EC50 (nM)']]\n",
    "print (\"Resulting dataframe  \", filterDF.shape)"
   ]
  },
  {
   "cell_type": "code",
   "execution_count": 131,
   "id": "749bf45c",
   "metadata": {},
   "outputs": [],
   "source": [
    "filterDF.to_csv( rootDir + 'preProcessed.csv' )"
   ]
  },
  {
   "cell_type": "code",
   "execution_count": 140,
   "id": "61168ede",
   "metadata": {},
   "outputs": [
    {
     "name": "stdout",
     "output_type": "stream",
     "text": [
      "Total unique ligands :  198490\n",
      "Total unique protein sequence :  1298\n"
     ]
    }
   ],
   "source": [
    "print (\"Total unique ligands : \" , filterDF['can_smiles'].unique().shape[0] )\n",
    "print (\"Total unique protein sequences : \" , filterDF['seq_0'].unique().shape[0] )\n"
   ]
  },
  {
   "cell_type": "code",
   "execution_count": null,
   "id": "6da2fd0b",
   "metadata": {},
   "outputs": [],
   "source": []
  }
 ],
 "metadata": {
  "kernelspec": {
   "display_name": "Python 3 (ipykernel)",
   "language": "python",
   "name": "python3"
  },
  "language_info": {
   "codemirror_mode": {
    "name": "ipython",
    "version": 3
   },
   "file_extension": ".py",
   "mimetype": "text/x-python",
   "name": "python",
   "nbconvert_exporter": "python",
   "pygments_lexer": "ipython3",
   "version": "3.11.3"
  }
 },
 "nbformat": 4,
 "nbformat_minor": 5
}
